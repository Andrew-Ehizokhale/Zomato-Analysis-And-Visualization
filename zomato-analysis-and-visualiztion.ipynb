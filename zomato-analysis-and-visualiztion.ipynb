{
 "cells": [
  {
   "cell_type": "code",
   "execution_count": 1,
   "id": "a1d38a12",
   "metadata": {
    "execution": {
     "iopub.execute_input": "2024-08-20T23:24:34.690047Z",
     "iopub.status.busy": "2024-08-20T23:24:34.689306Z",
     "iopub.status.idle": "2024-08-20T23:24:35.543390Z",
     "shell.execute_reply": "2024-08-20T23:24:35.542339Z"
    },
    "papermill": {
     "duration": 0.900269,
     "end_time": "2024-08-20T23:24:35.545985",
     "exception": false,
     "start_time": "2024-08-20T23:24:34.645716",
     "status": "completed"
    },
    "tags": []
   },
   "outputs": [],
   "source": [
    "import pandas as pd\n"
   ]
  },
  {
   "cell_type": "code",
   "execution_count": 2,
   "id": "7226347e",
   "metadata": {
    "execution": {
     "iopub.execute_input": "2024-08-20T23:24:35.628839Z",
     "iopub.status.busy": "2024-08-20T23:24:35.627833Z",
     "iopub.status.idle": "2024-08-20T23:24:35.632563Z",
     "shell.execute_reply": "2024-08-20T23:24:35.631523Z"
    },
    "papermill": {
     "duration": 0.048158,
     "end_time": "2024-08-20T23:24:35.634830",
     "exception": false,
     "start_time": "2024-08-20T23:24:35.586672",
     "status": "completed"
    },
    "tags": []
   },
   "outputs": [],
   "source": [
    "import numpy as np"
   ]
  },
  {
   "cell_type": "code",
   "execution_count": 3,
   "id": "d6b0c5c5",
   "metadata": {
    "execution": {
     "iopub.execute_input": "2024-08-20T23:24:35.716093Z",
     "iopub.status.busy": "2024-08-20T23:24:35.715748Z",
     "iopub.status.idle": "2024-08-20T23:24:35.720377Z",
     "shell.execute_reply": "2024-08-20T23:24:35.719321Z"
    },
    "papermill": {
     "duration": 0.047623,
     "end_time": "2024-08-20T23:24:35.722426",
     "exception": false,
     "start_time": "2024-08-20T23:24:35.674803",
     "status": "completed"
    },
    "tags": []
   },
   "outputs": [],
   "source": [
    "import matplotlib.pyplot as plt"
   ]
  },
  {
   "cell_type": "code",
   "execution_count": 4,
   "id": "21de6d59",
   "metadata": {
    "execution": {
     "iopub.execute_input": "2024-08-20T23:24:35.806642Z",
     "iopub.status.busy": "2024-08-20T23:24:35.806295Z",
     "iopub.status.idle": "2024-08-20T23:24:37.047346Z",
     "shell.execute_reply": "2024-08-20T23:24:37.046341Z"
    },
    "papermill": {
     "duration": 1.285652,
     "end_time": "2024-08-20T23:24:37.050037",
     "exception": false,
     "start_time": "2024-08-20T23:24:35.764385",
     "status": "completed"
    },
    "tags": []
   },
   "outputs": [],
   "source": [
    "import seaborn as sns"
   ]
  },
  {
   "cell_type": "code",
   "execution_count": 5,
   "id": "2d76e89e",
   "metadata": {
    "execution": {
     "iopub.execute_input": "2024-08-20T23:24:37.188154Z",
     "iopub.status.busy": "2024-08-20T23:24:37.187803Z",
     "iopub.status.idle": "2024-08-20T23:24:37.193460Z",
     "shell.execute_reply": "2024-08-20T23:24:37.192424Z"
    },
    "papermill": {
     "duration": 0.104685,
     "end_time": "2024-08-20T23:24:37.195606",
     "exception": false,
     "start_time": "2024-08-20T23:24:37.090921",
     "status": "completed"
    },
    "tags": []
   },
   "outputs": [],
   "source": [
    "sns.set()"
   ]
  },
  {
   "cell_type": "code",
   "execution_count": 6,
   "id": "0207cae4",
   "metadata": {
    "execution": {
     "iopub.execute_input": "2024-08-20T23:24:37.278113Z",
     "iopub.status.busy": "2024-08-20T23:24:37.277239Z",
     "iopub.status.idle": "2024-08-20T23:24:49.841131Z",
     "shell.execute_reply": "2024-08-20T23:24:49.840061Z"
    },
    "papermill": {
     "duration": 12.607555,
     "end_time": "2024-08-20T23:24:49.843736",
     "exception": false,
     "start_time": "2024-08-20T23:24:37.236181",
     "status": "completed"
    },
    "tags": []
   },
   "outputs": [],
   "source": [
    "raw_csv = pd.read_csv(r'/kaggle/input/zomato-bangalore-restaurants/zomato.csv')"
   ]
  },
  {
   "cell_type": "code",
   "execution_count": 7,
   "id": "1168c8dc",
   "metadata": {
    "execution": {
     "iopub.execute_input": "2024-08-20T23:24:49.925805Z",
     "iopub.status.busy": "2024-08-20T23:24:49.925446Z",
     "iopub.status.idle": "2024-08-20T23:24:49.959996Z",
     "shell.execute_reply": "2024-08-20T23:24:49.958886Z"
    },
    "papermill": {
     "duration": 0.07894,
     "end_time": "2024-08-20T23:24:49.962631",
     "exception": false,
     "start_time": "2024-08-20T23:24:49.883691",
     "status": "completed"
    },
    "tags": []
   },
   "outputs": [
    {
     "data": {
      "text/html": [
       "<div>\n",
       "<style scoped>\n",
       "    .dataframe tbody tr th:only-of-type {\n",
       "        vertical-align: middle;\n",
       "    }\n",
       "\n",
       "    .dataframe tbody tr th {\n",
       "        vertical-align: top;\n",
       "    }\n",
       "\n",
       "    .dataframe thead th {\n",
       "        text-align: right;\n",
       "    }\n",
       "</style>\n",
       "<table border=\"1\" class=\"dataframe\">\n",
       "  <thead>\n",
       "    <tr style=\"text-align: right;\">\n",
       "      <th></th>\n",
       "      <th>url</th>\n",
       "      <th>address</th>\n",
       "      <th>name</th>\n",
       "      <th>online_order</th>\n",
       "      <th>book_table</th>\n",
       "      <th>rate</th>\n",
       "      <th>votes</th>\n",
       "      <th>phone</th>\n",
       "      <th>location</th>\n",
       "      <th>rest_type</th>\n",
       "      <th>dish_liked</th>\n",
       "      <th>cuisines</th>\n",
       "      <th>approx_cost(for two people)</th>\n",
       "      <th>reviews_list</th>\n",
       "      <th>menu_item</th>\n",
       "      <th>listed_in(type)</th>\n",
       "      <th>listed_in(city)</th>\n",
       "    </tr>\n",
       "  </thead>\n",
       "  <tbody>\n",
       "    <tr>\n",
       "      <th>0</th>\n",
       "      <td>https://www.zomato.com/bangalore/jalsa-banasha...</td>\n",
       "      <td>942, 21st Main Road, 2nd Stage, Banashankari, ...</td>\n",
       "      <td>Jalsa</td>\n",
       "      <td>Yes</td>\n",
       "      <td>Yes</td>\n",
       "      <td>4.1/5</td>\n",
       "      <td>775</td>\n",
       "      <td>080 42297555\\r\\n+91 9743772233</td>\n",
       "      <td>Banashankari</td>\n",
       "      <td>Casual Dining</td>\n",
       "      <td>Pasta, Lunch Buffet, Masala Papad, Paneer Laja...</td>\n",
       "      <td>North Indian, Mughlai, Chinese</td>\n",
       "      <td>800</td>\n",
       "      <td>[('Rated 4.0', 'RATED\\n  A beautiful place to ...</td>\n",
       "      <td>[]</td>\n",
       "      <td>Buffet</td>\n",
       "      <td>Banashankari</td>\n",
       "    </tr>\n",
       "    <tr>\n",
       "      <th>1</th>\n",
       "      <td>https://www.zomato.com/bangalore/spice-elephan...</td>\n",
       "      <td>2nd Floor, 80 Feet Road, Near Big Bazaar, 6th ...</td>\n",
       "      <td>Spice Elephant</td>\n",
       "      <td>Yes</td>\n",
       "      <td>No</td>\n",
       "      <td>4.1/5</td>\n",
       "      <td>787</td>\n",
       "      <td>080 41714161</td>\n",
       "      <td>Banashankari</td>\n",
       "      <td>Casual Dining</td>\n",
       "      <td>Momos, Lunch Buffet, Chocolate Nirvana, Thai G...</td>\n",
       "      <td>Chinese, North Indian, Thai</td>\n",
       "      <td>800</td>\n",
       "      <td>[('Rated 4.0', 'RATED\\n  Had been here for din...</td>\n",
       "      <td>[]</td>\n",
       "      <td>Buffet</td>\n",
       "      <td>Banashankari</td>\n",
       "    </tr>\n",
       "    <tr>\n",
       "      <th>2</th>\n",
       "      <td>https://www.zomato.com/SanchurroBangalore?cont...</td>\n",
       "      <td>1112, Next to KIMS Medical College, 17th Cross...</td>\n",
       "      <td>San Churro Cafe</td>\n",
       "      <td>Yes</td>\n",
       "      <td>No</td>\n",
       "      <td>3.8/5</td>\n",
       "      <td>918</td>\n",
       "      <td>+91 9663487993</td>\n",
       "      <td>Banashankari</td>\n",
       "      <td>Cafe, Casual Dining</td>\n",
       "      <td>Churros, Cannelloni, Minestrone Soup, Hot Choc...</td>\n",
       "      <td>Cafe, Mexican, Italian</td>\n",
       "      <td>800</td>\n",
       "      <td>[('Rated 3.0', \"RATED\\n  Ambience is not that ...</td>\n",
       "      <td>[]</td>\n",
       "      <td>Buffet</td>\n",
       "      <td>Banashankari</td>\n",
       "    </tr>\n",
       "    <tr>\n",
       "      <th>3</th>\n",
       "      <td>https://www.zomato.com/bangalore/addhuri-udupi...</td>\n",
       "      <td>1st Floor, Annakuteera, 3rd Stage, Banashankar...</td>\n",
       "      <td>Addhuri Udupi Bhojana</td>\n",
       "      <td>No</td>\n",
       "      <td>No</td>\n",
       "      <td>3.7/5</td>\n",
       "      <td>88</td>\n",
       "      <td>+91 9620009302</td>\n",
       "      <td>Banashankari</td>\n",
       "      <td>Quick Bites</td>\n",
       "      <td>Masala Dosa</td>\n",
       "      <td>South Indian, North Indian</td>\n",
       "      <td>300</td>\n",
       "      <td>[('Rated 4.0', \"RATED\\n  Great food and proper...</td>\n",
       "      <td>[]</td>\n",
       "      <td>Buffet</td>\n",
       "      <td>Banashankari</td>\n",
       "    </tr>\n",
       "    <tr>\n",
       "      <th>4</th>\n",
       "      <td>https://www.zomato.com/bangalore/grand-village...</td>\n",
       "      <td>10, 3rd Floor, Lakshmi Associates, Gandhi Baza...</td>\n",
       "      <td>Grand Village</td>\n",
       "      <td>No</td>\n",
       "      <td>No</td>\n",
       "      <td>3.8/5</td>\n",
       "      <td>166</td>\n",
       "      <td>+91 8026612447\\r\\n+91 9901210005</td>\n",
       "      <td>Basavanagudi</td>\n",
       "      <td>Casual Dining</td>\n",
       "      <td>Panipuri, Gol Gappe</td>\n",
       "      <td>North Indian, Rajasthani</td>\n",
       "      <td>600</td>\n",
       "      <td>[('Rated 4.0', 'RATED\\n  Very good restaurant ...</td>\n",
       "      <td>[]</td>\n",
       "      <td>Buffet</td>\n",
       "      <td>Banashankari</td>\n",
       "    </tr>\n",
       "    <tr>\n",
       "      <th>...</th>\n",
       "      <td>...</td>\n",
       "      <td>...</td>\n",
       "      <td>...</td>\n",
       "      <td>...</td>\n",
       "      <td>...</td>\n",
       "      <td>...</td>\n",
       "      <td>...</td>\n",
       "      <td>...</td>\n",
       "      <td>...</td>\n",
       "      <td>...</td>\n",
       "      <td>...</td>\n",
       "      <td>...</td>\n",
       "      <td>...</td>\n",
       "      <td>...</td>\n",
       "      <td>...</td>\n",
       "      <td>...</td>\n",
       "      <td>...</td>\n",
       "    </tr>\n",
       "    <tr>\n",
       "      <th>51712</th>\n",
       "      <td>https://www.zomato.com/bangalore/best-brews-fo...</td>\n",
       "      <td>Four Points by Sheraton Bengaluru, 43/3, White...</td>\n",
       "      <td>Best Brews - Four Points by Sheraton Bengaluru...</td>\n",
       "      <td>No</td>\n",
       "      <td>No</td>\n",
       "      <td>3.6 /5</td>\n",
       "      <td>27</td>\n",
       "      <td>080 40301477</td>\n",
       "      <td>Whitefield</td>\n",
       "      <td>Bar</td>\n",
       "      <td>NaN</td>\n",
       "      <td>Continental</td>\n",
       "      <td>1,500</td>\n",
       "      <td>[('Rated 5.0', \"RATED\\n  Food and service are ...</td>\n",
       "      <td>[]</td>\n",
       "      <td>Pubs and bars</td>\n",
       "      <td>Whitefield</td>\n",
       "    </tr>\n",
       "    <tr>\n",
       "      <th>51713</th>\n",
       "      <td>https://www.zomato.com/bangalore/vinod-bar-and...</td>\n",
       "      <td>Number 10, Garudachar Palya, Mahadevapura, Whi...</td>\n",
       "      <td>Vinod Bar And Restaurant</td>\n",
       "      <td>No</td>\n",
       "      <td>No</td>\n",
       "      <td>NaN</td>\n",
       "      <td>0</td>\n",
       "      <td>+91 8197675843</td>\n",
       "      <td>Whitefield</td>\n",
       "      <td>Bar</td>\n",
       "      <td>NaN</td>\n",
       "      <td>Finger Food</td>\n",
       "      <td>600</td>\n",
       "      <td>[]</td>\n",
       "      <td>[]</td>\n",
       "      <td>Pubs and bars</td>\n",
       "      <td>Whitefield</td>\n",
       "    </tr>\n",
       "    <tr>\n",
       "      <th>51714</th>\n",
       "      <td>https://www.zomato.com/bangalore/plunge-sherat...</td>\n",
       "      <td>Sheraton Grand Bengaluru Whitefield Hotel &amp; Co...</td>\n",
       "      <td>Plunge - Sheraton Grand Bengaluru Whitefield H...</td>\n",
       "      <td>No</td>\n",
       "      <td>No</td>\n",
       "      <td>NaN</td>\n",
       "      <td>0</td>\n",
       "      <td>NaN</td>\n",
       "      <td>Whitefield</td>\n",
       "      <td>Bar</td>\n",
       "      <td>NaN</td>\n",
       "      <td>Finger Food</td>\n",
       "      <td>2,000</td>\n",
       "      <td>[]</td>\n",
       "      <td>[]</td>\n",
       "      <td>Pubs and bars</td>\n",
       "      <td>Whitefield</td>\n",
       "    </tr>\n",
       "    <tr>\n",
       "      <th>51715</th>\n",
       "      <td>https://www.zomato.com/bangalore/chime-sherato...</td>\n",
       "      <td>Sheraton Grand Bengaluru Whitefield Hotel &amp; Co...</td>\n",
       "      <td>Chime - Sheraton Grand Bengaluru Whitefield Ho...</td>\n",
       "      <td>No</td>\n",
       "      <td>Yes</td>\n",
       "      <td>4.3 /5</td>\n",
       "      <td>236</td>\n",
       "      <td>080 49652769</td>\n",
       "      <td>ITPL Main Road, Whitefield</td>\n",
       "      <td>Bar</td>\n",
       "      <td>Cocktails, Pizza, Buttermilk</td>\n",
       "      <td>Finger Food</td>\n",
       "      <td>2,500</td>\n",
       "      <td>[('Rated 4.0', 'RATED\\n  Nice and friendly pla...</td>\n",
       "      <td>[]</td>\n",
       "      <td>Pubs and bars</td>\n",
       "      <td>Whitefield</td>\n",
       "    </tr>\n",
       "    <tr>\n",
       "      <th>51716</th>\n",
       "      <td>https://www.zomato.com/bangalore/the-nest-the-...</td>\n",
       "      <td>ITPL Main Road, KIADB Export Promotion Industr...</td>\n",
       "      <td>The Nest - The Den Bengaluru</td>\n",
       "      <td>No</td>\n",
       "      <td>No</td>\n",
       "      <td>3.4 /5</td>\n",
       "      <td>13</td>\n",
       "      <td>+91 8071117272</td>\n",
       "      <td>ITPL Main Road, Whitefield</td>\n",
       "      <td>Bar, Casual Dining</td>\n",
       "      <td>NaN</td>\n",
       "      <td>Finger Food, North Indian, Continental</td>\n",
       "      <td>1,500</td>\n",
       "      <td>[('Rated 5.0', 'RATED\\n  Great ambience , look...</td>\n",
       "      <td>[]</td>\n",
       "      <td>Pubs and bars</td>\n",
       "      <td>Whitefield</td>\n",
       "    </tr>\n",
       "  </tbody>\n",
       "</table>\n",
       "<p>51717 rows × 17 columns</p>\n",
       "</div>"
      ],
      "text/plain": [
       "                                                     url  \\\n",
       "0      https://www.zomato.com/bangalore/jalsa-banasha...   \n",
       "1      https://www.zomato.com/bangalore/spice-elephan...   \n",
       "2      https://www.zomato.com/SanchurroBangalore?cont...   \n",
       "3      https://www.zomato.com/bangalore/addhuri-udupi...   \n",
       "4      https://www.zomato.com/bangalore/grand-village...   \n",
       "...                                                  ...   \n",
       "51712  https://www.zomato.com/bangalore/best-brews-fo...   \n",
       "51713  https://www.zomato.com/bangalore/vinod-bar-and...   \n",
       "51714  https://www.zomato.com/bangalore/plunge-sherat...   \n",
       "51715  https://www.zomato.com/bangalore/chime-sherato...   \n",
       "51716  https://www.zomato.com/bangalore/the-nest-the-...   \n",
       "\n",
       "                                                 address  \\\n",
       "0      942, 21st Main Road, 2nd Stage, Banashankari, ...   \n",
       "1      2nd Floor, 80 Feet Road, Near Big Bazaar, 6th ...   \n",
       "2      1112, Next to KIMS Medical College, 17th Cross...   \n",
       "3      1st Floor, Annakuteera, 3rd Stage, Banashankar...   \n",
       "4      10, 3rd Floor, Lakshmi Associates, Gandhi Baza...   \n",
       "...                                                  ...   \n",
       "51712  Four Points by Sheraton Bengaluru, 43/3, White...   \n",
       "51713  Number 10, Garudachar Palya, Mahadevapura, Whi...   \n",
       "51714  Sheraton Grand Bengaluru Whitefield Hotel & Co...   \n",
       "51715  Sheraton Grand Bengaluru Whitefield Hotel & Co...   \n",
       "51716  ITPL Main Road, KIADB Export Promotion Industr...   \n",
       "\n",
       "                                                    name online_order  \\\n",
       "0                                                  Jalsa          Yes   \n",
       "1                                         Spice Elephant          Yes   \n",
       "2                                        San Churro Cafe          Yes   \n",
       "3                                  Addhuri Udupi Bhojana           No   \n",
       "4                                          Grand Village           No   \n",
       "...                                                  ...          ...   \n",
       "51712  Best Brews - Four Points by Sheraton Bengaluru...           No   \n",
       "51713                           Vinod Bar And Restaurant           No   \n",
       "51714  Plunge - Sheraton Grand Bengaluru Whitefield H...           No   \n",
       "51715  Chime - Sheraton Grand Bengaluru Whitefield Ho...           No   \n",
       "51716                       The Nest - The Den Bengaluru           No   \n",
       "\n",
       "      book_table    rate  votes                             phone  \\\n",
       "0            Yes   4.1/5    775    080 42297555\\r\\n+91 9743772233   \n",
       "1             No   4.1/5    787                      080 41714161   \n",
       "2             No   3.8/5    918                    +91 9663487993   \n",
       "3             No   3.7/5     88                    +91 9620009302   \n",
       "4             No   3.8/5    166  +91 8026612447\\r\\n+91 9901210005   \n",
       "...          ...     ...    ...                               ...   \n",
       "51712         No  3.6 /5     27                      080 40301477   \n",
       "51713         No     NaN      0                    +91 8197675843   \n",
       "51714         No     NaN      0                               NaN   \n",
       "51715        Yes  4.3 /5    236                      080 49652769   \n",
       "51716         No  3.4 /5     13                    +91 8071117272   \n",
       "\n",
       "                         location            rest_type  \\\n",
       "0                    Banashankari        Casual Dining   \n",
       "1                    Banashankari        Casual Dining   \n",
       "2                    Banashankari  Cafe, Casual Dining   \n",
       "3                    Banashankari          Quick Bites   \n",
       "4                    Basavanagudi        Casual Dining   \n",
       "...                           ...                  ...   \n",
       "51712                  Whitefield                  Bar   \n",
       "51713                  Whitefield                  Bar   \n",
       "51714                  Whitefield                  Bar   \n",
       "51715  ITPL Main Road, Whitefield                  Bar   \n",
       "51716  ITPL Main Road, Whitefield   Bar, Casual Dining   \n",
       "\n",
       "                                              dish_liked  \\\n",
       "0      Pasta, Lunch Buffet, Masala Papad, Paneer Laja...   \n",
       "1      Momos, Lunch Buffet, Chocolate Nirvana, Thai G...   \n",
       "2      Churros, Cannelloni, Minestrone Soup, Hot Choc...   \n",
       "3                                            Masala Dosa   \n",
       "4                                    Panipuri, Gol Gappe   \n",
       "...                                                  ...   \n",
       "51712                                                NaN   \n",
       "51713                                                NaN   \n",
       "51714                                                NaN   \n",
       "51715                       Cocktails, Pizza, Buttermilk   \n",
       "51716                                                NaN   \n",
       "\n",
       "                                     cuisines approx_cost(for two people)  \\\n",
       "0              North Indian, Mughlai, Chinese                         800   \n",
       "1                 Chinese, North Indian, Thai                         800   \n",
       "2                      Cafe, Mexican, Italian                         800   \n",
       "3                  South Indian, North Indian                         300   \n",
       "4                    North Indian, Rajasthani                         600   \n",
       "...                                       ...                         ...   \n",
       "51712                             Continental                       1,500   \n",
       "51713                             Finger Food                         600   \n",
       "51714                             Finger Food                       2,000   \n",
       "51715                             Finger Food                       2,500   \n",
       "51716  Finger Food, North Indian, Continental                       1,500   \n",
       "\n",
       "                                            reviews_list menu_item  \\\n",
       "0      [('Rated 4.0', 'RATED\\n  A beautiful place to ...        []   \n",
       "1      [('Rated 4.0', 'RATED\\n  Had been here for din...        []   \n",
       "2      [('Rated 3.0', \"RATED\\n  Ambience is not that ...        []   \n",
       "3      [('Rated 4.0', \"RATED\\n  Great food and proper...        []   \n",
       "4      [('Rated 4.0', 'RATED\\n  Very good restaurant ...        []   \n",
       "...                                                  ...       ...   \n",
       "51712  [('Rated 5.0', \"RATED\\n  Food and service are ...        []   \n",
       "51713                                                 []        []   \n",
       "51714                                                 []        []   \n",
       "51715  [('Rated 4.0', 'RATED\\n  Nice and friendly pla...        []   \n",
       "51716  [('Rated 5.0', 'RATED\\n  Great ambience , look...        []   \n",
       "\n",
       "      listed_in(type) listed_in(city)  \n",
       "0              Buffet    Banashankari  \n",
       "1              Buffet    Banashankari  \n",
       "2              Buffet    Banashankari  \n",
       "3              Buffet    Banashankari  \n",
       "4              Buffet    Banashankari  \n",
       "...               ...             ...  \n",
       "51712   Pubs and bars      Whitefield  \n",
       "51713   Pubs and bars      Whitefield  \n",
       "51714   Pubs and bars      Whitefield  \n",
       "51715   Pubs and bars      Whitefield  \n",
       "51716   Pubs and bars      Whitefield  \n",
       "\n",
       "[51717 rows x 17 columns]"
      ]
     },
     "execution_count": 7,
     "metadata": {},
     "output_type": "execute_result"
    }
   ],
   "source": [
    "raw_csv"
   ]
  },
  {
   "cell_type": "code",
   "execution_count": 8,
   "id": "5baef5f7",
   "metadata": {
    "execution": {
     "iopub.execute_input": "2024-08-20T23:24:50.045910Z",
     "iopub.status.busy": "2024-08-20T23:24:50.045564Z",
     "iopub.status.idle": "2024-08-20T23:24:50.059279Z",
     "shell.execute_reply": "2024-08-20T23:24:50.058280Z"
    },
    "papermill": {
     "duration": 0.057934,
     "end_time": "2024-08-20T23:24:50.061964",
     "exception": false,
     "start_time": "2024-08-20T23:24:50.004030",
     "status": "completed"
    },
    "tags": []
   },
   "outputs": [],
   "source": [
    "df = raw_csv.copy()"
   ]
  },
  {
   "cell_type": "code",
   "execution_count": 9,
   "id": "61be0de0",
   "metadata": {
    "execution": {
     "iopub.execute_input": "2024-08-20T23:24:50.146502Z",
     "iopub.status.busy": "2024-08-20T23:24:50.146135Z",
     "iopub.status.idle": "2024-08-20T23:24:50.169596Z",
     "shell.execute_reply": "2024-08-20T23:24:50.168563Z"
    },
    "papermill": {
     "duration": 0.068445,
     "end_time": "2024-08-20T23:24:50.172016",
     "exception": false,
     "start_time": "2024-08-20T23:24:50.103571",
     "status": "completed"
    },
    "tags": []
   },
   "outputs": [],
   "source": [
    "df = df.drop(labels='url', axis=1)"
   ]
  },
  {
   "cell_type": "code",
   "execution_count": 10,
   "id": "a023949d",
   "metadata": {
    "execution": {
     "iopub.execute_input": "2024-08-20T23:24:50.255745Z",
     "iopub.status.busy": "2024-08-20T23:24:50.255376Z",
     "iopub.status.idle": "2024-08-20T23:24:50.271807Z",
     "shell.execute_reply": "2024-08-20T23:24:50.270772Z"
    },
    "papermill": {
     "duration": 0.061182,
     "end_time": "2024-08-20T23:24:50.274262",
     "exception": false,
     "start_time": "2024-08-20T23:24:50.213080",
     "status": "completed"
    },
    "tags": []
   },
   "outputs": [],
   "source": [
    "df = df.drop(labels='address', axis=1)"
   ]
  },
  {
   "cell_type": "code",
   "execution_count": 11,
   "id": "bcbe481d",
   "metadata": {
    "execution": {
     "iopub.execute_input": "2024-08-20T23:24:50.357797Z",
     "iopub.status.busy": "2024-08-20T23:24:50.357436Z",
     "iopub.status.idle": "2024-08-20T23:24:50.377256Z",
     "shell.execute_reply": "2024-08-20T23:24:50.376307Z"
    },
    "papermill": {
     "duration": 0.064441,
     "end_time": "2024-08-20T23:24:50.379559",
     "exception": false,
     "start_time": "2024-08-20T23:24:50.315118",
     "status": "completed"
    },
    "tags": []
   },
   "outputs": [
    {
     "data": {
      "text/html": [
       "<div>\n",
       "<style scoped>\n",
       "    .dataframe tbody tr th:only-of-type {\n",
       "        vertical-align: middle;\n",
       "    }\n",
       "\n",
       "    .dataframe tbody tr th {\n",
       "        vertical-align: top;\n",
       "    }\n",
       "\n",
       "    .dataframe thead th {\n",
       "        text-align: right;\n",
       "    }\n",
       "</style>\n",
       "<table border=\"1\" class=\"dataframe\">\n",
       "  <thead>\n",
       "    <tr style=\"text-align: right;\">\n",
       "      <th></th>\n",
       "      <th>name</th>\n",
       "      <th>online_order</th>\n",
       "      <th>book_table</th>\n",
       "      <th>rate</th>\n",
       "      <th>votes</th>\n",
       "      <th>phone</th>\n",
       "      <th>location</th>\n",
       "      <th>rest_type</th>\n",
       "      <th>dish_liked</th>\n",
       "      <th>cuisines</th>\n",
       "      <th>approx_cost(for two people)</th>\n",
       "      <th>reviews_list</th>\n",
       "      <th>menu_item</th>\n",
       "      <th>listed_in(type)</th>\n",
       "      <th>listed_in(city)</th>\n",
       "    </tr>\n",
       "  </thead>\n",
       "  <tbody>\n",
       "    <tr>\n",
       "      <th>0</th>\n",
       "      <td>Jalsa</td>\n",
       "      <td>Yes</td>\n",
       "      <td>Yes</td>\n",
       "      <td>4.1/5</td>\n",
       "      <td>775</td>\n",
       "      <td>080 42297555\\r\\n+91 9743772233</td>\n",
       "      <td>Banashankari</td>\n",
       "      <td>Casual Dining</td>\n",
       "      <td>Pasta, Lunch Buffet, Masala Papad, Paneer Laja...</td>\n",
       "      <td>North Indian, Mughlai, Chinese</td>\n",
       "      <td>800</td>\n",
       "      <td>[('Rated 4.0', 'RATED\\n  A beautiful place to ...</td>\n",
       "      <td>[]</td>\n",
       "      <td>Buffet</td>\n",
       "      <td>Banashankari</td>\n",
       "    </tr>\n",
       "    <tr>\n",
       "      <th>1</th>\n",
       "      <td>Spice Elephant</td>\n",
       "      <td>Yes</td>\n",
       "      <td>No</td>\n",
       "      <td>4.1/5</td>\n",
       "      <td>787</td>\n",
       "      <td>080 41714161</td>\n",
       "      <td>Banashankari</td>\n",
       "      <td>Casual Dining</td>\n",
       "      <td>Momos, Lunch Buffet, Chocolate Nirvana, Thai G...</td>\n",
       "      <td>Chinese, North Indian, Thai</td>\n",
       "      <td>800</td>\n",
       "      <td>[('Rated 4.0', 'RATED\\n  Had been here for din...</td>\n",
       "      <td>[]</td>\n",
       "      <td>Buffet</td>\n",
       "      <td>Banashankari</td>\n",
       "    </tr>\n",
       "    <tr>\n",
       "      <th>2</th>\n",
       "      <td>San Churro Cafe</td>\n",
       "      <td>Yes</td>\n",
       "      <td>No</td>\n",
       "      <td>3.8/5</td>\n",
       "      <td>918</td>\n",
       "      <td>+91 9663487993</td>\n",
       "      <td>Banashankari</td>\n",
       "      <td>Cafe, Casual Dining</td>\n",
       "      <td>Churros, Cannelloni, Minestrone Soup, Hot Choc...</td>\n",
       "      <td>Cafe, Mexican, Italian</td>\n",
       "      <td>800</td>\n",
       "      <td>[('Rated 3.0', \"RATED\\n  Ambience is not that ...</td>\n",
       "      <td>[]</td>\n",
       "      <td>Buffet</td>\n",
       "      <td>Banashankari</td>\n",
       "    </tr>\n",
       "    <tr>\n",
       "      <th>3</th>\n",
       "      <td>Addhuri Udupi Bhojana</td>\n",
       "      <td>No</td>\n",
       "      <td>No</td>\n",
       "      <td>3.7/5</td>\n",
       "      <td>88</td>\n",
       "      <td>+91 9620009302</td>\n",
       "      <td>Banashankari</td>\n",
       "      <td>Quick Bites</td>\n",
       "      <td>Masala Dosa</td>\n",
       "      <td>South Indian, North Indian</td>\n",
       "      <td>300</td>\n",
       "      <td>[('Rated 4.0', \"RATED\\n  Great food and proper...</td>\n",
       "      <td>[]</td>\n",
       "      <td>Buffet</td>\n",
       "      <td>Banashankari</td>\n",
       "    </tr>\n",
       "    <tr>\n",
       "      <th>4</th>\n",
       "      <td>Grand Village</td>\n",
       "      <td>No</td>\n",
       "      <td>No</td>\n",
       "      <td>3.8/5</td>\n",
       "      <td>166</td>\n",
       "      <td>+91 8026612447\\r\\n+91 9901210005</td>\n",
       "      <td>Basavanagudi</td>\n",
       "      <td>Casual Dining</td>\n",
       "      <td>Panipuri, Gol Gappe</td>\n",
       "      <td>North Indian, Rajasthani</td>\n",
       "      <td>600</td>\n",
       "      <td>[('Rated 4.0', 'RATED\\n  Very good restaurant ...</td>\n",
       "      <td>[]</td>\n",
       "      <td>Buffet</td>\n",
       "      <td>Banashankari</td>\n",
       "    </tr>\n",
       "    <tr>\n",
       "      <th>...</th>\n",
       "      <td>...</td>\n",
       "      <td>...</td>\n",
       "      <td>...</td>\n",
       "      <td>...</td>\n",
       "      <td>...</td>\n",
       "      <td>...</td>\n",
       "      <td>...</td>\n",
       "      <td>...</td>\n",
       "      <td>...</td>\n",
       "      <td>...</td>\n",
       "      <td>...</td>\n",
       "      <td>...</td>\n",
       "      <td>...</td>\n",
       "      <td>...</td>\n",
       "      <td>...</td>\n",
       "    </tr>\n",
       "    <tr>\n",
       "      <th>51712</th>\n",
       "      <td>Best Brews - Four Points by Sheraton Bengaluru...</td>\n",
       "      <td>No</td>\n",
       "      <td>No</td>\n",
       "      <td>3.6 /5</td>\n",
       "      <td>27</td>\n",
       "      <td>080 40301477</td>\n",
       "      <td>Whitefield</td>\n",
       "      <td>Bar</td>\n",
       "      <td>NaN</td>\n",
       "      <td>Continental</td>\n",
       "      <td>1,500</td>\n",
       "      <td>[('Rated 5.0', \"RATED\\n  Food and service are ...</td>\n",
       "      <td>[]</td>\n",
       "      <td>Pubs and bars</td>\n",
       "      <td>Whitefield</td>\n",
       "    </tr>\n",
       "    <tr>\n",
       "      <th>51713</th>\n",
       "      <td>Vinod Bar And Restaurant</td>\n",
       "      <td>No</td>\n",
       "      <td>No</td>\n",
       "      <td>NaN</td>\n",
       "      <td>0</td>\n",
       "      <td>+91 8197675843</td>\n",
       "      <td>Whitefield</td>\n",
       "      <td>Bar</td>\n",
       "      <td>NaN</td>\n",
       "      <td>Finger Food</td>\n",
       "      <td>600</td>\n",
       "      <td>[]</td>\n",
       "      <td>[]</td>\n",
       "      <td>Pubs and bars</td>\n",
       "      <td>Whitefield</td>\n",
       "    </tr>\n",
       "    <tr>\n",
       "      <th>51714</th>\n",
       "      <td>Plunge - Sheraton Grand Bengaluru Whitefield H...</td>\n",
       "      <td>No</td>\n",
       "      <td>No</td>\n",
       "      <td>NaN</td>\n",
       "      <td>0</td>\n",
       "      <td>NaN</td>\n",
       "      <td>Whitefield</td>\n",
       "      <td>Bar</td>\n",
       "      <td>NaN</td>\n",
       "      <td>Finger Food</td>\n",
       "      <td>2,000</td>\n",
       "      <td>[]</td>\n",
       "      <td>[]</td>\n",
       "      <td>Pubs and bars</td>\n",
       "      <td>Whitefield</td>\n",
       "    </tr>\n",
       "    <tr>\n",
       "      <th>51715</th>\n",
       "      <td>Chime - Sheraton Grand Bengaluru Whitefield Ho...</td>\n",
       "      <td>No</td>\n",
       "      <td>Yes</td>\n",
       "      <td>4.3 /5</td>\n",
       "      <td>236</td>\n",
       "      <td>080 49652769</td>\n",
       "      <td>ITPL Main Road, Whitefield</td>\n",
       "      <td>Bar</td>\n",
       "      <td>Cocktails, Pizza, Buttermilk</td>\n",
       "      <td>Finger Food</td>\n",
       "      <td>2,500</td>\n",
       "      <td>[('Rated 4.0', 'RATED\\n  Nice and friendly pla...</td>\n",
       "      <td>[]</td>\n",
       "      <td>Pubs and bars</td>\n",
       "      <td>Whitefield</td>\n",
       "    </tr>\n",
       "    <tr>\n",
       "      <th>51716</th>\n",
       "      <td>The Nest - The Den Bengaluru</td>\n",
       "      <td>No</td>\n",
       "      <td>No</td>\n",
       "      <td>3.4 /5</td>\n",
       "      <td>13</td>\n",
       "      <td>+91 8071117272</td>\n",
       "      <td>ITPL Main Road, Whitefield</td>\n",
       "      <td>Bar, Casual Dining</td>\n",
       "      <td>NaN</td>\n",
       "      <td>Finger Food, North Indian, Continental</td>\n",
       "      <td>1,500</td>\n",
       "      <td>[('Rated 5.0', 'RATED\\n  Great ambience , look...</td>\n",
       "      <td>[]</td>\n",
       "      <td>Pubs and bars</td>\n",
       "      <td>Whitefield</td>\n",
       "    </tr>\n",
       "  </tbody>\n",
       "</table>\n",
       "<p>51717 rows × 15 columns</p>\n",
       "</div>"
      ],
      "text/plain": [
       "                                                    name online_order  \\\n",
       "0                                                  Jalsa          Yes   \n",
       "1                                         Spice Elephant          Yes   \n",
       "2                                        San Churro Cafe          Yes   \n",
       "3                                  Addhuri Udupi Bhojana           No   \n",
       "4                                          Grand Village           No   \n",
       "...                                                  ...          ...   \n",
       "51712  Best Brews - Four Points by Sheraton Bengaluru...           No   \n",
       "51713                           Vinod Bar And Restaurant           No   \n",
       "51714  Plunge - Sheraton Grand Bengaluru Whitefield H...           No   \n",
       "51715  Chime - Sheraton Grand Bengaluru Whitefield Ho...           No   \n",
       "51716                       The Nest - The Den Bengaluru           No   \n",
       "\n",
       "      book_table    rate  votes                             phone  \\\n",
       "0            Yes   4.1/5    775    080 42297555\\r\\n+91 9743772233   \n",
       "1             No   4.1/5    787                      080 41714161   \n",
       "2             No   3.8/5    918                    +91 9663487993   \n",
       "3             No   3.7/5     88                    +91 9620009302   \n",
       "4             No   3.8/5    166  +91 8026612447\\r\\n+91 9901210005   \n",
       "...          ...     ...    ...                               ...   \n",
       "51712         No  3.6 /5     27                      080 40301477   \n",
       "51713         No     NaN      0                    +91 8197675843   \n",
       "51714         No     NaN      0                               NaN   \n",
       "51715        Yes  4.3 /5    236                      080 49652769   \n",
       "51716         No  3.4 /5     13                    +91 8071117272   \n",
       "\n",
       "                         location            rest_type  \\\n",
       "0                    Banashankari        Casual Dining   \n",
       "1                    Banashankari        Casual Dining   \n",
       "2                    Banashankari  Cafe, Casual Dining   \n",
       "3                    Banashankari          Quick Bites   \n",
       "4                    Basavanagudi        Casual Dining   \n",
       "...                           ...                  ...   \n",
       "51712                  Whitefield                  Bar   \n",
       "51713                  Whitefield                  Bar   \n",
       "51714                  Whitefield                  Bar   \n",
       "51715  ITPL Main Road, Whitefield                  Bar   \n",
       "51716  ITPL Main Road, Whitefield   Bar, Casual Dining   \n",
       "\n",
       "                                              dish_liked  \\\n",
       "0      Pasta, Lunch Buffet, Masala Papad, Paneer Laja...   \n",
       "1      Momos, Lunch Buffet, Chocolate Nirvana, Thai G...   \n",
       "2      Churros, Cannelloni, Minestrone Soup, Hot Choc...   \n",
       "3                                            Masala Dosa   \n",
       "4                                    Panipuri, Gol Gappe   \n",
       "...                                                  ...   \n",
       "51712                                                NaN   \n",
       "51713                                                NaN   \n",
       "51714                                                NaN   \n",
       "51715                       Cocktails, Pizza, Buttermilk   \n",
       "51716                                                NaN   \n",
       "\n",
       "                                     cuisines approx_cost(for two people)  \\\n",
       "0              North Indian, Mughlai, Chinese                         800   \n",
       "1                 Chinese, North Indian, Thai                         800   \n",
       "2                      Cafe, Mexican, Italian                         800   \n",
       "3                  South Indian, North Indian                         300   \n",
       "4                    North Indian, Rajasthani                         600   \n",
       "...                                       ...                         ...   \n",
       "51712                             Continental                       1,500   \n",
       "51713                             Finger Food                         600   \n",
       "51714                             Finger Food                       2,000   \n",
       "51715                             Finger Food                       2,500   \n",
       "51716  Finger Food, North Indian, Continental                       1,500   \n",
       "\n",
       "                                            reviews_list menu_item  \\\n",
       "0      [('Rated 4.0', 'RATED\\n  A beautiful place to ...        []   \n",
       "1      [('Rated 4.0', 'RATED\\n  Had been here for din...        []   \n",
       "2      [('Rated 3.0', \"RATED\\n  Ambience is not that ...        []   \n",
       "3      [('Rated 4.0', \"RATED\\n  Great food and proper...        []   \n",
       "4      [('Rated 4.0', 'RATED\\n  Very good restaurant ...        []   \n",
       "...                                                  ...       ...   \n",
       "51712  [('Rated 5.0', \"RATED\\n  Food and service are ...        []   \n",
       "51713                                                 []        []   \n",
       "51714                                                 []        []   \n",
       "51715  [('Rated 4.0', 'RATED\\n  Nice and friendly pla...        []   \n",
       "51716  [('Rated 5.0', 'RATED\\n  Great ambience , look...        []   \n",
       "\n",
       "      listed_in(type) listed_in(city)  \n",
       "0              Buffet    Banashankari  \n",
       "1              Buffet    Banashankari  \n",
       "2              Buffet    Banashankari  \n",
       "3              Buffet    Banashankari  \n",
       "4              Buffet    Banashankari  \n",
       "...               ...             ...  \n",
       "51712   Pubs and bars      Whitefield  \n",
       "51713   Pubs and bars      Whitefield  \n",
       "51714   Pubs and bars      Whitefield  \n",
       "51715   Pubs and bars      Whitefield  \n",
       "51716   Pubs and bars      Whitefield  \n",
       "\n",
       "[51717 rows x 15 columns]"
      ]
     },
     "execution_count": 11,
     "metadata": {},
     "output_type": "execute_result"
    }
   ],
   "source": [
    "df"
   ]
  },
  {
   "cell_type": "code",
   "execution_count": 12,
   "id": "c248c21d",
   "metadata": {
    "execution": {
     "iopub.execute_input": "2024-08-20T23:24:50.466223Z",
     "iopub.status.busy": "2024-08-20T23:24:50.465304Z",
     "iopub.status.idle": "2024-08-20T23:24:50.469942Z",
     "shell.execute_reply": "2024-08-20T23:24:50.469038Z"
    },
    "papermill": {
     "duration": 0.050681,
     "end_time": "2024-08-20T23:24:50.472063",
     "exception": false,
     "start_time": "2024-08-20T23:24:50.421382",
     "status": "completed"
    },
    "tags": []
   },
   "outputs": [],
   "source": [
    "#next column is name of restaurant"
   ]
  },
  {
   "cell_type": "code",
   "execution_count": 13,
   "id": "0a483c44",
   "metadata": {
    "execution": {
     "iopub.execute_input": "2024-08-20T23:24:50.556018Z",
     "iopub.status.busy": "2024-08-20T23:24:50.555671Z",
     "iopub.status.idle": "2024-08-20T23:24:50.612491Z",
     "shell.execute_reply": "2024-08-20T23:24:50.611415Z"
    },
    "papermill": {
     "duration": 0.102171,
     "end_time": "2024-08-20T23:24:50.615316",
     "exception": false,
     "start_time": "2024-08-20T23:24:50.513145",
     "status": "completed"
    },
    "tags": []
   },
   "outputs": [
    {
     "name": "stdout",
     "output_type": "stream",
     "text": [
      "<class 'pandas.core.frame.DataFrame'>\n",
      "RangeIndex: 51717 entries, 0 to 51716\n",
      "Data columns (total 15 columns):\n",
      " #   Column                       Non-Null Count  Dtype \n",
      "---  ------                       --------------  ----- \n",
      " 0   name                         51717 non-null  object\n",
      " 1   online_order                 51717 non-null  object\n",
      " 2   book_table                   51717 non-null  object\n",
      " 3   rate                         43942 non-null  object\n",
      " 4   votes                        51717 non-null  int64 \n",
      " 5   phone                        50509 non-null  object\n",
      " 6   location                     51696 non-null  object\n",
      " 7   rest_type                    51490 non-null  object\n",
      " 8   dish_liked                   23639 non-null  object\n",
      " 9   cuisines                     51672 non-null  object\n",
      " 10  approx_cost(for two people)  51371 non-null  object\n",
      " 11  reviews_list                 51717 non-null  object\n",
      " 12  menu_item                    51717 non-null  object\n",
      " 13  listed_in(type)              51717 non-null  object\n",
      " 14  listed_in(city)              51717 non-null  object\n",
      "dtypes: int64(1), object(14)\n",
      "memory usage: 5.9+ MB\n"
     ]
    }
   ],
   "source": [
    "df.info()"
   ]
  },
  {
   "cell_type": "code",
   "execution_count": 14,
   "id": "f773f697",
   "metadata": {
    "execution": {
     "iopub.execute_input": "2024-08-20T23:24:50.699944Z",
     "iopub.status.busy": "2024-08-20T23:24:50.699588Z",
     "iopub.status.idle": "2024-08-20T23:24:50.706123Z",
     "shell.execute_reply": "2024-08-20T23:24:50.705088Z"
    },
    "papermill": {
     "duration": 0.051623,
     "end_time": "2024-08-20T23:24:50.708413",
     "exception": false,
     "start_time": "2024-08-20T23:24:50.656790",
     "status": "completed"
    },
    "tags": []
   },
   "outputs": [
    {
     "data": {
      "text/plain": [
       "(51717, 15)"
      ]
     },
     "execution_count": 14,
     "metadata": {},
     "output_type": "execute_result"
    }
   ],
   "source": [
    "df.shape"
   ]
  },
  {
   "cell_type": "code",
   "execution_count": 15,
   "id": "aca27f1e",
   "metadata": {
    "execution": {
     "iopub.execute_input": "2024-08-20T23:24:50.794064Z",
     "iopub.status.busy": "2024-08-20T23:24:50.793017Z",
     "iopub.status.idle": "2024-08-20T23:24:52.771520Z",
     "shell.execute_reply": "2024-08-20T23:24:52.770301Z"
    },
    "papermill": {
     "duration": 2.024221,
     "end_time": "2024-08-20T23:24:52.774067",
     "exception": false,
     "start_time": "2024-08-20T23:24:50.749846",
     "status": "completed"
    },
    "tags": []
   },
   "outputs": [],
   "source": [
    "#lets remove all duplicates\n",
    "df.drop_duplicates(inplace=True)"
   ]
  },
  {
   "cell_type": "code",
   "execution_count": 16,
   "id": "1e8bb4da",
   "metadata": {
    "execution": {
     "iopub.execute_input": "2024-08-20T23:24:52.860991Z",
     "iopub.status.busy": "2024-08-20T23:24:52.860599Z",
     "iopub.status.idle": "2024-08-20T23:24:52.867374Z",
     "shell.execute_reply": "2024-08-20T23:24:52.866361Z"
    },
    "papermill": {
     "duration": 0.051936,
     "end_time": "2024-08-20T23:24:52.869672",
     "exception": false,
     "start_time": "2024-08-20T23:24:52.817736",
     "status": "completed"
    },
    "tags": []
   },
   "outputs": [
    {
     "data": {
      "text/plain": [
       "(51659, 15)"
      ]
     },
     "execution_count": 16,
     "metadata": {},
     "output_type": "execute_result"
    }
   ],
   "source": [
    "df.shape"
   ]
  },
  {
   "cell_type": "code",
   "execution_count": 17,
   "id": "f9332466",
   "metadata": {
    "execution": {
     "iopub.execute_input": "2024-08-20T23:24:52.955780Z",
     "iopub.status.busy": "2024-08-20T23:24:52.955442Z",
     "iopub.status.idle": "2024-08-20T23:24:53.004405Z",
     "shell.execute_reply": "2024-08-20T23:24:53.003246Z"
    },
    "papermill": {
     "duration": 0.094338,
     "end_time": "2024-08-20T23:24:53.006618",
     "exception": false,
     "start_time": "2024-08-20T23:24:52.912280",
     "status": "completed"
    },
    "tags": []
   },
   "outputs": [
    {
     "name": "stdout",
     "output_type": "stream",
     "text": [
      "<class 'pandas.core.frame.DataFrame'>\n",
      "Index: 51659 entries, 0 to 51716\n",
      "Data columns (total 15 columns):\n",
      " #   Column                       Non-Null Count  Dtype \n",
      "---  ------                       --------------  ----- \n",
      " 0   name                         51659 non-null  object\n",
      " 1   online_order                 51659 non-null  object\n",
      " 2   book_table                   51659 non-null  object\n",
      " 3   rate                         43897 non-null  object\n",
      " 4   votes                        51659 non-null  int64 \n",
      " 5   phone                        50452 non-null  object\n",
      " 6   location                     51638 non-null  object\n",
      " 7   rest_type                    51432 non-null  object\n",
      " 8   dish_liked                   23628 non-null  object\n",
      " 9   cuisines                     51614 non-null  object\n",
      " 10  approx_cost(for two people)  51314 non-null  object\n",
      " 11  reviews_list                 51659 non-null  object\n",
      " 12  menu_item                    51659 non-null  object\n",
      " 13  listed_in(type)              51659 non-null  object\n",
      " 14  listed_in(city)              51659 non-null  object\n",
      "dtypes: int64(1), object(14)\n",
      "memory usage: 6.3+ MB\n"
     ]
    }
   ],
   "source": [
    "df.info()"
   ]
  },
  {
   "cell_type": "code",
   "execution_count": 18,
   "id": "d1d77089",
   "metadata": {
    "execution": {
     "iopub.execute_input": "2024-08-20T23:24:53.094432Z",
     "iopub.status.busy": "2024-08-20T23:24:53.094057Z",
     "iopub.status.idle": "2024-08-20T23:24:53.102272Z",
     "shell.execute_reply": "2024-08-20T23:24:53.101280Z"
    },
    "papermill": {
     "duration": 0.054797,
     "end_time": "2024-08-20T23:24:53.104352",
     "exception": false,
     "start_time": "2024-08-20T23:24:53.049555",
     "status": "completed"
    },
    "tags": []
   },
   "outputs": [
    {
     "data": {
      "text/plain": [
       "0                                                    Jalsa\n",
       "1                                           Spice Elephant\n",
       "2                                          San Churro Cafe\n",
       "3                                    Addhuri Udupi Bhojana\n",
       "4                                            Grand Village\n",
       "                               ...                        \n",
       "51712    Best Brews - Four Points by Sheraton Bengaluru...\n",
       "51713                             Vinod Bar And Restaurant\n",
       "51714    Plunge - Sheraton Grand Bengaluru Whitefield H...\n",
       "51715    Chime - Sheraton Grand Bengaluru Whitefield Ho...\n",
       "51716                         The Nest - The Den Bengaluru\n",
       "Name: name, Length: 51659, dtype: object"
      ]
     },
     "execution_count": 18,
     "metadata": {},
     "output_type": "execute_result"
    }
   ],
   "source": [
    "df['name']"
   ]
  },
  {
   "cell_type": "code",
   "execution_count": 19,
   "id": "49dc5619",
   "metadata": {
    "execution": {
     "iopub.execute_input": "2024-08-20T23:24:53.190027Z",
     "iopub.status.busy": "2024-08-20T23:24:53.189056Z",
     "iopub.status.idle": "2024-08-20T23:24:53.193670Z",
     "shell.execute_reply": "2024-08-20T23:24:53.192676Z"
    },
    "papermill": {
     "duration": 0.049678,
     "end_time": "2024-08-20T23:24:53.195746",
     "exception": false,
     "start_time": "2024-08-20T23:24:53.146068",
     "status": "completed"
    },
    "tags": []
   },
   "outputs": [],
   "source": [
    "#all names are complete for now. Next column"
   ]
  },
  {
   "cell_type": "code",
   "execution_count": 20,
   "id": "2bb2537a",
   "metadata": {
    "execution": {
     "iopub.execute_input": "2024-08-20T23:24:53.280868Z",
     "iopub.status.busy": "2024-08-20T23:24:53.280506Z",
     "iopub.status.idle": "2024-08-20T23:24:53.289898Z",
     "shell.execute_reply": "2024-08-20T23:24:53.288902Z"
    },
    "papermill": {
     "duration": 0.054518,
     "end_time": "2024-08-20T23:24:53.292058",
     "exception": false,
     "start_time": "2024-08-20T23:24:53.237540",
     "status": "completed"
    },
    "tags": []
   },
   "outputs": [
    {
     "data": {
      "text/plain": [
       "array(['Yes', 'No'], dtype=object)"
      ]
     },
     "execution_count": 20,
     "metadata": {},
     "output_type": "execute_result"
    }
   ],
   "source": [
    "df['online_order'].unique()"
   ]
  },
  {
   "cell_type": "code",
   "execution_count": 21,
   "id": "04d04461",
   "metadata": {
    "execution": {
     "iopub.execute_input": "2024-08-20T23:24:53.378033Z",
     "iopub.status.busy": "2024-08-20T23:24:53.377699Z",
     "iopub.status.idle": "2024-08-20T23:24:53.381971Z",
     "shell.execute_reply": "2024-08-20T23:24:53.381053Z"
    },
    "papermill": {
     "duration": 0.049122,
     "end_time": "2024-08-20T23:24:53.384017",
     "exception": false,
     "start_time": "2024-08-20T23:24:53.334895",
     "status": "completed"
    },
    "tags": []
   },
   "outputs": [],
   "source": [
    "#onine order contains yes or no. It is complete completewith no missing values.Next column"
   ]
  },
  {
   "cell_type": "code",
   "execution_count": 22,
   "id": "ca357abd",
   "metadata": {
    "execution": {
     "iopub.execute_input": "2024-08-20T23:24:53.470120Z",
     "iopub.status.busy": "2024-08-20T23:24:53.468903Z",
     "iopub.status.idle": "2024-08-20T23:24:53.476485Z",
     "shell.execute_reply": "2024-08-20T23:24:53.475488Z"
    },
    "papermill": {
     "duration": 0.052534,
     "end_time": "2024-08-20T23:24:53.478526",
     "exception": false,
     "start_time": "2024-08-20T23:24:53.425992",
     "status": "completed"
    },
    "tags": []
   },
   "outputs": [
    {
     "data": {
      "text/plain": [
       "Index(['name', 'online_order', 'book_table', 'rate', 'votes', 'phone',\n",
       "       'location', 'rest_type', 'dish_liked', 'cuisines',\n",
       "       'approx_cost(for two people)', 'reviews_list', 'menu_item',\n",
       "       'listed_in(type)', 'listed_in(city)'],\n",
       "      dtype='object')"
      ]
     },
     "execution_count": 22,
     "metadata": {},
     "output_type": "execute_result"
    }
   ],
   "source": [
    "df.columns"
   ]
  },
  {
   "cell_type": "code",
   "execution_count": 23,
   "id": "66971f89",
   "metadata": {
    "execution": {
     "iopub.execute_input": "2024-08-20T23:24:53.563976Z",
     "iopub.status.busy": "2024-08-20T23:24:53.563644Z",
     "iopub.status.idle": "2024-08-20T23:24:53.571546Z",
     "shell.execute_reply": "2024-08-20T23:24:53.570501Z"
    },
    "papermill": {
     "duration": 0.053313,
     "end_time": "2024-08-20T23:24:53.573902",
     "exception": false,
     "start_time": "2024-08-20T23:24:53.520589",
     "status": "completed"
    },
    "tags": []
   },
   "outputs": [
    {
     "data": {
      "text/plain": [
       "0        Yes\n",
       "1         No\n",
       "2         No\n",
       "3         No\n",
       "4         No\n",
       "        ... \n",
       "51712     No\n",
       "51713     No\n",
       "51714     No\n",
       "51715    Yes\n",
       "51716     No\n",
       "Name: book_table, Length: 51659, dtype: object"
      ]
     },
     "execution_count": 23,
     "metadata": {},
     "output_type": "execute_result"
    }
   ],
   "source": [
    "df['book_table']"
   ]
  },
  {
   "cell_type": "code",
   "execution_count": 24,
   "id": "efb59066",
   "metadata": {
    "execution": {
     "iopub.execute_input": "2024-08-20T23:24:53.660725Z",
     "iopub.status.busy": "2024-08-20T23:24:53.660387Z",
     "iopub.status.idle": "2024-08-20T23:24:53.670311Z",
     "shell.execute_reply": "2024-08-20T23:24:53.669264Z"
    },
    "papermill": {
     "duration": 0.055937,
     "end_time": "2024-08-20T23:24:53.672490",
     "exception": false,
     "start_time": "2024-08-20T23:24:53.616553",
     "status": "completed"
    },
    "tags": []
   },
   "outputs": [
    {
     "data": {
      "text/plain": [
       "array(['Yes', 'No'], dtype=object)"
      ]
     },
     "execution_count": 24,
     "metadata": {},
     "output_type": "execute_result"
    }
   ],
   "source": [
    "df['book_table'].unique()"
   ]
  },
  {
   "cell_type": "code",
   "execution_count": 25,
   "id": "f8c74f83",
   "metadata": {
    "execution": {
     "iopub.execute_input": "2024-08-20T23:24:53.759375Z",
     "iopub.status.busy": "2024-08-20T23:24:53.758951Z",
     "iopub.status.idle": "2024-08-20T23:24:53.763574Z",
     "shell.execute_reply": "2024-08-20T23:24:53.762634Z"
    },
    "papermill": {
     "duration": 0.050094,
     "end_time": "2024-08-20T23:24:53.765643",
     "exception": false,
     "start_time": "2024-08-20T23:24:53.715549",
     "status": "completed"
    },
    "tags": []
   },
   "outputs": [],
   "source": [
    "#same as online_order, this column is complete for analysis. Next column"
   ]
  },
  {
   "cell_type": "code",
   "execution_count": 26,
   "id": "8a0971cb",
   "metadata": {
    "execution": {
     "iopub.execute_input": "2024-08-20T23:24:53.853029Z",
     "iopub.status.busy": "2024-08-20T23:24:53.852661Z",
     "iopub.status.idle": "2024-08-20T23:24:53.860951Z",
     "shell.execute_reply": "2024-08-20T23:24:53.859968Z"
    },
    "papermill": {
     "duration": 0.054588,
     "end_time": "2024-08-20T23:24:53.863372",
     "exception": false,
     "start_time": "2024-08-20T23:24:53.808784",
     "status": "completed"
    },
    "tags": []
   },
   "outputs": [
    {
     "data": {
      "text/plain": [
       "0         4.1/5\n",
       "1         4.1/5\n",
       "2         3.8/5\n",
       "3         3.7/5\n",
       "4         3.8/5\n",
       "          ...  \n",
       "51712    3.6 /5\n",
       "51713       NaN\n",
       "51714       NaN\n",
       "51715    4.3 /5\n",
       "51716    3.4 /5\n",
       "Name: rate, Length: 51659, dtype: object"
      ]
     },
     "execution_count": 26,
     "metadata": {},
     "output_type": "execute_result"
    }
   ],
   "source": [
    "#ratings of the restaurants\n",
    "df['rate']"
   ]
  },
  {
   "cell_type": "code",
   "execution_count": 27,
   "id": "5d121a5d",
   "metadata": {
    "execution": {
     "iopub.execute_input": "2024-08-20T23:24:53.950487Z",
     "iopub.status.busy": "2024-08-20T23:24:53.949594Z",
     "iopub.status.idle": "2024-08-20T23:24:53.954400Z",
     "shell.execute_reply": "2024-08-20T23:24:53.953391Z"
    },
    "papermill": {
     "duration": 0.050745,
     "end_time": "2024-08-20T23:24:53.956664",
     "exception": false,
     "start_time": "2024-08-20T23:24:53.905919",
     "status": "completed"
    },
    "tags": []
   },
   "outputs": [],
   "source": [
    "#there are missing values in this column.we will fill the dataset set with the mean of the column and remove the (/5) from the column"
   ]
  },
  {
   "cell_type": "code",
   "execution_count": 28,
   "id": "b2689356",
   "metadata": {
    "execution": {
     "iopub.execute_input": "2024-08-20T23:24:54.045344Z",
     "iopub.status.busy": "2024-08-20T23:24:54.044990Z",
     "iopub.status.idle": "2024-08-20T23:24:54.053402Z",
     "shell.execute_reply": "2024-08-20T23:24:54.052384Z"
    },
    "papermill": {
     "duration": 0.054726,
     "end_time": "2024-08-20T23:24:54.055452",
     "exception": false,
     "start_time": "2024-08-20T23:24:54.000726",
     "status": "completed"
    },
    "tags": []
   },
   "outputs": [
    {
     "data": {
      "text/plain": [
       "array(['4.1/5', '3.8/5', '3.7/5', '3.6/5', '4.6/5', '4.0/5', '4.2/5',\n",
       "       '3.9/5', '3.1/5', '3.0/5', '3.2/5', '3.3/5', '2.8/5', '4.4/5',\n",
       "       '4.3/5', 'NEW', '2.9/5', '3.5/5', nan, '2.6/5', '3.8 /5', '3.4/5',\n",
       "       '4.5/5', '2.5/5', '2.7/5', '4.7/5', '2.4/5', '2.2/5', '2.3/5',\n",
       "       '3.4 /5', '-', '3.6 /5', '4.8/5', '3.9 /5', '4.2 /5', '4.0 /5',\n",
       "       '4.1 /5', '3.7 /5', '3.1 /5', '2.9 /5', '3.3 /5', '2.8 /5',\n",
       "       '3.5 /5', '2.7 /5', '2.5 /5', '3.2 /5', '2.6 /5', '4.5 /5',\n",
       "       '4.3 /5', '4.4 /5', '4.9/5', '2.1/5', '2.0/5', '1.8/5', '4.6 /5',\n",
       "       '4.9 /5', '3.0 /5', '4.8 /5', '2.3 /5', '4.7 /5', '2.4 /5',\n",
       "       '2.1 /5', '2.2 /5', '2.0 /5', '1.8 /5'], dtype=object)"
      ]
     },
     "execution_count": 28,
     "metadata": {},
     "output_type": "execute_result"
    }
   ],
   "source": [
    "df['rate'].unique()"
   ]
  },
  {
   "cell_type": "code",
   "execution_count": 29,
   "id": "e2da0902",
   "metadata": {
    "execution": {
     "iopub.execute_input": "2024-08-20T23:24:54.142486Z",
     "iopub.status.busy": "2024-08-20T23:24:54.141964Z",
     "iopub.status.idle": "2024-08-20T23:24:54.152346Z",
     "shell.execute_reply": "2024-08-20T23:24:54.151264Z"
    },
    "papermill": {
     "duration": 0.056815,
     "end_time": "2024-08-20T23:24:54.154805",
     "exception": false,
     "start_time": "2024-08-20T23:24:54.097990",
     "status": "completed"
    },
    "tags": []
   },
   "outputs": [
    {
     "data": {
      "text/plain": [
       "0        False\n",
       "1        False\n",
       "2        False\n",
       "3        False\n",
       "4        False\n",
       "         ...  \n",
       "51712    False\n",
       "51713     True\n",
       "51714     True\n",
       "51715    False\n",
       "51716    False\n",
       "Name: rate, Length: 51659, dtype: bool"
      ]
     },
     "execution_count": 29,
     "metadata": {},
     "output_type": "execute_result"
    }
   ],
   "source": [
    "#lets start with the 'NEW'\n",
    "df['rate'].isna()"
   ]
  },
  {
   "cell_type": "code",
   "execution_count": 30,
   "id": "0e769e77",
   "metadata": {
    "execution": {
     "iopub.execute_input": "2024-08-20T23:24:54.244550Z",
     "iopub.status.busy": "2024-08-20T23:24:54.243452Z",
     "iopub.status.idle": "2024-08-20T23:24:54.254674Z",
     "shell.execute_reply": "2024-08-20T23:24:54.253689Z"
    },
    "papermill": {
     "duration": 0.058,
     "end_time": "2024-08-20T23:24:54.256750",
     "exception": false,
     "start_time": "2024-08-20T23:24:54.198750",
     "status": "completed"
    },
    "tags": []
   },
   "outputs": [
    {
     "data": {
      "text/plain": [
       "array([[   72],\n",
       "       [   75],\n",
       "       [  110],\n",
       "       ...,\n",
       "       [51545],\n",
       "       [51546],\n",
       "       [51547]])"
      ]
     },
     "execution_count": 30,
     "metadata": {},
     "output_type": "execute_result"
    }
   ],
   "source": [
    "np.argwhere(df['rate'] == 'NEW')"
   ]
  },
  {
   "cell_type": "code",
   "execution_count": 31,
   "id": "f306524b",
   "metadata": {
    "execution": {
     "iopub.execute_input": "2024-08-20T23:24:54.345035Z",
     "iopub.status.busy": "2024-08-20T23:24:54.344697Z",
     "iopub.status.idle": "2024-08-20T23:24:54.352174Z",
     "shell.execute_reply": "2024-08-20T23:24:54.351100Z"
    },
    "papermill": {
     "duration": 0.053733,
     "end_time": "2024-08-20T23:24:54.354347",
     "exception": false,
     "start_time": "2024-08-20T23:24:54.300614",
     "status": "completed"
    },
    "tags": []
   },
   "outputs": [
    {
     "data": {
      "text/plain": [
       "'NEW'"
      ]
     },
     "execution_count": 31,
     "metadata": {},
     "output_type": "execute_result"
    }
   ],
   "source": [
    "df['rate'][72]"
   ]
  },
  {
   "cell_type": "code",
   "execution_count": 32,
   "id": "dc2a6c19",
   "metadata": {
    "execution": {
     "iopub.execute_input": "2024-08-20T23:24:54.441862Z",
     "iopub.status.busy": "2024-08-20T23:24:54.441504Z",
     "iopub.status.idle": "2024-08-20T23:24:54.445784Z",
     "shell.execute_reply": "2024-08-20T23:24:54.444781Z"
    },
    "papermill": {
     "duration": 0.050726,
     "end_time": "2024-08-20T23:24:54.448180",
     "exception": false,
     "start_time": "2024-08-20T23:24:54.397454",
     "status": "completed"
    },
    "tags": []
   },
   "outputs": [],
   "source": [
    "#lets take it to numpy"
   ]
  },
  {
   "cell_type": "code",
   "execution_count": 33,
   "id": "cc52c81d",
   "metadata": {
    "execution": {
     "iopub.execute_input": "2024-08-20T23:24:54.536970Z",
     "iopub.status.busy": "2024-08-20T23:24:54.536612Z",
     "iopub.status.idle": "2024-08-20T23:24:54.541175Z",
     "shell.execute_reply": "2024-08-20T23:24:54.540239Z"
    },
    "papermill": {
     "duration": 0.050536,
     "end_time": "2024-08-20T23:24:54.543287",
     "exception": false,
     "start_time": "2024-08-20T23:24:54.492751",
     "status": "completed"
    },
    "tags": []
   },
   "outputs": [],
   "source": [
    "numpy_rate = df['rate'].to_numpy()"
   ]
  },
  {
   "cell_type": "code",
   "execution_count": 34,
   "id": "3efeb990",
   "metadata": {
    "execution": {
     "iopub.execute_input": "2024-08-20T23:24:54.630703Z",
     "iopub.status.busy": "2024-08-20T23:24:54.630351Z",
     "iopub.status.idle": "2024-08-20T23:24:54.636515Z",
     "shell.execute_reply": "2024-08-20T23:24:54.635536Z"
    },
    "papermill": {
     "duration": 0.052555,
     "end_time": "2024-08-20T23:24:54.638998",
     "exception": false,
     "start_time": "2024-08-20T23:24:54.586443",
     "status": "completed"
    },
    "tags": []
   },
   "outputs": [
    {
     "data": {
      "text/plain": [
       "array(['4.1/5', '4.1/5', '3.8/5', ..., nan, '4.3 /5', '3.4 /5'],\n",
       "      dtype=object)"
      ]
     },
     "execution_count": 34,
     "metadata": {},
     "output_type": "execute_result"
    }
   ],
   "source": [
    "numpy_rate"
   ]
  },
  {
   "cell_type": "code",
   "execution_count": 35,
   "id": "ffdc66b0",
   "metadata": {
    "execution": {
     "iopub.execute_input": "2024-08-20T23:24:54.727388Z",
     "iopub.status.busy": "2024-08-20T23:24:54.726984Z",
     "iopub.status.idle": "2024-08-20T23:24:54.733784Z",
     "shell.execute_reply": "2024-08-20T23:24:54.732809Z"
    },
    "papermill": {
     "duration": 0.053438,
     "end_time": "2024-08-20T23:24:54.735955",
     "exception": false,
     "start_time": "2024-08-20T23:24:54.682517",
     "status": "completed"
    },
    "tags": []
   },
   "outputs": [],
   "source": [
    "no_new_rate =np.where(numpy_rate == 'NEW',\n",
    "        np.nan,\n",
    "        numpy_rate)"
   ]
  },
  {
   "cell_type": "code",
   "execution_count": 36,
   "id": "844a79ad",
   "metadata": {
    "execution": {
     "iopub.execute_input": "2024-08-20T23:24:54.824463Z",
     "iopub.status.busy": "2024-08-20T23:24:54.823995Z",
     "iopub.status.idle": "2024-08-20T23:24:54.828840Z",
     "shell.execute_reply": "2024-08-20T23:24:54.827771Z"
    },
    "papermill": {
     "duration": 0.050987,
     "end_time": "2024-08-20T23:24:54.830923",
     "exception": false,
     "start_time": "2024-08-20T23:24:54.779936",
     "status": "completed"
    },
    "tags": []
   },
   "outputs": [],
   "source": [
    "numpy_rate = no_new_rate"
   ]
  },
  {
   "cell_type": "code",
   "execution_count": 37,
   "id": "1e3db47a",
   "metadata": {
    "execution": {
     "iopub.execute_input": "2024-08-20T23:24:54.922295Z",
     "iopub.status.busy": "2024-08-20T23:24:54.921847Z",
     "iopub.status.idle": "2024-08-20T23:24:54.928514Z",
     "shell.execute_reply": "2024-08-20T23:24:54.927244Z"
    },
    "papermill": {
     "duration": 0.054613,
     "end_time": "2024-08-20T23:24:54.930732",
     "exception": false,
     "start_time": "2024-08-20T23:24:54.876119",
     "status": "completed"
    },
    "tags": []
   },
   "outputs": [
    {
     "data": {
      "text/plain": [
       "nan"
      ]
     },
     "execution_count": 37,
     "metadata": {},
     "output_type": "execute_result"
    }
   ],
   "source": [
    "numpy_rate[72]"
   ]
  },
  {
   "cell_type": "code",
   "execution_count": 38,
   "id": "602fd6b6",
   "metadata": {
    "execution": {
     "iopub.execute_input": "2024-08-20T23:24:55.019904Z",
     "iopub.status.busy": "2024-08-20T23:24:55.019568Z",
     "iopub.status.idle": "2024-08-20T23:24:55.031118Z",
     "shell.execute_reply": "2024-08-20T23:24:55.030148Z"
    },
    "papermill": {
     "duration": 0.059579,
     "end_time": "2024-08-20T23:24:55.033381",
     "exception": false,
     "start_time": "2024-08-20T23:24:54.973802",
     "status": "completed"
    },
    "tags": []
   },
   "outputs": [
    {
     "data": {
      "text/plain": [
       "array([[ 3066],\n",
       "       [ 3067],\n",
       "       [ 3371],\n",
       "       [ 3376],\n",
       "       [ 3385],\n",
       "       [ 3394],\n",
       "       [ 3395],\n",
       "       [ 3396],\n",
       "       [ 3406],\n",
       "       [ 3407],\n",
       "       [ 3408],\n",
       "       [ 3428],\n",
       "       [ 3429],\n",
       "       [ 3430],\n",
       "       [ 3431],\n",
       "       [ 3432],\n",
       "       [15933],\n",
       "       [18574],\n",
       "       [18575],\n",
       "       [18577],\n",
       "       [22426],\n",
       "       [33361],\n",
       "       [33362],\n",
       "       [33363],\n",
       "       [33364],\n",
       "       [33365],\n",
       "       [33366],\n",
       "       [33367],\n",
       "       [33368],\n",
       "       [33369],\n",
       "       [33370],\n",
       "       [33371],\n",
       "       [33372],\n",
       "       [33376],\n",
       "       [33377],\n",
       "       [33378],\n",
       "       [33379],\n",
       "       [33380],\n",
       "       [33381],\n",
       "       [33382],\n",
       "       [33383],\n",
       "       [33384],\n",
       "       [33385],\n",
       "       [33386],\n",
       "       [33387],\n",
       "       [33388],\n",
       "       [33389],\n",
       "       [33390],\n",
       "       [33391],\n",
       "       [33392],\n",
       "       [33393],\n",
       "       [33394],\n",
       "       [33395],\n",
       "       [33396],\n",
       "       [33397],\n",
       "       [33398],\n",
       "       [33399],\n",
       "       [33400],\n",
       "       [33401],\n",
       "       [33402],\n",
       "       [33403],\n",
       "       [33404],\n",
       "       [33405],\n",
       "       [33406],\n",
       "       [33412],\n",
       "       [33421],\n",
       "       [45592],\n",
       "       [45593],\n",
       "       [48084]])"
      ]
     },
     "execution_count": 38,
     "metadata": {},
     "output_type": "execute_result"
    }
   ],
   "source": [
    "np.argwhere(df['rate'] == '-')"
   ]
  },
  {
   "cell_type": "code",
   "execution_count": 39,
   "id": "9c3983d1",
   "metadata": {
    "execution": {
     "iopub.execute_input": "2024-08-20T23:24:55.123739Z",
     "iopub.status.busy": "2024-08-20T23:24:55.123399Z",
     "iopub.status.idle": "2024-08-20T23:24:55.129795Z",
     "shell.execute_reply": "2024-08-20T23:24:55.128687Z"
    },
    "papermill": {
     "duration": 0.05437,
     "end_time": "2024-08-20T23:24:55.132137",
     "exception": false,
     "start_time": "2024-08-20T23:24:55.077767",
     "status": "completed"
    },
    "tags": []
   },
   "outputs": [
    {
     "data": {
      "text/plain": [
       "'-'"
      ]
     },
     "execution_count": 39,
     "metadata": {},
     "output_type": "execute_result"
    }
   ],
   "source": [
    "numpy_rate[3066]"
   ]
  },
  {
   "cell_type": "code",
   "execution_count": 40,
   "id": "f7b27454",
   "metadata": {
    "execution": {
     "iopub.execute_input": "2024-08-20T23:24:55.221853Z",
     "iopub.status.busy": "2024-08-20T23:24:55.221507Z",
     "iopub.status.idle": "2024-08-20T23:24:55.228561Z",
     "shell.execute_reply": "2024-08-20T23:24:55.227454Z"
    },
    "papermill": {
     "duration": 0.054502,
     "end_time": "2024-08-20T23:24:55.230852",
     "exception": false,
     "start_time": "2024-08-20T23:24:55.176350",
     "status": "completed"
    },
    "tags": []
   },
   "outputs": [],
   "source": [
    "#lets do for ('-')\n",
    "no_dash_rate =np.where(numpy_rate == '-',\n",
    "                        np.nan,\n",
    "                        numpy_rate)"
   ]
  },
  {
   "cell_type": "code",
   "execution_count": 41,
   "id": "72e2dc0b",
   "metadata": {
    "execution": {
     "iopub.execute_input": "2024-08-20T23:24:55.321245Z",
     "iopub.status.busy": "2024-08-20T23:24:55.320542Z",
     "iopub.status.idle": "2024-08-20T23:24:55.326900Z",
     "shell.execute_reply": "2024-08-20T23:24:55.325931Z"
    },
    "papermill": {
     "duration": 0.053875,
     "end_time": "2024-08-20T23:24:55.329249",
     "exception": false,
     "start_time": "2024-08-20T23:24:55.275374",
     "status": "completed"
    },
    "tags": []
   },
   "outputs": [
    {
     "data": {
      "text/plain": [
       "array(['4.1/5', '4.1/5', '3.8/5', ..., nan, '4.3 /5', '3.4 /5'],\n",
       "      dtype=object)"
      ]
     },
     "execution_count": 41,
     "metadata": {},
     "output_type": "execute_result"
    }
   ],
   "source": [
    "no_dash_rate"
   ]
  },
  {
   "cell_type": "code",
   "execution_count": 42,
   "id": "6b7da684",
   "metadata": {
    "execution": {
     "iopub.execute_input": "2024-08-20T23:24:55.417995Z",
     "iopub.status.busy": "2024-08-20T23:24:55.417158Z",
     "iopub.status.idle": "2024-08-20T23:24:55.421686Z",
     "shell.execute_reply": "2024-08-20T23:24:55.420746Z"
    },
    "papermill": {
     "duration": 0.051126,
     "end_time": "2024-08-20T23:24:55.423857",
     "exception": false,
     "start_time": "2024-08-20T23:24:55.372731",
     "status": "completed"
    },
    "tags": []
   },
   "outputs": [],
   "source": [
    "numpy_rate = no_dash_rate"
   ]
  },
  {
   "cell_type": "code",
   "execution_count": 43,
   "id": "a191990b",
   "metadata": {
    "execution": {
     "iopub.execute_input": "2024-08-20T23:24:55.513705Z",
     "iopub.status.busy": "2024-08-20T23:24:55.513308Z",
     "iopub.status.idle": "2024-08-20T23:24:55.521728Z",
     "shell.execute_reply": "2024-08-20T23:24:55.520660Z"
    },
    "papermill": {
     "duration": 0.056664,
     "end_time": "2024-08-20T23:24:55.523978",
     "exception": false,
     "start_time": "2024-08-20T23:24:55.467314",
     "status": "completed"
    },
    "tags": []
   },
   "outputs": [
    {
     "data": {
      "text/plain": [
       "0         4.1/5\n",
       "1         4.1/5\n",
       "2         3.8/5\n",
       "3         3.7/5\n",
       "4         3.8/5\n",
       "          ...  \n",
       "51654    3.6 /5\n",
       "51655       NaN\n",
       "51656       NaN\n",
       "51657    4.3 /5\n",
       "51658    3.4 /5\n",
       "Length: 51659, dtype: object"
      ]
     },
     "execution_count": 43,
     "metadata": {},
     "output_type": "execute_result"
    }
   ],
   "source": [
    "clean_rate = pd.Series(numpy_rate)\n",
    "clean_rate"
   ]
  },
  {
   "cell_type": "code",
   "execution_count": 44,
   "id": "f36b460f",
   "metadata": {
    "execution": {
     "iopub.execute_input": "2024-08-20T23:24:55.613725Z",
     "iopub.status.busy": "2024-08-20T23:24:55.613361Z",
     "iopub.status.idle": "2024-08-20T23:24:55.621644Z",
     "shell.execute_reply": "2024-08-20T23:24:55.620623Z"
    },
    "papermill": {
     "duration": 0.055933,
     "end_time": "2024-08-20T23:24:55.623809",
     "exception": false,
     "start_time": "2024-08-20T23:24:55.567876",
     "status": "completed"
    },
    "tags": []
   },
   "outputs": [
    {
     "data": {
      "text/plain": [
       "array(['4.1/5', '3.8/5', '3.7/5', '3.6/5', '4.6/5', '4.0/5', '4.2/5',\n",
       "       '3.9/5', '3.1/5', '3.0/5', '3.2/5', '3.3/5', '2.8/5', '4.4/5',\n",
       "       '4.3/5', nan, '2.9/5', '3.5/5', '2.6/5', '3.8 /5', '3.4/5',\n",
       "       '4.5/5', '2.5/5', '2.7/5', '4.7/5', '2.4/5', '2.2/5', '2.3/5',\n",
       "       '3.4 /5', '3.6 /5', '4.8/5', '3.9 /5', '4.2 /5', '4.0 /5',\n",
       "       '4.1 /5', '3.7 /5', '3.1 /5', '2.9 /5', '3.3 /5', '2.8 /5',\n",
       "       '3.5 /5', '2.7 /5', '2.5 /5', '3.2 /5', '2.6 /5', '4.5 /5',\n",
       "       '4.3 /5', '4.4 /5', '4.9/5', '2.1/5', '2.0/5', '1.8/5', '4.6 /5',\n",
       "       '4.9 /5', '3.0 /5', '4.8 /5', '2.3 /5', '4.7 /5', '2.4 /5',\n",
       "       '2.1 /5', '2.2 /5', '2.0 /5', '1.8 /5'], dtype=object)"
      ]
     },
     "execution_count": 44,
     "metadata": {},
     "output_type": "execute_result"
    }
   ],
   "source": [
    "clean_rate.unique()"
   ]
  },
  {
   "cell_type": "code",
   "execution_count": 45,
   "id": "c30ef59e",
   "metadata": {
    "execution": {
     "iopub.execute_input": "2024-08-20T23:24:55.712864Z",
     "iopub.status.busy": "2024-08-20T23:24:55.712032Z",
     "iopub.status.idle": "2024-08-20T23:24:55.716121Z",
     "shell.execute_reply": "2024-08-20T23:24:55.715245Z"
    },
    "papermill": {
     "duration": 0.050835,
     "end_time": "2024-08-20T23:24:55.718347",
     "exception": false,
     "start_time": "2024-08-20T23:24:55.667512",
     "status": "completed"
    },
    "tags": []
   },
   "outputs": [],
   "source": [
    "#only nan are msissing in this column\n",
    "#lets set the nan to the average"
   ]
  },
  {
   "cell_type": "code",
   "execution_count": 46,
   "id": "aa64176c",
   "metadata": {
    "execution": {
     "iopub.execute_input": "2024-08-20T23:24:55.809077Z",
     "iopub.status.busy": "2024-08-20T23:24:55.808140Z",
     "iopub.status.idle": "2024-08-20T23:24:55.830738Z",
     "shell.execute_reply": "2024-08-20T23:24:55.829786Z"
    },
    "papermill": {
     "duration": 0.070342,
     "end_time": "2024-08-20T23:24:55.832920",
     "exception": false,
     "start_time": "2024-08-20T23:24:55.762578",
     "status": "completed"
    },
    "tags": []
   },
   "outputs": [
    {
     "data": {
      "text/plain": [
       "array(['4.1/5', '4.1/5', '3.8/5', ..., 'nan', '4.3 /5', '3.4 /5'],\n",
       "      dtype='<U69')"
      ]
     },
     "execution_count": 46,
     "metadata": {},
     "output_type": "execute_result"
    }
   ],
   "source": [
    "new_numpy_rate = numpy_rate.astype(dtype='<U69')\n",
    "new_numpy_rate"
   ]
  },
  {
   "cell_type": "code",
   "execution_count": 47,
   "id": "2a32284b",
   "metadata": {
    "execution": {
     "iopub.execute_input": "2024-08-20T23:24:55.924019Z",
     "iopub.status.busy": "2024-08-20T23:24:55.923093Z",
     "iopub.status.idle": "2024-08-20T23:24:55.998710Z",
     "shell.execute_reply": "2024-08-20T23:24:55.997687Z"
    },
    "papermill": {
     "duration": 0.123835,
     "end_time": "2024-08-20T23:24:56.000758",
     "exception": false,
     "start_time": "2024-08-20T23:24:55.876923",
     "status": "completed"
    },
    "tags": []
   },
   "outputs": [
    {
     "data": {
      "text/plain": [
       "chararray(['4.1', '4.1', '3.8', ..., 'nan', '4.3', '3.4'], dtype='<U69')"
      ]
     },
     "execution_count": 47,
     "metadata": {},
     "output_type": "execute_result"
    }
   ],
   "source": [
    "np.chararray.strip(new_numpy_rate, chars=' /5')"
   ]
  },
  {
   "cell_type": "code",
   "execution_count": 48,
   "id": "a9fdb72f",
   "metadata": {
    "execution": {
     "iopub.execute_input": "2024-08-20T23:24:56.091482Z",
     "iopub.status.busy": "2024-08-20T23:24:56.091118Z",
     "iopub.status.idle": "2024-08-20T23:24:56.166155Z",
     "shell.execute_reply": "2024-08-20T23:24:56.165307Z"
    },
    "papermill": {
     "duration": 0.122695,
     "end_time": "2024-08-20T23:24:56.168625",
     "exception": false,
     "start_time": "2024-08-20T23:24:56.045930",
     "status": "completed"
    },
    "tags": []
   },
   "outputs": [],
   "source": [
    "new_numpy_rate = np.chararray.strip(new_numpy_rate, chars=' /5')"
   ]
  },
  {
   "cell_type": "code",
   "execution_count": 49,
   "id": "eacb583d",
   "metadata": {
    "execution": {
     "iopub.execute_input": "2024-08-20T23:24:56.258638Z",
     "iopub.status.busy": "2024-08-20T23:24:56.258295Z",
     "iopub.status.idle": "2024-08-20T23:24:56.264812Z",
     "shell.execute_reply": "2024-08-20T23:24:56.263853Z"
    },
    "papermill": {
     "duration": 0.054299,
     "end_time": "2024-08-20T23:24:56.266915",
     "exception": false,
     "start_time": "2024-08-20T23:24:56.212616",
     "status": "completed"
    },
    "tags": []
   },
   "outputs": [
    {
     "data": {
      "text/plain": [
       "chararray(['4.1', '4.1', '3.8', ..., 'nan', '4.3', '3.4'], dtype='<U69')"
      ]
     },
     "execution_count": 49,
     "metadata": {},
     "output_type": "execute_result"
    }
   ],
   "source": [
    "new_numpy_rate"
   ]
  },
  {
   "cell_type": "code",
   "execution_count": 50,
   "id": "f8c687bc",
   "metadata": {
    "execution": {
     "iopub.execute_input": "2024-08-20T23:24:56.356393Z",
     "iopub.status.busy": "2024-08-20T23:24:56.355970Z",
     "iopub.status.idle": "2024-08-20T23:24:56.405756Z",
     "shell.execute_reply": "2024-08-20T23:24:56.404668Z"
    },
    "papermill": {
     "duration": 0.097207,
     "end_time": "2024-08-20T23:24:56.407946",
     "exception": false,
     "start_time": "2024-08-20T23:24:56.310739",
     "status": "completed"
    },
    "tags": []
   },
   "outputs": [
    {
     "data": {
      "text/plain": [
       "chararray(['1.8', '2.', '2.0', '2.1', '2.2', '2.3', '2.4', '2.6', '2.7',\n",
       "           '2.8', '2.9', '3.', '3.0', '3.1', '3.2', '3.3', '3.4', '3.6',\n",
       "           '3.7', '3.8', '3.9', '4.', '4.0', '4.1', '4.2', '4.3', '4.4',\n",
       "           '4.6', '4.7', '4.8', '4.9', 'nan'], dtype='<U69')"
      ]
     },
     "execution_count": 50,
     "metadata": {},
     "output_type": "execute_result"
    }
   ],
   "source": [
    "np.unique(new_numpy_rate)"
   ]
  },
  {
   "cell_type": "code",
   "execution_count": 51,
   "id": "5bf2b8f4",
   "metadata": {
    "execution": {
     "iopub.execute_input": "2024-08-20T23:24:56.498805Z",
     "iopub.status.busy": "2024-08-20T23:24:56.498471Z",
     "iopub.status.idle": "2024-08-20T23:24:56.511828Z",
     "shell.execute_reply": "2024-08-20T23:24:56.510789Z"
    },
    "papermill": {
     "duration": 0.061931,
     "end_time": "2024-08-20T23:24:56.513852",
     "exception": false,
     "start_time": "2024-08-20T23:24:56.451921",
     "status": "completed"
    },
    "tags": []
   },
   "outputs": [
    {
     "data": {
      "text/plain": [
       "array(['4.1', '4.1', '3.8', ..., 'nan', '4.3', '3.4'], dtype='<U69')"
      ]
     },
     "execution_count": 51,
     "metadata": {},
     "output_type": "execute_result"
    }
   ],
   "source": [
    "new_numpy_rate = np.where(new_numpy_rate == 'nan', np.nan, new_numpy_rate)\n",
    "new_numpy_rate"
   ]
  },
  {
   "cell_type": "code",
   "execution_count": 52,
   "id": "86f71c0a",
   "metadata": {
    "execution": {
     "iopub.execute_input": "2024-08-20T23:24:56.604454Z",
     "iopub.status.busy": "2024-08-20T23:24:56.604062Z",
     "iopub.status.idle": "2024-08-20T23:24:56.638021Z",
     "shell.execute_reply": "2024-08-20T23:24:56.636988Z"
    },
    "papermill": {
     "duration": 0.082053,
     "end_time": "2024-08-20T23:24:56.640056",
     "exception": false,
     "start_time": "2024-08-20T23:24:56.558003",
     "status": "completed"
    },
    "tags": []
   },
   "outputs": [
    {
     "data": {
      "text/plain": [
       "array([4.1, 4.1, 3.8, ..., nan, 4.3, 3.4])"
      ]
     },
     "execution_count": 52,
     "metadata": {},
     "output_type": "execute_result"
    }
   ],
   "source": [
    "new_numpy_rate = new_numpy_rate.astype(dtype = 'float')\n",
    "new_numpy_rate"
   ]
  },
  {
   "cell_type": "code",
   "execution_count": 53,
   "id": "c721b56b",
   "metadata": {
    "execution": {
     "iopub.execute_input": "2024-08-20T23:24:56.730876Z",
     "iopub.status.busy": "2024-08-20T23:24:56.730500Z",
     "iopub.status.idle": "2024-08-20T23:24:56.737427Z",
     "shell.execute_reply": "2024-08-20T23:24:56.736482Z"
    },
    "papermill": {
     "duration": 0.05481,
     "end_time": "2024-08-20T23:24:56.739568",
     "exception": false,
     "start_time": "2024-08-20T23:24:56.684758",
     "status": "completed"
    },
    "tags": []
   },
   "outputs": [
    {
     "data": {
      "text/plain": [
       "3.6580076389055702"
      ]
     },
     "execution_count": 53,
     "metadata": {},
     "output_type": "execute_result"
    }
   ],
   "source": [
    "np.nanmean(new_numpy_rate)"
   ]
  },
  {
   "cell_type": "code",
   "execution_count": 54,
   "id": "0f8541d6",
   "metadata": {
    "execution": {
     "iopub.execute_input": "2024-08-20T23:24:56.831293Z",
     "iopub.status.busy": "2024-08-20T23:24:56.830573Z",
     "iopub.status.idle": "2024-08-20T23:24:56.836752Z",
     "shell.execute_reply": "2024-08-20T23:24:56.835859Z"
    },
    "papermill": {
     "duration": 0.053944,
     "end_time": "2024-08-20T23:24:56.838799",
     "exception": false,
     "start_time": "2024-08-20T23:24:56.784855",
     "status": "completed"
    },
    "tags": []
   },
   "outputs": [
    {
     "data": {
      "text/plain": [
       "array([4.1, 4.1, 3.8, ..., nan, 4.3, 3.4])"
      ]
     },
     "execution_count": 54,
     "metadata": {},
     "output_type": "execute_result"
    }
   ],
   "source": [
    "new_numpy_rate"
   ]
  },
  {
   "cell_type": "code",
   "execution_count": 55,
   "id": "57d4e922",
   "metadata": {
    "execution": {
     "iopub.execute_input": "2024-08-20T23:24:56.930009Z",
     "iopub.status.busy": "2024-08-20T23:24:56.929650Z",
     "iopub.status.idle": "2024-08-20T23:24:56.936867Z",
     "shell.execute_reply": "2024-08-20T23:24:56.935599Z"
    },
    "papermill": {
     "duration": 0.055547,
     "end_time": "2024-08-20T23:24:56.939299",
     "exception": false,
     "start_time": "2024-08-20T23:24:56.883752",
     "status": "completed"
    },
    "tags": []
   },
   "outputs": [
    {
     "data": {
      "text/plain": [
       "array([4.1, 4.1, 3.8, ..., nan, 4.3, 3.4])"
      ]
     },
     "execution_count": 55,
     "metadata": {},
     "output_type": "execute_result"
    }
   ],
   "source": [
    "new_numpy_rate"
   ]
  },
  {
   "cell_type": "code",
   "execution_count": 56,
   "id": "4d58854e",
   "metadata": {
    "execution": {
     "iopub.execute_input": "2024-08-20T23:24:57.030696Z",
     "iopub.status.busy": "2024-08-20T23:24:57.030335Z",
     "iopub.status.idle": "2024-08-20T23:24:57.039973Z",
     "shell.execute_reply": "2024-08-20T23:24:57.038960Z"
    },
    "papermill": {
     "duration": 0.057834,
     "end_time": "2024-08-20T23:24:57.042266",
     "exception": false,
     "start_time": "2024-08-20T23:24:56.984432",
     "status": "completed"
    },
    "tags": []
   },
   "outputs": [
    {
     "data": {
      "text/plain": [
       "0        4.1\n",
       "1        4.1\n",
       "2        3.8\n",
       "3        3.7\n",
       "4        3.8\n",
       "        ... \n",
       "51654    3.6\n",
       "51655    NaN\n",
       "51656    NaN\n",
       "51657    4.3\n",
       "51658    3.4\n",
       "Length: 51659, dtype: float64"
      ]
     },
     "execution_count": 56,
     "metadata": {},
     "output_type": "execute_result"
    }
   ],
   "source": [
    "clean_rate = pd.Series(new_numpy_rate)\n",
    "clean_rate"
   ]
  },
  {
   "cell_type": "code",
   "execution_count": 57,
   "id": "5b036278",
   "metadata": {
    "execution": {
     "iopub.execute_input": "2024-08-20T23:24:57.190279Z",
     "iopub.status.busy": "2024-08-20T23:24:57.189617Z",
     "iopub.status.idle": "2024-08-20T23:24:57.196583Z",
     "shell.execute_reply": "2024-08-20T23:24:57.195551Z"
    },
    "papermill": {
     "duration": 0.054787,
     "end_time": "2024-08-20T23:24:57.198714",
     "exception": false,
     "start_time": "2024-08-20T23:24:57.143927",
     "status": "completed"
    },
    "tags": []
   },
   "outputs": [
    {
     "data": {
      "text/plain": [
       "3.6580076389055702"
      ]
     },
     "execution_count": 57,
     "metadata": {},
     "output_type": "execute_result"
    }
   ],
   "source": [
    "clean_rate.mean()"
   ]
  },
  {
   "cell_type": "code",
   "execution_count": 58,
   "id": "f0d3459b",
   "metadata": {
    "execution": {
     "iopub.execute_input": "2024-08-20T23:24:57.289631Z",
     "iopub.status.busy": "2024-08-20T23:24:57.288973Z",
     "iopub.status.idle": "2024-08-20T23:24:57.294678Z",
     "shell.execute_reply": "2024-08-20T23:24:57.293769Z"
    },
    "papermill": {
     "duration": 0.053667,
     "end_time": "2024-08-20T23:24:57.297164",
     "exception": false,
     "start_time": "2024-08-20T23:24:57.243497",
     "status": "completed"
    },
    "tags": []
   },
   "outputs": [],
   "source": [
    "clean_rate.fillna(clean_rate.mean(), inplace=True)"
   ]
  },
  {
   "cell_type": "code",
   "execution_count": 59,
   "id": "8c9f03ad",
   "metadata": {
    "execution": {
     "iopub.execute_input": "2024-08-20T23:24:57.389263Z",
     "iopub.status.busy": "2024-08-20T23:24:57.388847Z",
     "iopub.status.idle": "2024-08-20T23:24:57.393320Z",
     "shell.execute_reply": "2024-08-20T23:24:57.392270Z"
    },
    "papermill": {
     "duration": 0.052901,
     "end_time": "2024-08-20T23:24:57.395337",
     "exception": false,
     "start_time": "2024-08-20T23:24:57.342436",
     "status": "completed"
    },
    "tags": []
   },
   "outputs": [],
   "source": [
    "#lets replace it with our rate column in df"
   ]
  },
  {
   "cell_type": "code",
   "execution_count": 60,
   "id": "51ff205f",
   "metadata": {
    "execution": {
     "iopub.execute_input": "2024-08-20T23:24:57.488422Z",
     "iopub.status.busy": "2024-08-20T23:24:57.488048Z",
     "iopub.status.idle": "2024-08-20T23:24:57.495686Z",
     "shell.execute_reply": "2024-08-20T23:24:57.494762Z"
    },
    "papermill": {
     "duration": 0.057258,
     "end_time": "2024-08-20T23:24:57.497768",
     "exception": false,
     "start_time": "2024-08-20T23:24:57.440510",
     "status": "completed"
    },
    "tags": []
   },
   "outputs": [
    {
     "data": {
      "text/plain": [
       "0        4.100000\n",
       "1        4.100000\n",
       "2        3.800000\n",
       "3        3.700000\n",
       "4        3.800000\n",
       "           ...   \n",
       "51654    3.600000\n",
       "51655    3.658008\n",
       "51656    3.658008\n",
       "51657    4.300000\n",
       "51658    3.400000\n",
       "Length: 51659, dtype: float64"
      ]
     },
     "execution_count": 60,
     "metadata": {},
     "output_type": "execute_result"
    }
   ],
   "source": [
    "clean_rate"
   ]
  },
  {
   "cell_type": "code",
   "execution_count": 61,
   "id": "518866fc",
   "metadata": {
    "execution": {
     "iopub.execute_input": "2024-08-20T23:24:57.589452Z",
     "iopub.status.busy": "2024-08-20T23:24:57.588960Z",
     "iopub.status.idle": "2024-08-20T23:24:57.597621Z",
     "shell.execute_reply": "2024-08-20T23:24:57.596637Z"
    },
    "papermill": {
     "duration": 0.057137,
     "end_time": "2024-08-20T23:24:57.599771",
     "exception": false,
     "start_time": "2024-08-20T23:24:57.542634",
     "status": "completed"
    },
    "tags": []
   },
   "outputs": [
    {
     "data": {
      "text/plain": [
       "0        4.1\n",
       "1        4.1\n",
       "2        3.8\n",
       "3        3.7\n",
       "4        3.8\n",
       "        ... \n",
       "51654    3.6\n",
       "51655    3.7\n",
       "51656    3.7\n",
       "51657    4.3\n",
       "51658    3.4\n",
       "Length: 51659, dtype: float64"
      ]
     },
     "execution_count": 61,
     "metadata": {},
     "output_type": "execute_result"
    }
   ],
   "source": [
    "#lets round to 1 decimal place\n",
    "clean_rate.round(1)"
   ]
  },
  {
   "cell_type": "code",
   "execution_count": 62,
   "id": "5c583028",
   "metadata": {
    "execution": {
     "iopub.execute_input": "2024-08-20T23:24:57.691419Z",
     "iopub.status.busy": "2024-08-20T23:24:57.690445Z",
     "iopub.status.idle": "2024-08-20T23:24:57.695539Z",
     "shell.execute_reply": "2024-08-20T23:24:57.694607Z"
    },
    "papermill": {
     "duration": 0.053057,
     "end_time": "2024-08-20T23:24:57.697492",
     "exception": false,
     "start_time": "2024-08-20T23:24:57.644435",
     "status": "completed"
    },
    "tags": []
   },
   "outputs": [],
   "source": [
    "clean_rate = clean_rate.round(1)"
   ]
  },
  {
   "cell_type": "code",
   "execution_count": 63,
   "id": "6b07e741",
   "metadata": {
    "execution": {
     "iopub.execute_input": "2024-08-20T23:24:57.788914Z",
     "iopub.status.busy": "2024-08-20T23:24:57.788558Z",
     "iopub.status.idle": "2024-08-20T23:24:57.797851Z",
     "shell.execute_reply": "2024-08-20T23:24:57.796858Z"
    },
    "papermill": {
     "duration": 0.057982,
     "end_time": "2024-08-20T23:24:57.800062",
     "exception": false,
     "start_time": "2024-08-20T23:24:57.742080",
     "status": "completed"
    },
    "tags": []
   },
   "outputs": [
    {
     "data": {
      "text/plain": [
       "array([4.1, 3.8, 3.7, 3.6, 4.6, 4. , 4.2, 3.9, 3.1, 3. , 3.2, 3.3, 2.8,\n",
       "       4.4, 4.3, 2.9, 2.6, 3.4, 2. , 2.7, 4.7, 2.4, 2.2, 2.3, 4.8, 4.9,\n",
       "       2.1, 1.8])"
      ]
     },
     "execution_count": 63,
     "metadata": {},
     "output_type": "execute_result"
    }
   ],
   "source": [
    "clean_rate.unique()"
   ]
  },
  {
   "cell_type": "code",
   "execution_count": 64,
   "id": "af76ef9f",
   "metadata": {
    "execution": {
     "iopub.execute_input": "2024-08-20T23:24:57.892102Z",
     "iopub.status.busy": "2024-08-20T23:24:57.891720Z",
     "iopub.status.idle": "2024-08-20T23:24:57.895993Z",
     "shell.execute_reply": "2024-08-20T23:24:57.895023Z"
    },
    "papermill": {
     "duration": 0.052954,
     "end_time": "2024-08-20T23:24:57.898214",
     "exception": false,
     "start_time": "2024-08-20T23:24:57.845260",
     "status": "completed"
    },
    "tags": []
   },
   "outputs": [],
   "source": [
    "#lets take the whole dataset to numpy and convert it back to pandas"
   ]
  },
  {
   "cell_type": "code",
   "execution_count": 65,
   "id": "84bcc63c",
   "metadata": {
    "execution": {
     "iopub.execute_input": "2024-08-20T23:24:57.991323Z",
     "iopub.status.busy": "2024-08-20T23:24:57.990932Z",
     "iopub.status.idle": "2024-08-20T23:24:58.016303Z",
     "shell.execute_reply": "2024-08-20T23:24:58.015017Z"
    },
    "papermill": {
     "duration": 0.074478,
     "end_time": "2024-08-20T23:24:58.018555",
     "exception": false,
     "start_time": "2024-08-20T23:24:57.944077",
     "status": "completed"
    },
    "tags": []
   },
   "outputs": [
    {
     "data": {
      "text/plain": [
       "array([['Jalsa', 'Yes', 'Yes', ..., '[]', 'Buffet', 'Banashankari'],\n",
       "       ['Spice Elephant', 'Yes', 'No', ..., '[]', 'Buffet',\n",
       "        'Banashankari'],\n",
       "       ['San Churro Cafe', 'Yes', 'No', ..., '[]', 'Buffet',\n",
       "        'Banashankari'],\n",
       "       ...,\n",
       "       ['Plunge - Sheraton Grand Bengaluru Whitefield Hotel &...', 'No',\n",
       "        'No', ..., '[]', 'Pubs and bars', 'Whitefield'],\n",
       "       ['Chime - Sheraton Grand Bengaluru Whitefield Hotel &...', 'No',\n",
       "        'Yes', ..., '[]', 'Pubs and bars', 'Whitefield'],\n",
       "       ['The Nest - The Den Bengaluru', 'No', 'No', ..., '[]',\n",
       "        'Pubs and bars', 'Whitefield']], dtype=object)"
      ]
     },
     "execution_count": 65,
     "metadata": {},
     "output_type": "execute_result"
    }
   ],
   "source": [
    "df_numpy = df.to_numpy()\n",
    "df_numpy"
   ]
  },
  {
   "cell_type": "code",
   "execution_count": 66,
   "id": "b5476aa3",
   "metadata": {
    "execution": {
     "iopub.execute_input": "2024-08-20T23:24:58.113652Z",
     "iopub.status.busy": "2024-08-20T23:24:58.112908Z",
     "iopub.status.idle": "2024-08-20T23:24:58.120246Z",
     "shell.execute_reply": "2024-08-20T23:24:58.119266Z"
    },
    "papermill": {
     "duration": 0.057694,
     "end_time": "2024-08-20T23:24:58.122361",
     "exception": false,
     "start_time": "2024-08-20T23:24:58.064667",
     "status": "completed"
    },
    "tags": []
   },
   "outputs": [
    {
     "data": {
      "text/plain": [
       "array([4.1, 4.1, 3.8, ..., 3.7, 4.3, 3.4])"
      ]
     },
     "execution_count": 66,
     "metadata": {},
     "output_type": "execute_result"
    }
   ],
   "source": [
    "clean_rate_numpy = clean_rate.to_numpy()\n",
    "clean_rate_numpy"
   ]
  },
  {
   "cell_type": "code",
   "execution_count": 67,
   "id": "f83cc48c",
   "metadata": {
    "execution": {
     "iopub.execute_input": "2024-08-20T23:24:58.216104Z",
     "iopub.status.busy": "2024-08-20T23:24:58.215107Z",
     "iopub.status.idle": "2024-08-20T23:24:58.221881Z",
     "shell.execute_reply": "2024-08-20T23:24:58.220953Z"
    },
    "papermill": {
     "duration": 0.055836,
     "end_time": "2024-08-20T23:24:58.224000",
     "exception": false,
     "start_time": "2024-08-20T23:24:58.168164",
     "status": "completed"
    },
    "tags": []
   },
   "outputs": [
    {
     "data": {
      "text/plain": [
       "array(['4.1/5', '4.1/5', '3.8/5', ..., nan, '4.3 /5', '3.4 /5'],\n",
       "      dtype=object)"
      ]
     },
     "execution_count": 67,
     "metadata": {},
     "output_type": "execute_result"
    }
   ],
   "source": [
    "df_numpy[:,3]"
   ]
  },
  {
   "cell_type": "code",
   "execution_count": 68,
   "id": "c22e3755",
   "metadata": {
    "execution": {
     "iopub.execute_input": "2024-08-20T23:24:58.316417Z",
     "iopub.status.busy": "2024-08-20T23:24:58.316006Z",
     "iopub.status.idle": "2024-08-20T23:24:58.322187Z",
     "shell.execute_reply": "2024-08-20T23:24:58.321266Z"
    },
    "papermill": {
     "duration": 0.055069,
     "end_time": "2024-08-20T23:24:58.324491",
     "exception": false,
     "start_time": "2024-08-20T23:24:58.269422",
     "status": "completed"
    },
    "tags": []
   },
   "outputs": [
    {
     "data": {
      "text/plain": [
       "51659"
      ]
     },
     "execution_count": 68,
     "metadata": {},
     "output_type": "execute_result"
    }
   ],
   "source": [
    "len(df_numpy[:,3])"
   ]
  },
  {
   "cell_type": "code",
   "execution_count": 69,
   "id": "fe379be5",
   "metadata": {
    "execution": {
     "iopub.execute_input": "2024-08-20T23:24:58.418901Z",
     "iopub.status.busy": "2024-08-20T23:24:58.418126Z",
     "iopub.status.idle": "2024-08-20T23:24:58.424270Z",
     "shell.execute_reply": "2024-08-20T23:24:58.423298Z"
    },
    "papermill": {
     "duration": 0.055523,
     "end_time": "2024-08-20T23:24:58.426323",
     "exception": false,
     "start_time": "2024-08-20T23:24:58.370800",
     "status": "completed"
    },
    "tags": []
   },
   "outputs": [
    {
     "data": {
      "text/plain": [
       "51659"
      ]
     },
     "execution_count": 69,
     "metadata": {},
     "output_type": "execute_result"
    }
   ],
   "source": [
    "len(clean_rate_numpy)"
   ]
  },
  {
   "cell_type": "code",
   "execution_count": 70,
   "id": "2b5a8ae2",
   "metadata": {
    "execution": {
     "iopub.execute_input": "2024-08-20T23:24:58.521379Z",
     "iopub.status.busy": "2024-08-20T23:24:58.520463Z",
     "iopub.status.idle": "2024-08-20T23:24:58.528223Z",
     "shell.execute_reply": "2024-08-20T23:24:58.527220Z"
    },
    "papermill": {
     "duration": 0.057934,
     "end_time": "2024-08-20T23:24:58.530402",
     "exception": false,
     "start_time": "2024-08-20T23:24:58.472468",
     "status": "completed"
    },
    "tags": []
   },
   "outputs": [],
   "source": [
    "df_numpy[:,3] = clean_rate_numpy"
   ]
  },
  {
   "cell_type": "code",
   "execution_count": 71,
   "id": "9b051dea",
   "metadata": {
    "execution": {
     "iopub.execute_input": "2024-08-20T23:24:58.624182Z",
     "iopub.status.busy": "2024-08-20T23:24:58.623340Z",
     "iopub.status.idle": "2024-08-20T23:24:58.629482Z",
     "shell.execute_reply": "2024-08-20T23:24:58.628551Z"
    },
    "papermill": {
     "duration": 0.055164,
     "end_time": "2024-08-20T23:24:58.631626",
     "exception": false,
     "start_time": "2024-08-20T23:24:58.576462",
     "status": "completed"
    },
    "tags": []
   },
   "outputs": [
    {
     "data": {
      "text/plain": [
       "array([4.1, 4.1, 3.8, ..., 3.7, 4.3, 3.4], dtype=object)"
      ]
     },
     "execution_count": 71,
     "metadata": {},
     "output_type": "execute_result"
    }
   ],
   "source": [
    "df_numpy[:,3]"
   ]
  },
  {
   "cell_type": "code",
   "execution_count": 72,
   "id": "80c0f569",
   "metadata": {
    "execution": {
     "iopub.execute_input": "2024-08-20T23:24:58.725303Z",
     "iopub.status.busy": "2024-08-20T23:24:58.724590Z",
     "iopub.status.idle": "2024-08-20T23:24:58.731154Z",
     "shell.execute_reply": "2024-08-20T23:24:58.730170Z"
    },
    "papermill": {
     "duration": 0.0559,
     "end_time": "2024-08-20T23:24:58.733386",
     "exception": false,
     "start_time": "2024-08-20T23:24:58.677486",
     "status": "completed"
    },
    "tags": []
   },
   "outputs": [
    {
     "data": {
      "text/plain": [
       "array([['Jalsa', 'Yes', 'Yes', ..., '[]', 'Buffet', 'Banashankari'],\n",
       "       ['Spice Elephant', 'Yes', 'No', ..., '[]', 'Buffet',\n",
       "        'Banashankari'],\n",
       "       ['San Churro Cafe', 'Yes', 'No', ..., '[]', 'Buffet',\n",
       "        'Banashankari'],\n",
       "       ...,\n",
       "       ['Plunge - Sheraton Grand Bengaluru Whitefield Hotel &...', 'No',\n",
       "        'No', ..., '[]', 'Pubs and bars', 'Whitefield'],\n",
       "       ['Chime - Sheraton Grand Bengaluru Whitefield Hotel &...', 'No',\n",
       "        'Yes', ..., '[]', 'Pubs and bars', 'Whitefield'],\n",
       "       ['The Nest - The Den Bengaluru', 'No', 'No', ..., '[]',\n",
       "        'Pubs and bars', 'Whitefield']], dtype=object)"
      ]
     },
     "execution_count": 72,
     "metadata": {},
     "output_type": "execute_result"
    }
   ],
   "source": [
    "df_numpy"
   ]
  },
  {
   "cell_type": "code",
   "execution_count": 73,
   "id": "4c49e38b",
   "metadata": {
    "execution": {
     "iopub.execute_input": "2024-08-20T23:24:58.827700Z",
     "iopub.status.busy": "2024-08-20T23:24:58.827333Z",
     "iopub.status.idle": "2024-08-20T23:24:58.847154Z",
     "shell.execute_reply": "2024-08-20T23:24:58.846256Z"
    },
    "papermill": {
     "duration": 0.069818,
     "end_time": "2024-08-20T23:24:58.849401",
     "exception": false,
     "start_time": "2024-08-20T23:24:58.779583",
     "status": "completed"
    },
    "tags": []
   },
   "outputs": [
    {
     "data": {
      "text/html": [
       "<div>\n",
       "<style scoped>\n",
       "    .dataframe tbody tr th:only-of-type {\n",
       "        vertical-align: middle;\n",
       "    }\n",
       "\n",
       "    .dataframe tbody tr th {\n",
       "        vertical-align: top;\n",
       "    }\n",
       "\n",
       "    .dataframe thead th {\n",
       "        text-align: right;\n",
       "    }\n",
       "</style>\n",
       "<table border=\"1\" class=\"dataframe\">\n",
       "  <thead>\n",
       "    <tr style=\"text-align: right;\">\n",
       "      <th></th>\n",
       "      <th>0</th>\n",
       "      <th>1</th>\n",
       "      <th>2</th>\n",
       "      <th>3</th>\n",
       "      <th>4</th>\n",
       "      <th>5</th>\n",
       "      <th>6</th>\n",
       "      <th>7</th>\n",
       "      <th>8</th>\n",
       "      <th>9</th>\n",
       "      <th>10</th>\n",
       "      <th>11</th>\n",
       "      <th>12</th>\n",
       "      <th>13</th>\n",
       "      <th>14</th>\n",
       "    </tr>\n",
       "  </thead>\n",
       "  <tbody>\n",
       "    <tr>\n",
       "      <th>0</th>\n",
       "      <td>Jalsa</td>\n",
       "      <td>Yes</td>\n",
       "      <td>Yes</td>\n",
       "      <td>4.1</td>\n",
       "      <td>775</td>\n",
       "      <td>080 42297555\\r\\n+91 9743772233</td>\n",
       "      <td>Banashankari</td>\n",
       "      <td>Casual Dining</td>\n",
       "      <td>Pasta, Lunch Buffet, Masala Papad, Paneer Laja...</td>\n",
       "      <td>North Indian, Mughlai, Chinese</td>\n",
       "      <td>800</td>\n",
       "      <td>[('Rated 4.0', 'RATED\\n  A beautiful place to ...</td>\n",
       "      <td>[]</td>\n",
       "      <td>Buffet</td>\n",
       "      <td>Banashankari</td>\n",
       "    </tr>\n",
       "    <tr>\n",
       "      <th>1</th>\n",
       "      <td>Spice Elephant</td>\n",
       "      <td>Yes</td>\n",
       "      <td>No</td>\n",
       "      <td>4.1</td>\n",
       "      <td>787</td>\n",
       "      <td>080 41714161</td>\n",
       "      <td>Banashankari</td>\n",
       "      <td>Casual Dining</td>\n",
       "      <td>Momos, Lunch Buffet, Chocolate Nirvana, Thai G...</td>\n",
       "      <td>Chinese, North Indian, Thai</td>\n",
       "      <td>800</td>\n",
       "      <td>[('Rated 4.0', 'RATED\\n  Had been here for din...</td>\n",
       "      <td>[]</td>\n",
       "      <td>Buffet</td>\n",
       "      <td>Banashankari</td>\n",
       "    </tr>\n",
       "    <tr>\n",
       "      <th>2</th>\n",
       "      <td>San Churro Cafe</td>\n",
       "      <td>Yes</td>\n",
       "      <td>No</td>\n",
       "      <td>3.8</td>\n",
       "      <td>918</td>\n",
       "      <td>+91 9663487993</td>\n",
       "      <td>Banashankari</td>\n",
       "      <td>Cafe, Casual Dining</td>\n",
       "      <td>Churros, Cannelloni, Minestrone Soup, Hot Choc...</td>\n",
       "      <td>Cafe, Mexican, Italian</td>\n",
       "      <td>800</td>\n",
       "      <td>[('Rated 3.0', \"RATED\\n  Ambience is not that ...</td>\n",
       "      <td>[]</td>\n",
       "      <td>Buffet</td>\n",
       "      <td>Banashankari</td>\n",
       "    </tr>\n",
       "    <tr>\n",
       "      <th>3</th>\n",
       "      <td>Addhuri Udupi Bhojana</td>\n",
       "      <td>No</td>\n",
       "      <td>No</td>\n",
       "      <td>3.7</td>\n",
       "      <td>88</td>\n",
       "      <td>+91 9620009302</td>\n",
       "      <td>Banashankari</td>\n",
       "      <td>Quick Bites</td>\n",
       "      <td>Masala Dosa</td>\n",
       "      <td>South Indian, North Indian</td>\n",
       "      <td>300</td>\n",
       "      <td>[('Rated 4.0', \"RATED\\n  Great food and proper...</td>\n",
       "      <td>[]</td>\n",
       "      <td>Buffet</td>\n",
       "      <td>Banashankari</td>\n",
       "    </tr>\n",
       "    <tr>\n",
       "      <th>4</th>\n",
       "      <td>Grand Village</td>\n",
       "      <td>No</td>\n",
       "      <td>No</td>\n",
       "      <td>3.8</td>\n",
       "      <td>166</td>\n",
       "      <td>+91 8026612447\\r\\n+91 9901210005</td>\n",
       "      <td>Basavanagudi</td>\n",
       "      <td>Casual Dining</td>\n",
       "      <td>Panipuri, Gol Gappe</td>\n",
       "      <td>North Indian, Rajasthani</td>\n",
       "      <td>600</td>\n",
       "      <td>[('Rated 4.0', 'RATED\\n  Very good restaurant ...</td>\n",
       "      <td>[]</td>\n",
       "      <td>Buffet</td>\n",
       "      <td>Banashankari</td>\n",
       "    </tr>\n",
       "    <tr>\n",
       "      <th>...</th>\n",
       "      <td>...</td>\n",
       "      <td>...</td>\n",
       "      <td>...</td>\n",
       "      <td>...</td>\n",
       "      <td>...</td>\n",
       "      <td>...</td>\n",
       "      <td>...</td>\n",
       "      <td>...</td>\n",
       "      <td>...</td>\n",
       "      <td>...</td>\n",
       "      <td>...</td>\n",
       "      <td>...</td>\n",
       "      <td>...</td>\n",
       "      <td>...</td>\n",
       "      <td>...</td>\n",
       "    </tr>\n",
       "    <tr>\n",
       "      <th>51654</th>\n",
       "      <td>Best Brews - Four Points by Sheraton Bengaluru...</td>\n",
       "      <td>No</td>\n",
       "      <td>No</td>\n",
       "      <td>3.6</td>\n",
       "      <td>27</td>\n",
       "      <td>080 40301477</td>\n",
       "      <td>Whitefield</td>\n",
       "      <td>Bar</td>\n",
       "      <td>NaN</td>\n",
       "      <td>Continental</td>\n",
       "      <td>1,500</td>\n",
       "      <td>[('Rated 5.0', \"RATED\\n  Food and service are ...</td>\n",
       "      <td>[]</td>\n",
       "      <td>Pubs and bars</td>\n",
       "      <td>Whitefield</td>\n",
       "    </tr>\n",
       "    <tr>\n",
       "      <th>51655</th>\n",
       "      <td>Vinod Bar And Restaurant</td>\n",
       "      <td>No</td>\n",
       "      <td>No</td>\n",
       "      <td>3.7</td>\n",
       "      <td>0</td>\n",
       "      <td>+91 8197675843</td>\n",
       "      <td>Whitefield</td>\n",
       "      <td>Bar</td>\n",
       "      <td>NaN</td>\n",
       "      <td>Finger Food</td>\n",
       "      <td>600</td>\n",
       "      <td>[]</td>\n",
       "      <td>[]</td>\n",
       "      <td>Pubs and bars</td>\n",
       "      <td>Whitefield</td>\n",
       "    </tr>\n",
       "    <tr>\n",
       "      <th>51656</th>\n",
       "      <td>Plunge - Sheraton Grand Bengaluru Whitefield H...</td>\n",
       "      <td>No</td>\n",
       "      <td>No</td>\n",
       "      <td>3.7</td>\n",
       "      <td>0</td>\n",
       "      <td>NaN</td>\n",
       "      <td>Whitefield</td>\n",
       "      <td>Bar</td>\n",
       "      <td>NaN</td>\n",
       "      <td>Finger Food</td>\n",
       "      <td>2,000</td>\n",
       "      <td>[]</td>\n",
       "      <td>[]</td>\n",
       "      <td>Pubs and bars</td>\n",
       "      <td>Whitefield</td>\n",
       "    </tr>\n",
       "    <tr>\n",
       "      <th>51657</th>\n",
       "      <td>Chime - Sheraton Grand Bengaluru Whitefield Ho...</td>\n",
       "      <td>No</td>\n",
       "      <td>Yes</td>\n",
       "      <td>4.3</td>\n",
       "      <td>236</td>\n",
       "      <td>080 49652769</td>\n",
       "      <td>ITPL Main Road, Whitefield</td>\n",
       "      <td>Bar</td>\n",
       "      <td>Cocktails, Pizza, Buttermilk</td>\n",
       "      <td>Finger Food</td>\n",
       "      <td>2,500</td>\n",
       "      <td>[('Rated 4.0', 'RATED\\n  Nice and friendly pla...</td>\n",
       "      <td>[]</td>\n",
       "      <td>Pubs and bars</td>\n",
       "      <td>Whitefield</td>\n",
       "    </tr>\n",
       "    <tr>\n",
       "      <th>51658</th>\n",
       "      <td>The Nest - The Den Bengaluru</td>\n",
       "      <td>No</td>\n",
       "      <td>No</td>\n",
       "      <td>3.4</td>\n",
       "      <td>13</td>\n",
       "      <td>+91 8071117272</td>\n",
       "      <td>ITPL Main Road, Whitefield</td>\n",
       "      <td>Bar, Casual Dining</td>\n",
       "      <td>NaN</td>\n",
       "      <td>Finger Food, North Indian, Continental</td>\n",
       "      <td>1,500</td>\n",
       "      <td>[('Rated 5.0', 'RATED\\n  Great ambience , look...</td>\n",
       "      <td>[]</td>\n",
       "      <td>Pubs and bars</td>\n",
       "      <td>Whitefield</td>\n",
       "    </tr>\n",
       "  </tbody>\n",
       "</table>\n",
       "<p>51659 rows × 15 columns</p>\n",
       "</div>"
      ],
      "text/plain": [
       "                                                      0    1    2    3    4   \\\n",
       "0                                                  Jalsa  Yes  Yes  4.1  775   \n",
       "1                                         Spice Elephant  Yes   No  4.1  787   \n",
       "2                                        San Churro Cafe  Yes   No  3.8  918   \n",
       "3                                  Addhuri Udupi Bhojana   No   No  3.7   88   \n",
       "4                                          Grand Village   No   No  3.8  166   \n",
       "...                                                  ...  ...  ...  ...  ...   \n",
       "51654  Best Brews - Four Points by Sheraton Bengaluru...   No   No  3.6   27   \n",
       "51655                           Vinod Bar And Restaurant   No   No  3.7    0   \n",
       "51656  Plunge - Sheraton Grand Bengaluru Whitefield H...   No   No  3.7    0   \n",
       "51657  Chime - Sheraton Grand Bengaluru Whitefield Ho...   No  Yes  4.3  236   \n",
       "51658                       The Nest - The Den Bengaluru   No   No  3.4   13   \n",
       "\n",
       "                                     5                           6   \\\n",
       "0        080 42297555\\r\\n+91 9743772233                Banashankari   \n",
       "1                          080 41714161                Banashankari   \n",
       "2                        +91 9663487993                Banashankari   \n",
       "3                        +91 9620009302                Banashankari   \n",
       "4      +91 8026612447\\r\\n+91 9901210005                Basavanagudi   \n",
       "...                                 ...                         ...   \n",
       "51654                      080 40301477                  Whitefield   \n",
       "51655                    +91 8197675843                  Whitefield   \n",
       "51656                               NaN                  Whitefield   \n",
       "51657                      080 49652769  ITPL Main Road, Whitefield   \n",
       "51658                    +91 8071117272  ITPL Main Road, Whitefield   \n",
       "\n",
       "                        7                                                  8   \\\n",
       "0            Casual Dining  Pasta, Lunch Buffet, Masala Papad, Paneer Laja...   \n",
       "1            Casual Dining  Momos, Lunch Buffet, Chocolate Nirvana, Thai G...   \n",
       "2      Cafe, Casual Dining  Churros, Cannelloni, Minestrone Soup, Hot Choc...   \n",
       "3              Quick Bites                                        Masala Dosa   \n",
       "4            Casual Dining                                Panipuri, Gol Gappe   \n",
       "...                    ...                                                ...   \n",
       "51654                  Bar                                                NaN   \n",
       "51655                  Bar                                                NaN   \n",
       "51656                  Bar                                                NaN   \n",
       "51657                  Bar                       Cocktails, Pizza, Buttermilk   \n",
       "51658   Bar, Casual Dining                                                NaN   \n",
       "\n",
       "                                           9      10  \\\n",
       "0              North Indian, Mughlai, Chinese    800   \n",
       "1                 Chinese, North Indian, Thai    800   \n",
       "2                      Cafe, Mexican, Italian    800   \n",
       "3                  South Indian, North Indian    300   \n",
       "4                    North Indian, Rajasthani    600   \n",
       "...                                       ...    ...   \n",
       "51654                             Continental  1,500   \n",
       "51655                             Finger Food    600   \n",
       "51656                             Finger Food  2,000   \n",
       "51657                             Finger Food  2,500   \n",
       "51658  Finger Food, North Indian, Continental  1,500   \n",
       "\n",
       "                                                      11  12             13  \\\n",
       "0      [('Rated 4.0', 'RATED\\n  A beautiful place to ...  []         Buffet   \n",
       "1      [('Rated 4.0', 'RATED\\n  Had been here for din...  []         Buffet   \n",
       "2      [('Rated 3.0', \"RATED\\n  Ambience is not that ...  []         Buffet   \n",
       "3      [('Rated 4.0', \"RATED\\n  Great food and proper...  []         Buffet   \n",
       "4      [('Rated 4.0', 'RATED\\n  Very good restaurant ...  []         Buffet   \n",
       "...                                                  ...  ..            ...   \n",
       "51654  [('Rated 5.0', \"RATED\\n  Food and service are ...  []  Pubs and bars   \n",
       "51655                                                 []  []  Pubs and bars   \n",
       "51656                                                 []  []  Pubs and bars   \n",
       "51657  [('Rated 4.0', 'RATED\\n  Nice and friendly pla...  []  Pubs and bars   \n",
       "51658  [('Rated 5.0', 'RATED\\n  Great ambience , look...  []  Pubs and bars   \n",
       "\n",
       "                 14  \n",
       "0      Banashankari  \n",
       "1      Banashankari  \n",
       "2      Banashankari  \n",
       "3      Banashankari  \n",
       "4      Banashankari  \n",
       "...             ...  \n",
       "51654    Whitefield  \n",
       "51655    Whitefield  \n",
       "51656    Whitefield  \n",
       "51657    Whitefield  \n",
       "51658    Whitefield  \n",
       "\n",
       "[51659 rows x 15 columns]"
      ]
     },
     "execution_count": 73,
     "metadata": {},
     "output_type": "execute_result"
    }
   ],
   "source": [
    "#lets convert it back to pandas\n",
    "df1 =pd.DataFrame(df_numpy)\n",
    "df1"
   ]
  },
  {
   "cell_type": "code",
   "execution_count": 74,
   "id": "8c82792d",
   "metadata": {
    "execution": {
     "iopub.execute_input": "2024-08-20T23:24:58.944769Z",
     "iopub.status.busy": "2024-08-20T23:24:58.943866Z",
     "iopub.status.idle": "2024-08-20T23:24:58.948701Z",
     "shell.execute_reply": "2024-08-20T23:24:58.947649Z"
    },
    "papermill": {
     "duration": 0.054662,
     "end_time": "2024-08-20T23:24:58.951004",
     "exception": false,
     "start_time": "2024-08-20T23:24:58.896342",
     "status": "completed"
    },
    "tags": []
   },
   "outputs": [],
   "source": [
    "df1.columns = df.columns"
   ]
  },
  {
   "cell_type": "code",
   "execution_count": 75,
   "id": "0703ce90",
   "metadata": {
    "execution": {
     "iopub.execute_input": "2024-08-20T23:24:59.046264Z",
     "iopub.status.busy": "2024-08-20T23:24:59.045846Z",
     "iopub.status.idle": "2024-08-20T23:24:59.066857Z",
     "shell.execute_reply": "2024-08-20T23:24:59.065787Z"
    },
    "papermill": {
     "duration": 0.071444,
     "end_time": "2024-08-20T23:24:59.069256",
     "exception": false,
     "start_time": "2024-08-20T23:24:58.997812",
     "status": "completed"
    },
    "tags": []
   },
   "outputs": [
    {
     "data": {
      "text/html": [
       "<div>\n",
       "<style scoped>\n",
       "    .dataframe tbody tr th:only-of-type {\n",
       "        vertical-align: middle;\n",
       "    }\n",
       "\n",
       "    .dataframe tbody tr th {\n",
       "        vertical-align: top;\n",
       "    }\n",
       "\n",
       "    .dataframe thead th {\n",
       "        text-align: right;\n",
       "    }\n",
       "</style>\n",
       "<table border=\"1\" class=\"dataframe\">\n",
       "  <thead>\n",
       "    <tr style=\"text-align: right;\">\n",
       "      <th></th>\n",
       "      <th>name</th>\n",
       "      <th>online_order</th>\n",
       "      <th>book_table</th>\n",
       "      <th>rate</th>\n",
       "      <th>votes</th>\n",
       "      <th>phone</th>\n",
       "      <th>location</th>\n",
       "      <th>rest_type</th>\n",
       "      <th>dish_liked</th>\n",
       "      <th>cuisines</th>\n",
       "      <th>approx_cost(for two people)</th>\n",
       "      <th>reviews_list</th>\n",
       "      <th>menu_item</th>\n",
       "      <th>listed_in(type)</th>\n",
       "      <th>listed_in(city)</th>\n",
       "    </tr>\n",
       "  </thead>\n",
       "  <tbody>\n",
       "    <tr>\n",
       "      <th>0</th>\n",
       "      <td>Jalsa</td>\n",
       "      <td>Yes</td>\n",
       "      <td>Yes</td>\n",
       "      <td>4.1</td>\n",
       "      <td>775</td>\n",
       "      <td>080 42297555\\r\\n+91 9743772233</td>\n",
       "      <td>Banashankari</td>\n",
       "      <td>Casual Dining</td>\n",
       "      <td>Pasta, Lunch Buffet, Masala Papad, Paneer Laja...</td>\n",
       "      <td>North Indian, Mughlai, Chinese</td>\n",
       "      <td>800</td>\n",
       "      <td>[('Rated 4.0', 'RATED\\n  A beautiful place to ...</td>\n",
       "      <td>[]</td>\n",
       "      <td>Buffet</td>\n",
       "      <td>Banashankari</td>\n",
       "    </tr>\n",
       "    <tr>\n",
       "      <th>1</th>\n",
       "      <td>Spice Elephant</td>\n",
       "      <td>Yes</td>\n",
       "      <td>No</td>\n",
       "      <td>4.1</td>\n",
       "      <td>787</td>\n",
       "      <td>080 41714161</td>\n",
       "      <td>Banashankari</td>\n",
       "      <td>Casual Dining</td>\n",
       "      <td>Momos, Lunch Buffet, Chocolate Nirvana, Thai G...</td>\n",
       "      <td>Chinese, North Indian, Thai</td>\n",
       "      <td>800</td>\n",
       "      <td>[('Rated 4.0', 'RATED\\n  Had been here for din...</td>\n",
       "      <td>[]</td>\n",
       "      <td>Buffet</td>\n",
       "      <td>Banashankari</td>\n",
       "    </tr>\n",
       "    <tr>\n",
       "      <th>2</th>\n",
       "      <td>San Churro Cafe</td>\n",
       "      <td>Yes</td>\n",
       "      <td>No</td>\n",
       "      <td>3.8</td>\n",
       "      <td>918</td>\n",
       "      <td>+91 9663487993</td>\n",
       "      <td>Banashankari</td>\n",
       "      <td>Cafe, Casual Dining</td>\n",
       "      <td>Churros, Cannelloni, Minestrone Soup, Hot Choc...</td>\n",
       "      <td>Cafe, Mexican, Italian</td>\n",
       "      <td>800</td>\n",
       "      <td>[('Rated 3.0', \"RATED\\n  Ambience is not that ...</td>\n",
       "      <td>[]</td>\n",
       "      <td>Buffet</td>\n",
       "      <td>Banashankari</td>\n",
       "    </tr>\n",
       "    <tr>\n",
       "      <th>3</th>\n",
       "      <td>Addhuri Udupi Bhojana</td>\n",
       "      <td>No</td>\n",
       "      <td>No</td>\n",
       "      <td>3.7</td>\n",
       "      <td>88</td>\n",
       "      <td>+91 9620009302</td>\n",
       "      <td>Banashankari</td>\n",
       "      <td>Quick Bites</td>\n",
       "      <td>Masala Dosa</td>\n",
       "      <td>South Indian, North Indian</td>\n",
       "      <td>300</td>\n",
       "      <td>[('Rated 4.0', \"RATED\\n  Great food and proper...</td>\n",
       "      <td>[]</td>\n",
       "      <td>Buffet</td>\n",
       "      <td>Banashankari</td>\n",
       "    </tr>\n",
       "    <tr>\n",
       "      <th>4</th>\n",
       "      <td>Grand Village</td>\n",
       "      <td>No</td>\n",
       "      <td>No</td>\n",
       "      <td>3.8</td>\n",
       "      <td>166</td>\n",
       "      <td>+91 8026612447\\r\\n+91 9901210005</td>\n",
       "      <td>Basavanagudi</td>\n",
       "      <td>Casual Dining</td>\n",
       "      <td>Panipuri, Gol Gappe</td>\n",
       "      <td>North Indian, Rajasthani</td>\n",
       "      <td>600</td>\n",
       "      <td>[('Rated 4.0', 'RATED\\n  Very good restaurant ...</td>\n",
       "      <td>[]</td>\n",
       "      <td>Buffet</td>\n",
       "      <td>Banashankari</td>\n",
       "    </tr>\n",
       "    <tr>\n",
       "      <th>...</th>\n",
       "      <td>...</td>\n",
       "      <td>...</td>\n",
       "      <td>...</td>\n",
       "      <td>...</td>\n",
       "      <td>...</td>\n",
       "      <td>...</td>\n",
       "      <td>...</td>\n",
       "      <td>...</td>\n",
       "      <td>...</td>\n",
       "      <td>...</td>\n",
       "      <td>...</td>\n",
       "      <td>...</td>\n",
       "      <td>...</td>\n",
       "      <td>...</td>\n",
       "      <td>...</td>\n",
       "    </tr>\n",
       "    <tr>\n",
       "      <th>51654</th>\n",
       "      <td>Best Brews - Four Points by Sheraton Bengaluru...</td>\n",
       "      <td>No</td>\n",
       "      <td>No</td>\n",
       "      <td>3.6</td>\n",
       "      <td>27</td>\n",
       "      <td>080 40301477</td>\n",
       "      <td>Whitefield</td>\n",
       "      <td>Bar</td>\n",
       "      <td>NaN</td>\n",
       "      <td>Continental</td>\n",
       "      <td>1,500</td>\n",
       "      <td>[('Rated 5.0', \"RATED\\n  Food and service are ...</td>\n",
       "      <td>[]</td>\n",
       "      <td>Pubs and bars</td>\n",
       "      <td>Whitefield</td>\n",
       "    </tr>\n",
       "    <tr>\n",
       "      <th>51655</th>\n",
       "      <td>Vinod Bar And Restaurant</td>\n",
       "      <td>No</td>\n",
       "      <td>No</td>\n",
       "      <td>3.7</td>\n",
       "      <td>0</td>\n",
       "      <td>+91 8197675843</td>\n",
       "      <td>Whitefield</td>\n",
       "      <td>Bar</td>\n",
       "      <td>NaN</td>\n",
       "      <td>Finger Food</td>\n",
       "      <td>600</td>\n",
       "      <td>[]</td>\n",
       "      <td>[]</td>\n",
       "      <td>Pubs and bars</td>\n",
       "      <td>Whitefield</td>\n",
       "    </tr>\n",
       "    <tr>\n",
       "      <th>51656</th>\n",
       "      <td>Plunge - Sheraton Grand Bengaluru Whitefield H...</td>\n",
       "      <td>No</td>\n",
       "      <td>No</td>\n",
       "      <td>3.7</td>\n",
       "      <td>0</td>\n",
       "      <td>NaN</td>\n",
       "      <td>Whitefield</td>\n",
       "      <td>Bar</td>\n",
       "      <td>NaN</td>\n",
       "      <td>Finger Food</td>\n",
       "      <td>2,000</td>\n",
       "      <td>[]</td>\n",
       "      <td>[]</td>\n",
       "      <td>Pubs and bars</td>\n",
       "      <td>Whitefield</td>\n",
       "    </tr>\n",
       "    <tr>\n",
       "      <th>51657</th>\n",
       "      <td>Chime - Sheraton Grand Bengaluru Whitefield Ho...</td>\n",
       "      <td>No</td>\n",
       "      <td>Yes</td>\n",
       "      <td>4.3</td>\n",
       "      <td>236</td>\n",
       "      <td>080 49652769</td>\n",
       "      <td>ITPL Main Road, Whitefield</td>\n",
       "      <td>Bar</td>\n",
       "      <td>Cocktails, Pizza, Buttermilk</td>\n",
       "      <td>Finger Food</td>\n",
       "      <td>2,500</td>\n",
       "      <td>[('Rated 4.0', 'RATED\\n  Nice and friendly pla...</td>\n",
       "      <td>[]</td>\n",
       "      <td>Pubs and bars</td>\n",
       "      <td>Whitefield</td>\n",
       "    </tr>\n",
       "    <tr>\n",
       "      <th>51658</th>\n",
       "      <td>The Nest - The Den Bengaluru</td>\n",
       "      <td>No</td>\n",
       "      <td>No</td>\n",
       "      <td>3.4</td>\n",
       "      <td>13</td>\n",
       "      <td>+91 8071117272</td>\n",
       "      <td>ITPL Main Road, Whitefield</td>\n",
       "      <td>Bar, Casual Dining</td>\n",
       "      <td>NaN</td>\n",
       "      <td>Finger Food, North Indian, Continental</td>\n",
       "      <td>1,500</td>\n",
       "      <td>[('Rated 5.0', 'RATED\\n  Great ambience , look...</td>\n",
       "      <td>[]</td>\n",
       "      <td>Pubs and bars</td>\n",
       "      <td>Whitefield</td>\n",
       "    </tr>\n",
       "  </tbody>\n",
       "</table>\n",
       "<p>51659 rows × 15 columns</p>\n",
       "</div>"
      ],
      "text/plain": [
       "                                                    name online_order  \\\n",
       "0                                                  Jalsa          Yes   \n",
       "1                                         Spice Elephant          Yes   \n",
       "2                                        San Churro Cafe          Yes   \n",
       "3                                  Addhuri Udupi Bhojana           No   \n",
       "4                                          Grand Village           No   \n",
       "...                                                  ...          ...   \n",
       "51654  Best Brews - Four Points by Sheraton Bengaluru...           No   \n",
       "51655                           Vinod Bar And Restaurant           No   \n",
       "51656  Plunge - Sheraton Grand Bengaluru Whitefield H...           No   \n",
       "51657  Chime - Sheraton Grand Bengaluru Whitefield Ho...           No   \n",
       "51658                       The Nest - The Den Bengaluru           No   \n",
       "\n",
       "      book_table rate votes                             phone  \\\n",
       "0            Yes  4.1   775    080 42297555\\r\\n+91 9743772233   \n",
       "1             No  4.1   787                      080 41714161   \n",
       "2             No  3.8   918                    +91 9663487993   \n",
       "3             No  3.7    88                    +91 9620009302   \n",
       "4             No  3.8   166  +91 8026612447\\r\\n+91 9901210005   \n",
       "...          ...  ...   ...                               ...   \n",
       "51654         No  3.6    27                      080 40301477   \n",
       "51655         No  3.7     0                    +91 8197675843   \n",
       "51656         No  3.7     0                               NaN   \n",
       "51657        Yes  4.3   236                      080 49652769   \n",
       "51658         No  3.4    13                    +91 8071117272   \n",
       "\n",
       "                         location            rest_type  \\\n",
       "0                    Banashankari        Casual Dining   \n",
       "1                    Banashankari        Casual Dining   \n",
       "2                    Banashankari  Cafe, Casual Dining   \n",
       "3                    Banashankari          Quick Bites   \n",
       "4                    Basavanagudi        Casual Dining   \n",
       "...                           ...                  ...   \n",
       "51654                  Whitefield                  Bar   \n",
       "51655                  Whitefield                  Bar   \n",
       "51656                  Whitefield                  Bar   \n",
       "51657  ITPL Main Road, Whitefield                  Bar   \n",
       "51658  ITPL Main Road, Whitefield   Bar, Casual Dining   \n",
       "\n",
       "                                              dish_liked  \\\n",
       "0      Pasta, Lunch Buffet, Masala Papad, Paneer Laja...   \n",
       "1      Momos, Lunch Buffet, Chocolate Nirvana, Thai G...   \n",
       "2      Churros, Cannelloni, Minestrone Soup, Hot Choc...   \n",
       "3                                            Masala Dosa   \n",
       "4                                    Panipuri, Gol Gappe   \n",
       "...                                                  ...   \n",
       "51654                                                NaN   \n",
       "51655                                                NaN   \n",
       "51656                                                NaN   \n",
       "51657                       Cocktails, Pizza, Buttermilk   \n",
       "51658                                                NaN   \n",
       "\n",
       "                                     cuisines approx_cost(for two people)  \\\n",
       "0              North Indian, Mughlai, Chinese                         800   \n",
       "1                 Chinese, North Indian, Thai                         800   \n",
       "2                      Cafe, Mexican, Italian                         800   \n",
       "3                  South Indian, North Indian                         300   \n",
       "4                    North Indian, Rajasthani                         600   \n",
       "...                                       ...                         ...   \n",
       "51654                             Continental                       1,500   \n",
       "51655                             Finger Food                         600   \n",
       "51656                             Finger Food                       2,000   \n",
       "51657                             Finger Food                       2,500   \n",
       "51658  Finger Food, North Indian, Continental                       1,500   \n",
       "\n",
       "                                            reviews_list menu_item  \\\n",
       "0      [('Rated 4.0', 'RATED\\n  A beautiful place to ...        []   \n",
       "1      [('Rated 4.0', 'RATED\\n  Had been here for din...        []   \n",
       "2      [('Rated 3.0', \"RATED\\n  Ambience is not that ...        []   \n",
       "3      [('Rated 4.0', \"RATED\\n  Great food and proper...        []   \n",
       "4      [('Rated 4.0', 'RATED\\n  Very good restaurant ...        []   \n",
       "...                                                  ...       ...   \n",
       "51654  [('Rated 5.0', \"RATED\\n  Food and service are ...        []   \n",
       "51655                                                 []        []   \n",
       "51656                                                 []        []   \n",
       "51657  [('Rated 4.0', 'RATED\\n  Nice and friendly pla...        []   \n",
       "51658  [('Rated 5.0', 'RATED\\n  Great ambience , look...        []   \n",
       "\n",
       "      listed_in(type) listed_in(city)  \n",
       "0              Buffet    Banashankari  \n",
       "1              Buffet    Banashankari  \n",
       "2              Buffet    Banashankari  \n",
       "3              Buffet    Banashankari  \n",
       "4              Buffet    Banashankari  \n",
       "...               ...             ...  \n",
       "51654   Pubs and bars      Whitefield  \n",
       "51655   Pubs and bars      Whitefield  \n",
       "51656   Pubs and bars      Whitefield  \n",
       "51657   Pubs and bars      Whitefield  \n",
       "51658   Pubs and bars      Whitefield  \n",
       "\n",
       "[51659 rows x 15 columns]"
      ]
     },
     "execution_count": 75,
     "metadata": {},
     "output_type": "execute_result"
    }
   ],
   "source": [
    "df1"
   ]
  },
  {
   "cell_type": "code",
   "execution_count": 76,
   "id": "ecc7e23c",
   "metadata": {
    "execution": {
     "iopub.execute_input": "2024-08-20T23:24:59.165878Z",
     "iopub.status.busy": "2024-08-20T23:24:59.165135Z",
     "iopub.status.idle": "2024-08-20T23:24:59.212984Z",
     "shell.execute_reply": "2024-08-20T23:24:59.211928Z"
    },
    "papermill": {
     "duration": 0.098795,
     "end_time": "2024-08-20T23:24:59.215274",
     "exception": false,
     "start_time": "2024-08-20T23:24:59.116479",
     "status": "completed"
    },
    "tags": []
   },
   "outputs": [
    {
     "name": "stdout",
     "output_type": "stream",
     "text": [
      "<class 'pandas.core.frame.DataFrame'>\n",
      "RangeIndex: 51659 entries, 0 to 51658\n",
      "Data columns (total 15 columns):\n",
      " #   Column                       Non-Null Count  Dtype \n",
      "---  ------                       --------------  ----- \n",
      " 0   name                         51659 non-null  object\n",
      " 1   online_order                 51659 non-null  object\n",
      " 2   book_table                   51659 non-null  object\n",
      " 3   rate                         51659 non-null  object\n",
      " 4   votes                        51659 non-null  object\n",
      " 5   phone                        50452 non-null  object\n",
      " 6   location                     51638 non-null  object\n",
      " 7   rest_type                    51432 non-null  object\n",
      " 8   dish_liked                   23628 non-null  object\n",
      " 9   cuisines                     51614 non-null  object\n",
      " 10  approx_cost(for two people)  51314 non-null  object\n",
      " 11  reviews_list                 51659 non-null  object\n",
      " 12  menu_item                    51659 non-null  object\n",
      " 13  listed_in(type)              51659 non-null  object\n",
      " 14  listed_in(city)              51659 non-null  object\n",
      "dtypes: object(15)\n",
      "memory usage: 5.9+ MB\n"
     ]
    }
   ],
   "source": [
    "df1.info()"
   ]
  },
  {
   "cell_type": "code",
   "execution_count": 77,
   "id": "5176c020",
   "metadata": {
    "execution": {
     "iopub.execute_input": "2024-08-20T23:24:59.311053Z",
     "iopub.status.busy": "2024-08-20T23:24:59.310684Z",
     "iopub.status.idle": "2024-08-20T23:24:59.318454Z",
     "shell.execute_reply": "2024-08-20T23:24:59.317486Z"
    },
    "papermill": {
     "duration": 0.058496,
     "end_time": "2024-08-20T23:24:59.320855",
     "exception": false,
     "start_time": "2024-08-20T23:24:59.262359",
     "status": "completed"
    },
    "tags": []
   },
   "outputs": [
    {
     "data": {
      "text/plain": [
       "0          080 42297555\\r\\n+91 9743772233\n",
       "1                            080 41714161\n",
       "2                          +91 9663487993\n",
       "3                          +91 9620009302\n",
       "4        +91 8026612447\\r\\n+91 9901210005\n",
       "                       ...               \n",
       "51654                        080 40301477\n",
       "51655                      +91 8197675843\n",
       "51656                                 NaN\n",
       "51657                        080 49652769\n",
       "51658                      +91 8071117272\n",
       "Name: phone, Length: 51659, dtype: object"
      ]
     },
     "execution_count": 77,
     "metadata": {},
     "output_type": "execute_result"
    }
   ],
   "source": [
    "df1['phone']"
   ]
  },
  {
   "cell_type": "code",
   "execution_count": 78,
   "id": "167ebb27",
   "metadata": {
    "execution": {
     "iopub.execute_input": "2024-08-20T23:24:59.419483Z",
     "iopub.status.busy": "2024-08-20T23:24:59.418494Z",
     "iopub.status.idle": "2024-08-20T23:24:59.430565Z",
     "shell.execute_reply": "2024-08-20T23:24:59.429634Z"
    },
    "papermill": {
     "duration": 0.064017,
     "end_time": "2024-08-20T23:24:59.433188",
     "exception": false,
     "start_time": "2024-08-20T23:24:59.369171",
     "status": "completed"
    },
    "tags": []
   },
   "outputs": [],
   "source": [
    "#we dont need to know thw phone number. it is not useful for our analysis\n",
    "df1 = df1.drop(labels= 'phone', axis= 1 )"
   ]
  },
  {
   "cell_type": "code",
   "execution_count": 79,
   "id": "384dc6a7",
   "metadata": {
    "execution": {
     "iopub.execute_input": "2024-08-20T23:24:59.533103Z",
     "iopub.status.busy": "2024-08-20T23:24:59.532739Z",
     "iopub.status.idle": "2024-08-20T23:24:59.552468Z",
     "shell.execute_reply": "2024-08-20T23:24:59.551490Z"
    },
    "papermill": {
     "duration": 0.07432,
     "end_time": "2024-08-20T23:24:59.554863",
     "exception": false,
     "start_time": "2024-08-20T23:24:59.480543",
     "status": "completed"
    },
    "tags": []
   },
   "outputs": [
    {
     "data": {
      "text/html": [
       "<div>\n",
       "<style scoped>\n",
       "    .dataframe tbody tr th:only-of-type {\n",
       "        vertical-align: middle;\n",
       "    }\n",
       "\n",
       "    .dataframe tbody tr th {\n",
       "        vertical-align: top;\n",
       "    }\n",
       "\n",
       "    .dataframe thead th {\n",
       "        text-align: right;\n",
       "    }\n",
       "</style>\n",
       "<table border=\"1\" class=\"dataframe\">\n",
       "  <thead>\n",
       "    <tr style=\"text-align: right;\">\n",
       "      <th></th>\n",
       "      <th>name</th>\n",
       "      <th>online_order</th>\n",
       "      <th>book_table</th>\n",
       "      <th>rate</th>\n",
       "      <th>votes</th>\n",
       "      <th>location</th>\n",
       "      <th>rest_type</th>\n",
       "      <th>dish_liked</th>\n",
       "      <th>cuisines</th>\n",
       "      <th>approx_cost(for two people)</th>\n",
       "      <th>reviews_list</th>\n",
       "      <th>menu_item</th>\n",
       "      <th>listed_in(type)</th>\n",
       "      <th>listed_in(city)</th>\n",
       "    </tr>\n",
       "  </thead>\n",
       "  <tbody>\n",
       "    <tr>\n",
       "      <th>0</th>\n",
       "      <td>Jalsa</td>\n",
       "      <td>Yes</td>\n",
       "      <td>Yes</td>\n",
       "      <td>4.1</td>\n",
       "      <td>775</td>\n",
       "      <td>Banashankari</td>\n",
       "      <td>Casual Dining</td>\n",
       "      <td>Pasta, Lunch Buffet, Masala Papad, Paneer Laja...</td>\n",
       "      <td>North Indian, Mughlai, Chinese</td>\n",
       "      <td>800</td>\n",
       "      <td>[('Rated 4.0', 'RATED\\n  A beautiful place to ...</td>\n",
       "      <td>[]</td>\n",
       "      <td>Buffet</td>\n",
       "      <td>Banashankari</td>\n",
       "    </tr>\n",
       "    <tr>\n",
       "      <th>1</th>\n",
       "      <td>Spice Elephant</td>\n",
       "      <td>Yes</td>\n",
       "      <td>No</td>\n",
       "      <td>4.1</td>\n",
       "      <td>787</td>\n",
       "      <td>Banashankari</td>\n",
       "      <td>Casual Dining</td>\n",
       "      <td>Momos, Lunch Buffet, Chocolate Nirvana, Thai G...</td>\n",
       "      <td>Chinese, North Indian, Thai</td>\n",
       "      <td>800</td>\n",
       "      <td>[('Rated 4.0', 'RATED\\n  Had been here for din...</td>\n",
       "      <td>[]</td>\n",
       "      <td>Buffet</td>\n",
       "      <td>Banashankari</td>\n",
       "    </tr>\n",
       "    <tr>\n",
       "      <th>2</th>\n",
       "      <td>San Churro Cafe</td>\n",
       "      <td>Yes</td>\n",
       "      <td>No</td>\n",
       "      <td>3.8</td>\n",
       "      <td>918</td>\n",
       "      <td>Banashankari</td>\n",
       "      <td>Cafe, Casual Dining</td>\n",
       "      <td>Churros, Cannelloni, Minestrone Soup, Hot Choc...</td>\n",
       "      <td>Cafe, Mexican, Italian</td>\n",
       "      <td>800</td>\n",
       "      <td>[('Rated 3.0', \"RATED\\n  Ambience is not that ...</td>\n",
       "      <td>[]</td>\n",
       "      <td>Buffet</td>\n",
       "      <td>Banashankari</td>\n",
       "    </tr>\n",
       "    <tr>\n",
       "      <th>3</th>\n",
       "      <td>Addhuri Udupi Bhojana</td>\n",
       "      <td>No</td>\n",
       "      <td>No</td>\n",
       "      <td>3.7</td>\n",
       "      <td>88</td>\n",
       "      <td>Banashankari</td>\n",
       "      <td>Quick Bites</td>\n",
       "      <td>Masala Dosa</td>\n",
       "      <td>South Indian, North Indian</td>\n",
       "      <td>300</td>\n",
       "      <td>[('Rated 4.0', \"RATED\\n  Great food and proper...</td>\n",
       "      <td>[]</td>\n",
       "      <td>Buffet</td>\n",
       "      <td>Banashankari</td>\n",
       "    </tr>\n",
       "    <tr>\n",
       "      <th>4</th>\n",
       "      <td>Grand Village</td>\n",
       "      <td>No</td>\n",
       "      <td>No</td>\n",
       "      <td>3.8</td>\n",
       "      <td>166</td>\n",
       "      <td>Basavanagudi</td>\n",
       "      <td>Casual Dining</td>\n",
       "      <td>Panipuri, Gol Gappe</td>\n",
       "      <td>North Indian, Rajasthani</td>\n",
       "      <td>600</td>\n",
       "      <td>[('Rated 4.0', 'RATED\\n  Very good restaurant ...</td>\n",
       "      <td>[]</td>\n",
       "      <td>Buffet</td>\n",
       "      <td>Banashankari</td>\n",
       "    </tr>\n",
       "    <tr>\n",
       "      <th>...</th>\n",
       "      <td>...</td>\n",
       "      <td>...</td>\n",
       "      <td>...</td>\n",
       "      <td>...</td>\n",
       "      <td>...</td>\n",
       "      <td>...</td>\n",
       "      <td>...</td>\n",
       "      <td>...</td>\n",
       "      <td>...</td>\n",
       "      <td>...</td>\n",
       "      <td>...</td>\n",
       "      <td>...</td>\n",
       "      <td>...</td>\n",
       "      <td>...</td>\n",
       "    </tr>\n",
       "    <tr>\n",
       "      <th>51654</th>\n",
       "      <td>Best Brews - Four Points by Sheraton Bengaluru...</td>\n",
       "      <td>No</td>\n",
       "      <td>No</td>\n",
       "      <td>3.6</td>\n",
       "      <td>27</td>\n",
       "      <td>Whitefield</td>\n",
       "      <td>Bar</td>\n",
       "      <td>NaN</td>\n",
       "      <td>Continental</td>\n",
       "      <td>1,500</td>\n",
       "      <td>[('Rated 5.0', \"RATED\\n  Food and service are ...</td>\n",
       "      <td>[]</td>\n",
       "      <td>Pubs and bars</td>\n",
       "      <td>Whitefield</td>\n",
       "    </tr>\n",
       "    <tr>\n",
       "      <th>51655</th>\n",
       "      <td>Vinod Bar And Restaurant</td>\n",
       "      <td>No</td>\n",
       "      <td>No</td>\n",
       "      <td>3.7</td>\n",
       "      <td>0</td>\n",
       "      <td>Whitefield</td>\n",
       "      <td>Bar</td>\n",
       "      <td>NaN</td>\n",
       "      <td>Finger Food</td>\n",
       "      <td>600</td>\n",
       "      <td>[]</td>\n",
       "      <td>[]</td>\n",
       "      <td>Pubs and bars</td>\n",
       "      <td>Whitefield</td>\n",
       "    </tr>\n",
       "    <tr>\n",
       "      <th>51656</th>\n",
       "      <td>Plunge - Sheraton Grand Bengaluru Whitefield H...</td>\n",
       "      <td>No</td>\n",
       "      <td>No</td>\n",
       "      <td>3.7</td>\n",
       "      <td>0</td>\n",
       "      <td>Whitefield</td>\n",
       "      <td>Bar</td>\n",
       "      <td>NaN</td>\n",
       "      <td>Finger Food</td>\n",
       "      <td>2,000</td>\n",
       "      <td>[]</td>\n",
       "      <td>[]</td>\n",
       "      <td>Pubs and bars</td>\n",
       "      <td>Whitefield</td>\n",
       "    </tr>\n",
       "    <tr>\n",
       "      <th>51657</th>\n",
       "      <td>Chime - Sheraton Grand Bengaluru Whitefield Ho...</td>\n",
       "      <td>No</td>\n",
       "      <td>Yes</td>\n",
       "      <td>4.3</td>\n",
       "      <td>236</td>\n",
       "      <td>ITPL Main Road, Whitefield</td>\n",
       "      <td>Bar</td>\n",
       "      <td>Cocktails, Pizza, Buttermilk</td>\n",
       "      <td>Finger Food</td>\n",
       "      <td>2,500</td>\n",
       "      <td>[('Rated 4.0', 'RATED\\n  Nice and friendly pla...</td>\n",
       "      <td>[]</td>\n",
       "      <td>Pubs and bars</td>\n",
       "      <td>Whitefield</td>\n",
       "    </tr>\n",
       "    <tr>\n",
       "      <th>51658</th>\n",
       "      <td>The Nest - The Den Bengaluru</td>\n",
       "      <td>No</td>\n",
       "      <td>No</td>\n",
       "      <td>3.4</td>\n",
       "      <td>13</td>\n",
       "      <td>ITPL Main Road, Whitefield</td>\n",
       "      <td>Bar, Casual Dining</td>\n",
       "      <td>NaN</td>\n",
       "      <td>Finger Food, North Indian, Continental</td>\n",
       "      <td>1,500</td>\n",
       "      <td>[('Rated 5.0', 'RATED\\n  Great ambience , look...</td>\n",
       "      <td>[]</td>\n",
       "      <td>Pubs and bars</td>\n",
       "      <td>Whitefield</td>\n",
       "    </tr>\n",
       "  </tbody>\n",
       "</table>\n",
       "<p>51659 rows × 14 columns</p>\n",
       "</div>"
      ],
      "text/plain": [
       "                                                    name online_order  \\\n",
       "0                                                  Jalsa          Yes   \n",
       "1                                         Spice Elephant          Yes   \n",
       "2                                        San Churro Cafe          Yes   \n",
       "3                                  Addhuri Udupi Bhojana           No   \n",
       "4                                          Grand Village           No   \n",
       "...                                                  ...          ...   \n",
       "51654  Best Brews - Four Points by Sheraton Bengaluru...           No   \n",
       "51655                           Vinod Bar And Restaurant           No   \n",
       "51656  Plunge - Sheraton Grand Bengaluru Whitefield H...           No   \n",
       "51657  Chime - Sheraton Grand Bengaluru Whitefield Ho...           No   \n",
       "51658                       The Nest - The Den Bengaluru           No   \n",
       "\n",
       "      book_table rate votes                    location            rest_type  \\\n",
       "0            Yes  4.1   775                Banashankari        Casual Dining   \n",
       "1             No  4.1   787                Banashankari        Casual Dining   \n",
       "2             No  3.8   918                Banashankari  Cafe, Casual Dining   \n",
       "3             No  3.7    88                Banashankari          Quick Bites   \n",
       "4             No  3.8   166                Basavanagudi        Casual Dining   \n",
       "...          ...  ...   ...                         ...                  ...   \n",
       "51654         No  3.6    27                  Whitefield                  Bar   \n",
       "51655         No  3.7     0                  Whitefield                  Bar   \n",
       "51656         No  3.7     0                  Whitefield                  Bar   \n",
       "51657        Yes  4.3   236  ITPL Main Road, Whitefield                  Bar   \n",
       "51658         No  3.4    13  ITPL Main Road, Whitefield   Bar, Casual Dining   \n",
       "\n",
       "                                              dish_liked  \\\n",
       "0      Pasta, Lunch Buffet, Masala Papad, Paneer Laja...   \n",
       "1      Momos, Lunch Buffet, Chocolate Nirvana, Thai G...   \n",
       "2      Churros, Cannelloni, Minestrone Soup, Hot Choc...   \n",
       "3                                            Masala Dosa   \n",
       "4                                    Panipuri, Gol Gappe   \n",
       "...                                                  ...   \n",
       "51654                                                NaN   \n",
       "51655                                                NaN   \n",
       "51656                                                NaN   \n",
       "51657                       Cocktails, Pizza, Buttermilk   \n",
       "51658                                                NaN   \n",
       "\n",
       "                                     cuisines approx_cost(for two people)  \\\n",
       "0              North Indian, Mughlai, Chinese                         800   \n",
       "1                 Chinese, North Indian, Thai                         800   \n",
       "2                      Cafe, Mexican, Italian                         800   \n",
       "3                  South Indian, North Indian                         300   \n",
       "4                    North Indian, Rajasthani                         600   \n",
       "...                                       ...                         ...   \n",
       "51654                             Continental                       1,500   \n",
       "51655                             Finger Food                         600   \n",
       "51656                             Finger Food                       2,000   \n",
       "51657                             Finger Food                       2,500   \n",
       "51658  Finger Food, North Indian, Continental                       1,500   \n",
       "\n",
       "                                            reviews_list menu_item  \\\n",
       "0      [('Rated 4.0', 'RATED\\n  A beautiful place to ...        []   \n",
       "1      [('Rated 4.0', 'RATED\\n  Had been here for din...        []   \n",
       "2      [('Rated 3.0', \"RATED\\n  Ambience is not that ...        []   \n",
       "3      [('Rated 4.0', \"RATED\\n  Great food and proper...        []   \n",
       "4      [('Rated 4.0', 'RATED\\n  Very good restaurant ...        []   \n",
       "...                                                  ...       ...   \n",
       "51654  [('Rated 5.0', \"RATED\\n  Food and service are ...        []   \n",
       "51655                                                 []        []   \n",
       "51656                                                 []        []   \n",
       "51657  [('Rated 4.0', 'RATED\\n  Nice and friendly pla...        []   \n",
       "51658  [('Rated 5.0', 'RATED\\n  Great ambience , look...        []   \n",
       "\n",
       "      listed_in(type) listed_in(city)  \n",
       "0              Buffet    Banashankari  \n",
       "1              Buffet    Banashankari  \n",
       "2              Buffet    Banashankari  \n",
       "3              Buffet    Banashankari  \n",
       "4              Buffet    Banashankari  \n",
       "...               ...             ...  \n",
       "51654   Pubs and bars      Whitefield  \n",
       "51655   Pubs and bars      Whitefield  \n",
       "51656   Pubs and bars      Whitefield  \n",
       "51657   Pubs and bars      Whitefield  \n",
       "51658   Pubs and bars      Whitefield  \n",
       "\n",
       "[51659 rows x 14 columns]"
      ]
     },
     "execution_count": 79,
     "metadata": {},
     "output_type": "execute_result"
    }
   ],
   "source": [
    "df1"
   ]
  },
  {
   "cell_type": "code",
   "execution_count": 80,
   "id": "d9e40447",
   "metadata": {
    "execution": {
     "iopub.execute_input": "2024-08-20T23:24:59.652774Z",
     "iopub.status.busy": "2024-08-20T23:24:59.652423Z",
     "iopub.status.idle": "2024-08-20T23:24:59.660422Z",
     "shell.execute_reply": "2024-08-20T23:24:59.659434Z"
    },
    "papermill": {
     "duration": 0.059494,
     "end_time": "2024-08-20T23:24:59.662502",
     "exception": false,
     "start_time": "2024-08-20T23:24:59.603008",
     "status": "completed"
    },
    "tags": []
   },
   "outputs": [
    {
     "data": {
      "text/plain": [
       "0                      Banashankari\n",
       "1                      Banashankari\n",
       "2                      Banashankari\n",
       "3                      Banashankari\n",
       "4                      Basavanagudi\n",
       "                    ...            \n",
       "51654                    Whitefield\n",
       "51655                    Whitefield\n",
       "51656                    Whitefield\n",
       "51657    ITPL Main Road, Whitefield\n",
       "51658    ITPL Main Road, Whitefield\n",
       "Name: location, Length: 51659, dtype: object"
      ]
     },
     "execution_count": 80,
     "metadata": {},
     "output_type": "execute_result"
    }
   ],
   "source": [
    "#next column\n",
    "df1['location']"
   ]
  },
  {
   "cell_type": "code",
   "execution_count": 81,
   "id": "feb6c0d2",
   "metadata": {
    "execution": {
     "iopub.execute_input": "2024-08-20T23:24:59.760265Z",
     "iopub.status.busy": "2024-08-20T23:24:59.759889Z",
     "iopub.status.idle": "2024-08-20T23:24:59.806045Z",
     "shell.execute_reply": "2024-08-20T23:24:59.804869Z"
    },
    "papermill": {
     "duration": 0.097631,
     "end_time": "2024-08-20T23:24:59.808227",
     "exception": false,
     "start_time": "2024-08-20T23:24:59.710596",
     "status": "completed"
    },
    "tags": []
   },
   "outputs": [
    {
     "name": "stdout",
     "output_type": "stream",
     "text": [
      "<class 'pandas.core.frame.DataFrame'>\n",
      "RangeIndex: 51659 entries, 0 to 51658\n",
      "Data columns (total 14 columns):\n",
      " #   Column                       Non-Null Count  Dtype \n",
      "---  ------                       --------------  ----- \n",
      " 0   name                         51659 non-null  object\n",
      " 1   online_order                 51659 non-null  object\n",
      " 2   book_table                   51659 non-null  object\n",
      " 3   rate                         51659 non-null  object\n",
      " 4   votes                        51659 non-null  object\n",
      " 5   location                     51638 non-null  object\n",
      " 6   rest_type                    51432 non-null  object\n",
      " 7   dish_liked                   23628 non-null  object\n",
      " 8   cuisines                     51614 non-null  object\n",
      " 9   approx_cost(for two people)  51314 non-null  object\n",
      " 10  reviews_list                 51659 non-null  object\n",
      " 11  menu_item                    51659 non-null  object\n",
      " 12  listed_in(type)              51659 non-null  object\n",
      " 13  listed_in(city)              51659 non-null  object\n",
      "dtypes: object(14)\n",
      "memory usage: 5.5+ MB\n"
     ]
    }
   ],
   "source": [
    "df1.info()"
   ]
  },
  {
   "cell_type": "code",
   "execution_count": 82,
   "id": "e2bcdbc8",
   "metadata": {
    "execution": {
     "iopub.execute_input": "2024-08-20T23:24:59.905861Z",
     "iopub.status.busy": "2024-08-20T23:24:59.905519Z",
     "iopub.status.idle": "2024-08-20T23:24:59.914159Z",
     "shell.execute_reply": "2024-08-20T23:24:59.913221Z"
    },
    "papermill": {
     "duration": 0.059978,
     "end_time": "2024-08-20T23:24:59.916319",
     "exception": false,
     "start_time": "2024-08-20T23:24:59.856341",
     "status": "completed"
    },
    "tags": []
   },
   "outputs": [
    {
     "data": {
      "text/plain": [
       "array(['Banashankari', 'Basavanagudi', 'Mysore Road', 'Jayanagar',\n",
       "       'Kumaraswamy Layout', 'Rajarajeshwari Nagar', 'Vijay Nagar',\n",
       "       'Uttarahalli', 'JP Nagar', 'South Bangalore', 'City Market',\n",
       "       'Nagarbhavi', 'Bannerghatta Road', 'BTM', 'Kanakapura Road',\n",
       "       'Bommanahalli', nan, 'CV Raman Nagar', 'Electronic City', 'HSR',\n",
       "       'Marathahalli', 'Sarjapur Road', 'Wilson Garden', 'Shanti Nagar',\n",
       "       'Koramangala 5th Block', 'Koramangala 8th Block', 'Richmond Road',\n",
       "       'Koramangala 7th Block', 'Jalahalli', 'Koramangala 4th Block',\n",
       "       'Bellandur', 'Whitefield', 'East Bangalore', 'Old Airport Road',\n",
       "       'Indiranagar', 'Koramangala 1st Block', 'Frazer Town', 'RT Nagar',\n",
       "       'MG Road', 'Brigade Road', 'Lavelle Road', 'Church Street',\n",
       "       'Ulsoor', 'Residency Road', 'Shivajinagar', 'Infantry Road',\n",
       "       'St. Marks Road', 'Cunningham Road', 'Race Course Road',\n",
       "       'Commercial Street', 'Vasanth Nagar', 'HBR Layout', 'Domlur',\n",
       "       'Ejipura', 'Jeevan Bhima Nagar', 'Old Madras Road', 'Malleshwaram',\n",
       "       'Seshadripuram', 'Kammanahalli', 'Koramangala 6th Block',\n",
       "       'Majestic', 'Langford Town', 'Central Bangalore', 'Sanjay Nagar',\n",
       "       'Brookefield', 'ITPL Main Road, Whitefield',\n",
       "       'Varthur Main Road, Whitefield', 'KR Puram',\n",
       "       'Koramangala 2nd Block', 'Koramangala 3rd Block', 'Koramangala',\n",
       "       'Hosur Road', 'Rajajinagar', 'Banaswadi', 'North Bangalore',\n",
       "       'Nagawara', 'Hennur', 'Kalyan Nagar', 'New BEL Road', 'Jakkur',\n",
       "       'Rammurthy Nagar', 'Thippasandra', 'Kaggadasapura', 'Hebbal',\n",
       "       'Kengeri', 'Sankey Road', 'Sadashiv Nagar', 'Basaveshwara Nagar',\n",
       "       'Yeshwantpur', 'West Bangalore', 'Magadi Road', 'Yelahanka',\n",
       "       'Sahakara Nagar', 'Peenya'], dtype=object)"
      ]
     },
     "execution_count": 82,
     "metadata": {},
     "output_type": "execute_result"
    }
   ],
   "source": [
    "df1['location'].unique()"
   ]
  },
  {
   "cell_type": "code",
   "execution_count": 83,
   "id": "21409595",
   "metadata": {
    "execution": {
     "iopub.execute_input": "2024-08-20T23:25:00.016053Z",
     "iopub.status.busy": "2024-08-20T23:25:00.015367Z",
     "iopub.status.idle": "2024-08-20T23:25:00.028573Z",
     "shell.execute_reply": "2024-08-20T23:25:00.027572Z"
    },
    "papermill": {
     "duration": 0.066172,
     "end_time": "2024-08-20T23:25:00.030875",
     "exception": false,
     "start_time": "2024-08-20T23:24:59.964703",
     "status": "completed"
    },
    "tags": []
   },
   "outputs": [],
   "source": [
    "#there is nan in the location dataset\n",
    "#let us drop the the row of all nan in the dataset\n",
    "df2 = df1.copy()"
   ]
  },
  {
   "cell_type": "code",
   "execution_count": 84,
   "id": "d5ca54b8",
   "metadata": {
    "execution": {
     "iopub.execute_input": "2024-08-20T23:25:00.130652Z",
     "iopub.status.busy": "2024-08-20T23:25:00.130292Z",
     "iopub.status.idle": "2024-08-20T23:25:00.175896Z",
     "shell.execute_reply": "2024-08-20T23:25:00.174903Z"
    },
    "papermill": {
     "duration": 0.097312,
     "end_time": "2024-08-20T23:25:00.178018",
     "exception": false,
     "start_time": "2024-08-20T23:25:00.080706",
     "status": "completed"
    },
    "tags": []
   },
   "outputs": [
    {
     "name": "stdout",
     "output_type": "stream",
     "text": [
      "<class 'pandas.core.frame.DataFrame'>\n",
      "RangeIndex: 51659 entries, 0 to 51658\n",
      "Data columns (total 14 columns):\n",
      " #   Column                       Non-Null Count  Dtype \n",
      "---  ------                       --------------  ----- \n",
      " 0   name                         51659 non-null  object\n",
      " 1   online_order                 51659 non-null  object\n",
      " 2   book_table                   51659 non-null  object\n",
      " 3   rate                         51659 non-null  object\n",
      " 4   votes                        51659 non-null  object\n",
      " 5   location                     51638 non-null  object\n",
      " 6   rest_type                    51432 non-null  object\n",
      " 7   dish_liked                   23628 non-null  object\n",
      " 8   cuisines                     51614 non-null  object\n",
      " 9   approx_cost(for two people)  51314 non-null  object\n",
      " 10  reviews_list                 51659 non-null  object\n",
      " 11  menu_item                    51659 non-null  object\n",
      " 12  listed_in(type)              51659 non-null  object\n",
      " 13  listed_in(city)              51659 non-null  object\n",
      "dtypes: object(14)\n",
      "memory usage: 5.5+ MB\n"
     ]
    }
   ],
   "source": [
    "df2.info()"
   ]
  },
  {
   "cell_type": "code",
   "execution_count": 85,
   "id": "a327675d",
   "metadata": {
    "execution": {
     "iopub.execute_input": "2024-08-20T23:25:00.275910Z",
     "iopub.status.busy": "2024-08-20T23:25:00.275553Z",
     "iopub.status.idle": "2024-08-20T23:25:00.327782Z",
     "shell.execute_reply": "2024-08-20T23:25:00.326949Z"
    },
    "papermill": {
     "duration": 0.103955,
     "end_time": "2024-08-20T23:25:00.330206",
     "exception": false,
     "start_time": "2024-08-20T23:25:00.226251",
     "status": "completed"
    },
    "tags": []
   },
   "outputs": [],
   "source": [
    "df2.dropna(inplace= True)"
   ]
  },
  {
   "cell_type": "code",
   "execution_count": 86,
   "id": "15ea04db",
   "metadata": {
    "execution": {
     "iopub.execute_input": "2024-08-20T23:25:00.427783Z",
     "iopub.status.busy": "2024-08-20T23:25:00.427078Z",
     "iopub.status.idle": "2024-08-20T23:25:00.454747Z",
     "shell.execute_reply": "2024-08-20T23:25:00.453718Z"
    },
    "papermill": {
     "duration": 0.079327,
     "end_time": "2024-08-20T23:25:00.457357",
     "exception": false,
     "start_time": "2024-08-20T23:25:00.378030",
     "status": "completed"
    },
    "tags": []
   },
   "outputs": [
    {
     "name": "stdout",
     "output_type": "stream",
     "text": [
      "<class 'pandas.core.frame.DataFrame'>\n",
      "Index: 23425 entries, 0 to 51657\n",
      "Data columns (total 14 columns):\n",
      " #   Column                       Non-Null Count  Dtype \n",
      "---  ------                       --------------  ----- \n",
      " 0   name                         23425 non-null  object\n",
      " 1   online_order                 23425 non-null  object\n",
      " 2   book_table                   23425 non-null  object\n",
      " 3   rate                         23425 non-null  object\n",
      " 4   votes                        23425 non-null  object\n",
      " 5   location                     23425 non-null  object\n",
      " 6   rest_type                    23425 non-null  object\n",
      " 7   dish_liked                   23425 non-null  object\n",
      " 8   cuisines                     23425 non-null  object\n",
      " 9   approx_cost(for two people)  23425 non-null  object\n",
      " 10  reviews_list                 23425 non-null  object\n",
      " 11  menu_item                    23425 non-null  object\n",
      " 12  listed_in(type)              23425 non-null  object\n",
      " 13  listed_in(city)              23425 non-null  object\n",
      "dtypes: object(14)\n",
      "memory usage: 2.7+ MB\n"
     ]
    }
   ],
   "source": [
    "df2.info()"
   ]
  },
  {
   "cell_type": "code",
   "execution_count": 87,
   "id": "f9746d2b",
   "metadata": {
    "execution": {
     "iopub.execute_input": "2024-08-20T23:25:00.559329Z",
     "iopub.status.busy": "2024-08-20T23:25:00.558927Z",
     "iopub.status.idle": "2024-08-20T23:25:00.563589Z",
     "shell.execute_reply": "2024-08-20T23:25:00.562508Z"
    },
    "papermill": {
     "duration": 0.057134,
     "end_time": "2024-08-20T23:25:00.565629",
     "exception": false,
     "start_time": "2024-08-20T23:25:00.508495",
     "status": "completed"
    },
    "tags": []
   },
   "outputs": [],
   "source": [
    "#all nan in the data set is gone and our dataset is complete with values"
   ]
  },
  {
   "cell_type": "code",
   "execution_count": 88,
   "id": "efc88be1",
   "metadata": {
    "execution": {
     "iopub.execute_input": "2024-08-20T23:25:00.663995Z",
     "iopub.status.busy": "2024-08-20T23:25:00.663637Z",
     "iopub.status.idle": "2024-08-20T23:25:00.671419Z",
     "shell.execute_reply": "2024-08-20T23:25:00.670360Z"
    },
    "papermill": {
     "duration": 0.059859,
     "end_time": "2024-08-20T23:25:00.673709",
     "exception": false,
     "start_time": "2024-08-20T23:25:00.613850",
     "status": "completed"
    },
    "tags": []
   },
   "outputs": [
    {
     "data": {
      "text/plain": [
       "0              Casual Dining\n",
       "1              Casual Dining\n",
       "2        Cafe, Casual Dining\n",
       "3                Quick Bites\n",
       "4              Casual Dining\n",
       "                ...         \n",
       "51647     Bar, Casual Dining\n",
       "51649       Fine Dining, Bar\n",
       "51650     Casual Dining, Bar\n",
       "51653     Casual Dining, Bar\n",
       "51657                    Bar\n",
       "Name: rest_type, Length: 23425, dtype: object"
      ]
     },
     "execution_count": 88,
     "metadata": {},
     "output_type": "execute_result"
    }
   ],
   "source": [
    "#next column is rest_type(restaurant type)\n",
    "df2['rest_type']"
   ]
  },
  {
   "cell_type": "code",
   "execution_count": 89,
   "id": "19015d6b",
   "metadata": {
    "execution": {
     "iopub.execute_input": "2024-08-20T23:25:00.773350Z",
     "iopub.status.busy": "2024-08-20T23:25:00.772998Z",
     "iopub.status.idle": "2024-08-20T23:25:00.781265Z",
     "shell.execute_reply": "2024-08-20T23:25:00.780179Z"
    },
    "papermill": {
     "duration": 0.060086,
     "end_time": "2024-08-20T23:25:00.783369",
     "exception": false,
     "start_time": "2024-08-20T23:25:00.723283",
     "status": "completed"
    },
    "tags": []
   },
   "outputs": [
    {
     "data": {
      "text/plain": [
       "array(['Casual Dining', 'Cafe, Casual Dining', 'Quick Bites',\n",
       "       'Casual Dining, Cafe', 'Cafe', 'Quick Bites, Cafe', 'Delivery',\n",
       "       'Dessert Parlor', 'Pub', 'Beverage Shop', 'Bar',\n",
       "       'Takeaway, Delivery', 'Food Truck', 'Quick Bites, Dessert Parlor',\n",
       "       'Pub, Casual Dining', 'Casual Dining, Bar', 'Bakery', 'Sweet Shop',\n",
       "       'Dessert Parlor, Beverage Shop', 'Beverage Shop, Quick Bites',\n",
       "       'Microbrewery, Casual Dining', 'Sweet Shop, Quick Bites', 'Lounge',\n",
       "       'Food Court', 'Cafe, Bakery', 'Microbrewery', 'Kiosk', 'Pub, Bar',\n",
       "       'Casual Dining, Pub', 'Cafe, Quick Bites', 'Lounge, Bar',\n",
       "       'Bakery, Quick Bites', 'Dessert Parlor, Quick Bites',\n",
       "       'Bar, Casual Dining', 'Beverage Shop, Dessert Parlor',\n",
       "       'Casual Dining, Microbrewery', 'Mess', 'Lounge, Casual Dining',\n",
       "       'Cafe, Dessert Parlor', 'Dessert Parlor, Cafe',\n",
       "       'Bakery, Dessert Parlor', 'Quick Bites, Sweet Shop', 'Takeaway',\n",
       "       'Microbrewery, Pub', 'Club', 'Fine Dining', 'Bakery, Cafe',\n",
       "       'Beverage Shop, Cafe', 'Pub, Cafe', 'Casual Dining, Irani Cafee',\n",
       "       'Food Court, Quick Bites', 'Quick Bites, Beverage Shop',\n",
       "       'Fine Dining, Lounge', 'Quick Bites, Bakery', 'Bar, Quick Bites',\n",
       "       'Pub, Microbrewery', 'Microbrewery, Lounge',\n",
       "       'Fine Dining, Microbrewery', 'Fine Dining, Bar',\n",
       "       'Dessert Parlor, Kiosk', 'Cafe, Bar', 'Quick Bites, Food Court',\n",
       "       'Casual Dining, Lounge', 'Microbrewery, Bar', 'Cafe, Lounge',\n",
       "       'Bar, Pub', 'Lounge, Cafe', 'Dessert Parlor, Bakery',\n",
       "       'Club, Casual Dining', 'Lounge, Microbrewery', 'Dhaba',\n",
       "       'Bar, Lounge', 'Food Court, Casual Dining'], dtype=object)"
      ]
     },
     "execution_count": 89,
     "metadata": {},
     "output_type": "execute_result"
    }
   ],
   "source": [
    "df2['rest_type'].unique()"
   ]
  },
  {
   "cell_type": "code",
   "execution_count": 90,
   "id": "d6081c70",
   "metadata": {
    "execution": {
     "iopub.execute_input": "2024-08-20T23:25:00.882562Z",
     "iopub.status.busy": "2024-08-20T23:25:00.881691Z",
     "iopub.status.idle": "2024-08-20T23:25:00.889270Z",
     "shell.execute_reply": "2024-08-20T23:25:00.888338Z"
    },
    "papermill": {
     "duration": 0.059572,
     "end_time": "2024-08-20T23:25:00.891623",
     "exception": false,
     "start_time": "2024-08-20T23:25:00.832051",
     "status": "completed"
    },
    "tags": []
   },
   "outputs": [
    {
     "data": {
      "text/plain": [
       "0        Pasta, Lunch Buffet, Masala Papad, Paneer Laja...\n",
       "1        Momos, Lunch Buffet, Chocolate Nirvana, Thai G...\n",
       "2        Churros, Cannelloni, Minestrone Soup, Hot Choc...\n",
       "3                                              Masala Dosa\n",
       "4                                      Panipuri, Gol Gappe\n",
       "                               ...                        \n",
       "51647    Beer, Chicken Guntur, Paneer Tikka, Fish, Nood...\n",
       "51649                                     Rooftop Ambience\n",
       "51650    Salads, Coffee, Breakfast Buffet, Halwa, Chick...\n",
       "51653                                 Biryani, Andhra Meal\n",
       "51657                         Cocktails, Pizza, Buttermilk\n",
       "Name: dish_liked, Length: 23425, dtype: object"
      ]
     },
     "execution_count": 90,
     "metadata": {},
     "output_type": "execute_result"
    }
   ],
   "source": [
    "df2['dish_liked']"
   ]
  },
  {
   "cell_type": "code",
   "execution_count": 91,
   "id": "5821456a",
   "metadata": {
    "execution": {
     "iopub.execute_input": "2024-08-20T23:25:00.991748Z",
     "iopub.status.busy": "2024-08-20T23:25:00.990874Z",
     "iopub.status.idle": "2024-08-20T23:25:00.999330Z",
     "shell.execute_reply": "2024-08-20T23:25:00.998341Z"
    },
    "papermill": {
     "duration": 0.061144,
     "end_time": "2024-08-20T23:25:01.001640",
     "exception": false,
     "start_time": "2024-08-20T23:25:00.940496",
     "status": "completed"
    },
    "tags": []
   },
   "outputs": [
    {
     "data": {
      "text/plain": [
       "0        [('Rated 4.0', 'RATED\\n  A beautiful place to ...\n",
       "1        [('Rated 4.0', 'RATED\\n  Had been here for din...\n",
       "2        [('Rated 3.0', \"RATED\\n  Ambience is not that ...\n",
       "3        [('Rated 4.0', \"RATED\\n  Great food and proper...\n",
       "4        [('Rated 4.0', 'RATED\\n  Very good restaurant ...\n",
       "                               ...                        \n",
       "51647    [('Rated 3.0', \"RATED\\n  Nice place to hangout...\n",
       "51649    [('Rated 4.0', 'RATED\\n  Went there post dinne...\n",
       "51650    [('Rated 3.0', 'RATED\\n  Place is good not tha...\n",
       "51653    [('Rated 4.0', 'RATED\\n  A fine place to chill...\n",
       "51657    [('Rated 4.0', 'RATED\\n  Nice and friendly pla...\n",
       "Name: reviews_list, Length: 23425, dtype: object"
      ]
     },
     "execution_count": 91,
     "metadata": {},
     "output_type": "execute_result"
    }
   ],
   "source": [
    "df2['reviews_list']\n",
    "#we dont need this in our analsis, so lets drop it\n"
   ]
  },
  {
   "cell_type": "code",
   "execution_count": 92,
   "id": "755bab6f",
   "metadata": {
    "execution": {
     "iopub.execute_input": "2024-08-20T23:25:01.103051Z",
     "iopub.status.busy": "2024-08-20T23:25:01.102241Z",
     "iopub.status.idle": "2024-08-20T23:25:01.110398Z",
     "shell.execute_reply": "2024-08-20T23:25:01.109550Z"
    },
    "papermill": {
     "duration": 0.061151,
     "end_time": "2024-08-20T23:25:01.112622",
     "exception": false,
     "start_time": "2024-08-20T23:25:01.051471",
     "status": "completed"
    },
    "tags": []
   },
   "outputs": [],
   "source": [
    "df2 = df2.drop(labels= 'reviews_list', axis= 1)"
   ]
  },
  {
   "cell_type": "code",
   "execution_count": 93,
   "id": "f1c87546",
   "metadata": {
    "execution": {
     "iopub.execute_input": "2024-08-20T23:25:01.211368Z",
     "iopub.status.busy": "2024-08-20T23:25:01.210995Z",
     "iopub.status.idle": "2024-08-20T23:25:01.235824Z",
     "shell.execute_reply": "2024-08-20T23:25:01.234577Z"
    },
    "papermill": {
     "duration": 0.076766,
     "end_time": "2024-08-20T23:25:01.238091",
     "exception": false,
     "start_time": "2024-08-20T23:25:01.161325",
     "status": "completed"
    },
    "tags": []
   },
   "outputs": [
    {
     "name": "stdout",
     "output_type": "stream",
     "text": [
      "<class 'pandas.core.frame.DataFrame'>\n",
      "Index: 23425 entries, 0 to 51657\n",
      "Data columns (total 13 columns):\n",
      " #   Column                       Non-Null Count  Dtype \n",
      "---  ------                       --------------  ----- \n",
      " 0   name                         23425 non-null  object\n",
      " 1   online_order                 23425 non-null  object\n",
      " 2   book_table                   23425 non-null  object\n",
      " 3   rate                         23425 non-null  object\n",
      " 4   votes                        23425 non-null  object\n",
      " 5   location                     23425 non-null  object\n",
      " 6   rest_type                    23425 non-null  object\n",
      " 7   dish_liked                   23425 non-null  object\n",
      " 8   cuisines                     23425 non-null  object\n",
      " 9   approx_cost(for two people)  23425 non-null  object\n",
      " 10  menu_item                    23425 non-null  object\n",
      " 11  listed_in(type)              23425 non-null  object\n",
      " 12  listed_in(city)              23425 non-null  object\n",
      "dtypes: object(13)\n",
      "memory usage: 2.5+ MB\n"
     ]
    }
   ],
   "source": [
    "df2.info()"
   ]
  },
  {
   "cell_type": "code",
   "execution_count": 94,
   "id": "422633ac",
   "metadata": {
    "execution": {
     "iopub.execute_input": "2024-08-20T23:25:01.337520Z",
     "iopub.status.busy": "2024-08-20T23:25:01.336660Z",
     "iopub.status.idle": "2024-08-20T23:25:01.344553Z",
     "shell.execute_reply": "2024-08-20T23:25:01.343566Z"
    },
    "papermill": {
     "duration": 0.059801,
     "end_time": "2024-08-20T23:25:01.346695",
     "exception": false,
     "start_time": "2024-08-20T23:25:01.286894",
     "status": "completed"
    },
    "tags": []
   },
   "outputs": [
    {
     "data": {
      "text/plain": [
       "0                     North Indian, Mughlai, Chinese\n",
       "1                        Chinese, North Indian, Thai\n",
       "2                             Cafe, Mexican, Italian\n",
       "3                         South Indian, North Indian\n",
       "4                           North Indian, Rajasthani\n",
       "                            ...                     \n",
       "51647       North Indian, Continental, Mediterranean\n",
       "51649                                    Finger Food\n",
       "51650             Chinese, Continental, North Indian\n",
       "51653    Andhra, South Indian, Chinese, North Indian\n",
       "51657                                    Finger Food\n",
       "Name: cuisines, Length: 23425, dtype: object"
      ]
     },
     "execution_count": 94,
     "metadata": {},
     "output_type": "execute_result"
    }
   ],
   "source": [
    "df2['cuisines']"
   ]
  },
  {
   "cell_type": "code",
   "execution_count": 95,
   "id": "4a2e6f32",
   "metadata": {
    "execution": {
     "iopub.execute_input": "2024-08-20T23:25:01.449707Z",
     "iopub.status.busy": "2024-08-20T23:25:01.449358Z",
     "iopub.status.idle": "2024-08-20T23:25:01.457548Z",
     "shell.execute_reply": "2024-08-20T23:25:01.456519Z"
    },
    "papermill": {
     "duration": 0.06087,
     "end_time": "2024-08-20T23:25:01.459534",
     "exception": false,
     "start_time": "2024-08-20T23:25:01.398664",
     "status": "completed"
    },
    "tags": []
   },
   "outputs": [
    {
     "data": {
      "text/plain": [
       "0        []\n",
       "1        []\n",
       "2        []\n",
       "3        []\n",
       "4        []\n",
       "         ..\n",
       "51647    []\n",
       "51649    []\n",
       "51650    []\n",
       "51653    []\n",
       "51657    []\n",
       "Name: menu_item, Length: 23425, dtype: object"
      ]
     },
     "execution_count": 95,
     "metadata": {},
     "output_type": "execute_result"
    }
   ],
   "source": [
    "df2['menu_item']"
   ]
  },
  {
   "cell_type": "code",
   "execution_count": 96,
   "id": "cc33820a",
   "metadata": {
    "execution": {
     "iopub.execute_input": "2024-08-20T23:25:01.572014Z",
     "iopub.status.busy": "2024-08-20T23:25:01.570931Z",
     "iopub.status.idle": "2024-08-20T23:25:01.580098Z",
     "shell.execute_reply": "2024-08-20T23:25:01.579010Z"
    },
    "papermill": {
     "duration": 0.072579,
     "end_time": "2024-08-20T23:25:01.582574",
     "exception": false,
     "start_time": "2024-08-20T23:25:01.509995",
     "status": "completed"
    },
    "tags": []
   },
   "outputs": [],
   "source": [
    "#menu item is blank, so lets drop it \n",
    "df2 = df2.drop(labels='menu_item', axis=1)"
   ]
  },
  {
   "cell_type": "code",
   "execution_count": 97,
   "id": "bc60f1c5",
   "metadata": {
    "execution": {
     "iopub.execute_input": "2024-08-20T23:25:01.688430Z",
     "iopub.status.busy": "2024-08-20T23:25:01.687669Z",
     "iopub.status.idle": "2024-08-20T23:25:01.711600Z",
     "shell.execute_reply": "2024-08-20T23:25:01.710356Z"
    },
    "papermill": {
     "duration": 0.07588,
     "end_time": "2024-08-20T23:25:01.713671",
     "exception": false,
     "start_time": "2024-08-20T23:25:01.637791",
     "status": "completed"
    },
    "tags": []
   },
   "outputs": [
    {
     "name": "stdout",
     "output_type": "stream",
     "text": [
      "<class 'pandas.core.frame.DataFrame'>\n",
      "Index: 23425 entries, 0 to 51657\n",
      "Data columns (total 12 columns):\n",
      " #   Column                       Non-Null Count  Dtype \n",
      "---  ------                       --------------  ----- \n",
      " 0   name                         23425 non-null  object\n",
      " 1   online_order                 23425 non-null  object\n",
      " 2   book_table                   23425 non-null  object\n",
      " 3   rate                         23425 non-null  object\n",
      " 4   votes                        23425 non-null  object\n",
      " 5   location                     23425 non-null  object\n",
      " 6   rest_type                    23425 non-null  object\n",
      " 7   dish_liked                   23425 non-null  object\n",
      " 8   cuisines                     23425 non-null  object\n",
      " 9   approx_cost(for two people)  23425 non-null  object\n",
      " 10  listed_in(type)              23425 non-null  object\n",
      " 11  listed_in(city)              23425 non-null  object\n",
      "dtypes: object(12)\n",
      "memory usage: 2.3+ MB\n"
     ]
    }
   ],
   "source": [
    "df2.info()"
   ]
  },
  {
   "cell_type": "markdown",
   "id": "637cd638",
   "metadata": {
    "papermill": {
     "duration": 0.048888,
     "end_time": "2024-08-20T23:25:01.811674",
     "exception": false,
     "start_time": "2024-08-20T23:25:01.762786",
     "status": "completed"
    },
    "tags": []
   },
   "source": [
    "## df2['listed_in(type)']"
   ]
  },
  {
   "cell_type": "code",
   "execution_count": 98,
   "id": "4a387456",
   "metadata": {
    "execution": {
     "iopub.execute_input": "2024-08-20T23:25:01.912531Z",
     "iopub.status.busy": "2024-08-20T23:25:01.911869Z",
     "iopub.status.idle": "2024-08-20T23:25:01.928753Z",
     "shell.execute_reply": "2024-08-20T23:25:01.927818Z"
    },
    "papermill": {
     "duration": 0.070019,
     "end_time": "2024-08-20T23:25:01.930959",
     "exception": false,
     "start_time": "2024-08-20T23:25:01.860940",
     "status": "completed"
    },
    "tags": []
   },
   "outputs": [
    {
     "data": {
      "text/html": [
       "<div>\n",
       "<style scoped>\n",
       "    .dataframe tbody tr th:only-of-type {\n",
       "        vertical-align: middle;\n",
       "    }\n",
       "\n",
       "    .dataframe tbody tr th {\n",
       "        vertical-align: top;\n",
       "    }\n",
       "\n",
       "    .dataframe thead th {\n",
       "        text-align: right;\n",
       "    }\n",
       "</style>\n",
       "<table border=\"1\" class=\"dataframe\">\n",
       "  <thead>\n",
       "    <tr style=\"text-align: right;\">\n",
       "      <th></th>\n",
       "      <th>name</th>\n",
       "      <th>online_order</th>\n",
       "      <th>book_table</th>\n",
       "      <th>rate</th>\n",
       "      <th>votes</th>\n",
       "      <th>location</th>\n",
       "      <th>rest_type</th>\n",
       "      <th>dish_liked</th>\n",
       "      <th>cuisines</th>\n",
       "      <th>approx_cost(for two people)</th>\n",
       "      <th>listed_in(type)</th>\n",
       "      <th>listed_in(city)</th>\n",
       "    </tr>\n",
       "  </thead>\n",
       "  <tbody>\n",
       "    <tr>\n",
       "      <th>0</th>\n",
       "      <td>Jalsa</td>\n",
       "      <td>Yes</td>\n",
       "      <td>Yes</td>\n",
       "      <td>4.1</td>\n",
       "      <td>775</td>\n",
       "      <td>Banashankari</td>\n",
       "      <td>Casual Dining</td>\n",
       "      <td>Pasta, Lunch Buffet, Masala Papad, Paneer Laja...</td>\n",
       "      <td>North Indian, Mughlai, Chinese</td>\n",
       "      <td>800</td>\n",
       "      <td>Buffet</td>\n",
       "      <td>Banashankari</td>\n",
       "    </tr>\n",
       "    <tr>\n",
       "      <th>1</th>\n",
       "      <td>Spice Elephant</td>\n",
       "      <td>Yes</td>\n",
       "      <td>No</td>\n",
       "      <td>4.1</td>\n",
       "      <td>787</td>\n",
       "      <td>Banashankari</td>\n",
       "      <td>Casual Dining</td>\n",
       "      <td>Momos, Lunch Buffet, Chocolate Nirvana, Thai G...</td>\n",
       "      <td>Chinese, North Indian, Thai</td>\n",
       "      <td>800</td>\n",
       "      <td>Buffet</td>\n",
       "      <td>Banashankari</td>\n",
       "    </tr>\n",
       "    <tr>\n",
       "      <th>2</th>\n",
       "      <td>San Churro Cafe</td>\n",
       "      <td>Yes</td>\n",
       "      <td>No</td>\n",
       "      <td>3.8</td>\n",
       "      <td>918</td>\n",
       "      <td>Banashankari</td>\n",
       "      <td>Cafe, Casual Dining</td>\n",
       "      <td>Churros, Cannelloni, Minestrone Soup, Hot Choc...</td>\n",
       "      <td>Cafe, Mexican, Italian</td>\n",
       "      <td>800</td>\n",
       "      <td>Buffet</td>\n",
       "      <td>Banashankari</td>\n",
       "    </tr>\n",
       "    <tr>\n",
       "      <th>3</th>\n",
       "      <td>Addhuri Udupi Bhojana</td>\n",
       "      <td>No</td>\n",
       "      <td>No</td>\n",
       "      <td>3.7</td>\n",
       "      <td>88</td>\n",
       "      <td>Banashankari</td>\n",
       "      <td>Quick Bites</td>\n",
       "      <td>Masala Dosa</td>\n",
       "      <td>South Indian, North Indian</td>\n",
       "      <td>300</td>\n",
       "      <td>Buffet</td>\n",
       "      <td>Banashankari</td>\n",
       "    </tr>\n",
       "    <tr>\n",
       "      <th>4</th>\n",
       "      <td>Grand Village</td>\n",
       "      <td>No</td>\n",
       "      <td>No</td>\n",
       "      <td>3.8</td>\n",
       "      <td>166</td>\n",
       "      <td>Basavanagudi</td>\n",
       "      <td>Casual Dining</td>\n",
       "      <td>Panipuri, Gol Gappe</td>\n",
       "      <td>North Indian, Rajasthani</td>\n",
       "      <td>600</td>\n",
       "      <td>Buffet</td>\n",
       "      <td>Banashankari</td>\n",
       "    </tr>\n",
       "    <tr>\n",
       "      <th>...</th>\n",
       "      <td>...</td>\n",
       "      <td>...</td>\n",
       "      <td>...</td>\n",
       "      <td>...</td>\n",
       "      <td>...</td>\n",
       "      <td>...</td>\n",
       "      <td>...</td>\n",
       "      <td>...</td>\n",
       "      <td>...</td>\n",
       "      <td>...</td>\n",
       "      <td>...</td>\n",
       "      <td>...</td>\n",
       "    </tr>\n",
       "    <tr>\n",
       "      <th>51647</th>\n",
       "      <td>Izakaya Gastro Pub</td>\n",
       "      <td>Yes</td>\n",
       "      <td>Yes</td>\n",
       "      <td>3.8</td>\n",
       "      <td>128</td>\n",
       "      <td>Whitefield</td>\n",
       "      <td>Bar, Casual Dining</td>\n",
       "      <td>Beer, Chicken Guntur, Paneer Tikka, Fish, Nood...</td>\n",
       "      <td>North Indian, Continental, Mediterranean</td>\n",
       "      <td>1,200</td>\n",
       "      <td>Pubs and bars</td>\n",
       "      <td>Whitefield</td>\n",
       "    </tr>\n",
       "    <tr>\n",
       "      <th>51649</th>\n",
       "      <td>M Bar - Bengaluru Marriott Hotel Whitefield</td>\n",
       "      <td>No</td>\n",
       "      <td>No</td>\n",
       "      <td>3.9</td>\n",
       "      <td>77</td>\n",
       "      <td>Whitefield</td>\n",
       "      <td>Fine Dining, Bar</td>\n",
       "      <td>Rooftop Ambience</td>\n",
       "      <td>Finger Food</td>\n",
       "      <td>2,000</td>\n",
       "      <td>Pubs and bars</td>\n",
       "      <td>Whitefield</td>\n",
       "    </tr>\n",
       "    <tr>\n",
       "      <th>51650</th>\n",
       "      <td>Keys Cafe - Keys Hotel</td>\n",
       "      <td>No</td>\n",
       "      <td>No</td>\n",
       "      <td>2.8</td>\n",
       "      <td>161</td>\n",
       "      <td>Whitefield</td>\n",
       "      <td>Casual Dining, Bar</td>\n",
       "      <td>Salads, Coffee, Breakfast Buffet, Halwa, Chick...</td>\n",
       "      <td>Chinese, Continental, North Indian</td>\n",
       "      <td>1,200</td>\n",
       "      <td>Pubs and bars</td>\n",
       "      <td>Whitefield</td>\n",
       "    </tr>\n",
       "    <tr>\n",
       "      <th>51653</th>\n",
       "      <td>Bhagini</td>\n",
       "      <td>No</td>\n",
       "      <td>No</td>\n",
       "      <td>2.0</td>\n",
       "      <td>81</td>\n",
       "      <td>Whitefield</td>\n",
       "      <td>Casual Dining, Bar</td>\n",
       "      <td>Biryani, Andhra Meal</td>\n",
       "      <td>Andhra, South Indian, Chinese, North Indian</td>\n",
       "      <td>800</td>\n",
       "      <td>Pubs and bars</td>\n",
       "      <td>Whitefield</td>\n",
       "    </tr>\n",
       "    <tr>\n",
       "      <th>51657</th>\n",
       "      <td>Chime - Sheraton Grand Bengaluru Whitefield Ho...</td>\n",
       "      <td>No</td>\n",
       "      <td>Yes</td>\n",
       "      <td>4.3</td>\n",
       "      <td>236</td>\n",
       "      <td>ITPL Main Road, Whitefield</td>\n",
       "      <td>Bar</td>\n",
       "      <td>Cocktails, Pizza, Buttermilk</td>\n",
       "      <td>Finger Food</td>\n",
       "      <td>2,500</td>\n",
       "      <td>Pubs and bars</td>\n",
       "      <td>Whitefield</td>\n",
       "    </tr>\n",
       "  </tbody>\n",
       "</table>\n",
       "<p>23425 rows × 12 columns</p>\n",
       "</div>"
      ],
      "text/plain": [
       "                                                    name online_order  \\\n",
       "0                                                  Jalsa          Yes   \n",
       "1                                         Spice Elephant          Yes   \n",
       "2                                        San Churro Cafe          Yes   \n",
       "3                                  Addhuri Udupi Bhojana           No   \n",
       "4                                          Grand Village           No   \n",
       "...                                                  ...          ...   \n",
       "51647                                 Izakaya Gastro Pub          Yes   \n",
       "51649        M Bar - Bengaluru Marriott Hotel Whitefield           No   \n",
       "51650                             Keys Cafe - Keys Hotel           No   \n",
       "51653                                            Bhagini           No   \n",
       "51657  Chime - Sheraton Grand Bengaluru Whitefield Ho...           No   \n",
       "\n",
       "      book_table rate votes                    location            rest_type  \\\n",
       "0            Yes  4.1   775                Banashankari        Casual Dining   \n",
       "1             No  4.1   787                Banashankari        Casual Dining   \n",
       "2             No  3.8   918                Banashankari  Cafe, Casual Dining   \n",
       "3             No  3.7    88                Banashankari          Quick Bites   \n",
       "4             No  3.8   166                Basavanagudi        Casual Dining   \n",
       "...          ...  ...   ...                         ...                  ...   \n",
       "51647        Yes  3.8   128                  Whitefield   Bar, Casual Dining   \n",
       "51649         No  3.9    77                  Whitefield     Fine Dining, Bar   \n",
       "51650         No  2.8   161                  Whitefield   Casual Dining, Bar   \n",
       "51653         No  2.0    81                  Whitefield   Casual Dining, Bar   \n",
       "51657        Yes  4.3   236  ITPL Main Road, Whitefield                  Bar   \n",
       "\n",
       "                                              dish_liked  \\\n",
       "0      Pasta, Lunch Buffet, Masala Papad, Paneer Laja...   \n",
       "1      Momos, Lunch Buffet, Chocolate Nirvana, Thai G...   \n",
       "2      Churros, Cannelloni, Minestrone Soup, Hot Choc...   \n",
       "3                                            Masala Dosa   \n",
       "4                                    Panipuri, Gol Gappe   \n",
       "...                                                  ...   \n",
       "51647  Beer, Chicken Guntur, Paneer Tikka, Fish, Nood...   \n",
       "51649                                   Rooftop Ambience   \n",
       "51650  Salads, Coffee, Breakfast Buffet, Halwa, Chick...   \n",
       "51653                               Biryani, Andhra Meal   \n",
       "51657                       Cocktails, Pizza, Buttermilk   \n",
       "\n",
       "                                          cuisines  \\\n",
       "0                   North Indian, Mughlai, Chinese   \n",
       "1                      Chinese, North Indian, Thai   \n",
       "2                           Cafe, Mexican, Italian   \n",
       "3                       South Indian, North Indian   \n",
       "4                         North Indian, Rajasthani   \n",
       "...                                            ...   \n",
       "51647     North Indian, Continental, Mediterranean   \n",
       "51649                                  Finger Food   \n",
       "51650           Chinese, Continental, North Indian   \n",
       "51653  Andhra, South Indian, Chinese, North Indian   \n",
       "51657                                  Finger Food   \n",
       "\n",
       "      approx_cost(for two people) listed_in(type) listed_in(city)  \n",
       "0                             800          Buffet    Banashankari  \n",
       "1                             800          Buffet    Banashankari  \n",
       "2                             800          Buffet    Banashankari  \n",
       "3                             300          Buffet    Banashankari  \n",
       "4                             600          Buffet    Banashankari  \n",
       "...                           ...             ...             ...  \n",
       "51647                       1,200   Pubs and bars      Whitefield  \n",
       "51649                       2,000   Pubs and bars      Whitefield  \n",
       "51650                       1,200   Pubs and bars      Whitefield  \n",
       "51653                         800   Pubs and bars      Whitefield  \n",
       "51657                       2,500   Pubs and bars      Whitefield  \n",
       "\n",
       "[23425 rows x 12 columns]"
      ]
     },
     "execution_count": 98,
     "metadata": {},
     "output_type": "execute_result"
    }
   ],
   "source": [
    "df2"
   ]
  },
  {
   "cell_type": "code",
   "execution_count": 99,
   "id": "c3d6a8c7",
   "metadata": {
    "execution": {
     "iopub.execute_input": "2024-08-20T23:25:02.032169Z",
     "iopub.status.busy": "2024-08-20T23:25:02.031458Z",
     "iopub.status.idle": "2024-08-20T23:25:02.037942Z",
     "shell.execute_reply": "2024-08-20T23:25:02.037028Z"
    },
    "papermill": {
     "duration": 0.059172,
     "end_time": "2024-08-20T23:25:02.039970",
     "exception": false,
     "start_time": "2024-08-20T23:25:01.980798",
     "status": "completed"
    },
    "tags": []
   },
   "outputs": [
    {
     "data": {
      "text/plain": [
       "Index(['name', 'online_order', 'book_table', 'rate', 'votes', 'location',\n",
       "       'rest_type', 'dish_liked', 'cuisines', 'approx_cost(for two people)',\n",
       "       'listed_in(type)', 'listed_in(city)'],\n",
       "      dtype='object')"
      ]
     },
     "execution_count": 99,
     "metadata": {},
     "output_type": "execute_result"
    }
   ],
   "source": [
    "df2.columns "
   ]
  },
  {
   "cell_type": "code",
   "execution_count": 100,
   "id": "20f8b947",
   "metadata": {
    "execution": {
     "iopub.execute_input": "2024-08-20T23:25:02.143490Z",
     "iopub.status.busy": "2024-08-20T23:25:02.142552Z",
     "iopub.status.idle": "2024-08-20T23:25:02.147736Z",
     "shell.execute_reply": "2024-08-20T23:25:02.146881Z"
    },
    "papermill": {
     "duration": 0.05815,
     "end_time": "2024-08-20T23:25:02.149843",
     "exception": false,
     "start_time": "2024-08-20T23:25:02.091693",
     "status": "completed"
    },
    "tags": []
   },
   "outputs": [],
   "source": [
    "#lets rename some columns\n",
    "column_numpy = df2.columns.values"
   ]
  },
  {
   "cell_type": "code",
   "execution_count": 101,
   "id": "ac91963f",
   "metadata": {
    "execution": {
     "iopub.execute_input": "2024-08-20T23:25:02.251583Z",
     "iopub.status.busy": "2024-08-20T23:25:02.251206Z",
     "iopub.status.idle": "2024-08-20T23:25:02.255671Z",
     "shell.execute_reply": "2024-08-20T23:25:02.254787Z"
    },
    "papermill": {
     "duration": 0.057444,
     "end_time": "2024-08-20T23:25:02.257836",
     "exception": false,
     "start_time": "2024-08-20T23:25:02.200392",
     "status": "completed"
    },
    "tags": []
   },
   "outputs": [],
   "source": [
    "column_numpy[10] = 'Type'"
   ]
  },
  {
   "cell_type": "code",
   "execution_count": 102,
   "id": "500b5d14",
   "metadata": {
    "execution": {
     "iopub.execute_input": "2024-08-20T23:25:02.358923Z",
     "iopub.status.busy": "2024-08-20T23:25:02.358583Z",
     "iopub.status.idle": "2024-08-20T23:25:02.363133Z",
     "shell.execute_reply": "2024-08-20T23:25:02.362201Z"
    },
    "papermill": {
     "duration": 0.057705,
     "end_time": "2024-08-20T23:25:02.365089",
     "exception": false,
     "start_time": "2024-08-20T23:25:02.307384",
     "status": "completed"
    },
    "tags": []
   },
   "outputs": [],
   "source": [
    "column_numpy[9] = 'Cost2plates'"
   ]
  },
  {
   "cell_type": "code",
   "execution_count": 103,
   "id": "3aae89ff",
   "metadata": {
    "execution": {
     "iopub.execute_input": "2024-08-20T23:25:02.466594Z",
     "iopub.status.busy": "2024-08-20T23:25:02.465864Z",
     "iopub.status.idle": "2024-08-20T23:25:02.472020Z",
     "shell.execute_reply": "2024-08-20T23:25:02.471120Z"
    },
    "papermill": {
     "duration": 0.059194,
     "end_time": "2024-08-20T23:25:02.474118",
     "exception": false,
     "start_time": "2024-08-20T23:25:02.414924",
     "status": "completed"
    },
    "tags": []
   },
   "outputs": [
    {
     "data": {
      "text/plain": [
       "array(['name', 'online_order', 'book_table', 'rate', 'votes', 'location',\n",
       "       'rest_type', 'dish_liked', 'cuisines', 'Cost2plates', 'Type',\n",
       "       'listed_in(city)'], dtype=object)"
      ]
     },
     "execution_count": 103,
     "metadata": {},
     "output_type": "execute_result"
    }
   ],
   "source": [
    "column_numpy"
   ]
  },
  {
   "cell_type": "code",
   "execution_count": 104,
   "id": "77d8a591",
   "metadata": {
    "execution": {
     "iopub.execute_input": "2024-08-20T23:25:02.578022Z",
     "iopub.status.busy": "2024-08-20T23:25:02.577301Z",
     "iopub.status.idle": "2024-08-20T23:25:02.583411Z",
     "shell.execute_reply": "2024-08-20T23:25:02.582461Z"
    },
    "papermill": {
     "duration": 0.060181,
     "end_time": "2024-08-20T23:25:02.585520",
     "exception": false,
     "start_time": "2024-08-20T23:25:02.525339",
     "status": "completed"
    },
    "tags": []
   },
   "outputs": [],
   "source": [
    "#lets change it to pandas\n",
    "new_column = pd.DataFrame(columns= column_numpy)"
   ]
  },
  {
   "cell_type": "code",
   "execution_count": 105,
   "id": "ea1a17d7",
   "metadata": {
    "execution": {
     "iopub.execute_input": "2024-08-20T23:25:02.687276Z",
     "iopub.status.busy": "2024-08-20T23:25:02.686903Z",
     "iopub.status.idle": "2024-08-20T23:25:02.697161Z",
     "shell.execute_reply": "2024-08-20T23:25:02.696241Z"
    },
    "papermill": {
     "duration": 0.063307,
     "end_time": "2024-08-20T23:25:02.699134",
     "exception": false,
     "start_time": "2024-08-20T23:25:02.635827",
     "status": "completed"
    },
    "tags": []
   },
   "outputs": [
    {
     "data": {
      "text/html": [
       "<div>\n",
       "<style scoped>\n",
       "    .dataframe tbody tr th:only-of-type {\n",
       "        vertical-align: middle;\n",
       "    }\n",
       "\n",
       "    .dataframe tbody tr th {\n",
       "        vertical-align: top;\n",
       "    }\n",
       "\n",
       "    .dataframe thead th {\n",
       "        text-align: right;\n",
       "    }\n",
       "</style>\n",
       "<table border=\"1\" class=\"dataframe\">\n",
       "  <thead>\n",
       "    <tr style=\"text-align: right;\">\n",
       "      <th></th>\n",
       "      <th>name</th>\n",
       "      <th>online_order</th>\n",
       "      <th>book_table</th>\n",
       "      <th>rate</th>\n",
       "      <th>votes</th>\n",
       "      <th>location</th>\n",
       "      <th>rest_type</th>\n",
       "      <th>dish_liked</th>\n",
       "      <th>cuisines</th>\n",
       "      <th>Cost2plates</th>\n",
       "      <th>Type</th>\n",
       "      <th>listed_in(city)</th>\n",
       "    </tr>\n",
       "  </thead>\n",
       "  <tbody>\n",
       "  </tbody>\n",
       "</table>\n",
       "</div>"
      ],
      "text/plain": [
       "Empty DataFrame\n",
       "Columns: [name, online_order, book_table, rate, votes, location, rest_type, dish_liked, cuisines, Cost2plates, Type, listed_in(city)]\n",
       "Index: []"
      ]
     },
     "execution_count": 105,
     "metadata": {},
     "output_type": "execute_result"
    }
   ],
   "source": [
    "new_column"
   ]
  },
  {
   "cell_type": "code",
   "execution_count": 106,
   "id": "eeb56766",
   "metadata": {
    "execution": {
     "iopub.execute_input": "2024-08-20T23:25:02.800853Z",
     "iopub.status.busy": "2024-08-20T23:25:02.800514Z",
     "iopub.status.idle": "2024-08-20T23:25:02.805152Z",
     "shell.execute_reply": "2024-08-20T23:25:02.804157Z"
    },
    "papermill": {
     "duration": 0.058033,
     "end_time": "2024-08-20T23:25:02.807210",
     "exception": false,
     "start_time": "2024-08-20T23:25:02.749177",
     "status": "completed"
    },
    "tags": []
   },
   "outputs": [],
   "source": [
    "df2.columns = new_column.columns"
   ]
  },
  {
   "cell_type": "code",
   "execution_count": 107,
   "id": "9d4b3f24",
   "metadata": {
    "execution": {
     "iopub.execute_input": "2024-08-20T23:25:02.965877Z",
     "iopub.status.busy": "2024-08-20T23:25:02.965531Z",
     "iopub.status.idle": "2024-08-20T23:25:02.983121Z",
     "shell.execute_reply": "2024-08-20T23:25:02.982201Z"
    },
    "papermill": {
     "duration": 0.128142,
     "end_time": "2024-08-20T23:25:02.985376",
     "exception": false,
     "start_time": "2024-08-20T23:25:02.857234",
     "status": "completed"
    },
    "tags": []
   },
   "outputs": [
    {
     "data": {
      "text/html": [
       "<div>\n",
       "<style scoped>\n",
       "    .dataframe tbody tr th:only-of-type {\n",
       "        vertical-align: middle;\n",
       "    }\n",
       "\n",
       "    .dataframe tbody tr th {\n",
       "        vertical-align: top;\n",
       "    }\n",
       "\n",
       "    .dataframe thead th {\n",
       "        text-align: right;\n",
       "    }\n",
       "</style>\n",
       "<table border=\"1\" class=\"dataframe\">\n",
       "  <thead>\n",
       "    <tr style=\"text-align: right;\">\n",
       "      <th></th>\n",
       "      <th>name</th>\n",
       "      <th>online_order</th>\n",
       "      <th>book_table</th>\n",
       "      <th>rate</th>\n",
       "      <th>votes</th>\n",
       "      <th>location</th>\n",
       "      <th>rest_type</th>\n",
       "      <th>dish_liked</th>\n",
       "      <th>cuisines</th>\n",
       "      <th>Cost2plates</th>\n",
       "      <th>Type</th>\n",
       "      <th>listed_in(city)</th>\n",
       "    </tr>\n",
       "  </thead>\n",
       "  <tbody>\n",
       "    <tr>\n",
       "      <th>0</th>\n",
       "      <td>Jalsa</td>\n",
       "      <td>Yes</td>\n",
       "      <td>Yes</td>\n",
       "      <td>4.1</td>\n",
       "      <td>775</td>\n",
       "      <td>Banashankari</td>\n",
       "      <td>Casual Dining</td>\n",
       "      <td>Pasta, Lunch Buffet, Masala Papad, Paneer Laja...</td>\n",
       "      <td>North Indian, Mughlai, Chinese</td>\n",
       "      <td>800</td>\n",
       "      <td>Buffet</td>\n",
       "      <td>Banashankari</td>\n",
       "    </tr>\n",
       "    <tr>\n",
       "      <th>1</th>\n",
       "      <td>Spice Elephant</td>\n",
       "      <td>Yes</td>\n",
       "      <td>No</td>\n",
       "      <td>4.1</td>\n",
       "      <td>787</td>\n",
       "      <td>Banashankari</td>\n",
       "      <td>Casual Dining</td>\n",
       "      <td>Momos, Lunch Buffet, Chocolate Nirvana, Thai G...</td>\n",
       "      <td>Chinese, North Indian, Thai</td>\n",
       "      <td>800</td>\n",
       "      <td>Buffet</td>\n",
       "      <td>Banashankari</td>\n",
       "    </tr>\n",
       "    <tr>\n",
       "      <th>2</th>\n",
       "      <td>San Churro Cafe</td>\n",
       "      <td>Yes</td>\n",
       "      <td>No</td>\n",
       "      <td>3.8</td>\n",
       "      <td>918</td>\n",
       "      <td>Banashankari</td>\n",
       "      <td>Cafe, Casual Dining</td>\n",
       "      <td>Churros, Cannelloni, Minestrone Soup, Hot Choc...</td>\n",
       "      <td>Cafe, Mexican, Italian</td>\n",
       "      <td>800</td>\n",
       "      <td>Buffet</td>\n",
       "      <td>Banashankari</td>\n",
       "    </tr>\n",
       "    <tr>\n",
       "      <th>3</th>\n",
       "      <td>Addhuri Udupi Bhojana</td>\n",
       "      <td>No</td>\n",
       "      <td>No</td>\n",
       "      <td>3.7</td>\n",
       "      <td>88</td>\n",
       "      <td>Banashankari</td>\n",
       "      <td>Quick Bites</td>\n",
       "      <td>Masala Dosa</td>\n",
       "      <td>South Indian, North Indian</td>\n",
       "      <td>300</td>\n",
       "      <td>Buffet</td>\n",
       "      <td>Banashankari</td>\n",
       "    </tr>\n",
       "    <tr>\n",
       "      <th>4</th>\n",
       "      <td>Grand Village</td>\n",
       "      <td>No</td>\n",
       "      <td>No</td>\n",
       "      <td>3.8</td>\n",
       "      <td>166</td>\n",
       "      <td>Basavanagudi</td>\n",
       "      <td>Casual Dining</td>\n",
       "      <td>Panipuri, Gol Gappe</td>\n",
       "      <td>North Indian, Rajasthani</td>\n",
       "      <td>600</td>\n",
       "      <td>Buffet</td>\n",
       "      <td>Banashankari</td>\n",
       "    </tr>\n",
       "    <tr>\n",
       "      <th>...</th>\n",
       "      <td>...</td>\n",
       "      <td>...</td>\n",
       "      <td>...</td>\n",
       "      <td>...</td>\n",
       "      <td>...</td>\n",
       "      <td>...</td>\n",
       "      <td>...</td>\n",
       "      <td>...</td>\n",
       "      <td>...</td>\n",
       "      <td>...</td>\n",
       "      <td>...</td>\n",
       "      <td>...</td>\n",
       "    </tr>\n",
       "    <tr>\n",
       "      <th>51647</th>\n",
       "      <td>Izakaya Gastro Pub</td>\n",
       "      <td>Yes</td>\n",
       "      <td>Yes</td>\n",
       "      <td>3.8</td>\n",
       "      <td>128</td>\n",
       "      <td>Whitefield</td>\n",
       "      <td>Bar, Casual Dining</td>\n",
       "      <td>Beer, Chicken Guntur, Paneer Tikka, Fish, Nood...</td>\n",
       "      <td>North Indian, Continental, Mediterranean</td>\n",
       "      <td>1,200</td>\n",
       "      <td>Pubs and bars</td>\n",
       "      <td>Whitefield</td>\n",
       "    </tr>\n",
       "    <tr>\n",
       "      <th>51649</th>\n",
       "      <td>M Bar - Bengaluru Marriott Hotel Whitefield</td>\n",
       "      <td>No</td>\n",
       "      <td>No</td>\n",
       "      <td>3.9</td>\n",
       "      <td>77</td>\n",
       "      <td>Whitefield</td>\n",
       "      <td>Fine Dining, Bar</td>\n",
       "      <td>Rooftop Ambience</td>\n",
       "      <td>Finger Food</td>\n",
       "      <td>2,000</td>\n",
       "      <td>Pubs and bars</td>\n",
       "      <td>Whitefield</td>\n",
       "    </tr>\n",
       "    <tr>\n",
       "      <th>51650</th>\n",
       "      <td>Keys Cafe - Keys Hotel</td>\n",
       "      <td>No</td>\n",
       "      <td>No</td>\n",
       "      <td>2.8</td>\n",
       "      <td>161</td>\n",
       "      <td>Whitefield</td>\n",
       "      <td>Casual Dining, Bar</td>\n",
       "      <td>Salads, Coffee, Breakfast Buffet, Halwa, Chick...</td>\n",
       "      <td>Chinese, Continental, North Indian</td>\n",
       "      <td>1,200</td>\n",
       "      <td>Pubs and bars</td>\n",
       "      <td>Whitefield</td>\n",
       "    </tr>\n",
       "    <tr>\n",
       "      <th>51653</th>\n",
       "      <td>Bhagini</td>\n",
       "      <td>No</td>\n",
       "      <td>No</td>\n",
       "      <td>2.0</td>\n",
       "      <td>81</td>\n",
       "      <td>Whitefield</td>\n",
       "      <td>Casual Dining, Bar</td>\n",
       "      <td>Biryani, Andhra Meal</td>\n",
       "      <td>Andhra, South Indian, Chinese, North Indian</td>\n",
       "      <td>800</td>\n",
       "      <td>Pubs and bars</td>\n",
       "      <td>Whitefield</td>\n",
       "    </tr>\n",
       "    <tr>\n",
       "      <th>51657</th>\n",
       "      <td>Chime - Sheraton Grand Bengaluru Whitefield Ho...</td>\n",
       "      <td>No</td>\n",
       "      <td>Yes</td>\n",
       "      <td>4.3</td>\n",
       "      <td>236</td>\n",
       "      <td>ITPL Main Road, Whitefield</td>\n",
       "      <td>Bar</td>\n",
       "      <td>Cocktails, Pizza, Buttermilk</td>\n",
       "      <td>Finger Food</td>\n",
       "      <td>2,500</td>\n",
       "      <td>Pubs and bars</td>\n",
       "      <td>Whitefield</td>\n",
       "    </tr>\n",
       "  </tbody>\n",
       "</table>\n",
       "<p>23425 rows × 12 columns</p>\n",
       "</div>"
      ],
      "text/plain": [
       "                                                    name online_order  \\\n",
       "0                                                  Jalsa          Yes   \n",
       "1                                         Spice Elephant          Yes   \n",
       "2                                        San Churro Cafe          Yes   \n",
       "3                                  Addhuri Udupi Bhojana           No   \n",
       "4                                          Grand Village           No   \n",
       "...                                                  ...          ...   \n",
       "51647                                 Izakaya Gastro Pub          Yes   \n",
       "51649        M Bar - Bengaluru Marriott Hotel Whitefield           No   \n",
       "51650                             Keys Cafe - Keys Hotel           No   \n",
       "51653                                            Bhagini           No   \n",
       "51657  Chime - Sheraton Grand Bengaluru Whitefield Ho...           No   \n",
       "\n",
       "      book_table rate votes                    location            rest_type  \\\n",
       "0            Yes  4.1   775                Banashankari        Casual Dining   \n",
       "1             No  4.1   787                Banashankari        Casual Dining   \n",
       "2             No  3.8   918                Banashankari  Cafe, Casual Dining   \n",
       "3             No  3.7    88                Banashankari          Quick Bites   \n",
       "4             No  3.8   166                Basavanagudi        Casual Dining   \n",
       "...          ...  ...   ...                         ...                  ...   \n",
       "51647        Yes  3.8   128                  Whitefield   Bar, Casual Dining   \n",
       "51649         No  3.9    77                  Whitefield     Fine Dining, Bar   \n",
       "51650         No  2.8   161                  Whitefield   Casual Dining, Bar   \n",
       "51653         No  2.0    81                  Whitefield   Casual Dining, Bar   \n",
       "51657        Yes  4.3   236  ITPL Main Road, Whitefield                  Bar   \n",
       "\n",
       "                                              dish_liked  \\\n",
       "0      Pasta, Lunch Buffet, Masala Papad, Paneer Laja...   \n",
       "1      Momos, Lunch Buffet, Chocolate Nirvana, Thai G...   \n",
       "2      Churros, Cannelloni, Minestrone Soup, Hot Choc...   \n",
       "3                                            Masala Dosa   \n",
       "4                                    Panipuri, Gol Gappe   \n",
       "...                                                  ...   \n",
       "51647  Beer, Chicken Guntur, Paneer Tikka, Fish, Nood...   \n",
       "51649                                   Rooftop Ambience   \n",
       "51650  Salads, Coffee, Breakfast Buffet, Halwa, Chick...   \n",
       "51653                               Biryani, Andhra Meal   \n",
       "51657                       Cocktails, Pizza, Buttermilk   \n",
       "\n",
       "                                          cuisines Cost2plates           Type  \\\n",
       "0                   North Indian, Mughlai, Chinese         800         Buffet   \n",
       "1                      Chinese, North Indian, Thai         800         Buffet   \n",
       "2                           Cafe, Mexican, Italian         800         Buffet   \n",
       "3                       South Indian, North Indian         300         Buffet   \n",
       "4                         North Indian, Rajasthani         600         Buffet   \n",
       "...                                            ...         ...            ...   \n",
       "51647     North Indian, Continental, Mediterranean       1,200  Pubs and bars   \n",
       "51649                                  Finger Food       2,000  Pubs and bars   \n",
       "51650           Chinese, Continental, North Indian       1,200  Pubs and bars   \n",
       "51653  Andhra, South Indian, Chinese, North Indian         800  Pubs and bars   \n",
       "51657                                  Finger Food       2,500  Pubs and bars   \n",
       "\n",
       "      listed_in(city)  \n",
       "0        Banashankari  \n",
       "1        Banashankari  \n",
       "2        Banashankari  \n",
       "3        Banashankari  \n",
       "4        Banashankari  \n",
       "...               ...  \n",
       "51647      Whitefield  \n",
       "51649      Whitefield  \n",
       "51650      Whitefield  \n",
       "51653      Whitefield  \n",
       "51657      Whitefield  \n",
       "\n",
       "[23425 rows x 12 columns]"
      ]
     },
     "execution_count": 107,
     "metadata": {},
     "output_type": "execute_result"
    }
   ],
   "source": [
    "df2"
   ]
  },
  {
   "cell_type": "code",
   "execution_count": 108,
   "id": "353cfabd",
   "metadata": {
    "execution": {
     "iopub.execute_input": "2024-08-20T23:25:03.090434Z",
     "iopub.status.busy": "2024-08-20T23:25:03.090028Z",
     "iopub.status.idle": "2024-08-20T23:25:03.113766Z",
     "shell.execute_reply": "2024-08-20T23:25:03.112630Z"
    },
    "papermill": {
     "duration": 0.079339,
     "end_time": "2024-08-20T23:25:03.116056",
     "exception": false,
     "start_time": "2024-08-20T23:25:03.036717",
     "status": "completed"
    },
    "tags": []
   },
   "outputs": [
    {
     "name": "stdout",
     "output_type": "stream",
     "text": [
      "<class 'pandas.core.frame.DataFrame'>\n",
      "Index: 23425 entries, 0 to 51657\n",
      "Data columns (total 12 columns):\n",
      " #   Column           Non-Null Count  Dtype \n",
      "---  ------           --------------  ----- \n",
      " 0   name             23425 non-null  object\n",
      " 1   online_order     23425 non-null  object\n",
      " 2   book_table       23425 non-null  object\n",
      " 3   rate             23425 non-null  object\n",
      " 4   votes            23425 non-null  object\n",
      " 5   location         23425 non-null  object\n",
      " 6   rest_type        23425 non-null  object\n",
      " 7   dish_liked       23425 non-null  object\n",
      " 8   cuisines         23425 non-null  object\n",
      " 9   Cost2plates      23425 non-null  object\n",
      " 10  Type             23425 non-null  object\n",
      " 11  listed_in(city)  23425 non-null  object\n",
      "dtypes: object(12)\n",
      "memory usage: 2.3+ MB\n"
     ]
    }
   ],
   "source": [
    "df2.info()"
   ]
  },
  {
   "cell_type": "code",
   "execution_count": 109,
   "id": "614d5d95",
   "metadata": {
    "execution": {
     "iopub.execute_input": "2024-08-20T23:25:03.220112Z",
     "iopub.status.busy": "2024-08-20T23:25:03.219761Z",
     "iopub.status.idle": "2024-08-20T23:25:03.228465Z",
     "shell.execute_reply": "2024-08-20T23:25:03.227460Z"
    },
    "papermill": {
     "duration": 0.063387,
     "end_time": "2024-08-20T23:25:03.230527",
     "exception": false,
     "start_time": "2024-08-20T23:25:03.167140",
     "status": "completed"
    },
    "tags": []
   },
   "outputs": [
    {
     "data": {
      "text/plain": [
       "array(['Banashankari', 'Basavanagudi', 'Jayanagar', 'Kumaraswamy Layout',\n",
       "       'Rajarajeshwari Nagar', 'Mysore Road', 'Uttarahalli',\n",
       "       'South Bangalore', 'Vijay Nagar', 'Bannerghatta Road', 'JP Nagar',\n",
       "       'BTM', 'Wilson Garden', 'Koramangala 5th Block', 'Shanti Nagar',\n",
       "       'Richmond Road', 'City Market', 'Bellandur', 'Sarjapur Road',\n",
       "       'Marathahalli', 'HSR', 'Old Airport Road', 'Indiranagar',\n",
       "       'Koramangala 1st Block', 'East Bangalore', 'MG Road',\n",
       "       'Brigade Road', 'Lavelle Road', 'Church Street', 'Ulsoor',\n",
       "       'Residency Road', 'Shivajinagar', 'Infantry Road',\n",
       "       'St. Marks Road', 'Cunningham Road', 'Race Course Road', 'Domlur',\n",
       "       'Koramangala 8th Block', 'Frazer Town', 'Ejipura', 'Vasanth Nagar',\n",
       "       'Jeevan Bhima Nagar', 'Old Madras Road', 'Commercial Street',\n",
       "       'Koramangala 6th Block', 'Majestic', 'Langford Town',\n",
       "       'Koramangala 7th Block', 'Brookefield', 'Whitefield',\n",
       "       'ITPL Main Road, Whitefield', 'Varthur Main Road, Whitefield',\n",
       "       'Koramangala 2nd Block', 'Koramangala 3rd Block',\n",
       "       'Koramangala 4th Block', 'Koramangala', 'Bommanahalli',\n",
       "       'Hosur Road', 'Seshadripuram', 'Electronic City', 'Banaswadi',\n",
       "       'North Bangalore', 'RT Nagar', 'Kammanahalli', 'Hennur',\n",
       "       'HBR Layout', 'Kalyan Nagar', 'Thippasandra', 'CV Raman Nagar',\n",
       "       'Kaggadasapura', 'Kanakapura Road', 'Nagawara', 'Rammurthy Nagar',\n",
       "       'Sankey Road', 'Central Bangalore', 'Malleshwaram',\n",
       "       'Sadashiv Nagar', 'Basaveshwara Nagar', 'Rajajinagar',\n",
       "       'New BEL Road', 'West Bangalore', 'Yeshwantpur', 'Sanjay Nagar',\n",
       "       'Sahakara Nagar', 'Jalahalli', 'Yelahanka', 'Magadi Road',\n",
       "       'KR Puram'], dtype=object)"
      ]
     },
     "execution_count": 109,
     "metadata": {},
     "output_type": "execute_result"
    }
   ],
   "source": [
    "df2['location'].unique()"
   ]
  },
  {
   "cell_type": "code",
   "execution_count": 110,
   "id": "0e7f6f58",
   "metadata": {
    "execution": {
     "iopub.execute_input": "2024-08-20T23:25:03.333092Z",
     "iopub.status.busy": "2024-08-20T23:25:03.332717Z",
     "iopub.status.idle": "2024-08-20T23:25:03.340976Z",
     "shell.execute_reply": "2024-08-20T23:25:03.339983Z"
    },
    "papermill": {
     "duration": 0.062308,
     "end_time": "2024-08-20T23:25:03.343073",
     "exception": false,
     "start_time": "2024-08-20T23:25:03.280765",
     "status": "completed"
    },
    "tags": []
   },
   "outputs": [
    {
     "data": {
      "text/plain": [
       "array(['Banashankari', 'Bannerghatta Road', 'Basavanagudi', 'Bellandur',\n",
       "       'Brigade Road', 'Brookefield', 'BTM', 'Church Street',\n",
       "       'Electronic City', 'Frazer Town', 'HSR', 'Indiranagar',\n",
       "       'Jayanagar', 'JP Nagar', 'Kalyan Nagar', 'Kammanahalli',\n",
       "       'Koramangala 4th Block', 'Koramangala 5th Block',\n",
       "       'Koramangala 6th Block', 'Koramangala 7th Block', 'Lavelle Road',\n",
       "       'Malleshwaram', 'Marathahalli', 'MG Road', 'New BEL Road',\n",
       "       'Old Airport Road', 'Rajajinagar', 'Residency Road',\n",
       "       'Sarjapur Road', 'Whitefield'], dtype=object)"
      ]
     },
     "execution_count": 110,
     "metadata": {},
     "output_type": "execute_result"
    }
   ],
   "source": [
    "df2['listed_in(city)'].unique()"
   ]
  },
  {
   "cell_type": "code",
   "execution_count": 111,
   "id": "2bfccf1d",
   "metadata": {
    "execution": {
     "iopub.execute_input": "2024-08-20T23:25:03.445905Z",
     "iopub.status.busy": "2024-08-20T23:25:03.445171Z",
     "iopub.status.idle": "2024-08-20T23:25:03.453240Z",
     "shell.execute_reply": "2024-08-20T23:25:03.452244Z"
    },
    "papermill": {
     "duration": 0.061592,
     "end_time": "2024-08-20T23:25:03.455309",
     "exception": false,
     "start_time": "2024-08-20T23:25:03.393717",
     "status": "completed"
    },
    "tags": []
   },
   "outputs": [],
   "source": [
    "#they both contain locations. i need just 1 and drop the other \n",
    "#i want to drop listed_in(city) because location in the dataset contains more details about the place than\n",
    "#listed_in(city)\n",
    "df2 = df2.drop(labels= 'listed_in(city)', axis=1)"
   ]
  },
  {
   "cell_type": "code",
   "execution_count": 112,
   "id": "c8665de8",
   "metadata": {
    "execution": {
     "iopub.execute_input": "2024-08-20T23:25:03.559593Z",
     "iopub.status.busy": "2024-08-20T23:25:03.558923Z",
     "iopub.status.idle": "2024-08-20T23:25:03.576404Z",
     "shell.execute_reply": "2024-08-20T23:25:03.575388Z"
    },
    "papermill": {
     "duration": 0.07273,
     "end_time": "2024-08-20T23:25:03.578587",
     "exception": false,
     "start_time": "2024-08-20T23:25:03.505857",
     "status": "completed"
    },
    "tags": []
   },
   "outputs": [
    {
     "data": {
      "text/html": [
       "<div>\n",
       "<style scoped>\n",
       "    .dataframe tbody tr th:only-of-type {\n",
       "        vertical-align: middle;\n",
       "    }\n",
       "\n",
       "    .dataframe tbody tr th {\n",
       "        vertical-align: top;\n",
       "    }\n",
       "\n",
       "    .dataframe thead th {\n",
       "        text-align: right;\n",
       "    }\n",
       "</style>\n",
       "<table border=\"1\" class=\"dataframe\">\n",
       "  <thead>\n",
       "    <tr style=\"text-align: right;\">\n",
       "      <th></th>\n",
       "      <th>name</th>\n",
       "      <th>online_order</th>\n",
       "      <th>book_table</th>\n",
       "      <th>rate</th>\n",
       "      <th>votes</th>\n",
       "      <th>location</th>\n",
       "      <th>rest_type</th>\n",
       "      <th>dish_liked</th>\n",
       "      <th>cuisines</th>\n",
       "      <th>Cost2plates</th>\n",
       "      <th>Type</th>\n",
       "    </tr>\n",
       "  </thead>\n",
       "  <tbody>\n",
       "    <tr>\n",
       "      <th>0</th>\n",
       "      <td>Jalsa</td>\n",
       "      <td>Yes</td>\n",
       "      <td>Yes</td>\n",
       "      <td>4.1</td>\n",
       "      <td>775</td>\n",
       "      <td>Banashankari</td>\n",
       "      <td>Casual Dining</td>\n",
       "      <td>Pasta, Lunch Buffet, Masala Papad, Paneer Laja...</td>\n",
       "      <td>North Indian, Mughlai, Chinese</td>\n",
       "      <td>800</td>\n",
       "      <td>Buffet</td>\n",
       "    </tr>\n",
       "    <tr>\n",
       "      <th>1</th>\n",
       "      <td>Spice Elephant</td>\n",
       "      <td>Yes</td>\n",
       "      <td>No</td>\n",
       "      <td>4.1</td>\n",
       "      <td>787</td>\n",
       "      <td>Banashankari</td>\n",
       "      <td>Casual Dining</td>\n",
       "      <td>Momos, Lunch Buffet, Chocolate Nirvana, Thai G...</td>\n",
       "      <td>Chinese, North Indian, Thai</td>\n",
       "      <td>800</td>\n",
       "      <td>Buffet</td>\n",
       "    </tr>\n",
       "    <tr>\n",
       "      <th>2</th>\n",
       "      <td>San Churro Cafe</td>\n",
       "      <td>Yes</td>\n",
       "      <td>No</td>\n",
       "      <td>3.8</td>\n",
       "      <td>918</td>\n",
       "      <td>Banashankari</td>\n",
       "      <td>Cafe, Casual Dining</td>\n",
       "      <td>Churros, Cannelloni, Minestrone Soup, Hot Choc...</td>\n",
       "      <td>Cafe, Mexican, Italian</td>\n",
       "      <td>800</td>\n",
       "      <td>Buffet</td>\n",
       "    </tr>\n",
       "    <tr>\n",
       "      <th>3</th>\n",
       "      <td>Addhuri Udupi Bhojana</td>\n",
       "      <td>No</td>\n",
       "      <td>No</td>\n",
       "      <td>3.7</td>\n",
       "      <td>88</td>\n",
       "      <td>Banashankari</td>\n",
       "      <td>Quick Bites</td>\n",
       "      <td>Masala Dosa</td>\n",
       "      <td>South Indian, North Indian</td>\n",
       "      <td>300</td>\n",
       "      <td>Buffet</td>\n",
       "    </tr>\n",
       "    <tr>\n",
       "      <th>4</th>\n",
       "      <td>Grand Village</td>\n",
       "      <td>No</td>\n",
       "      <td>No</td>\n",
       "      <td>3.8</td>\n",
       "      <td>166</td>\n",
       "      <td>Basavanagudi</td>\n",
       "      <td>Casual Dining</td>\n",
       "      <td>Panipuri, Gol Gappe</td>\n",
       "      <td>North Indian, Rajasthani</td>\n",
       "      <td>600</td>\n",
       "      <td>Buffet</td>\n",
       "    </tr>\n",
       "    <tr>\n",
       "      <th>...</th>\n",
       "      <td>...</td>\n",
       "      <td>...</td>\n",
       "      <td>...</td>\n",
       "      <td>...</td>\n",
       "      <td>...</td>\n",
       "      <td>...</td>\n",
       "      <td>...</td>\n",
       "      <td>...</td>\n",
       "      <td>...</td>\n",
       "      <td>...</td>\n",
       "      <td>...</td>\n",
       "    </tr>\n",
       "    <tr>\n",
       "      <th>51647</th>\n",
       "      <td>Izakaya Gastro Pub</td>\n",
       "      <td>Yes</td>\n",
       "      <td>Yes</td>\n",
       "      <td>3.8</td>\n",
       "      <td>128</td>\n",
       "      <td>Whitefield</td>\n",
       "      <td>Bar, Casual Dining</td>\n",
       "      <td>Beer, Chicken Guntur, Paneer Tikka, Fish, Nood...</td>\n",
       "      <td>North Indian, Continental, Mediterranean</td>\n",
       "      <td>1,200</td>\n",
       "      <td>Pubs and bars</td>\n",
       "    </tr>\n",
       "    <tr>\n",
       "      <th>51649</th>\n",
       "      <td>M Bar - Bengaluru Marriott Hotel Whitefield</td>\n",
       "      <td>No</td>\n",
       "      <td>No</td>\n",
       "      <td>3.9</td>\n",
       "      <td>77</td>\n",
       "      <td>Whitefield</td>\n",
       "      <td>Fine Dining, Bar</td>\n",
       "      <td>Rooftop Ambience</td>\n",
       "      <td>Finger Food</td>\n",
       "      <td>2,000</td>\n",
       "      <td>Pubs and bars</td>\n",
       "    </tr>\n",
       "    <tr>\n",
       "      <th>51650</th>\n",
       "      <td>Keys Cafe - Keys Hotel</td>\n",
       "      <td>No</td>\n",
       "      <td>No</td>\n",
       "      <td>2.8</td>\n",
       "      <td>161</td>\n",
       "      <td>Whitefield</td>\n",
       "      <td>Casual Dining, Bar</td>\n",
       "      <td>Salads, Coffee, Breakfast Buffet, Halwa, Chick...</td>\n",
       "      <td>Chinese, Continental, North Indian</td>\n",
       "      <td>1,200</td>\n",
       "      <td>Pubs and bars</td>\n",
       "    </tr>\n",
       "    <tr>\n",
       "      <th>51653</th>\n",
       "      <td>Bhagini</td>\n",
       "      <td>No</td>\n",
       "      <td>No</td>\n",
       "      <td>2.0</td>\n",
       "      <td>81</td>\n",
       "      <td>Whitefield</td>\n",
       "      <td>Casual Dining, Bar</td>\n",
       "      <td>Biryani, Andhra Meal</td>\n",
       "      <td>Andhra, South Indian, Chinese, North Indian</td>\n",
       "      <td>800</td>\n",
       "      <td>Pubs and bars</td>\n",
       "    </tr>\n",
       "    <tr>\n",
       "      <th>51657</th>\n",
       "      <td>Chime - Sheraton Grand Bengaluru Whitefield Ho...</td>\n",
       "      <td>No</td>\n",
       "      <td>Yes</td>\n",
       "      <td>4.3</td>\n",
       "      <td>236</td>\n",
       "      <td>ITPL Main Road, Whitefield</td>\n",
       "      <td>Bar</td>\n",
       "      <td>Cocktails, Pizza, Buttermilk</td>\n",
       "      <td>Finger Food</td>\n",
       "      <td>2,500</td>\n",
       "      <td>Pubs and bars</td>\n",
       "    </tr>\n",
       "  </tbody>\n",
       "</table>\n",
       "<p>23425 rows × 11 columns</p>\n",
       "</div>"
      ],
      "text/plain": [
       "                                                    name online_order  \\\n",
       "0                                                  Jalsa          Yes   \n",
       "1                                         Spice Elephant          Yes   \n",
       "2                                        San Churro Cafe          Yes   \n",
       "3                                  Addhuri Udupi Bhojana           No   \n",
       "4                                          Grand Village           No   \n",
       "...                                                  ...          ...   \n",
       "51647                                 Izakaya Gastro Pub          Yes   \n",
       "51649        M Bar - Bengaluru Marriott Hotel Whitefield           No   \n",
       "51650                             Keys Cafe - Keys Hotel           No   \n",
       "51653                                            Bhagini           No   \n",
       "51657  Chime - Sheraton Grand Bengaluru Whitefield Ho...           No   \n",
       "\n",
       "      book_table rate votes                    location            rest_type  \\\n",
       "0            Yes  4.1   775                Banashankari        Casual Dining   \n",
       "1             No  4.1   787                Banashankari        Casual Dining   \n",
       "2             No  3.8   918                Banashankari  Cafe, Casual Dining   \n",
       "3             No  3.7    88                Banashankari          Quick Bites   \n",
       "4             No  3.8   166                Basavanagudi        Casual Dining   \n",
       "...          ...  ...   ...                         ...                  ...   \n",
       "51647        Yes  3.8   128                  Whitefield   Bar, Casual Dining   \n",
       "51649         No  3.9    77                  Whitefield     Fine Dining, Bar   \n",
       "51650         No  2.8   161                  Whitefield   Casual Dining, Bar   \n",
       "51653         No  2.0    81                  Whitefield   Casual Dining, Bar   \n",
       "51657        Yes  4.3   236  ITPL Main Road, Whitefield                  Bar   \n",
       "\n",
       "                                              dish_liked  \\\n",
       "0      Pasta, Lunch Buffet, Masala Papad, Paneer Laja...   \n",
       "1      Momos, Lunch Buffet, Chocolate Nirvana, Thai G...   \n",
       "2      Churros, Cannelloni, Minestrone Soup, Hot Choc...   \n",
       "3                                            Masala Dosa   \n",
       "4                                    Panipuri, Gol Gappe   \n",
       "...                                                  ...   \n",
       "51647  Beer, Chicken Guntur, Paneer Tikka, Fish, Nood...   \n",
       "51649                                   Rooftop Ambience   \n",
       "51650  Salads, Coffee, Breakfast Buffet, Halwa, Chick...   \n",
       "51653                               Biryani, Andhra Meal   \n",
       "51657                       Cocktails, Pizza, Buttermilk   \n",
       "\n",
       "                                          cuisines Cost2plates           Type  \n",
       "0                   North Indian, Mughlai, Chinese         800         Buffet  \n",
       "1                      Chinese, North Indian, Thai         800         Buffet  \n",
       "2                           Cafe, Mexican, Italian         800         Buffet  \n",
       "3                       South Indian, North Indian         300         Buffet  \n",
       "4                         North Indian, Rajasthani         600         Buffet  \n",
       "...                                            ...         ...            ...  \n",
       "51647     North Indian, Continental, Mediterranean       1,200  Pubs and bars  \n",
       "51649                                  Finger Food       2,000  Pubs and bars  \n",
       "51650           Chinese, Continental, North Indian       1,200  Pubs and bars  \n",
       "51653  Andhra, South Indian, Chinese, North Indian         800  Pubs and bars  \n",
       "51657                                  Finger Food       2,500  Pubs and bars  \n",
       "\n",
       "[23425 rows x 11 columns]"
      ]
     },
     "execution_count": 112,
     "metadata": {},
     "output_type": "execute_result"
    }
   ],
   "source": [
    "df2"
   ]
  },
  {
   "cell_type": "code",
   "execution_count": 113,
   "id": "72ef5441",
   "metadata": {
    "execution": {
     "iopub.execute_input": "2024-08-20T23:25:03.682313Z",
     "iopub.status.busy": "2024-08-20T23:25:03.681918Z",
     "iopub.status.idle": "2024-08-20T23:25:03.703897Z",
     "shell.execute_reply": "2024-08-20T23:25:03.702638Z"
    },
    "papermill": {
     "duration": 0.07625,
     "end_time": "2024-08-20T23:25:03.706186",
     "exception": false,
     "start_time": "2024-08-20T23:25:03.629936",
     "status": "completed"
    },
    "tags": []
   },
   "outputs": [
    {
     "name": "stdout",
     "output_type": "stream",
     "text": [
      "<class 'pandas.core.frame.DataFrame'>\n",
      "Index: 23425 entries, 0 to 51657\n",
      "Data columns (total 11 columns):\n",
      " #   Column        Non-Null Count  Dtype \n",
      "---  ------        --------------  ----- \n",
      " 0   name          23425 non-null  object\n",
      " 1   online_order  23425 non-null  object\n",
      " 2   book_table    23425 non-null  object\n",
      " 3   rate          23425 non-null  object\n",
      " 4   votes         23425 non-null  object\n",
      " 5   location      23425 non-null  object\n",
      " 6   rest_type     23425 non-null  object\n",
      " 7   dish_liked    23425 non-null  object\n",
      " 8   cuisines      23425 non-null  object\n",
      " 9   Cost2plates   23425 non-null  object\n",
      " 10  Type          23425 non-null  object\n",
      "dtypes: object(11)\n",
      "memory usage: 2.1+ MB\n"
     ]
    }
   ],
   "source": [
    "df2.info()"
   ]
  },
  {
   "cell_type": "code",
   "execution_count": 114,
   "id": "0bdfc29f",
   "metadata": {
    "execution": {
     "iopub.execute_input": "2024-08-20T23:25:03.813404Z",
     "iopub.status.busy": "2024-08-20T23:25:03.813013Z",
     "iopub.status.idle": "2024-08-20T23:25:03.821515Z",
     "shell.execute_reply": "2024-08-20T23:25:03.820366Z"
    },
    "papermill": {
     "duration": 0.063555,
     "end_time": "2024-08-20T23:25:03.823845",
     "exception": false,
     "start_time": "2024-08-20T23:25:03.760290",
     "status": "completed"
    },
    "tags": []
   },
   "outputs": [
    {
     "data": {
      "text/plain": [
       "array(['800', '300', '600', '700', '550', '500', '450', '650', '400',\n",
       "       '750', '200', '850', '1,200', '150', '350', '250', '1,500',\n",
       "       '1,300', '1,000', '100', '900', '1,100', '1,600', '950', '230',\n",
       "       '1,700', '1,400', '1,350', '2,200', '2,000', '1,800', '1,900',\n",
       "       '180', '330', '2,500', '2,100', '3,000', '2,800', '3,400', '40',\n",
       "       '1,250', '3,500', '4,000', '2,400', '1,450', '3,200', '6,000',\n",
       "       '1,050', '4,100', '2,300', '120', '2,600', '5,000', '3,700',\n",
       "       '1,650', '2,700', '4,500'], dtype=object)"
      ]
     },
     "execution_count": 114,
     "metadata": {},
     "output_type": "execute_result"
    }
   ],
   "source": [
    "df2['Cost2plates'].unique()"
   ]
  },
  {
   "cell_type": "code",
   "execution_count": 115,
   "id": "a65227be",
   "metadata": {
    "execution": {
     "iopub.execute_input": "2024-08-20T23:25:03.929419Z",
     "iopub.status.busy": "2024-08-20T23:25:03.929032Z",
     "iopub.status.idle": "2024-08-20T23:25:03.933414Z",
     "shell.execute_reply": "2024-08-20T23:25:03.932366Z"
    },
    "papermill": {
     "duration": 0.060226,
     "end_time": "2024-08-20T23:25:03.935636",
     "exception": false,
     "start_time": "2024-08-20T23:25:03.875410",
     "status": "completed"
    },
    "tags": []
   },
   "outputs": [],
   "source": [
    "#we need to change the values to a float to imply we are dealing with numbers\n",
    "#we can do that by removing the (,) and changing it to float"
   ]
  },
  {
   "cell_type": "code",
   "execution_count": 116,
   "id": "88c40284",
   "metadata": {
    "execution": {
     "iopub.execute_input": "2024-08-20T23:25:04.040945Z",
     "iopub.status.busy": "2024-08-20T23:25:04.040567Z",
     "iopub.status.idle": "2024-08-20T23:25:04.047540Z",
     "shell.execute_reply": "2024-08-20T23:25:04.046450Z"
    },
    "papermill": {
     "duration": 0.062129,
     "end_time": "2024-08-20T23:25:04.049639",
     "exception": false,
     "start_time": "2024-08-20T23:25:03.987510",
     "status": "completed"
    },
    "tags": []
   },
   "outputs": [
    {
     "data": {
      "text/plain": [
       "array(['800', '800', '800', ..., '1,200', '800', '2,500'], dtype=object)"
      ]
     },
     "execution_count": 116,
     "metadata": {},
     "output_type": "execute_result"
    }
   ],
   "source": [
    "two_plate_numpy = df2['Cost2plates'].to_numpy()\n",
    "two_plate_numpy"
   ]
  },
  {
   "cell_type": "code",
   "execution_count": null,
   "id": "a4d6562f",
   "metadata": {
    "papermill": {
     "duration": 0.051946,
     "end_time": "2024-08-20T23:25:04.154573",
     "exception": false,
     "start_time": "2024-08-20T23:25:04.102627",
     "status": "completed"
    },
    "tags": []
   },
   "outputs": [],
   "source": []
  },
  {
   "cell_type": "code",
   "execution_count": 117,
   "id": "ebd8e10b",
   "metadata": {
    "execution": {
     "iopub.execute_input": "2024-08-20T23:25:04.261894Z",
     "iopub.status.busy": "2024-08-20T23:25:04.261552Z",
     "iopub.status.idle": "2024-08-20T23:25:04.271449Z",
     "shell.execute_reply": "2024-08-20T23:25:04.270448Z"
    },
    "papermill": {
     "duration": 0.066734,
     "end_time": "2024-08-20T23:25:04.273535",
     "exception": false,
     "start_time": "2024-08-20T23:25:04.206801",
     "status": "completed"
    },
    "tags": []
   },
   "outputs": [
    {
     "data": {
      "text/plain": [
       "array(['800', '800', '800', ..., '1,200', '800', '2,500'], dtype='<U5')"
      ]
     },
     "execution_count": 117,
     "metadata": {},
     "output_type": "execute_result"
    }
   ],
   "source": [
    "#lets first convert it to string\n",
    "two_plate_numpy.astype(str)"
   ]
  },
  {
   "cell_type": "code",
   "execution_count": 118,
   "id": "cbfba99f",
   "metadata": {
    "execution": {
     "iopub.execute_input": "2024-08-20T23:25:04.377881Z",
     "iopub.status.busy": "2024-08-20T23:25:04.377098Z",
     "iopub.status.idle": "2024-08-20T23:25:04.409088Z",
     "shell.execute_reply": "2024-08-20T23:25:04.408039Z"
    },
    "papermill": {
     "duration": 0.086367,
     "end_time": "2024-08-20T23:25:04.411307",
     "exception": false,
     "start_time": "2024-08-20T23:25:04.324940",
     "status": "completed"
    },
    "tags": []
   },
   "outputs": [],
   "source": [
    "no_comma =np.char.replace(two_plate_numpy.astype(str), ',', '')"
   ]
  },
  {
   "cell_type": "code",
   "execution_count": 119,
   "id": "aae2dc28",
   "metadata": {
    "execution": {
     "iopub.execute_input": "2024-08-20T23:25:04.517223Z",
     "iopub.status.busy": "2024-08-20T23:25:04.516692Z",
     "iopub.status.idle": "2024-08-20T23:25:04.522968Z",
     "shell.execute_reply": "2024-08-20T23:25:04.522014Z"
    },
    "papermill": {
     "duration": 0.062399,
     "end_time": "2024-08-20T23:25:04.525355",
     "exception": false,
     "start_time": "2024-08-20T23:25:04.462956",
     "status": "completed"
    },
    "tags": []
   },
   "outputs": [
    {
     "data": {
      "text/plain": [
       "array(['800', '800', '800', ..., '1200', '800', '2500'], dtype='<U4')"
      ]
     },
     "execution_count": 119,
     "metadata": {},
     "output_type": "execute_result"
    }
   ],
   "source": [
    "no_comma"
   ]
  },
  {
   "cell_type": "code",
   "execution_count": 120,
   "id": "34db0120",
   "metadata": {
    "execution": {
     "iopub.execute_input": "2024-08-20T23:25:04.631976Z",
     "iopub.status.busy": "2024-08-20T23:25:04.631067Z",
     "iopub.status.idle": "2024-08-20T23:25:04.646229Z",
     "shell.execute_reply": "2024-08-20T23:25:04.645262Z"
    },
    "papermill": {
     "duration": 0.070426,
     "end_time": "2024-08-20T23:25:04.648307",
     "exception": false,
     "start_time": "2024-08-20T23:25:04.577881",
     "status": "completed"
    },
    "tags": []
   },
   "outputs": [
    {
     "data": {
      "text/plain": [
       "array([ 800.,  800.,  800., ..., 1200.,  800., 2500.])"
      ]
     },
     "execution_count": 120,
     "metadata": {},
     "output_type": "execute_result"
    }
   ],
   "source": [
    "#lets convert to float\n",
    "new_cost2plate =no_comma.astype(float)\n",
    "new_cost2plate"
   ]
  },
  {
   "cell_type": "code",
   "execution_count": 121,
   "id": "e78cc1fc",
   "metadata": {
    "execution": {
     "iopub.execute_input": "2024-08-20T23:25:04.754188Z",
     "iopub.status.busy": "2024-08-20T23:25:04.753274Z",
     "iopub.status.idle": "2024-08-20T23:25:04.757751Z",
     "shell.execute_reply": "2024-08-20T23:25:04.756680Z"
    },
    "papermill": {
     "duration": 0.059856,
     "end_time": "2024-08-20T23:25:04.759980",
     "exception": false,
     "start_time": "2024-08-20T23:25:04.700124",
     "status": "completed"
    },
    "tags": []
   },
   "outputs": [],
   "source": [
    "#lets put it back in the dataframe"
   ]
  },
  {
   "cell_type": "code",
   "execution_count": 122,
   "id": "e713ae68",
   "metadata": {
    "execution": {
     "iopub.execute_input": "2024-08-20T23:25:04.866012Z",
     "iopub.status.busy": "2024-08-20T23:25:04.865136Z",
     "iopub.status.idle": "2024-08-20T23:25:04.870127Z",
     "shell.execute_reply": "2024-08-20T23:25:04.869126Z"
    },
    "papermill": {
     "duration": 0.060106,
     "end_time": "2024-08-20T23:25:04.872126",
     "exception": false,
     "start_time": "2024-08-20T23:25:04.812020",
     "status": "completed"
    },
    "tags": []
   },
   "outputs": [],
   "source": [
    "df2_numpy = df2.to_numpy()"
   ]
  },
  {
   "cell_type": "code",
   "execution_count": 123,
   "id": "ac9f6a9c",
   "metadata": {
    "execution": {
     "iopub.execute_input": "2024-08-20T23:25:04.977398Z",
     "iopub.status.busy": "2024-08-20T23:25:04.977014Z",
     "iopub.status.idle": "2024-08-20T23:25:04.982252Z",
     "shell.execute_reply": "2024-08-20T23:25:04.981156Z"
    },
    "papermill": {
     "duration": 0.060758,
     "end_time": "2024-08-20T23:25:04.984769",
     "exception": false,
     "start_time": "2024-08-20T23:25:04.924011",
     "status": "completed"
    },
    "tags": []
   },
   "outputs": [],
   "source": [
    "df2_numpy[:,9] = new_cost2plate"
   ]
  },
  {
   "cell_type": "code",
   "execution_count": 124,
   "id": "a4b269bb",
   "metadata": {
    "execution": {
     "iopub.execute_input": "2024-08-20T23:25:05.093757Z",
     "iopub.status.busy": "2024-08-20T23:25:05.093392Z",
     "iopub.status.idle": "2024-08-20T23:25:05.099990Z",
     "shell.execute_reply": "2024-08-20T23:25:05.098992Z"
    },
    "papermill": {
     "duration": 0.062891,
     "end_time": "2024-08-20T23:25:05.102284",
     "exception": false,
     "start_time": "2024-08-20T23:25:05.039393",
     "status": "completed"
    },
    "tags": []
   },
   "outputs": [
    {
     "data": {
      "text/plain": [
       "array([800.0, 800.0, 800.0, ..., 1200.0, 800.0, 2500.0], dtype=object)"
      ]
     },
     "execution_count": 124,
     "metadata": {},
     "output_type": "execute_result"
    }
   ],
   "source": [
    "df2_numpy[:,9]"
   ]
  },
  {
   "cell_type": "code",
   "execution_count": 125,
   "id": "ec3c16ce",
   "metadata": {
    "execution": {
     "iopub.execute_input": "2024-08-20T23:25:05.210697Z",
     "iopub.status.busy": "2024-08-20T23:25:05.210334Z",
     "iopub.status.idle": "2024-08-20T23:25:05.214772Z",
     "shell.execute_reply": "2024-08-20T23:25:05.213778Z"
    },
    "papermill": {
     "duration": 0.06051,
     "end_time": "2024-08-20T23:25:05.216866",
     "exception": false,
     "start_time": "2024-08-20T23:25:05.156356",
     "status": "completed"
    },
    "tags": []
   },
   "outputs": [],
   "source": [
    "#lets return it to dataframe"
   ]
  },
  {
   "cell_type": "code",
   "execution_count": 126,
   "id": "cd33789b",
   "metadata": {
    "execution": {
     "iopub.execute_input": "2024-08-20T23:25:05.323001Z",
     "iopub.status.busy": "2024-08-20T23:25:05.322640Z",
     "iopub.status.idle": "2024-08-20T23:25:05.340638Z",
     "shell.execute_reply": "2024-08-20T23:25:05.339581Z"
    },
    "papermill": {
     "duration": 0.073392,
     "end_time": "2024-08-20T23:25:05.342870",
     "exception": false,
     "start_time": "2024-08-20T23:25:05.269478",
     "status": "completed"
    },
    "tags": []
   },
   "outputs": [
    {
     "data": {
      "text/html": [
       "<div>\n",
       "<style scoped>\n",
       "    .dataframe tbody tr th:only-of-type {\n",
       "        vertical-align: middle;\n",
       "    }\n",
       "\n",
       "    .dataframe tbody tr th {\n",
       "        vertical-align: top;\n",
       "    }\n",
       "\n",
       "    .dataframe thead th {\n",
       "        text-align: right;\n",
       "    }\n",
       "</style>\n",
       "<table border=\"1\" class=\"dataframe\">\n",
       "  <thead>\n",
       "    <tr style=\"text-align: right;\">\n",
       "      <th></th>\n",
       "      <th>name</th>\n",
       "      <th>online_order</th>\n",
       "      <th>book_table</th>\n",
       "      <th>rate</th>\n",
       "      <th>votes</th>\n",
       "      <th>location</th>\n",
       "      <th>rest_type</th>\n",
       "      <th>dish_liked</th>\n",
       "      <th>cuisines</th>\n",
       "      <th>Cost2plates</th>\n",
       "      <th>Type</th>\n",
       "    </tr>\n",
       "  </thead>\n",
       "  <tbody>\n",
       "    <tr>\n",
       "      <th>0</th>\n",
       "      <td>Jalsa</td>\n",
       "      <td>Yes</td>\n",
       "      <td>Yes</td>\n",
       "      <td>4.1</td>\n",
       "      <td>775</td>\n",
       "      <td>Banashankari</td>\n",
       "      <td>Casual Dining</td>\n",
       "      <td>Pasta, Lunch Buffet, Masala Papad, Paneer Laja...</td>\n",
       "      <td>North Indian, Mughlai, Chinese</td>\n",
       "      <td>800.0</td>\n",
       "      <td>Buffet</td>\n",
       "    </tr>\n",
       "    <tr>\n",
       "      <th>1</th>\n",
       "      <td>Spice Elephant</td>\n",
       "      <td>Yes</td>\n",
       "      <td>No</td>\n",
       "      <td>4.1</td>\n",
       "      <td>787</td>\n",
       "      <td>Banashankari</td>\n",
       "      <td>Casual Dining</td>\n",
       "      <td>Momos, Lunch Buffet, Chocolate Nirvana, Thai G...</td>\n",
       "      <td>Chinese, North Indian, Thai</td>\n",
       "      <td>800.0</td>\n",
       "      <td>Buffet</td>\n",
       "    </tr>\n",
       "    <tr>\n",
       "      <th>2</th>\n",
       "      <td>San Churro Cafe</td>\n",
       "      <td>Yes</td>\n",
       "      <td>No</td>\n",
       "      <td>3.8</td>\n",
       "      <td>918</td>\n",
       "      <td>Banashankari</td>\n",
       "      <td>Cafe, Casual Dining</td>\n",
       "      <td>Churros, Cannelloni, Minestrone Soup, Hot Choc...</td>\n",
       "      <td>Cafe, Mexican, Italian</td>\n",
       "      <td>800.0</td>\n",
       "      <td>Buffet</td>\n",
       "    </tr>\n",
       "    <tr>\n",
       "      <th>3</th>\n",
       "      <td>Addhuri Udupi Bhojana</td>\n",
       "      <td>No</td>\n",
       "      <td>No</td>\n",
       "      <td>3.7</td>\n",
       "      <td>88</td>\n",
       "      <td>Banashankari</td>\n",
       "      <td>Quick Bites</td>\n",
       "      <td>Masala Dosa</td>\n",
       "      <td>South Indian, North Indian</td>\n",
       "      <td>300.0</td>\n",
       "      <td>Buffet</td>\n",
       "    </tr>\n",
       "    <tr>\n",
       "      <th>4</th>\n",
       "      <td>Grand Village</td>\n",
       "      <td>No</td>\n",
       "      <td>No</td>\n",
       "      <td>3.8</td>\n",
       "      <td>166</td>\n",
       "      <td>Basavanagudi</td>\n",
       "      <td>Casual Dining</td>\n",
       "      <td>Panipuri, Gol Gappe</td>\n",
       "      <td>North Indian, Rajasthani</td>\n",
       "      <td>600.0</td>\n",
       "      <td>Buffet</td>\n",
       "    </tr>\n",
       "    <tr>\n",
       "      <th>...</th>\n",
       "      <td>...</td>\n",
       "      <td>...</td>\n",
       "      <td>...</td>\n",
       "      <td>...</td>\n",
       "      <td>...</td>\n",
       "      <td>...</td>\n",
       "      <td>...</td>\n",
       "      <td>...</td>\n",
       "      <td>...</td>\n",
       "      <td>...</td>\n",
       "      <td>...</td>\n",
       "    </tr>\n",
       "    <tr>\n",
       "      <th>23420</th>\n",
       "      <td>Izakaya Gastro Pub</td>\n",
       "      <td>Yes</td>\n",
       "      <td>Yes</td>\n",
       "      <td>3.8</td>\n",
       "      <td>128</td>\n",
       "      <td>Whitefield</td>\n",
       "      <td>Bar, Casual Dining</td>\n",
       "      <td>Beer, Chicken Guntur, Paneer Tikka, Fish, Nood...</td>\n",
       "      <td>North Indian, Continental, Mediterranean</td>\n",
       "      <td>1200.0</td>\n",
       "      <td>Pubs and bars</td>\n",
       "    </tr>\n",
       "    <tr>\n",
       "      <th>23421</th>\n",
       "      <td>M Bar - Bengaluru Marriott Hotel Whitefield</td>\n",
       "      <td>No</td>\n",
       "      <td>No</td>\n",
       "      <td>3.9</td>\n",
       "      <td>77</td>\n",
       "      <td>Whitefield</td>\n",
       "      <td>Fine Dining, Bar</td>\n",
       "      <td>Rooftop Ambience</td>\n",
       "      <td>Finger Food</td>\n",
       "      <td>2000.0</td>\n",
       "      <td>Pubs and bars</td>\n",
       "    </tr>\n",
       "    <tr>\n",
       "      <th>23422</th>\n",
       "      <td>Keys Cafe - Keys Hotel</td>\n",
       "      <td>No</td>\n",
       "      <td>No</td>\n",
       "      <td>2.8</td>\n",
       "      <td>161</td>\n",
       "      <td>Whitefield</td>\n",
       "      <td>Casual Dining, Bar</td>\n",
       "      <td>Salads, Coffee, Breakfast Buffet, Halwa, Chick...</td>\n",
       "      <td>Chinese, Continental, North Indian</td>\n",
       "      <td>1200.0</td>\n",
       "      <td>Pubs and bars</td>\n",
       "    </tr>\n",
       "    <tr>\n",
       "      <th>23423</th>\n",
       "      <td>Bhagini</td>\n",
       "      <td>No</td>\n",
       "      <td>No</td>\n",
       "      <td>2.0</td>\n",
       "      <td>81</td>\n",
       "      <td>Whitefield</td>\n",
       "      <td>Casual Dining, Bar</td>\n",
       "      <td>Biryani, Andhra Meal</td>\n",
       "      <td>Andhra, South Indian, Chinese, North Indian</td>\n",
       "      <td>800.0</td>\n",
       "      <td>Pubs and bars</td>\n",
       "    </tr>\n",
       "    <tr>\n",
       "      <th>23424</th>\n",
       "      <td>Chime - Sheraton Grand Bengaluru Whitefield Ho...</td>\n",
       "      <td>No</td>\n",
       "      <td>Yes</td>\n",
       "      <td>4.3</td>\n",
       "      <td>236</td>\n",
       "      <td>ITPL Main Road, Whitefield</td>\n",
       "      <td>Bar</td>\n",
       "      <td>Cocktails, Pizza, Buttermilk</td>\n",
       "      <td>Finger Food</td>\n",
       "      <td>2500.0</td>\n",
       "      <td>Pubs and bars</td>\n",
       "    </tr>\n",
       "  </tbody>\n",
       "</table>\n",
       "<p>23425 rows × 11 columns</p>\n",
       "</div>"
      ],
      "text/plain": [
       "                                                    name online_order  \\\n",
       "0                                                  Jalsa          Yes   \n",
       "1                                         Spice Elephant          Yes   \n",
       "2                                        San Churro Cafe          Yes   \n",
       "3                                  Addhuri Udupi Bhojana           No   \n",
       "4                                          Grand Village           No   \n",
       "...                                                  ...          ...   \n",
       "23420                                 Izakaya Gastro Pub          Yes   \n",
       "23421        M Bar - Bengaluru Marriott Hotel Whitefield           No   \n",
       "23422                             Keys Cafe - Keys Hotel           No   \n",
       "23423                                            Bhagini           No   \n",
       "23424  Chime - Sheraton Grand Bengaluru Whitefield Ho...           No   \n",
       "\n",
       "      book_table rate votes                    location            rest_type  \\\n",
       "0            Yes  4.1   775                Banashankari        Casual Dining   \n",
       "1             No  4.1   787                Banashankari        Casual Dining   \n",
       "2             No  3.8   918                Banashankari  Cafe, Casual Dining   \n",
       "3             No  3.7    88                Banashankari          Quick Bites   \n",
       "4             No  3.8   166                Basavanagudi        Casual Dining   \n",
       "...          ...  ...   ...                         ...                  ...   \n",
       "23420        Yes  3.8   128                  Whitefield   Bar, Casual Dining   \n",
       "23421         No  3.9    77                  Whitefield     Fine Dining, Bar   \n",
       "23422         No  2.8   161                  Whitefield   Casual Dining, Bar   \n",
       "23423         No  2.0    81                  Whitefield   Casual Dining, Bar   \n",
       "23424        Yes  4.3   236  ITPL Main Road, Whitefield                  Bar   \n",
       "\n",
       "                                              dish_liked  \\\n",
       "0      Pasta, Lunch Buffet, Masala Papad, Paneer Laja...   \n",
       "1      Momos, Lunch Buffet, Chocolate Nirvana, Thai G...   \n",
       "2      Churros, Cannelloni, Minestrone Soup, Hot Choc...   \n",
       "3                                            Masala Dosa   \n",
       "4                                    Panipuri, Gol Gappe   \n",
       "...                                                  ...   \n",
       "23420  Beer, Chicken Guntur, Paneer Tikka, Fish, Nood...   \n",
       "23421                                   Rooftop Ambience   \n",
       "23422  Salads, Coffee, Breakfast Buffet, Halwa, Chick...   \n",
       "23423                               Biryani, Andhra Meal   \n",
       "23424                       Cocktails, Pizza, Buttermilk   \n",
       "\n",
       "                                          cuisines Cost2plates           Type  \n",
       "0                   North Indian, Mughlai, Chinese       800.0         Buffet  \n",
       "1                      Chinese, North Indian, Thai       800.0         Buffet  \n",
       "2                           Cafe, Mexican, Italian       800.0         Buffet  \n",
       "3                       South Indian, North Indian       300.0         Buffet  \n",
       "4                         North Indian, Rajasthani       600.0         Buffet  \n",
       "...                                            ...         ...            ...  \n",
       "23420     North Indian, Continental, Mediterranean      1200.0  Pubs and bars  \n",
       "23421                                  Finger Food      2000.0  Pubs and bars  \n",
       "23422           Chinese, Continental, North Indian      1200.0  Pubs and bars  \n",
       "23423  Andhra, South Indian, Chinese, North Indian       800.0  Pubs and bars  \n",
       "23424                                  Finger Food      2500.0  Pubs and bars  \n",
       "\n",
       "[23425 rows x 11 columns]"
      ]
     },
     "execution_count": 126,
     "metadata": {},
     "output_type": "execute_result"
    }
   ],
   "source": [
    "pd.DataFrame(df2_numpy, columns=df2.columns)"
   ]
  },
  {
   "cell_type": "code",
   "execution_count": 127,
   "id": "fb9bc51c",
   "metadata": {
    "execution": {
     "iopub.execute_input": "2024-08-20T23:25:05.449510Z",
     "iopub.status.busy": "2024-08-20T23:25:05.448640Z",
     "iopub.status.idle": "2024-08-20T23:25:05.464983Z",
     "shell.execute_reply": "2024-08-20T23:25:05.464028Z"
    },
    "papermill": {
     "duration": 0.071792,
     "end_time": "2024-08-20T23:25:05.466970",
     "exception": false,
     "start_time": "2024-08-20T23:25:05.395178",
     "status": "completed"
    },
    "tags": []
   },
   "outputs": [
    {
     "data": {
      "text/html": [
       "<div>\n",
       "<style scoped>\n",
       "    .dataframe tbody tr th:only-of-type {\n",
       "        vertical-align: middle;\n",
       "    }\n",
       "\n",
       "    .dataframe tbody tr th {\n",
       "        vertical-align: top;\n",
       "    }\n",
       "\n",
       "    .dataframe thead th {\n",
       "        text-align: right;\n",
       "    }\n",
       "</style>\n",
       "<table border=\"1\" class=\"dataframe\">\n",
       "  <thead>\n",
       "    <tr style=\"text-align: right;\">\n",
       "      <th></th>\n",
       "      <th>name</th>\n",
       "      <th>online_order</th>\n",
       "      <th>book_table</th>\n",
       "      <th>rate</th>\n",
       "      <th>votes</th>\n",
       "      <th>location</th>\n",
       "      <th>rest_type</th>\n",
       "      <th>dish_liked</th>\n",
       "      <th>cuisines</th>\n",
       "      <th>Cost2plates</th>\n",
       "      <th>Type</th>\n",
       "    </tr>\n",
       "  </thead>\n",
       "  <tbody>\n",
       "    <tr>\n",
       "      <th>0</th>\n",
       "      <td>Jalsa</td>\n",
       "      <td>Yes</td>\n",
       "      <td>Yes</td>\n",
       "      <td>4.1</td>\n",
       "      <td>775</td>\n",
       "      <td>Banashankari</td>\n",
       "      <td>Casual Dining</td>\n",
       "      <td>Pasta, Lunch Buffet, Masala Papad, Paneer Laja...</td>\n",
       "      <td>North Indian, Mughlai, Chinese</td>\n",
       "      <td>800.0</td>\n",
       "      <td>Buffet</td>\n",
       "    </tr>\n",
       "    <tr>\n",
       "      <th>1</th>\n",
       "      <td>Spice Elephant</td>\n",
       "      <td>Yes</td>\n",
       "      <td>No</td>\n",
       "      <td>4.1</td>\n",
       "      <td>787</td>\n",
       "      <td>Banashankari</td>\n",
       "      <td>Casual Dining</td>\n",
       "      <td>Momos, Lunch Buffet, Chocolate Nirvana, Thai G...</td>\n",
       "      <td>Chinese, North Indian, Thai</td>\n",
       "      <td>800.0</td>\n",
       "      <td>Buffet</td>\n",
       "    </tr>\n",
       "    <tr>\n",
       "      <th>2</th>\n",
       "      <td>San Churro Cafe</td>\n",
       "      <td>Yes</td>\n",
       "      <td>No</td>\n",
       "      <td>3.8</td>\n",
       "      <td>918</td>\n",
       "      <td>Banashankari</td>\n",
       "      <td>Cafe, Casual Dining</td>\n",
       "      <td>Churros, Cannelloni, Minestrone Soup, Hot Choc...</td>\n",
       "      <td>Cafe, Mexican, Italian</td>\n",
       "      <td>800.0</td>\n",
       "      <td>Buffet</td>\n",
       "    </tr>\n",
       "    <tr>\n",
       "      <th>3</th>\n",
       "      <td>Addhuri Udupi Bhojana</td>\n",
       "      <td>No</td>\n",
       "      <td>No</td>\n",
       "      <td>3.7</td>\n",
       "      <td>88</td>\n",
       "      <td>Banashankari</td>\n",
       "      <td>Quick Bites</td>\n",
       "      <td>Masala Dosa</td>\n",
       "      <td>South Indian, North Indian</td>\n",
       "      <td>300.0</td>\n",
       "      <td>Buffet</td>\n",
       "    </tr>\n",
       "    <tr>\n",
       "      <th>4</th>\n",
       "      <td>Grand Village</td>\n",
       "      <td>No</td>\n",
       "      <td>No</td>\n",
       "      <td>3.8</td>\n",
       "      <td>166</td>\n",
       "      <td>Basavanagudi</td>\n",
       "      <td>Casual Dining</td>\n",
       "      <td>Panipuri, Gol Gappe</td>\n",
       "      <td>North Indian, Rajasthani</td>\n",
       "      <td>600.0</td>\n",
       "      <td>Buffet</td>\n",
       "    </tr>\n",
       "    <tr>\n",
       "      <th>...</th>\n",
       "      <td>...</td>\n",
       "      <td>...</td>\n",
       "      <td>...</td>\n",
       "      <td>...</td>\n",
       "      <td>...</td>\n",
       "      <td>...</td>\n",
       "      <td>...</td>\n",
       "      <td>...</td>\n",
       "      <td>...</td>\n",
       "      <td>...</td>\n",
       "      <td>...</td>\n",
       "    </tr>\n",
       "    <tr>\n",
       "      <th>23420</th>\n",
       "      <td>Izakaya Gastro Pub</td>\n",
       "      <td>Yes</td>\n",
       "      <td>Yes</td>\n",
       "      <td>3.8</td>\n",
       "      <td>128</td>\n",
       "      <td>Whitefield</td>\n",
       "      <td>Bar, Casual Dining</td>\n",
       "      <td>Beer, Chicken Guntur, Paneer Tikka, Fish, Nood...</td>\n",
       "      <td>North Indian, Continental, Mediterranean</td>\n",
       "      <td>1200.0</td>\n",
       "      <td>Pubs and bars</td>\n",
       "    </tr>\n",
       "    <tr>\n",
       "      <th>23421</th>\n",
       "      <td>M Bar - Bengaluru Marriott Hotel Whitefield</td>\n",
       "      <td>No</td>\n",
       "      <td>No</td>\n",
       "      <td>3.9</td>\n",
       "      <td>77</td>\n",
       "      <td>Whitefield</td>\n",
       "      <td>Fine Dining, Bar</td>\n",
       "      <td>Rooftop Ambience</td>\n",
       "      <td>Finger Food</td>\n",
       "      <td>2000.0</td>\n",
       "      <td>Pubs and bars</td>\n",
       "    </tr>\n",
       "    <tr>\n",
       "      <th>23422</th>\n",
       "      <td>Keys Cafe - Keys Hotel</td>\n",
       "      <td>No</td>\n",
       "      <td>No</td>\n",
       "      <td>2.8</td>\n",
       "      <td>161</td>\n",
       "      <td>Whitefield</td>\n",
       "      <td>Casual Dining, Bar</td>\n",
       "      <td>Salads, Coffee, Breakfast Buffet, Halwa, Chick...</td>\n",
       "      <td>Chinese, Continental, North Indian</td>\n",
       "      <td>1200.0</td>\n",
       "      <td>Pubs and bars</td>\n",
       "    </tr>\n",
       "    <tr>\n",
       "      <th>23423</th>\n",
       "      <td>Bhagini</td>\n",
       "      <td>No</td>\n",
       "      <td>No</td>\n",
       "      <td>2.0</td>\n",
       "      <td>81</td>\n",
       "      <td>Whitefield</td>\n",
       "      <td>Casual Dining, Bar</td>\n",
       "      <td>Biryani, Andhra Meal</td>\n",
       "      <td>Andhra, South Indian, Chinese, North Indian</td>\n",
       "      <td>800.0</td>\n",
       "      <td>Pubs and bars</td>\n",
       "    </tr>\n",
       "    <tr>\n",
       "      <th>23424</th>\n",
       "      <td>Chime - Sheraton Grand Bengaluru Whitefield Ho...</td>\n",
       "      <td>No</td>\n",
       "      <td>Yes</td>\n",
       "      <td>4.3</td>\n",
       "      <td>236</td>\n",
       "      <td>ITPL Main Road, Whitefield</td>\n",
       "      <td>Bar</td>\n",
       "      <td>Cocktails, Pizza, Buttermilk</td>\n",
       "      <td>Finger Food</td>\n",
       "      <td>2500.0</td>\n",
       "      <td>Pubs and bars</td>\n",
       "    </tr>\n",
       "  </tbody>\n",
       "</table>\n",
       "<p>23425 rows × 11 columns</p>\n",
       "</div>"
      ],
      "text/plain": [
       "                                                    name online_order  \\\n",
       "0                                                  Jalsa          Yes   \n",
       "1                                         Spice Elephant          Yes   \n",
       "2                                        San Churro Cafe          Yes   \n",
       "3                                  Addhuri Udupi Bhojana           No   \n",
       "4                                          Grand Village           No   \n",
       "...                                                  ...          ...   \n",
       "23420                                 Izakaya Gastro Pub          Yes   \n",
       "23421        M Bar - Bengaluru Marriott Hotel Whitefield           No   \n",
       "23422                             Keys Cafe - Keys Hotel           No   \n",
       "23423                                            Bhagini           No   \n",
       "23424  Chime - Sheraton Grand Bengaluru Whitefield Ho...           No   \n",
       "\n",
       "      book_table rate votes                    location            rest_type  \\\n",
       "0            Yes  4.1   775                Banashankari        Casual Dining   \n",
       "1             No  4.1   787                Banashankari        Casual Dining   \n",
       "2             No  3.8   918                Banashankari  Cafe, Casual Dining   \n",
       "3             No  3.7    88                Banashankari          Quick Bites   \n",
       "4             No  3.8   166                Basavanagudi        Casual Dining   \n",
       "...          ...  ...   ...                         ...                  ...   \n",
       "23420        Yes  3.8   128                  Whitefield   Bar, Casual Dining   \n",
       "23421         No  3.9    77                  Whitefield     Fine Dining, Bar   \n",
       "23422         No  2.8   161                  Whitefield   Casual Dining, Bar   \n",
       "23423         No  2.0    81                  Whitefield   Casual Dining, Bar   \n",
       "23424        Yes  4.3   236  ITPL Main Road, Whitefield                  Bar   \n",
       "\n",
       "                                              dish_liked  \\\n",
       "0      Pasta, Lunch Buffet, Masala Papad, Paneer Laja...   \n",
       "1      Momos, Lunch Buffet, Chocolate Nirvana, Thai G...   \n",
       "2      Churros, Cannelloni, Minestrone Soup, Hot Choc...   \n",
       "3                                            Masala Dosa   \n",
       "4                                    Panipuri, Gol Gappe   \n",
       "...                                                  ...   \n",
       "23420  Beer, Chicken Guntur, Paneer Tikka, Fish, Nood...   \n",
       "23421                                   Rooftop Ambience   \n",
       "23422  Salads, Coffee, Breakfast Buffet, Halwa, Chick...   \n",
       "23423                               Biryani, Andhra Meal   \n",
       "23424                       Cocktails, Pizza, Buttermilk   \n",
       "\n",
       "                                          cuisines Cost2plates           Type  \n",
       "0                   North Indian, Mughlai, Chinese       800.0         Buffet  \n",
       "1                      Chinese, North Indian, Thai       800.0         Buffet  \n",
       "2                           Cafe, Mexican, Italian       800.0         Buffet  \n",
       "3                       South Indian, North Indian       300.0         Buffet  \n",
       "4                         North Indian, Rajasthani       600.0         Buffet  \n",
       "...                                            ...         ...            ...  \n",
       "23420     North Indian, Continental, Mediterranean      1200.0  Pubs and bars  \n",
       "23421                                  Finger Food      2000.0  Pubs and bars  \n",
       "23422           Chinese, Continental, North Indian      1200.0  Pubs and bars  \n",
       "23423  Andhra, South Indian, Chinese, North Indian       800.0  Pubs and bars  \n",
       "23424                                  Finger Food      2500.0  Pubs and bars  \n",
       "\n",
       "[23425 rows x 11 columns]"
      ]
     },
     "execution_count": 127,
     "metadata": {},
     "output_type": "execute_result"
    }
   ],
   "source": [
    "df3 = pd.DataFrame(df2_numpy, columns=df2.columns)\n",
    "df3"
   ]
  },
  {
   "cell_type": "code",
   "execution_count": 128,
   "id": "dec0b3ae",
   "metadata": {
    "execution": {
     "iopub.execute_input": "2024-08-20T23:25:05.575454Z",
     "iopub.status.busy": "2024-08-20T23:25:05.574941Z",
     "iopub.status.idle": "2024-08-20T23:25:05.597398Z",
     "shell.execute_reply": "2024-08-20T23:25:05.596183Z"
    },
    "papermill": {
     "duration": 0.078764,
     "end_time": "2024-08-20T23:25:05.599705",
     "exception": false,
     "start_time": "2024-08-20T23:25:05.520941",
     "status": "completed"
    },
    "tags": []
   },
   "outputs": [
    {
     "name": "stdout",
     "output_type": "stream",
     "text": [
      "<class 'pandas.core.frame.DataFrame'>\n",
      "RangeIndex: 23425 entries, 0 to 23424\n",
      "Data columns (total 11 columns):\n",
      " #   Column        Non-Null Count  Dtype \n",
      "---  ------        --------------  ----- \n",
      " 0   name          23425 non-null  object\n",
      " 1   online_order  23425 non-null  object\n",
      " 2   book_table    23425 non-null  object\n",
      " 3   rate          23425 non-null  object\n",
      " 4   votes         23425 non-null  object\n",
      " 5   location      23425 non-null  object\n",
      " 6   rest_type     23425 non-null  object\n",
      " 7   dish_liked    23425 non-null  object\n",
      " 8   cuisines      23425 non-null  object\n",
      " 9   Cost2plates   23425 non-null  object\n",
      " 10  Type          23425 non-null  object\n",
      "dtypes: object(11)\n",
      "memory usage: 2.0+ MB\n"
     ]
    }
   ],
   "source": [
    "df3.info()"
   ]
  },
  {
   "cell_type": "code",
   "execution_count": 129,
   "id": "f39bdc79",
   "metadata": {
    "execution": {
     "iopub.execute_input": "2024-08-20T23:25:05.707525Z",
     "iopub.status.busy": "2024-08-20T23:25:05.706801Z",
     "iopub.status.idle": "2024-08-20T23:25:05.715172Z",
     "shell.execute_reply": "2024-08-20T23:25:05.714253Z"
    },
    "papermill": {
     "duration": 0.064391,
     "end_time": "2024-08-20T23:25:05.717252",
     "exception": false,
     "start_time": "2024-08-20T23:25:05.652861",
     "status": "completed"
    },
    "tags": []
   },
   "outputs": [
    {
     "data": {
      "text/plain": [
       "array(['Casual Dining', 'Cafe, Casual Dining', 'Quick Bites',\n",
       "       'Casual Dining, Cafe', 'Cafe', 'Quick Bites, Cafe', 'Delivery',\n",
       "       'Dessert Parlor', 'Pub', 'Beverage Shop', 'Bar',\n",
       "       'Takeaway, Delivery', 'Food Truck', 'Quick Bites, Dessert Parlor',\n",
       "       'Pub, Casual Dining', 'Casual Dining, Bar', 'Bakery', 'Sweet Shop',\n",
       "       'Dessert Parlor, Beverage Shop', 'Beverage Shop, Quick Bites',\n",
       "       'Microbrewery, Casual Dining', 'Sweet Shop, Quick Bites', 'Lounge',\n",
       "       'Food Court', 'Cafe, Bakery', 'Microbrewery', 'Kiosk', 'Pub, Bar',\n",
       "       'Casual Dining, Pub', 'Cafe, Quick Bites', 'Lounge, Bar',\n",
       "       'Bakery, Quick Bites', 'Dessert Parlor, Quick Bites',\n",
       "       'Bar, Casual Dining', 'Beverage Shop, Dessert Parlor',\n",
       "       'Casual Dining, Microbrewery', 'Mess', 'Lounge, Casual Dining',\n",
       "       'Cafe, Dessert Parlor', 'Dessert Parlor, Cafe',\n",
       "       'Bakery, Dessert Parlor', 'Quick Bites, Sweet Shop', 'Takeaway',\n",
       "       'Microbrewery, Pub', 'Club', 'Fine Dining', 'Bakery, Cafe',\n",
       "       'Beverage Shop, Cafe', 'Pub, Cafe', 'Casual Dining, Irani Cafee',\n",
       "       'Food Court, Quick Bites', 'Quick Bites, Beverage Shop',\n",
       "       'Fine Dining, Lounge', 'Quick Bites, Bakery', 'Bar, Quick Bites',\n",
       "       'Pub, Microbrewery', 'Microbrewery, Lounge',\n",
       "       'Fine Dining, Microbrewery', 'Fine Dining, Bar',\n",
       "       'Dessert Parlor, Kiosk', 'Cafe, Bar', 'Quick Bites, Food Court',\n",
       "       'Casual Dining, Lounge', 'Microbrewery, Bar', 'Cafe, Lounge',\n",
       "       'Bar, Pub', 'Lounge, Cafe', 'Dessert Parlor, Bakery',\n",
       "       'Club, Casual Dining', 'Lounge, Microbrewery', 'Dhaba',\n",
       "       'Bar, Lounge', 'Food Court, Casual Dining'], dtype=object)"
      ]
     },
     "execution_count": 129,
     "metadata": {},
     "output_type": "execute_result"
    }
   ],
   "source": [
    "df3['rest_type'].unique()"
   ]
  },
  {
   "cell_type": "code",
   "execution_count": 130,
   "id": "cafafe7f",
   "metadata": {
    "execution": {
     "iopub.execute_input": "2024-08-20T23:25:05.826245Z",
     "iopub.status.busy": "2024-08-20T23:25:05.825454Z",
     "iopub.status.idle": "2024-08-20T23:25:05.835304Z",
     "shell.execute_reply": "2024-08-20T23:25:05.834337Z"
    },
    "papermill": {
     "duration": 0.066185,
     "end_time": "2024-08-20T23:25:05.837365",
     "exception": false,
     "start_time": "2024-08-20T23:25:05.771180",
     "status": "completed"
    },
    "tags": []
   },
   "outputs": [
    {
     "data": {
      "text/plain": [
       "rest_type\n",
       "Casual Dining                7394\n",
       "Quick Bites                  5269\n",
       "Cafe                         2383\n",
       "Dessert Parlor               1085\n",
       "Casual Dining, Bar            992\n",
       "                             ... \n",
       "Fine Dining, Microbrewery       5\n",
       "Club, Casual Dining             4\n",
       "Dessert Parlor, Kiosk           2\n",
       "Dhaba                           1\n",
       "Food Court, Casual Dining       1\n",
       "Name: count, Length: 73, dtype: int64"
      ]
     },
     "execution_count": 130,
     "metadata": {},
     "output_type": "execute_result"
    }
   ],
   "source": [
    "df3['rest_type'].value_counts()\n"
   ]
  },
  {
   "cell_type": "code",
   "execution_count": 131,
   "id": "8eec254d",
   "metadata": {
    "execution": {
     "iopub.execute_input": "2024-08-20T23:25:05.948372Z",
     "iopub.status.busy": "2024-08-20T23:25:05.947986Z",
     "iopub.status.idle": "2024-08-20T23:25:05.952697Z",
     "shell.execute_reply": "2024-08-20T23:25:05.951537Z"
    },
    "papermill": {
     "duration": 0.063641,
     "end_time": "2024-08-20T23:25:05.955070",
     "exception": false,
     "start_time": "2024-08-20T23:25:05.891429",
     "status": "completed"
    },
    "tags": []
   },
   "outputs": [],
   "source": [
    "#we can see that they some with 7k count,5k count and there are some with 1,2,4 count\n",
    "#so we are going to put those with less than 700 counts as others"
   ]
  },
  {
   "cell_type": "code",
   "execution_count": 132,
   "id": "2ee1800d",
   "metadata": {
    "execution": {
     "iopub.execute_input": "2024-08-20T23:25:06.063945Z",
     "iopub.status.busy": "2024-08-20T23:25:06.063026Z",
     "iopub.status.idle": "2024-08-20T23:25:06.076184Z",
     "shell.execute_reply": "2024-08-20T23:25:06.075138Z"
    },
    "papermill": {
     "duration": 0.069875,
     "end_time": "2024-08-20T23:25:06.078269",
     "exception": false,
     "start_time": "2024-08-20T23:25:06.008394",
     "status": "completed"
    },
    "tags": []
   },
   "outputs": [
    {
     "data": {
      "text/plain": [
       "rest_type\n",
       "Bar                          358\n",
       "Bar, Casual Dining           351\n",
       "Takeaway, Delivery           344\n",
       "Pub                          326\n",
       "Lounge                       313\n",
       "                            ... \n",
       "Fine Dining, Microbrewery      5\n",
       "Club, Casual Dining            4\n",
       "Dessert Parlor, Kiosk          2\n",
       "Dhaba                          1\n",
       "Food Court, Casual Dining      1\n",
       "Name: count, Length: 67, dtype: int64"
      ]
     },
     "execution_count": 132,
     "metadata": {},
     "output_type": "execute_result"
    }
   ],
   "source": [
    "#lets find the ones with less than 700 counts\n",
    "low_rest_type = df3['rest_type'].value_counts()[df3['rest_type'].value_counts() < 700]\n",
    "low_rest_type"
   ]
  },
  {
   "cell_type": "code",
   "execution_count": null,
   "id": "fece5251",
   "metadata": {
    "papermill": {
     "duration": 0.053204,
     "end_time": "2024-08-20T23:25:06.186580",
     "exception": false,
     "start_time": "2024-08-20T23:25:06.133376",
     "status": "completed"
    },
    "tags": []
   },
   "outputs": [],
   "source": []
  },
  {
   "cell_type": "code",
   "execution_count": 133,
   "id": "08b76978",
   "metadata": {
    "execution": {
     "iopub.execute_input": "2024-08-20T23:25:06.294603Z",
     "iopub.status.busy": "2024-08-20T23:25:06.293698Z",
     "iopub.status.idle": "2024-08-20T23:25:06.300943Z",
     "shell.execute_reply": "2024-08-20T23:25:06.299986Z"
    },
    "papermill": {
     "duration": 0.063294,
     "end_time": "2024-08-20T23:25:06.302906",
     "exception": false,
     "start_time": "2024-08-20T23:25:06.239612",
     "status": "completed"
    },
    "tags": []
   },
   "outputs": [
    {
     "data": {
      "text/plain": [
       "Index(['Bar', 'Bar, Casual Dining', 'Takeaway, Delivery', 'Pub', 'Lounge',\n",
       "       'Fine Dining', 'Casual Dining, Cafe', 'Pub, Casual Dining',\n",
       "       'Food Court', 'Bakery', 'Cafe, Casual Dining', 'Dessert Parlor, Cafe',\n",
       "       'Beverage Shop', 'Beverage Shop, Quick Bites',\n",
       "       'Microbrewery, Casual Dining', 'Cafe, Bakery', 'Casual Dining, Pub',\n",
       "       'Cafe, Dessert Parlor', 'Sweet Shop', 'Bakery, Quick Bites',\n",
       "       'Sweet Shop, Quick Bites', 'Pub, Microbrewery',\n",
       "       'Dessert Parlor, Quick Bites', 'Bakery, Cafe', 'Bakery, Dessert Parlor',\n",
       "       'Quick Bites, Dessert Parlor', 'Mess', 'Dessert Parlor, Beverage Shop',\n",
       "       'Casual Dining, Microbrewery', 'Kiosk', 'Beverage Shop, Dessert Parlor',\n",
       "       'Microbrewery, Pub', 'Quick Bites, Sweet Shop', 'Pub, Cafe',\n",
       "       'Cafe, Quick Bites', 'Pub, Bar', 'Fine Dining, Bar',\n",
       "       'Lounge, Casual Dining', 'Club', 'Lounge, Bar', 'Quick Bites, Bakery',\n",
       "       'Food Court, Quick Bites', 'Quick Bites, Beverage Shop', 'Microbrewery',\n",
       "       'Quick Bites, Cafe', 'Dessert Parlor, Bakery', 'Cafe, Bar',\n",
       "       'Lounge, Microbrewery', 'Lounge, Cafe', 'Beverage Shop, Cafe',\n",
       "       'Cafe, Lounge', 'Casual Dining, Irani Cafee', 'Fine Dining, Lounge',\n",
       "       'Takeaway', 'Quick Bites, Food Court', 'Microbrewery, Bar',\n",
       "       'Food Truck', 'Casual Dining, Lounge', 'Microbrewery, Lounge',\n",
       "       'Bar, Quick Bites', 'Bar, Lounge', 'Bar, Pub',\n",
       "       'Fine Dining, Microbrewery', 'Club, Casual Dining',\n",
       "       'Dessert Parlor, Kiosk', 'Dhaba', 'Food Court, Casual Dining'],\n",
       "      dtype='object', name='rest_type')"
      ]
     },
     "execution_count": 133,
     "metadata": {},
     "output_type": "execute_result"
    }
   ],
   "source": [
    "low_rest_type.index"
   ]
  },
  {
   "cell_type": "code",
   "execution_count": 134,
   "id": "d1eaa834",
   "metadata": {
    "execution": {
     "iopub.execute_input": "2024-08-20T23:25:06.411678Z",
     "iopub.status.busy": "2024-08-20T23:25:06.411296Z",
     "iopub.status.idle": "2024-08-20T23:25:06.418267Z",
     "shell.execute_reply": "2024-08-20T23:25:06.417216Z"
    },
    "papermill": {
     "duration": 0.064066,
     "end_time": "2024-08-20T23:25:06.420597",
     "exception": false,
     "start_time": "2024-08-20T23:25:06.356531",
     "status": "completed"
    },
    "tags": []
   },
   "outputs": [
    {
     "data": {
      "text/plain": [
       "array(['Bar', 'Bar, Casual Dining', 'Takeaway, Delivery', 'Pub', 'Lounge',\n",
       "       'Fine Dining', 'Casual Dining, Cafe', 'Pub, Casual Dining',\n",
       "       'Food Court', 'Bakery', 'Cafe, Casual Dining',\n",
       "       'Dessert Parlor, Cafe', 'Beverage Shop',\n",
       "       'Beverage Shop, Quick Bites', 'Microbrewery, Casual Dining',\n",
       "       'Cafe, Bakery', 'Casual Dining, Pub', 'Cafe, Dessert Parlor',\n",
       "       'Sweet Shop', 'Bakery, Quick Bites', 'Sweet Shop, Quick Bites',\n",
       "       'Pub, Microbrewery', 'Dessert Parlor, Quick Bites', 'Bakery, Cafe',\n",
       "       'Bakery, Dessert Parlor', 'Quick Bites, Dessert Parlor', 'Mess',\n",
       "       'Dessert Parlor, Beverage Shop', 'Casual Dining, Microbrewery',\n",
       "       'Kiosk', 'Beverage Shop, Dessert Parlor', 'Microbrewery, Pub',\n",
       "       'Quick Bites, Sweet Shop', 'Pub, Cafe', 'Cafe, Quick Bites',\n",
       "       'Pub, Bar', 'Fine Dining, Bar', 'Lounge, Casual Dining', 'Club',\n",
       "       'Lounge, Bar', 'Quick Bites, Bakery', 'Food Court, Quick Bites',\n",
       "       'Quick Bites, Beverage Shop', 'Microbrewery', 'Quick Bites, Cafe',\n",
       "       'Dessert Parlor, Bakery', 'Cafe, Bar', 'Lounge, Microbrewery',\n",
       "       'Lounge, Cafe', 'Beverage Shop, Cafe', 'Cafe, Lounge',\n",
       "       'Casual Dining, Irani Cafee', 'Fine Dining, Lounge', 'Takeaway',\n",
       "       'Quick Bites, Food Court', 'Microbrewery, Bar', 'Food Truck',\n",
       "       'Casual Dining, Lounge', 'Microbrewery, Lounge',\n",
       "       'Bar, Quick Bites', 'Bar, Lounge', 'Bar, Pub',\n",
       "       'Fine Dining, Microbrewery', 'Club, Casual Dining',\n",
       "       'Dessert Parlor, Kiosk', 'Dhaba', 'Food Court, Casual Dining'],\n",
       "      dtype=object)"
      ]
     },
     "execution_count": 134,
     "metadata": {},
     "output_type": "execute_result"
    }
   ],
   "source": [
    "#lets turn it to an nd array\n",
    "other_array = np.array(low_rest_type.index)\n",
    "other_array"
   ]
  },
  {
   "cell_type": "code",
   "execution_count": 135,
   "id": "8afe70d9",
   "metadata": {
    "execution": {
     "iopub.execute_input": "2024-08-20T23:25:06.530550Z",
     "iopub.status.busy": "2024-08-20T23:25:06.530174Z",
     "iopub.status.idle": "2024-08-20T23:25:06.562765Z",
     "shell.execute_reply": "2024-08-20T23:25:06.561700Z"
    },
    "papermill": {
     "duration": 0.09079,
     "end_time": "2024-08-20T23:25:06.565123",
     "exception": false,
     "start_time": "2024-08-20T23:25:06.474333",
     "status": "completed"
    },
    "tags": []
   },
   "outputs": [],
   "source": [
    "#we want to know if the other array is in the rest_type\n",
    "mask_other_array = np.isin(df3['rest_type'], other_array)"
   ]
  },
  {
   "cell_type": "code",
   "execution_count": 136,
   "id": "0b49fa33",
   "metadata": {
    "execution": {
     "iopub.execute_input": "2024-08-20T23:25:06.676665Z",
     "iopub.status.busy": "2024-08-20T23:25:06.676291Z",
     "iopub.status.idle": "2024-08-20T23:25:06.683021Z",
     "shell.execute_reply": "2024-08-20T23:25:06.681887Z"
    },
    "papermill": {
     "duration": 0.065197,
     "end_time": "2024-08-20T23:25:06.685369",
     "exception": false,
     "start_time": "2024-08-20T23:25:06.620172",
     "status": "completed"
    },
    "tags": []
   },
   "outputs": [
    {
     "data": {
      "text/plain": [
       "array([False, False,  True, ..., False, False,  True])"
      ]
     },
     "execution_count": 136,
     "metadata": {},
     "output_type": "execute_result"
    }
   ],
   "source": [
    "mask_other_array"
   ]
  },
  {
   "cell_type": "code",
   "execution_count": 137,
   "id": "4a86d02e",
   "metadata": {
    "execution": {
     "iopub.execute_input": "2024-08-20T23:25:06.795388Z",
     "iopub.status.busy": "2024-08-20T23:25:06.794977Z",
     "iopub.status.idle": "2024-08-20T23:25:06.800398Z",
     "shell.execute_reply": "2024-08-20T23:25:06.799321Z"
    },
    "papermill": {
     "duration": 0.062912,
     "end_time": "2024-08-20T23:25:06.802582",
     "exception": false,
     "start_time": "2024-08-20T23:25:06.739670",
     "status": "completed"
    },
    "tags": []
   },
   "outputs": [],
   "source": [
    "#if it is change it to 'others' if not keep it like it is\n",
    "new_rest_type = np.where(mask_other_array,\n",
    "                        'others',\n",
    "                        df3['rest_type'])"
   ]
  },
  {
   "cell_type": "code",
   "execution_count": 138,
   "id": "620ffcce",
   "metadata": {
    "execution": {
     "iopub.execute_input": "2024-08-20T23:25:06.915095Z",
     "iopub.status.busy": "2024-08-20T23:25:06.914711Z",
     "iopub.status.idle": "2024-08-20T23:25:06.935720Z",
     "shell.execute_reply": "2024-08-20T23:25:06.934735Z"
    },
    "papermill": {
     "duration": 0.080658,
     "end_time": "2024-08-20T23:25:06.937966",
     "exception": false,
     "start_time": "2024-08-20T23:25:06.857308",
     "status": "completed"
    },
    "tags": []
   },
   "outputs": [
    {
     "data": {
      "text/plain": [
       "(array(['Cafe', 'Casual Dining', 'Casual Dining, Bar', 'Delivery',\n",
       "        'Dessert Parlor', 'Quick Bites', 'others'], dtype=object),\n",
       " array([2383, 7394,  992,  707, 1085, 5269, 5595]))"
      ]
     },
     "execution_count": 138,
     "metadata": {},
     "output_type": "execute_result"
    }
   ],
   "source": [
    "#we just made everything less than 700 to be others\n",
    "np.unique(new_rest_type, return_counts=True)"
   ]
  },
  {
   "cell_type": "code",
   "execution_count": 139,
   "id": "4ad0af23",
   "metadata": {
    "execution": {
     "iopub.execute_input": "2024-08-20T23:25:07.050258Z",
     "iopub.status.busy": "2024-08-20T23:25:07.049822Z",
     "iopub.status.idle": "2024-08-20T23:25:07.054473Z",
     "shell.execute_reply": "2024-08-20T23:25:07.053408Z"
    },
    "papermill": {
     "duration": 0.064401,
     "end_time": "2024-08-20T23:25:07.056728",
     "exception": false,
     "start_time": "2024-08-20T23:25:06.992327",
     "status": "completed"
    },
    "tags": []
   },
   "outputs": [],
   "source": [
    "#lets put it in our dataset"
   ]
  },
  {
   "cell_type": "code",
   "execution_count": 140,
   "id": "0506d529",
   "metadata": {
    "execution": {
     "iopub.execute_input": "2024-08-20T23:25:07.169004Z",
     "iopub.status.busy": "2024-08-20T23:25:07.168073Z",
     "iopub.status.idle": "2024-08-20T23:25:07.174547Z",
     "shell.execute_reply": "2024-08-20T23:25:07.173522Z"
    },
    "papermill": {
     "duration": 0.064818,
     "end_time": "2024-08-20T23:25:07.176671",
     "exception": false,
     "start_time": "2024-08-20T23:25:07.111853",
     "status": "completed"
    },
    "tags": []
   },
   "outputs": [
    {
     "data": {
      "text/plain": [
       "numpy.ndarray"
      ]
     },
     "execution_count": 140,
     "metadata": {},
     "output_type": "execute_result"
    }
   ],
   "source": [
    "type(new_rest_type)"
   ]
  },
  {
   "cell_type": "code",
   "execution_count": 141,
   "id": "1a6ddd45",
   "metadata": {
    "execution": {
     "iopub.execute_input": "2024-08-20T23:25:07.285715Z",
     "iopub.status.busy": "2024-08-20T23:25:07.285357Z",
     "iopub.status.idle": "2024-08-20T23:25:07.292223Z",
     "shell.execute_reply": "2024-08-20T23:25:07.291144Z"
    },
    "papermill": {
     "duration": 0.064018,
     "end_time": "2024-08-20T23:25:07.294600",
     "exception": false,
     "start_time": "2024-08-20T23:25:07.230582",
     "status": "completed"
    },
    "tags": []
   },
   "outputs": [
    {
     "data": {
      "text/plain": [
       "array([['Jalsa', 'Yes', 'Yes', ..., 'North Indian, Mughlai, Chinese',\n",
       "        800.0, 'Buffet'],\n",
       "       ['Spice Elephant', 'Yes', 'No', ...,\n",
       "        'Chinese, North Indian, Thai', 800.0, 'Buffet'],\n",
       "       ['San Churro Cafe', 'Yes', 'No', ..., 'Cafe, Mexican, Italian',\n",
       "        800.0, 'Buffet'],\n",
       "       ...,\n",
       "       ['Keys Cafe - Keys Hotel', 'No', 'No', ...,\n",
       "        'Chinese, Continental, North Indian', 1200.0, 'Pubs and bars'],\n",
       "       ['Bhagini', 'No', 'No', ...,\n",
       "        'Andhra, South Indian, Chinese, North Indian', 800.0,\n",
       "        'Pubs and bars'],\n",
       "       ['Chime - Sheraton Grand Bengaluru Whitefield Hotel &...', 'No',\n",
       "        'Yes', ..., 'Finger Food', 2500.0, 'Pubs and bars']], dtype=object)"
      ]
     },
     "execution_count": 141,
     "metadata": {},
     "output_type": "execute_result"
    }
   ],
   "source": [
    "df3_numpy =df3.to_numpy()\n",
    "df3_numpy"
   ]
  },
  {
   "cell_type": "code",
   "execution_count": 142,
   "id": "e57dfc7b",
   "metadata": {
    "execution": {
     "iopub.execute_input": "2024-08-20T23:25:07.406930Z",
     "iopub.status.busy": "2024-08-20T23:25:07.406594Z",
     "iopub.status.idle": "2024-08-20T23:25:07.411504Z",
     "shell.execute_reply": "2024-08-20T23:25:07.410353Z"
    },
    "papermill": {
     "duration": 0.062633,
     "end_time": "2024-08-20T23:25:07.413602",
     "exception": false,
     "start_time": "2024-08-20T23:25:07.350969",
     "status": "completed"
    },
    "tags": []
   },
   "outputs": [],
   "source": [
    "df3_numpy[:,6] = new_rest_type"
   ]
  },
  {
   "cell_type": "code",
   "execution_count": 143,
   "id": "09eb2354",
   "metadata": {
    "execution": {
     "iopub.execute_input": "2024-08-20T23:25:07.524869Z",
     "iopub.status.busy": "2024-08-20T23:25:07.524111Z",
     "iopub.status.idle": "2024-08-20T23:25:07.529174Z",
     "shell.execute_reply": "2024-08-20T23:25:07.528284Z"
    },
    "papermill": {
     "duration": 0.063177,
     "end_time": "2024-08-20T23:25:07.531345",
     "exception": false,
     "start_time": "2024-08-20T23:25:07.468168",
     "status": "completed"
    },
    "tags": []
   },
   "outputs": [],
   "source": [
    "#take it back to pandas"
   ]
  },
  {
   "cell_type": "code",
   "execution_count": 144,
   "id": "c81a98dc",
   "metadata": {
    "execution": {
     "iopub.execute_input": "2024-08-20T23:25:07.641975Z",
     "iopub.status.busy": "2024-08-20T23:25:07.641153Z",
     "iopub.status.idle": "2024-08-20T23:25:07.658417Z",
     "shell.execute_reply": "2024-08-20T23:25:07.657288Z"
    },
    "papermill": {
     "duration": 0.075046,
     "end_time": "2024-08-20T23:25:07.660465",
     "exception": false,
     "start_time": "2024-08-20T23:25:07.585419",
     "status": "completed"
    },
    "tags": []
   },
   "outputs": [
    {
     "data": {
      "text/html": [
       "<div>\n",
       "<style scoped>\n",
       "    .dataframe tbody tr th:only-of-type {\n",
       "        vertical-align: middle;\n",
       "    }\n",
       "\n",
       "    .dataframe tbody tr th {\n",
       "        vertical-align: top;\n",
       "    }\n",
       "\n",
       "    .dataframe thead th {\n",
       "        text-align: right;\n",
       "    }\n",
       "</style>\n",
       "<table border=\"1\" class=\"dataframe\">\n",
       "  <thead>\n",
       "    <tr style=\"text-align: right;\">\n",
       "      <th></th>\n",
       "      <th>name</th>\n",
       "      <th>online_order</th>\n",
       "      <th>book_table</th>\n",
       "      <th>rate</th>\n",
       "      <th>votes</th>\n",
       "      <th>location</th>\n",
       "      <th>rest_type</th>\n",
       "      <th>dish_liked</th>\n",
       "      <th>cuisines</th>\n",
       "      <th>Cost2plates</th>\n",
       "      <th>Type</th>\n",
       "    </tr>\n",
       "  </thead>\n",
       "  <tbody>\n",
       "    <tr>\n",
       "      <th>0</th>\n",
       "      <td>Jalsa</td>\n",
       "      <td>Yes</td>\n",
       "      <td>Yes</td>\n",
       "      <td>4.1</td>\n",
       "      <td>775</td>\n",
       "      <td>Banashankari</td>\n",
       "      <td>Casual Dining</td>\n",
       "      <td>Pasta, Lunch Buffet, Masala Papad, Paneer Laja...</td>\n",
       "      <td>North Indian, Mughlai, Chinese</td>\n",
       "      <td>800.0</td>\n",
       "      <td>Buffet</td>\n",
       "    </tr>\n",
       "    <tr>\n",
       "      <th>1</th>\n",
       "      <td>Spice Elephant</td>\n",
       "      <td>Yes</td>\n",
       "      <td>No</td>\n",
       "      <td>4.1</td>\n",
       "      <td>787</td>\n",
       "      <td>Banashankari</td>\n",
       "      <td>Casual Dining</td>\n",
       "      <td>Momos, Lunch Buffet, Chocolate Nirvana, Thai G...</td>\n",
       "      <td>Chinese, North Indian, Thai</td>\n",
       "      <td>800.0</td>\n",
       "      <td>Buffet</td>\n",
       "    </tr>\n",
       "    <tr>\n",
       "      <th>2</th>\n",
       "      <td>San Churro Cafe</td>\n",
       "      <td>Yes</td>\n",
       "      <td>No</td>\n",
       "      <td>3.8</td>\n",
       "      <td>918</td>\n",
       "      <td>Banashankari</td>\n",
       "      <td>others</td>\n",
       "      <td>Churros, Cannelloni, Minestrone Soup, Hot Choc...</td>\n",
       "      <td>Cafe, Mexican, Italian</td>\n",
       "      <td>800.0</td>\n",
       "      <td>Buffet</td>\n",
       "    </tr>\n",
       "    <tr>\n",
       "      <th>3</th>\n",
       "      <td>Addhuri Udupi Bhojana</td>\n",
       "      <td>No</td>\n",
       "      <td>No</td>\n",
       "      <td>3.7</td>\n",
       "      <td>88</td>\n",
       "      <td>Banashankari</td>\n",
       "      <td>Quick Bites</td>\n",
       "      <td>Masala Dosa</td>\n",
       "      <td>South Indian, North Indian</td>\n",
       "      <td>300.0</td>\n",
       "      <td>Buffet</td>\n",
       "    </tr>\n",
       "    <tr>\n",
       "      <th>4</th>\n",
       "      <td>Grand Village</td>\n",
       "      <td>No</td>\n",
       "      <td>No</td>\n",
       "      <td>3.8</td>\n",
       "      <td>166</td>\n",
       "      <td>Basavanagudi</td>\n",
       "      <td>Casual Dining</td>\n",
       "      <td>Panipuri, Gol Gappe</td>\n",
       "      <td>North Indian, Rajasthani</td>\n",
       "      <td>600.0</td>\n",
       "      <td>Buffet</td>\n",
       "    </tr>\n",
       "    <tr>\n",
       "      <th>...</th>\n",
       "      <td>...</td>\n",
       "      <td>...</td>\n",
       "      <td>...</td>\n",
       "      <td>...</td>\n",
       "      <td>...</td>\n",
       "      <td>...</td>\n",
       "      <td>...</td>\n",
       "      <td>...</td>\n",
       "      <td>...</td>\n",
       "      <td>...</td>\n",
       "      <td>...</td>\n",
       "    </tr>\n",
       "    <tr>\n",
       "      <th>23420</th>\n",
       "      <td>Izakaya Gastro Pub</td>\n",
       "      <td>Yes</td>\n",
       "      <td>Yes</td>\n",
       "      <td>3.8</td>\n",
       "      <td>128</td>\n",
       "      <td>Whitefield</td>\n",
       "      <td>others</td>\n",
       "      <td>Beer, Chicken Guntur, Paneer Tikka, Fish, Nood...</td>\n",
       "      <td>North Indian, Continental, Mediterranean</td>\n",
       "      <td>1200.0</td>\n",
       "      <td>Pubs and bars</td>\n",
       "    </tr>\n",
       "    <tr>\n",
       "      <th>23421</th>\n",
       "      <td>M Bar - Bengaluru Marriott Hotel Whitefield</td>\n",
       "      <td>No</td>\n",
       "      <td>No</td>\n",
       "      <td>3.9</td>\n",
       "      <td>77</td>\n",
       "      <td>Whitefield</td>\n",
       "      <td>others</td>\n",
       "      <td>Rooftop Ambience</td>\n",
       "      <td>Finger Food</td>\n",
       "      <td>2000.0</td>\n",
       "      <td>Pubs and bars</td>\n",
       "    </tr>\n",
       "    <tr>\n",
       "      <th>23422</th>\n",
       "      <td>Keys Cafe - Keys Hotel</td>\n",
       "      <td>No</td>\n",
       "      <td>No</td>\n",
       "      <td>2.8</td>\n",
       "      <td>161</td>\n",
       "      <td>Whitefield</td>\n",
       "      <td>Casual Dining, Bar</td>\n",
       "      <td>Salads, Coffee, Breakfast Buffet, Halwa, Chick...</td>\n",
       "      <td>Chinese, Continental, North Indian</td>\n",
       "      <td>1200.0</td>\n",
       "      <td>Pubs and bars</td>\n",
       "    </tr>\n",
       "    <tr>\n",
       "      <th>23423</th>\n",
       "      <td>Bhagini</td>\n",
       "      <td>No</td>\n",
       "      <td>No</td>\n",
       "      <td>2.0</td>\n",
       "      <td>81</td>\n",
       "      <td>Whitefield</td>\n",
       "      <td>Casual Dining, Bar</td>\n",
       "      <td>Biryani, Andhra Meal</td>\n",
       "      <td>Andhra, South Indian, Chinese, North Indian</td>\n",
       "      <td>800.0</td>\n",
       "      <td>Pubs and bars</td>\n",
       "    </tr>\n",
       "    <tr>\n",
       "      <th>23424</th>\n",
       "      <td>Chime - Sheraton Grand Bengaluru Whitefield Ho...</td>\n",
       "      <td>No</td>\n",
       "      <td>Yes</td>\n",
       "      <td>4.3</td>\n",
       "      <td>236</td>\n",
       "      <td>ITPL Main Road, Whitefield</td>\n",
       "      <td>others</td>\n",
       "      <td>Cocktails, Pizza, Buttermilk</td>\n",
       "      <td>Finger Food</td>\n",
       "      <td>2500.0</td>\n",
       "      <td>Pubs and bars</td>\n",
       "    </tr>\n",
       "  </tbody>\n",
       "</table>\n",
       "<p>23425 rows × 11 columns</p>\n",
       "</div>"
      ],
      "text/plain": [
       "                                                    name online_order  \\\n",
       "0                                                  Jalsa          Yes   \n",
       "1                                         Spice Elephant          Yes   \n",
       "2                                        San Churro Cafe          Yes   \n",
       "3                                  Addhuri Udupi Bhojana           No   \n",
       "4                                          Grand Village           No   \n",
       "...                                                  ...          ...   \n",
       "23420                                 Izakaya Gastro Pub          Yes   \n",
       "23421        M Bar - Bengaluru Marriott Hotel Whitefield           No   \n",
       "23422                             Keys Cafe - Keys Hotel           No   \n",
       "23423                                            Bhagini           No   \n",
       "23424  Chime - Sheraton Grand Bengaluru Whitefield Ho...           No   \n",
       "\n",
       "      book_table rate votes                    location           rest_type  \\\n",
       "0            Yes  4.1   775                Banashankari       Casual Dining   \n",
       "1             No  4.1   787                Banashankari       Casual Dining   \n",
       "2             No  3.8   918                Banashankari              others   \n",
       "3             No  3.7    88                Banashankari         Quick Bites   \n",
       "4             No  3.8   166                Basavanagudi       Casual Dining   \n",
       "...          ...  ...   ...                         ...                 ...   \n",
       "23420        Yes  3.8   128                  Whitefield              others   \n",
       "23421         No  3.9    77                  Whitefield              others   \n",
       "23422         No  2.8   161                  Whitefield  Casual Dining, Bar   \n",
       "23423         No  2.0    81                  Whitefield  Casual Dining, Bar   \n",
       "23424        Yes  4.3   236  ITPL Main Road, Whitefield              others   \n",
       "\n",
       "                                              dish_liked  \\\n",
       "0      Pasta, Lunch Buffet, Masala Papad, Paneer Laja...   \n",
       "1      Momos, Lunch Buffet, Chocolate Nirvana, Thai G...   \n",
       "2      Churros, Cannelloni, Minestrone Soup, Hot Choc...   \n",
       "3                                            Masala Dosa   \n",
       "4                                    Panipuri, Gol Gappe   \n",
       "...                                                  ...   \n",
       "23420  Beer, Chicken Guntur, Paneer Tikka, Fish, Nood...   \n",
       "23421                                   Rooftop Ambience   \n",
       "23422  Salads, Coffee, Breakfast Buffet, Halwa, Chick...   \n",
       "23423                               Biryani, Andhra Meal   \n",
       "23424                       Cocktails, Pizza, Buttermilk   \n",
       "\n",
       "                                          cuisines Cost2plates           Type  \n",
       "0                   North Indian, Mughlai, Chinese       800.0         Buffet  \n",
       "1                      Chinese, North Indian, Thai       800.0         Buffet  \n",
       "2                           Cafe, Mexican, Italian       800.0         Buffet  \n",
       "3                       South Indian, North Indian       300.0         Buffet  \n",
       "4                         North Indian, Rajasthani       600.0         Buffet  \n",
       "...                                            ...         ...            ...  \n",
       "23420     North Indian, Continental, Mediterranean      1200.0  Pubs and bars  \n",
       "23421                                  Finger Food      2000.0  Pubs and bars  \n",
       "23422           Chinese, Continental, North Indian      1200.0  Pubs and bars  \n",
       "23423  Andhra, South Indian, Chinese, North Indian       800.0  Pubs and bars  \n",
       "23424                                  Finger Food      2500.0  Pubs and bars  \n",
       "\n",
       "[23425 rows x 11 columns]"
      ]
     },
     "execution_count": 144,
     "metadata": {},
     "output_type": "execute_result"
    }
   ],
   "source": [
    "df4 = pd.DataFrame(df3_numpy, columns= df2.columns)\n",
    "df4"
   ]
  },
  {
   "cell_type": "code",
   "execution_count": 145,
   "id": "437ab7fb",
   "metadata": {
    "execution": {
     "iopub.execute_input": "2024-08-20T23:25:07.771688Z",
     "iopub.status.busy": "2024-08-20T23:25:07.770727Z",
     "iopub.status.idle": "2024-08-20T23:25:07.779432Z",
     "shell.execute_reply": "2024-08-20T23:25:07.778381Z"
    },
    "papermill": {
     "duration": 0.066574,
     "end_time": "2024-08-20T23:25:07.781688",
     "exception": false,
     "start_time": "2024-08-20T23:25:07.715114",
     "status": "completed"
    },
    "tags": []
   },
   "outputs": [
    {
     "data": {
      "text/plain": [
       "array(['Casual Dining', 'others', 'Quick Bites', 'Cafe', 'Delivery',\n",
       "       'Dessert Parlor', 'Casual Dining, Bar'], dtype=object)"
      ]
     },
     "execution_count": 145,
     "metadata": {},
     "output_type": "execute_result"
    }
   ],
   "source": [
    "df4['rest_type'].unique()"
   ]
  },
  {
   "cell_type": "code",
   "execution_count": 146,
   "id": "fe8cd403",
   "metadata": {
    "execution": {
     "iopub.execute_input": "2024-08-20T23:25:07.895003Z",
     "iopub.status.busy": "2024-08-20T23:25:07.894653Z",
     "iopub.status.idle": "2024-08-20T23:25:07.904664Z",
     "shell.execute_reply": "2024-08-20T23:25:07.903594Z"
    },
    "papermill": {
     "duration": 0.069961,
     "end_time": "2024-08-20T23:25:07.906954",
     "exception": false,
     "start_time": "2024-08-20T23:25:07.836993",
     "status": "completed"
    },
    "tags": []
   },
   "outputs": [
    {
     "data": {
      "text/plain": [
       "rest_type\n",
       "Casual Dining         7394\n",
       "others                5595\n",
       "Quick Bites           5269\n",
       "Cafe                  2383\n",
       "Dessert Parlor        1085\n",
       "Casual Dining, Bar     992\n",
       "Delivery               707\n",
       "Name: count, dtype: int64"
      ]
     },
     "execution_count": 146,
     "metadata": {},
     "output_type": "execute_result"
    }
   ],
   "source": [
    "df4['rest_type'].value_counts()"
   ]
  },
  {
   "cell_type": "code",
   "execution_count": 147,
   "id": "825d4bef",
   "metadata": {
    "execution": {
     "iopub.execute_input": "2024-08-20T23:25:08.019729Z",
     "iopub.status.busy": "2024-08-20T23:25:08.019344Z",
     "iopub.status.idle": "2024-08-20T23:25:08.023961Z",
     "shell.execute_reply": "2024-08-20T23:25:08.022980Z"
    },
    "papermill": {
     "duration": 0.064217,
     "end_time": "2024-08-20T23:25:08.026062",
     "exception": false,
     "start_time": "2024-08-20T23:25:07.961845",
     "status": "completed"
    },
    "tags": []
   },
   "outputs": [],
   "source": [
    "#lets see location"
   ]
  },
  {
   "cell_type": "code",
   "execution_count": 148,
   "id": "f1d57956",
   "metadata": {
    "execution": {
     "iopub.execute_input": "2024-08-20T23:25:08.137327Z",
     "iopub.status.busy": "2024-08-20T23:25:08.136936Z",
     "iopub.status.idle": "2024-08-20T23:25:08.144923Z",
     "shell.execute_reply": "2024-08-20T23:25:08.144004Z"
    },
    "papermill": {
     "duration": 0.066152,
     "end_time": "2024-08-20T23:25:08.146953",
     "exception": false,
     "start_time": "2024-08-20T23:25:08.080801",
     "status": "completed"
    },
    "tags": []
   },
   "outputs": [
    {
     "data": {
      "text/plain": [
       "array(['Banashankari', 'Basavanagudi', 'Jayanagar', 'Kumaraswamy Layout',\n",
       "       'Rajarajeshwari Nagar', 'Mysore Road', 'Uttarahalli',\n",
       "       'South Bangalore', 'Vijay Nagar', 'Bannerghatta Road', 'JP Nagar',\n",
       "       'BTM', 'Wilson Garden', 'Koramangala 5th Block', 'Shanti Nagar',\n",
       "       'Richmond Road', 'City Market', 'Bellandur', 'Sarjapur Road',\n",
       "       'Marathahalli', 'HSR', 'Old Airport Road', 'Indiranagar',\n",
       "       'Koramangala 1st Block', 'East Bangalore', 'MG Road',\n",
       "       'Brigade Road', 'Lavelle Road', 'Church Street', 'Ulsoor',\n",
       "       'Residency Road', 'Shivajinagar', 'Infantry Road',\n",
       "       'St. Marks Road', 'Cunningham Road', 'Race Course Road', 'Domlur',\n",
       "       'Koramangala 8th Block', 'Frazer Town', 'Ejipura', 'Vasanth Nagar',\n",
       "       'Jeevan Bhima Nagar', 'Old Madras Road', 'Commercial Street',\n",
       "       'Koramangala 6th Block', 'Majestic', 'Langford Town',\n",
       "       'Koramangala 7th Block', 'Brookefield', 'Whitefield',\n",
       "       'ITPL Main Road, Whitefield', 'Varthur Main Road, Whitefield',\n",
       "       'Koramangala 2nd Block', 'Koramangala 3rd Block',\n",
       "       'Koramangala 4th Block', 'Koramangala', 'Bommanahalli',\n",
       "       'Hosur Road', 'Seshadripuram', 'Electronic City', 'Banaswadi',\n",
       "       'North Bangalore', 'RT Nagar', 'Kammanahalli', 'Hennur',\n",
       "       'HBR Layout', 'Kalyan Nagar', 'Thippasandra', 'CV Raman Nagar',\n",
       "       'Kaggadasapura', 'Kanakapura Road', 'Nagawara', 'Rammurthy Nagar',\n",
       "       'Sankey Road', 'Central Bangalore', 'Malleshwaram',\n",
       "       'Sadashiv Nagar', 'Basaveshwara Nagar', 'Rajajinagar',\n",
       "       'New BEL Road', 'West Bangalore', 'Yeshwantpur', 'Sanjay Nagar',\n",
       "       'Sahakara Nagar', 'Jalahalli', 'Yelahanka', 'Magadi Road',\n",
       "       'KR Puram'], dtype=object)"
      ]
     },
     "execution_count": 148,
     "metadata": {},
     "output_type": "execute_result"
    }
   ],
   "source": [
    "df4['location'].unique()"
   ]
  },
  {
   "cell_type": "code",
   "execution_count": 149,
   "id": "01e2b74b",
   "metadata": {
    "execution": {
     "iopub.execute_input": "2024-08-20T23:25:08.258573Z",
     "iopub.status.busy": "2024-08-20T23:25:08.257694Z",
     "iopub.status.idle": "2024-08-20T23:25:08.267871Z",
     "shell.execute_reply": "2024-08-20T23:25:08.266890Z"
    },
    "papermill": {
     "duration": 0.068579,
     "end_time": "2024-08-20T23:25:08.270019",
     "exception": false,
     "start_time": "2024-08-20T23:25:08.201440",
     "status": "completed"
    },
    "tags": []
   },
   "outputs": [
    {
     "data": {
      "text/plain": [
       "location\n",
       "Koramangala 5th Block    1800\n",
       "BTM                      1486\n",
       "Indiranagar              1371\n",
       "HSR                      1177\n",
       "Jayanagar                1077\n",
       "                         ... \n",
       "Yelahanka                   2\n",
       "Kanakapura Road             2\n",
       "West Bangalore              2\n",
       "Rajarajeshwari Nagar        2\n",
       "KR Puram                    1\n",
       "Name: count, Length: 88, dtype: int64"
      ]
     },
     "execution_count": 149,
     "metadata": {},
     "output_type": "execute_result"
    }
   ],
   "source": [
    "df4['location'].value_counts()"
   ]
  },
  {
   "cell_type": "code",
   "execution_count": 150,
   "id": "ca6caf1f",
   "metadata": {
    "execution": {
     "iopub.execute_input": "2024-08-20T23:25:08.382250Z",
     "iopub.status.busy": "2024-08-20T23:25:08.381355Z",
     "iopub.status.idle": "2024-08-20T23:25:08.385680Z",
     "shell.execute_reply": "2024-08-20T23:25:08.384757Z"
    },
    "papermill": {
     "duration": 0.062548,
     "end_time": "2024-08-20T23:25:08.387638",
     "exception": false,
     "start_time": "2024-08-20T23:25:08.325090",
     "status": "completed"
    },
    "tags": []
   },
   "outputs": [],
   "source": [
    "#same as rest_type, lets put anyone from below 200 as others"
   ]
  },
  {
   "cell_type": "code",
   "execution_count": 151,
   "id": "bdfb85ab",
   "metadata": {
    "execution": {
     "iopub.execute_input": "2024-08-20T23:25:08.499876Z",
     "iopub.status.busy": "2024-08-20T23:25:08.499091Z",
     "iopub.status.idle": "2024-08-20T23:25:08.508864Z",
     "shell.execute_reply": "2024-08-20T23:25:08.507839Z"
    },
    "papermill": {
     "duration": 0.068317,
     "end_time": "2024-08-20T23:25:08.511055",
     "exception": false,
     "start_time": "2024-08-20T23:25:08.442738",
     "status": "completed"
    },
    "tags": []
   },
   "outputs": [],
   "source": [
    "less_location_count = df4['location'].value_counts()[df4['location'].value_counts() < 200]"
   ]
  },
  {
   "cell_type": "code",
   "execution_count": 152,
   "id": "0e294ab9",
   "metadata": {
    "execution": {
     "iopub.execute_input": "2024-08-20T23:25:08.624405Z",
     "iopub.status.busy": "2024-08-20T23:25:08.623608Z",
     "iopub.status.idle": "2024-08-20T23:25:08.631473Z",
     "shell.execute_reply": "2024-08-20T23:25:08.630513Z"
    },
    "papermill": {
     "duration": 0.065946,
     "end_time": "2024-08-20T23:25:08.633492",
     "exception": false,
     "start_time": "2024-08-20T23:25:08.567546",
     "status": "completed"
    },
    "tags": []
   },
   "outputs": [
    {
     "data": {
      "text/plain": [
       "location\n",
       "Banaswadi                        196\n",
       "Jeevan Bhima Nagar               174\n",
       "Shanti Nagar                     166\n",
       "Koramangala 3rd Block            162\n",
       "Rajajinagar                      159\n",
       "Commercial Street                141\n",
       "Koramangala 8th Block            124\n",
       "Vasanth Nagar                    108\n",
       "Infantry Road                     94\n",
       "Race Course Road                  75\n",
       "Basaveshwara Nagar                71\n",
       "Seshadripuram                     69\n",
       "Shivajinagar                      69\n",
       "Nagawara                          64\n",
       "Ejipura                           59\n",
       "Kumaraswamy Layout                56\n",
       "Kaggadasapura                     48\n",
       "Koramangala 2nd Block             45\n",
       "Thippasandra                      43\n",
       "ITPL Main Road, Whitefield        42\n",
       "HBR Layout                        42\n",
       "Wilson Garden                     41\n",
       "Sadashiv Nagar                    39\n",
       "Hennur                            34\n",
       "Bommanahalli                      28\n",
       "Majestic                          27\n",
       "Varthur Main Road, Whitefield     27\n",
       "Hosur Road                        24\n",
       "Yeshwantpur                       24\n",
       "Langford Town                     22\n",
       "RT Nagar                          22\n",
       "Sahakara Nagar                    20\n",
       "South Bangalore                   19\n",
       "Sankey Road                       17\n",
       "Sanjay Nagar                      17\n",
       "Koramangala                       17\n",
       "Old Madras Road                   16\n",
       "Vijay Nagar                       15\n",
       "CV Raman Nagar                    14\n",
       "City Market                       14\n",
       "East Bangalore                     8\n",
       "Rammurthy Nagar                    6\n",
       "Uttarahalli                        4\n",
       "Mysore Road                        4\n",
       "Jalahalli                          3\n",
       "Central Bangalore                  3\n",
       "North Bangalore                    3\n",
       "Magadi Road                        2\n",
       "Yelahanka                          2\n",
       "Kanakapura Road                    2\n",
       "West Bangalore                     2\n",
       "Rajarajeshwari Nagar               2\n",
       "KR Puram                           1\n",
       "Name: count, dtype: int64"
      ]
     },
     "execution_count": 152,
     "metadata": {},
     "output_type": "execute_result"
    }
   ],
   "source": [
    "less_location_count"
   ]
  },
  {
   "cell_type": "code",
   "execution_count": 153,
   "id": "91027f37",
   "metadata": {
    "execution": {
     "iopub.execute_input": "2024-08-20T23:25:08.745463Z",
     "iopub.status.busy": "2024-08-20T23:25:08.744888Z",
     "iopub.status.idle": "2024-08-20T23:25:08.751632Z",
     "shell.execute_reply": "2024-08-20T23:25:08.750666Z"
    },
    "papermill": {
     "duration": 0.064931,
     "end_time": "2024-08-20T23:25:08.753683",
     "exception": false,
     "start_time": "2024-08-20T23:25:08.688752",
     "status": "completed"
    },
    "tags": []
   },
   "outputs": [
    {
     "data": {
      "text/plain": [
       "Index(['Banaswadi', 'Jeevan Bhima Nagar', 'Shanti Nagar',\n",
       "       'Koramangala 3rd Block', 'Rajajinagar', 'Commercial Street',\n",
       "       'Koramangala 8th Block', 'Vasanth Nagar', 'Infantry Road',\n",
       "       'Race Course Road', 'Basaveshwara Nagar', 'Seshadripuram',\n",
       "       'Shivajinagar', 'Nagawara', 'Ejipura', 'Kumaraswamy Layout',\n",
       "       'Kaggadasapura', 'Koramangala 2nd Block', 'Thippasandra',\n",
       "       'ITPL Main Road, Whitefield', 'HBR Layout', 'Wilson Garden',\n",
       "       'Sadashiv Nagar', 'Hennur', 'Bommanahalli', 'Majestic',\n",
       "       'Varthur Main Road, Whitefield', 'Hosur Road', 'Yeshwantpur',\n",
       "       'Langford Town', 'RT Nagar', 'Sahakara Nagar', 'South Bangalore',\n",
       "       'Sankey Road', 'Sanjay Nagar', 'Koramangala', 'Old Madras Road',\n",
       "       'Vijay Nagar', 'CV Raman Nagar', 'City Market', 'East Bangalore',\n",
       "       'Rammurthy Nagar', 'Uttarahalli', 'Mysore Road', 'Jalahalli',\n",
       "       'Central Bangalore', 'North Bangalore', 'Magadi Road', 'Yelahanka',\n",
       "       'Kanakapura Road', 'West Bangalore', 'Rajarajeshwari Nagar',\n",
       "       'KR Puram'],\n",
       "      dtype='object', name='location')"
      ]
     },
     "execution_count": 153,
     "metadata": {},
     "output_type": "execute_result"
    }
   ],
   "source": [
    "less_location_count.index"
   ]
  },
  {
   "cell_type": "code",
   "execution_count": 154,
   "id": "75d4e7e7",
   "metadata": {
    "execution": {
     "iopub.execute_input": "2024-08-20T23:25:08.866963Z",
     "iopub.status.busy": "2024-08-20T23:25:08.866618Z",
     "iopub.status.idle": "2024-08-20T23:25:08.873571Z",
     "shell.execute_reply": "2024-08-20T23:25:08.872603Z"
    },
    "papermill": {
     "duration": 0.06618,
     "end_time": "2024-08-20T23:25:08.875679",
     "exception": false,
     "start_time": "2024-08-20T23:25:08.809499",
     "status": "completed"
    },
    "tags": []
   },
   "outputs": [
    {
     "data": {
      "text/plain": [
       "array(['Banaswadi', 'Jeevan Bhima Nagar', 'Shanti Nagar',\n",
       "       'Koramangala 3rd Block', 'Rajajinagar', 'Commercial Street',\n",
       "       'Koramangala 8th Block', 'Vasanth Nagar', 'Infantry Road',\n",
       "       'Race Course Road', 'Basaveshwara Nagar', 'Seshadripuram',\n",
       "       'Shivajinagar', 'Nagawara', 'Ejipura', 'Kumaraswamy Layout',\n",
       "       'Kaggadasapura', 'Koramangala 2nd Block', 'Thippasandra',\n",
       "       'ITPL Main Road, Whitefield', 'HBR Layout', 'Wilson Garden',\n",
       "       'Sadashiv Nagar', 'Hennur', 'Bommanahalli', 'Majestic',\n",
       "       'Varthur Main Road, Whitefield', 'Hosur Road', 'Yeshwantpur',\n",
       "       'Langford Town', 'RT Nagar', 'Sahakara Nagar', 'South Bangalore',\n",
       "       'Sankey Road', 'Sanjay Nagar', 'Koramangala', 'Old Madras Road',\n",
       "       'Vijay Nagar', 'CV Raman Nagar', 'City Market', 'East Bangalore',\n",
       "       'Rammurthy Nagar', 'Uttarahalli', 'Mysore Road', 'Jalahalli',\n",
       "       'Central Bangalore', 'North Bangalore', 'Magadi Road', 'Yelahanka',\n",
       "       'Kanakapura Road', 'West Bangalore', 'Rajarajeshwari Nagar',\n",
       "       'KR Puram'], dtype=object)"
      ]
     },
     "execution_count": 154,
     "metadata": {},
     "output_type": "execute_result"
    }
   ],
   "source": [
    "sub_location = np.array(less_location_count.index)\n",
    "sub_location"
   ]
  },
  {
   "cell_type": "code",
   "execution_count": 155,
   "id": "d0c4b07a",
   "metadata": {
    "execution": {
     "iopub.execute_input": "2024-08-20T23:25:08.989525Z",
     "iopub.status.busy": "2024-08-20T23:25:08.989110Z",
     "iopub.status.idle": "2024-08-20T23:25:09.016536Z",
     "shell.execute_reply": "2024-08-20T23:25:09.015324Z"
    },
    "papermill": {
     "duration": 0.086636,
     "end_time": "2024-08-20T23:25:09.018738",
     "exception": false,
     "start_time": "2024-08-20T23:25:08.932102",
     "status": "completed"
    },
    "tags": []
   },
   "outputs": [],
   "source": [
    "isin_location = np.isin(df4['location'], sub_location)"
   ]
  },
  {
   "cell_type": "code",
   "execution_count": 156,
   "id": "8360ea54",
   "metadata": {
    "execution": {
     "iopub.execute_input": "2024-08-20T23:25:09.131943Z",
     "iopub.status.busy": "2024-08-20T23:25:09.131563Z",
     "iopub.status.idle": "2024-08-20T23:25:09.137296Z",
     "shell.execute_reply": "2024-08-20T23:25:09.136299Z"
    },
    "papermill": {
     "duration": 0.065302,
     "end_time": "2024-08-20T23:25:09.139406",
     "exception": false,
     "start_time": "2024-08-20T23:25:09.074104",
     "status": "completed"
    },
    "tags": []
   },
   "outputs": [],
   "source": [
    "new_location =  np.where(isin_location,\n",
    "                        'others',\n",
    "                        df4['location'])"
   ]
  },
  {
   "cell_type": "code",
   "execution_count": 157,
   "id": "b877f5a7",
   "metadata": {
    "execution": {
     "iopub.execute_input": "2024-08-20T23:25:09.251610Z",
     "iopub.status.busy": "2024-08-20T23:25:09.250664Z",
     "iopub.status.idle": "2024-08-20T23:25:09.257092Z",
     "shell.execute_reply": "2024-08-20T23:25:09.256169Z"
    },
    "papermill": {
     "duration": 0.06462,
     "end_time": "2024-08-20T23:25:09.259217",
     "exception": false,
     "start_time": "2024-08-20T23:25:09.194597",
     "status": "completed"
    },
    "tags": []
   },
   "outputs": [
    {
     "data": {
      "text/plain": [
       "array(['Banashankari', 'Banashankari', 'Banashankari', ..., 'Whitefield',\n",
       "       'Whitefield', 'others'], dtype=object)"
      ]
     },
     "execution_count": 157,
     "metadata": {},
     "output_type": "execute_result"
    }
   ],
   "source": [
    "new_location"
   ]
  },
  {
   "cell_type": "code",
   "execution_count": 158,
   "id": "fbb73bcb",
   "metadata": {
    "execution": {
     "iopub.execute_input": "2024-08-20T23:25:09.371620Z",
     "iopub.status.busy": "2024-08-20T23:25:09.370821Z",
     "iopub.status.idle": "2024-08-20T23:25:09.375384Z",
     "shell.execute_reply": "2024-08-20T23:25:09.374250Z"
    },
    "papermill": {
     "duration": 0.063361,
     "end_time": "2024-08-20T23:25:09.377738",
     "exception": false,
     "start_time": "2024-08-20T23:25:09.314377",
     "status": "completed"
    },
    "tags": []
   },
   "outputs": [],
   "source": [
    "#lets add it to our dataset"
   ]
  },
  {
   "cell_type": "code",
   "execution_count": 159,
   "id": "433af832",
   "metadata": {
    "execution": {
     "iopub.execute_input": "2024-08-20T23:25:09.490905Z",
     "iopub.status.busy": "2024-08-20T23:25:09.490562Z",
     "iopub.status.idle": "2024-08-20T23:25:09.497398Z",
     "shell.execute_reply": "2024-08-20T23:25:09.496367Z"
    },
    "papermill": {
     "duration": 0.066008,
     "end_time": "2024-08-20T23:25:09.499641",
     "exception": false,
     "start_time": "2024-08-20T23:25:09.433633",
     "status": "completed"
    },
    "tags": []
   },
   "outputs": [
    {
     "data": {
      "text/plain": [
       "array([['Jalsa', 'Yes', 'Yes', ..., 'North Indian, Mughlai, Chinese',\n",
       "        800.0, 'Buffet'],\n",
       "       ['Spice Elephant', 'Yes', 'No', ...,\n",
       "        'Chinese, North Indian, Thai', 800.0, 'Buffet'],\n",
       "       ['San Churro Cafe', 'Yes', 'No', ..., 'Cafe, Mexican, Italian',\n",
       "        800.0, 'Buffet'],\n",
       "       ...,\n",
       "       ['Keys Cafe - Keys Hotel', 'No', 'No', ...,\n",
       "        'Chinese, Continental, North Indian', 1200.0, 'Pubs and bars'],\n",
       "       ['Bhagini', 'No', 'No', ...,\n",
       "        'Andhra, South Indian, Chinese, North Indian', 800.0,\n",
       "        'Pubs and bars'],\n",
       "       ['Chime - Sheraton Grand Bengaluru Whitefield Hotel &...', 'No',\n",
       "        'Yes', ..., 'Finger Food', 2500.0, 'Pubs and bars']], dtype=object)"
      ]
     },
     "execution_count": 159,
     "metadata": {},
     "output_type": "execute_result"
    }
   ],
   "source": [
    "df4_numpy = df4.to_numpy()\n",
    "df4_numpy"
   ]
  },
  {
   "cell_type": "code",
   "execution_count": 160,
   "id": "81bc5e66",
   "metadata": {
    "execution": {
     "iopub.execute_input": "2024-08-20T23:25:09.614004Z",
     "iopub.status.busy": "2024-08-20T23:25:09.612941Z",
     "iopub.status.idle": "2024-08-20T23:25:09.617886Z",
     "shell.execute_reply": "2024-08-20T23:25:09.616953Z"
    },
    "papermill": {
     "duration": 0.063354,
     "end_time": "2024-08-20T23:25:09.619928",
     "exception": false,
     "start_time": "2024-08-20T23:25:09.556574",
     "status": "completed"
    },
    "tags": []
   },
   "outputs": [],
   "source": [
    "df4_numpy[:, 5] = new_location"
   ]
  },
  {
   "cell_type": "code",
   "execution_count": 161,
   "id": "d00c1675",
   "metadata": {
    "execution": {
     "iopub.execute_input": "2024-08-20T23:25:09.733949Z",
     "iopub.status.busy": "2024-08-20T23:25:09.733586Z",
     "iopub.status.idle": "2024-08-20T23:25:09.739737Z",
     "shell.execute_reply": "2024-08-20T23:25:09.738821Z"
    },
    "papermill": {
     "duration": 0.066513,
     "end_time": "2024-08-20T23:25:09.741674",
     "exception": false,
     "start_time": "2024-08-20T23:25:09.675161",
     "status": "completed"
    },
    "tags": []
   },
   "outputs": [
    {
     "data": {
      "text/plain": [
       "array(['Banashankari', 'Banashankari', 'Banashankari', ..., 'Whitefield',\n",
       "       'Whitefield', 'others'], dtype=object)"
      ]
     },
     "execution_count": 161,
     "metadata": {},
     "output_type": "execute_result"
    }
   ],
   "source": [
    "df4_numpy[:, 5]"
   ]
  },
  {
   "cell_type": "code",
   "execution_count": 162,
   "id": "b3102ccf",
   "metadata": {
    "execution": {
     "iopub.execute_input": "2024-08-20T23:25:09.855738Z",
     "iopub.status.busy": "2024-08-20T23:25:09.855386Z",
     "iopub.status.idle": "2024-08-20T23:25:09.860557Z",
     "shell.execute_reply": "2024-08-20T23:25:09.859624Z"
    },
    "papermill": {
     "duration": 0.064597,
     "end_time": "2024-08-20T23:25:09.862643",
     "exception": false,
     "start_time": "2024-08-20T23:25:09.798046",
     "status": "completed"
    },
    "tags": []
   },
   "outputs": [],
   "source": [
    "#lets take it back to pandas\n",
    "df5 = pd.DataFrame(df4_numpy, columns=df2.columns)"
   ]
  },
  {
   "cell_type": "code",
   "execution_count": 163,
   "id": "39787e41",
   "metadata": {
    "execution": {
     "iopub.execute_input": "2024-08-20T23:25:09.976773Z",
     "iopub.status.busy": "2024-08-20T23:25:09.975622Z",
     "iopub.status.idle": "2024-08-20T23:25:09.992716Z",
     "shell.execute_reply": "2024-08-20T23:25:09.991692Z"
    },
    "papermill": {
     "duration": 0.076325,
     "end_time": "2024-08-20T23:25:09.994800",
     "exception": false,
     "start_time": "2024-08-20T23:25:09.918475",
     "status": "completed"
    },
    "tags": []
   },
   "outputs": [
    {
     "data": {
      "text/html": [
       "<div>\n",
       "<style scoped>\n",
       "    .dataframe tbody tr th:only-of-type {\n",
       "        vertical-align: middle;\n",
       "    }\n",
       "\n",
       "    .dataframe tbody tr th {\n",
       "        vertical-align: top;\n",
       "    }\n",
       "\n",
       "    .dataframe thead th {\n",
       "        text-align: right;\n",
       "    }\n",
       "</style>\n",
       "<table border=\"1\" class=\"dataframe\">\n",
       "  <thead>\n",
       "    <tr style=\"text-align: right;\">\n",
       "      <th></th>\n",
       "      <th>name</th>\n",
       "      <th>online_order</th>\n",
       "      <th>book_table</th>\n",
       "      <th>rate</th>\n",
       "      <th>votes</th>\n",
       "      <th>location</th>\n",
       "      <th>rest_type</th>\n",
       "      <th>dish_liked</th>\n",
       "      <th>cuisines</th>\n",
       "      <th>Cost2plates</th>\n",
       "      <th>Type</th>\n",
       "    </tr>\n",
       "  </thead>\n",
       "  <tbody>\n",
       "    <tr>\n",
       "      <th>0</th>\n",
       "      <td>Jalsa</td>\n",
       "      <td>Yes</td>\n",
       "      <td>Yes</td>\n",
       "      <td>4.1</td>\n",
       "      <td>775</td>\n",
       "      <td>Banashankari</td>\n",
       "      <td>Casual Dining</td>\n",
       "      <td>Pasta, Lunch Buffet, Masala Papad, Paneer Laja...</td>\n",
       "      <td>North Indian, Mughlai, Chinese</td>\n",
       "      <td>800.0</td>\n",
       "      <td>Buffet</td>\n",
       "    </tr>\n",
       "    <tr>\n",
       "      <th>1</th>\n",
       "      <td>Spice Elephant</td>\n",
       "      <td>Yes</td>\n",
       "      <td>No</td>\n",
       "      <td>4.1</td>\n",
       "      <td>787</td>\n",
       "      <td>Banashankari</td>\n",
       "      <td>Casual Dining</td>\n",
       "      <td>Momos, Lunch Buffet, Chocolate Nirvana, Thai G...</td>\n",
       "      <td>Chinese, North Indian, Thai</td>\n",
       "      <td>800.0</td>\n",
       "      <td>Buffet</td>\n",
       "    </tr>\n",
       "    <tr>\n",
       "      <th>2</th>\n",
       "      <td>San Churro Cafe</td>\n",
       "      <td>Yes</td>\n",
       "      <td>No</td>\n",
       "      <td>3.8</td>\n",
       "      <td>918</td>\n",
       "      <td>Banashankari</td>\n",
       "      <td>others</td>\n",
       "      <td>Churros, Cannelloni, Minestrone Soup, Hot Choc...</td>\n",
       "      <td>Cafe, Mexican, Italian</td>\n",
       "      <td>800.0</td>\n",
       "      <td>Buffet</td>\n",
       "    </tr>\n",
       "    <tr>\n",
       "      <th>3</th>\n",
       "      <td>Addhuri Udupi Bhojana</td>\n",
       "      <td>No</td>\n",
       "      <td>No</td>\n",
       "      <td>3.7</td>\n",
       "      <td>88</td>\n",
       "      <td>Banashankari</td>\n",
       "      <td>Quick Bites</td>\n",
       "      <td>Masala Dosa</td>\n",
       "      <td>South Indian, North Indian</td>\n",
       "      <td>300.0</td>\n",
       "      <td>Buffet</td>\n",
       "    </tr>\n",
       "    <tr>\n",
       "      <th>4</th>\n",
       "      <td>Grand Village</td>\n",
       "      <td>No</td>\n",
       "      <td>No</td>\n",
       "      <td>3.8</td>\n",
       "      <td>166</td>\n",
       "      <td>Basavanagudi</td>\n",
       "      <td>Casual Dining</td>\n",
       "      <td>Panipuri, Gol Gappe</td>\n",
       "      <td>North Indian, Rajasthani</td>\n",
       "      <td>600.0</td>\n",
       "      <td>Buffet</td>\n",
       "    </tr>\n",
       "    <tr>\n",
       "      <th>...</th>\n",
       "      <td>...</td>\n",
       "      <td>...</td>\n",
       "      <td>...</td>\n",
       "      <td>...</td>\n",
       "      <td>...</td>\n",
       "      <td>...</td>\n",
       "      <td>...</td>\n",
       "      <td>...</td>\n",
       "      <td>...</td>\n",
       "      <td>...</td>\n",
       "      <td>...</td>\n",
       "    </tr>\n",
       "    <tr>\n",
       "      <th>23420</th>\n",
       "      <td>Izakaya Gastro Pub</td>\n",
       "      <td>Yes</td>\n",
       "      <td>Yes</td>\n",
       "      <td>3.8</td>\n",
       "      <td>128</td>\n",
       "      <td>Whitefield</td>\n",
       "      <td>others</td>\n",
       "      <td>Beer, Chicken Guntur, Paneer Tikka, Fish, Nood...</td>\n",
       "      <td>North Indian, Continental, Mediterranean</td>\n",
       "      <td>1200.0</td>\n",
       "      <td>Pubs and bars</td>\n",
       "    </tr>\n",
       "    <tr>\n",
       "      <th>23421</th>\n",
       "      <td>M Bar - Bengaluru Marriott Hotel Whitefield</td>\n",
       "      <td>No</td>\n",
       "      <td>No</td>\n",
       "      <td>3.9</td>\n",
       "      <td>77</td>\n",
       "      <td>Whitefield</td>\n",
       "      <td>others</td>\n",
       "      <td>Rooftop Ambience</td>\n",
       "      <td>Finger Food</td>\n",
       "      <td>2000.0</td>\n",
       "      <td>Pubs and bars</td>\n",
       "    </tr>\n",
       "    <tr>\n",
       "      <th>23422</th>\n",
       "      <td>Keys Cafe - Keys Hotel</td>\n",
       "      <td>No</td>\n",
       "      <td>No</td>\n",
       "      <td>2.8</td>\n",
       "      <td>161</td>\n",
       "      <td>Whitefield</td>\n",
       "      <td>Casual Dining, Bar</td>\n",
       "      <td>Salads, Coffee, Breakfast Buffet, Halwa, Chick...</td>\n",
       "      <td>Chinese, Continental, North Indian</td>\n",
       "      <td>1200.0</td>\n",
       "      <td>Pubs and bars</td>\n",
       "    </tr>\n",
       "    <tr>\n",
       "      <th>23423</th>\n",
       "      <td>Bhagini</td>\n",
       "      <td>No</td>\n",
       "      <td>No</td>\n",
       "      <td>2.0</td>\n",
       "      <td>81</td>\n",
       "      <td>Whitefield</td>\n",
       "      <td>Casual Dining, Bar</td>\n",
       "      <td>Biryani, Andhra Meal</td>\n",
       "      <td>Andhra, South Indian, Chinese, North Indian</td>\n",
       "      <td>800.0</td>\n",
       "      <td>Pubs and bars</td>\n",
       "    </tr>\n",
       "    <tr>\n",
       "      <th>23424</th>\n",
       "      <td>Chime - Sheraton Grand Bengaluru Whitefield Ho...</td>\n",
       "      <td>No</td>\n",
       "      <td>Yes</td>\n",
       "      <td>4.3</td>\n",
       "      <td>236</td>\n",
       "      <td>others</td>\n",
       "      <td>others</td>\n",
       "      <td>Cocktails, Pizza, Buttermilk</td>\n",
       "      <td>Finger Food</td>\n",
       "      <td>2500.0</td>\n",
       "      <td>Pubs and bars</td>\n",
       "    </tr>\n",
       "  </tbody>\n",
       "</table>\n",
       "<p>23425 rows × 11 columns</p>\n",
       "</div>"
      ],
      "text/plain": [
       "                                                    name online_order  \\\n",
       "0                                                  Jalsa          Yes   \n",
       "1                                         Spice Elephant          Yes   \n",
       "2                                        San Churro Cafe          Yes   \n",
       "3                                  Addhuri Udupi Bhojana           No   \n",
       "4                                          Grand Village           No   \n",
       "...                                                  ...          ...   \n",
       "23420                                 Izakaya Gastro Pub          Yes   \n",
       "23421        M Bar - Bengaluru Marriott Hotel Whitefield           No   \n",
       "23422                             Keys Cafe - Keys Hotel           No   \n",
       "23423                                            Bhagini           No   \n",
       "23424  Chime - Sheraton Grand Bengaluru Whitefield Ho...           No   \n",
       "\n",
       "      book_table rate votes      location           rest_type  \\\n",
       "0            Yes  4.1   775  Banashankari       Casual Dining   \n",
       "1             No  4.1   787  Banashankari       Casual Dining   \n",
       "2             No  3.8   918  Banashankari              others   \n",
       "3             No  3.7    88  Banashankari         Quick Bites   \n",
       "4             No  3.8   166  Basavanagudi       Casual Dining   \n",
       "...          ...  ...   ...           ...                 ...   \n",
       "23420        Yes  3.8   128    Whitefield              others   \n",
       "23421         No  3.9    77    Whitefield              others   \n",
       "23422         No  2.8   161    Whitefield  Casual Dining, Bar   \n",
       "23423         No  2.0    81    Whitefield  Casual Dining, Bar   \n",
       "23424        Yes  4.3   236        others              others   \n",
       "\n",
       "                                              dish_liked  \\\n",
       "0      Pasta, Lunch Buffet, Masala Papad, Paneer Laja...   \n",
       "1      Momos, Lunch Buffet, Chocolate Nirvana, Thai G...   \n",
       "2      Churros, Cannelloni, Minestrone Soup, Hot Choc...   \n",
       "3                                            Masala Dosa   \n",
       "4                                    Panipuri, Gol Gappe   \n",
       "...                                                  ...   \n",
       "23420  Beer, Chicken Guntur, Paneer Tikka, Fish, Nood...   \n",
       "23421                                   Rooftop Ambience   \n",
       "23422  Salads, Coffee, Breakfast Buffet, Halwa, Chick...   \n",
       "23423                               Biryani, Andhra Meal   \n",
       "23424                       Cocktails, Pizza, Buttermilk   \n",
       "\n",
       "                                          cuisines Cost2plates           Type  \n",
       "0                   North Indian, Mughlai, Chinese       800.0         Buffet  \n",
       "1                      Chinese, North Indian, Thai       800.0         Buffet  \n",
       "2                           Cafe, Mexican, Italian       800.0         Buffet  \n",
       "3                       South Indian, North Indian       300.0         Buffet  \n",
       "4                         North Indian, Rajasthani       600.0         Buffet  \n",
       "...                                            ...         ...            ...  \n",
       "23420     North Indian, Continental, Mediterranean      1200.0  Pubs and bars  \n",
       "23421                                  Finger Food      2000.0  Pubs and bars  \n",
       "23422           Chinese, Continental, North Indian      1200.0  Pubs and bars  \n",
       "23423  Andhra, South Indian, Chinese, North Indian       800.0  Pubs and bars  \n",
       "23424                                  Finger Food      2500.0  Pubs and bars  \n",
       "\n",
       "[23425 rows x 11 columns]"
      ]
     },
     "execution_count": 163,
     "metadata": {},
     "output_type": "execute_result"
    }
   ],
   "source": [
    "df5"
   ]
  },
  {
   "cell_type": "code",
   "execution_count": 164,
   "id": "bf318b10",
   "metadata": {
    "execution": {
     "iopub.execute_input": "2024-08-20T23:25:10.111776Z",
     "iopub.status.busy": "2024-08-20T23:25:10.110738Z",
     "iopub.status.idle": "2024-08-20T23:25:10.121314Z",
     "shell.execute_reply": "2024-08-20T23:25:10.120245Z"
    },
    "papermill": {
     "duration": 0.072196,
     "end_time": "2024-08-20T23:25:10.123541",
     "exception": false,
     "start_time": "2024-08-20T23:25:10.051345",
     "status": "completed"
    },
    "tags": []
   },
   "outputs": [
    {
     "data": {
      "text/plain": [
       "location\n",
       "others                   2486\n",
       "Koramangala 5th Block    1800\n",
       "BTM                      1486\n",
       "Indiranagar              1371\n",
       "HSR                      1177\n",
       "Jayanagar                1077\n",
       "JP Nagar                 1029\n",
       "Whitefield                835\n",
       "Koramangala 7th Block     744\n",
       "Koramangala 6th Block     726\n",
       "Marathahalli              683\n",
       "Koramangala 4th Block     664\n",
       "MG Road                   602\n",
       "Brigade Road              570\n",
       "Church Street             512\n",
       "Bannerghatta Road         499\n",
       "Ulsoor                    477\n",
       "Bellandur                 474\n",
       "Kalyan Nagar              468\n",
       "Koramangala 1st Block     467\n",
       "Sarjapur Road             457\n",
       "Lavelle Road              444\n",
       "Residency Road            441\n",
       "Banashankari              390\n",
       "Malleshwaram              372\n",
       "Richmond Road             351\n",
       "Cunningham Road           333\n",
       "Electronic City           326\n",
       "Brookefield               307\n",
       "New BEL Road              306\n",
       "St. Marks Road            304\n",
       "Frazer Town               293\n",
       "Basavanagudi              286\n",
       "Kammanahalli              260\n",
       "Domlur                    206\n",
       "Old Airport Road          202\n",
       "Name: count, dtype: int64"
      ]
     },
     "execution_count": 164,
     "metadata": {},
     "output_type": "execute_result"
    }
   ],
   "source": [
    "df5['location'].value_counts()"
   ]
  },
  {
   "cell_type": "code",
   "execution_count": 165,
   "id": "ce3fcbe7",
   "metadata": {
    "execution": {
     "iopub.execute_input": "2024-08-20T23:25:10.240037Z",
     "iopub.status.busy": "2024-08-20T23:25:10.239674Z",
     "iopub.status.idle": "2024-08-20T23:25:10.261395Z",
     "shell.execute_reply": "2024-08-20T23:25:10.260325Z"
    },
    "papermill": {
     "duration": 0.081874,
     "end_time": "2024-08-20T23:25:10.263641",
     "exception": false,
     "start_time": "2024-08-20T23:25:10.181767",
     "status": "completed"
    },
    "tags": []
   },
   "outputs": [
    {
     "name": "stdout",
     "output_type": "stream",
     "text": [
      "<class 'pandas.core.frame.DataFrame'>\n",
      "RangeIndex: 23425 entries, 0 to 23424\n",
      "Data columns (total 11 columns):\n",
      " #   Column        Non-Null Count  Dtype \n",
      "---  ------        --------------  ----- \n",
      " 0   name          23425 non-null  object\n",
      " 1   online_order  23425 non-null  object\n",
      " 2   book_table    23425 non-null  object\n",
      " 3   rate          23425 non-null  object\n",
      " 4   votes         23425 non-null  object\n",
      " 5   location      23425 non-null  object\n",
      " 6   rest_type     23425 non-null  object\n",
      " 7   dish_liked    23425 non-null  object\n",
      " 8   cuisines      23425 non-null  object\n",
      " 9   Cost2plates   23425 non-null  object\n",
      " 10  Type          23425 non-null  object\n",
      "dtypes: object(11)\n",
      "memory usage: 2.0+ MB\n"
     ]
    }
   ],
   "source": [
    "df5.info()"
   ]
  },
  {
   "cell_type": "code",
   "execution_count": 166,
   "id": "ffb08c4a",
   "metadata": {
    "execution": {
     "iopub.execute_input": "2024-08-20T23:25:10.377942Z",
     "iopub.status.busy": "2024-08-20T23:25:10.377575Z",
     "iopub.status.idle": "2024-08-20T23:25:10.392974Z",
     "shell.execute_reply": "2024-08-20T23:25:10.392019Z"
    },
    "papermill": {
     "duration": 0.075177,
     "end_time": "2024-08-20T23:25:10.395171",
     "exception": false,
     "start_time": "2024-08-20T23:25:10.319994",
     "status": "completed"
    },
    "tags": []
   },
   "outputs": [
    {
     "data": {
      "text/html": [
       "<div>\n",
       "<style scoped>\n",
       "    .dataframe tbody tr th:only-of-type {\n",
       "        vertical-align: middle;\n",
       "    }\n",
       "\n",
       "    .dataframe tbody tr th {\n",
       "        vertical-align: top;\n",
       "    }\n",
       "\n",
       "    .dataframe thead th {\n",
       "        text-align: right;\n",
       "    }\n",
       "</style>\n",
       "<table border=\"1\" class=\"dataframe\">\n",
       "  <thead>\n",
       "    <tr style=\"text-align: right;\">\n",
       "      <th></th>\n",
       "      <th>name</th>\n",
       "      <th>online_order</th>\n",
       "      <th>book_table</th>\n",
       "      <th>rate</th>\n",
       "      <th>votes</th>\n",
       "      <th>location</th>\n",
       "      <th>rest_type</th>\n",
       "      <th>dish_liked</th>\n",
       "      <th>cuisines</th>\n",
       "      <th>Cost2plates</th>\n",
       "      <th>Type</th>\n",
       "    </tr>\n",
       "  </thead>\n",
       "  <tbody>\n",
       "    <tr>\n",
       "      <th>0</th>\n",
       "      <td>Jalsa</td>\n",
       "      <td>Yes</td>\n",
       "      <td>Yes</td>\n",
       "      <td>4.1</td>\n",
       "      <td>775</td>\n",
       "      <td>Banashankari</td>\n",
       "      <td>Casual Dining</td>\n",
       "      <td>Pasta, Lunch Buffet, Masala Papad, Paneer Laja...</td>\n",
       "      <td>North Indian, Mughlai, Chinese</td>\n",
       "      <td>800.0</td>\n",
       "      <td>Buffet</td>\n",
       "    </tr>\n",
       "    <tr>\n",
       "      <th>1</th>\n",
       "      <td>Spice Elephant</td>\n",
       "      <td>Yes</td>\n",
       "      <td>No</td>\n",
       "      <td>4.1</td>\n",
       "      <td>787</td>\n",
       "      <td>Banashankari</td>\n",
       "      <td>Casual Dining</td>\n",
       "      <td>Momos, Lunch Buffet, Chocolate Nirvana, Thai G...</td>\n",
       "      <td>Chinese, North Indian, Thai</td>\n",
       "      <td>800.0</td>\n",
       "      <td>Buffet</td>\n",
       "    </tr>\n",
       "    <tr>\n",
       "      <th>2</th>\n",
       "      <td>San Churro Cafe</td>\n",
       "      <td>Yes</td>\n",
       "      <td>No</td>\n",
       "      <td>3.8</td>\n",
       "      <td>918</td>\n",
       "      <td>Banashankari</td>\n",
       "      <td>others</td>\n",
       "      <td>Churros, Cannelloni, Minestrone Soup, Hot Choc...</td>\n",
       "      <td>Cafe, Mexican, Italian</td>\n",
       "      <td>800.0</td>\n",
       "      <td>Buffet</td>\n",
       "    </tr>\n",
       "    <tr>\n",
       "      <th>3</th>\n",
       "      <td>Addhuri Udupi Bhojana</td>\n",
       "      <td>No</td>\n",
       "      <td>No</td>\n",
       "      <td>3.7</td>\n",
       "      <td>88</td>\n",
       "      <td>Banashankari</td>\n",
       "      <td>Quick Bites</td>\n",
       "      <td>Masala Dosa</td>\n",
       "      <td>South Indian, North Indian</td>\n",
       "      <td>300.0</td>\n",
       "      <td>Buffet</td>\n",
       "    </tr>\n",
       "    <tr>\n",
       "      <th>4</th>\n",
       "      <td>Grand Village</td>\n",
       "      <td>No</td>\n",
       "      <td>No</td>\n",
       "      <td>3.8</td>\n",
       "      <td>166</td>\n",
       "      <td>Basavanagudi</td>\n",
       "      <td>Casual Dining</td>\n",
       "      <td>Panipuri, Gol Gappe</td>\n",
       "      <td>North Indian, Rajasthani</td>\n",
       "      <td>600.0</td>\n",
       "      <td>Buffet</td>\n",
       "    </tr>\n",
       "    <tr>\n",
       "      <th>5</th>\n",
       "      <td>Timepass Dinner</td>\n",
       "      <td>Yes</td>\n",
       "      <td>No</td>\n",
       "      <td>3.8</td>\n",
       "      <td>286</td>\n",
       "      <td>Basavanagudi</td>\n",
       "      <td>Casual Dining</td>\n",
       "      <td>Onion Rings, Pasta, Kadhai Paneer, Salads, Sal...</td>\n",
       "      <td>North Indian</td>\n",
       "      <td>600.0</td>\n",
       "      <td>Buffet</td>\n",
       "    </tr>\n",
       "    <tr>\n",
       "      <th>6</th>\n",
       "      <td>Onesta</td>\n",
       "      <td>Yes</td>\n",
       "      <td>Yes</td>\n",
       "      <td>4.6</td>\n",
       "      <td>2556</td>\n",
       "      <td>Banashankari</td>\n",
       "      <td>others</td>\n",
       "      <td>Farmhouse Pizza, Chocolate Banana, Virgin Moji...</td>\n",
       "      <td>Pizza, Cafe, Italian</td>\n",
       "      <td>600.0</td>\n",
       "      <td>Cafes</td>\n",
       "    </tr>\n",
       "    <tr>\n",
       "      <th>7</th>\n",
       "      <td>Penthouse Cafe</td>\n",
       "      <td>Yes</td>\n",
       "      <td>No</td>\n",
       "      <td>4.0</td>\n",
       "      <td>324</td>\n",
       "      <td>Banashankari</td>\n",
       "      <td>Cafe</td>\n",
       "      <td>Pizza, Mocktails, Coffee, Nachos, Salad, Pasta...</td>\n",
       "      <td>Cafe, Italian, Continental</td>\n",
       "      <td>700.0</td>\n",
       "      <td>Cafes</td>\n",
       "    </tr>\n",
       "    <tr>\n",
       "      <th>8</th>\n",
       "      <td>Smacznego</td>\n",
       "      <td>Yes</td>\n",
       "      <td>No</td>\n",
       "      <td>4.2</td>\n",
       "      <td>504</td>\n",
       "      <td>Banashankari</td>\n",
       "      <td>Cafe</td>\n",
       "      <td>Waffles, Pasta, Coleslaw Sandwich, Choco Waffl...</td>\n",
       "      <td>Cafe, Mexican, Italian, Momos, Beverages</td>\n",
       "      <td>550.0</td>\n",
       "      <td>Cafes</td>\n",
       "    </tr>\n",
       "    <tr>\n",
       "      <th>9</th>\n",
       "      <td>CafÃÂÃÂÃÂÃÂÃÂÃÂÃÂÃÂ© Down The A...</td>\n",
       "      <td>Yes</td>\n",
       "      <td>No</td>\n",
       "      <td>4.1</td>\n",
       "      <td>402</td>\n",
       "      <td>Banashankari</td>\n",
       "      <td>Cafe</td>\n",
       "      <td>Waffles, Pasta, Crispy Chicken, Honey Chilli C...</td>\n",
       "      <td>Cafe</td>\n",
       "      <td>500.0</td>\n",
       "      <td>Cafes</td>\n",
       "    </tr>\n",
       "  </tbody>\n",
       "</table>\n",
       "</div>"
      ],
      "text/plain": [
       "                                                name online_order book_table  \\\n",
       "0                                              Jalsa          Yes        Yes   \n",
       "1                                     Spice Elephant          Yes         No   \n",
       "2                                    San Churro Cafe          Yes         No   \n",
       "3                              Addhuri Udupi Bhojana           No         No   \n",
       "4                                      Grand Village           No         No   \n",
       "5                                    Timepass Dinner          Yes         No   \n",
       "6                                             Onesta          Yes        Yes   \n",
       "7                                     Penthouse Cafe          Yes         No   \n",
       "8                                          Smacznego          Yes         No   \n",
       "9  CafÃÂÃÂÃÂÃÂÃÂÃÂÃÂÃÂ© Down The A...          Yes         No   \n",
       "\n",
       "  rate votes      location      rest_type  \\\n",
       "0  4.1   775  Banashankari  Casual Dining   \n",
       "1  4.1   787  Banashankari  Casual Dining   \n",
       "2  3.8   918  Banashankari         others   \n",
       "3  3.7    88  Banashankari    Quick Bites   \n",
       "4  3.8   166  Basavanagudi  Casual Dining   \n",
       "5  3.8   286  Basavanagudi  Casual Dining   \n",
       "6  4.6  2556  Banashankari         others   \n",
       "7  4.0   324  Banashankari           Cafe   \n",
       "8  4.2   504  Banashankari           Cafe   \n",
       "9  4.1   402  Banashankari           Cafe   \n",
       "\n",
       "                                          dish_liked  \\\n",
       "0  Pasta, Lunch Buffet, Masala Papad, Paneer Laja...   \n",
       "1  Momos, Lunch Buffet, Chocolate Nirvana, Thai G...   \n",
       "2  Churros, Cannelloni, Minestrone Soup, Hot Choc...   \n",
       "3                                        Masala Dosa   \n",
       "4                                Panipuri, Gol Gappe   \n",
       "5  Onion Rings, Pasta, Kadhai Paneer, Salads, Sal...   \n",
       "6  Farmhouse Pizza, Chocolate Banana, Virgin Moji...   \n",
       "7  Pizza, Mocktails, Coffee, Nachos, Salad, Pasta...   \n",
       "8  Waffles, Pasta, Coleslaw Sandwich, Choco Waffl...   \n",
       "9  Waffles, Pasta, Crispy Chicken, Honey Chilli C...   \n",
       "\n",
       "                                   cuisines Cost2plates    Type  \n",
       "0            North Indian, Mughlai, Chinese       800.0  Buffet  \n",
       "1               Chinese, North Indian, Thai       800.0  Buffet  \n",
       "2                    Cafe, Mexican, Italian       800.0  Buffet  \n",
       "3                South Indian, North Indian       300.0  Buffet  \n",
       "4                  North Indian, Rajasthani       600.0  Buffet  \n",
       "5                              North Indian       600.0  Buffet  \n",
       "6                      Pizza, Cafe, Italian       600.0   Cafes  \n",
       "7                Cafe, Italian, Continental       700.0   Cafes  \n",
       "8  Cafe, Mexican, Italian, Momos, Beverages       550.0   Cafes  \n",
       "9                                      Cafe       500.0   Cafes  "
      ]
     },
     "execution_count": 166,
     "metadata": {},
     "output_type": "execute_result"
    }
   ],
   "source": [
    "df5.head(10)"
   ]
  },
  {
   "cell_type": "code",
   "execution_count": 167,
   "id": "8c3946a6",
   "metadata": {
    "execution": {
     "iopub.execute_input": "2024-08-20T23:25:10.511615Z",
     "iopub.status.busy": "2024-08-20T23:25:10.510688Z",
     "iopub.status.idle": "2024-08-20T23:25:10.518715Z",
     "shell.execute_reply": "2024-08-20T23:25:10.517767Z"
    },
    "papermill": {
     "duration": 0.068611,
     "end_time": "2024-08-20T23:25:10.521177",
     "exception": false,
     "start_time": "2024-08-20T23:25:10.452566",
     "status": "completed"
    },
    "tags": []
   },
   "outputs": [
    {
     "data": {
      "text/plain": [
       "0                     North Indian, Mughlai, Chinese\n",
       "1                        Chinese, North Indian, Thai\n",
       "2                             Cafe, Mexican, Italian\n",
       "3                         South Indian, North Indian\n",
       "4                           North Indian, Rajasthani\n",
       "                            ...                     \n",
       "23420       North Indian, Continental, Mediterranean\n",
       "23421                                    Finger Food\n",
       "23422             Chinese, Continental, North Indian\n",
       "23423    Andhra, South Indian, Chinese, North Indian\n",
       "23424                                    Finger Food\n",
       "Name: cuisines, Length: 23425, dtype: object"
      ]
     },
     "execution_count": 167,
     "metadata": {},
     "output_type": "execute_result"
    }
   ],
   "source": [
    "df5['cuisines']"
   ]
  },
  {
   "cell_type": "code",
   "execution_count": 168,
   "id": "4e2877df",
   "metadata": {
    "execution": {
     "iopub.execute_input": "2024-08-20T23:25:10.638630Z",
     "iopub.status.busy": "2024-08-20T23:25:10.637905Z",
     "iopub.status.idle": "2024-08-20T23:25:10.649165Z",
     "shell.execute_reply": "2024-08-20T23:25:10.648268Z"
    },
    "papermill": {
     "duration": 0.071334,
     "end_time": "2024-08-20T23:25:10.651252",
     "exception": false,
     "start_time": "2024-08-20T23:25:10.579918",
     "status": "completed"
    },
    "tags": []
   },
   "outputs": [
    {
     "data": {
      "text/plain": [
       "cuisines\n",
       "North Indian                                        1160\n",
       "North Indian, Chinese                                778\n",
       "South Indian                                         367\n",
       "Cafe                                                 285\n",
       "South Indian, North Indian, Chinese                  233\n",
       "                                                    ... \n",
       "Italian, Biryani, Fast Food, North Indian, Rolls       1\n",
       "Arabian, BBQ, Rolls, Chinese                           1\n",
       "North Indian, South Indian, Kerala                     1\n",
       "South Indian, Street Food, Fast Food                   1\n",
       "Thai, Chinese, Momos                                   1\n",
       "Name: count, Length: 1691, dtype: int64"
      ]
     },
     "execution_count": 168,
     "metadata": {},
     "output_type": "execute_result"
    }
   ],
   "source": [
    "df5['cuisines'].value_counts()"
   ]
  },
  {
   "cell_type": "code",
   "execution_count": 169,
   "id": "055f66cc",
   "metadata": {
    "execution": {
     "iopub.execute_input": "2024-08-20T23:25:10.767477Z",
     "iopub.status.busy": "2024-08-20T23:25:10.766760Z",
     "iopub.status.idle": "2024-08-20T23:25:10.771414Z",
     "shell.execute_reply": "2024-08-20T23:25:10.770294Z"
    },
    "papermill": {
     "duration": 0.064872,
     "end_time": "2024-08-20T23:25:10.773524",
     "exception": false,
     "start_time": "2024-08-20T23:25:10.708652",
     "status": "completed"
    },
    "tags": []
   },
   "outputs": [],
   "source": [
    "#like we did previously, lets take everythimg less than 100 to be others"
   ]
  },
  {
   "cell_type": "code",
   "execution_count": 170,
   "id": "b7f64e91",
   "metadata": {
    "execution": {
     "iopub.execute_input": "2024-08-20T23:25:10.889997Z",
     "iopub.status.busy": "2024-08-20T23:25:10.889657Z",
     "iopub.status.idle": "2024-08-20T23:25:10.904467Z",
     "shell.execute_reply": "2024-08-20T23:25:10.903424Z"
    },
    "papermill": {
     "duration": 0.0764,
     "end_time": "2024-08-20T23:25:10.906793",
     "exception": false,
     "start_time": "2024-08-20T23:25:10.830393",
     "status": "completed"
    },
    "tags": []
   },
   "outputs": [
    {
     "data": {
      "text/plain": [
       "cuisines\n",
       "Biryani, North Indian                               97\n",
       "Biryani, North Indian, Chinese                      94\n",
       "North Indian, Street Food                           93\n",
       "Pizza, Cafe, Italian                                85\n",
       "Chinese, Thai, Momos                                83\n",
       "                                                    ..\n",
       "Italian, Biryani, Fast Food, North Indian, Rolls     1\n",
       "Arabian, BBQ, Rolls, Chinese                         1\n",
       "North Indian, South Indian, Kerala                   1\n",
       "South Indian, Street Food, Fast Food                 1\n",
       "Thai, Chinese, Momos                                 1\n",
       "Name: count, Length: 1667, dtype: int64"
      ]
     },
     "execution_count": 170,
     "metadata": {},
     "output_type": "execute_result"
    }
   ],
   "source": [
    "less_cuisines_count = df5['cuisines'].value_counts()[df5['cuisines'].value_counts() < 100]\n",
    "less_cuisines_count"
   ]
  },
  {
   "cell_type": "code",
   "execution_count": 171,
   "id": "5ff4aaf4",
   "metadata": {
    "execution": {
     "iopub.execute_input": "2024-08-20T23:25:11.023322Z",
     "iopub.status.busy": "2024-08-20T23:25:11.022281Z",
     "iopub.status.idle": "2024-08-20T23:25:11.029599Z",
     "shell.execute_reply": "2024-08-20T23:25:11.028528Z"
    },
    "papermill": {
     "duration": 0.067925,
     "end_time": "2024-08-20T23:25:11.031615",
     "exception": false,
     "start_time": "2024-08-20T23:25:10.963690",
     "status": "completed"
    },
    "tags": []
   },
   "outputs": [
    {
     "data": {
      "text/plain": [
       "Index(['Biryani, North Indian', 'Biryani, North Indian, Chinese',\n",
       "       'North Indian, Street Food', 'Pizza, Cafe, Italian',\n",
       "       'Chinese, Thai, Momos', 'Pizza', 'Continental', 'North Indian, Biryani',\n",
       "       'North Indian, South Indian', 'Andhra, Biryani, North Indian, Chinese',\n",
       "       ...\n",
       "       'Cafe, Beverages, Fast Food, Street Food', 'Momos, Street Food, Rolls',\n",
       "       'Desserts, Continental', 'Chinese, Thai, Seafood, Malaysian',\n",
       "       'North Indian, Chinese, Arabian, Kebab',\n",
       "       'Italian, Biryani, Fast Food, North Indian, Rolls',\n",
       "       'Arabian, BBQ, Rolls, Chinese', 'North Indian, South Indian, Kerala',\n",
       "       'South Indian, Street Food, Fast Food', 'Thai, Chinese, Momos'],\n",
       "      dtype='object', name='cuisines', length=1667)"
      ]
     },
     "execution_count": 171,
     "metadata": {},
     "output_type": "execute_result"
    }
   ],
   "source": [
    "less_cuisines_count.index"
   ]
  },
  {
   "cell_type": "code",
   "execution_count": 172,
   "id": "470249f3",
   "metadata": {
    "execution": {
     "iopub.execute_input": "2024-08-20T23:25:11.149080Z",
     "iopub.status.busy": "2024-08-20T23:25:11.148724Z",
     "iopub.status.idle": "2024-08-20T23:25:11.153623Z",
     "shell.execute_reply": "2024-08-20T23:25:11.152269Z"
    },
    "papermill": {
     "duration": 0.066146,
     "end_time": "2024-08-20T23:25:11.155757",
     "exception": false,
     "start_time": "2024-08-20T23:25:11.089611",
     "status": "completed"
    },
    "tags": []
   },
   "outputs": [],
   "source": [
    "nd_array_cusines = np.array(less_cuisines_count.index)"
   ]
  },
  {
   "cell_type": "code",
   "execution_count": 173,
   "id": "a7030130",
   "metadata": {
    "execution": {
     "iopub.execute_input": "2024-08-20T23:25:11.274553Z",
     "iopub.status.busy": "2024-08-20T23:25:11.274171Z",
     "iopub.status.idle": "2024-08-20T23:25:11.280746Z",
     "shell.execute_reply": "2024-08-20T23:25:11.279714Z"
    },
    "papermill": {
     "duration": 0.068788,
     "end_time": "2024-08-20T23:25:11.282812",
     "exception": false,
     "start_time": "2024-08-20T23:25:11.214024",
     "status": "completed"
    },
    "tags": []
   },
   "outputs": [
    {
     "data": {
      "text/plain": [
       "array(['Biryani, North Indian', 'Biryani, North Indian, Chinese',\n",
       "       'North Indian, Street Food', ...,\n",
       "       'North Indian, South Indian, Kerala',\n",
       "       'South Indian, Street Food, Fast Food', 'Thai, Chinese, Momos'],\n",
       "      dtype=object)"
      ]
     },
     "execution_count": 173,
     "metadata": {},
     "output_type": "execute_result"
    }
   ],
   "source": [
    "nd_array_cusines"
   ]
  },
  {
   "cell_type": "code",
   "execution_count": 174,
   "id": "d7ee4d4d",
   "metadata": {
    "execution": {
     "iopub.execute_input": "2024-08-20T23:25:11.404630Z",
     "iopub.status.busy": "2024-08-20T23:25:11.404240Z",
     "iopub.status.idle": "2024-08-20T23:25:12.087016Z",
     "shell.execute_reply": "2024-08-20T23:25:12.085834Z"
    },
    "papermill": {
     "duration": 0.74932,
     "end_time": "2024-08-20T23:25:12.089855",
     "exception": false,
     "start_time": "2024-08-20T23:25:11.340535",
     "status": "completed"
    },
    "tags": []
   },
   "outputs": [],
   "source": [
    "isin_cuisines = np.isin(df5['cuisines'], nd_array_cusines)"
   ]
  },
  {
   "cell_type": "code",
   "execution_count": 175,
   "id": "42bd86c2",
   "metadata": {
    "execution": {
     "iopub.execute_input": "2024-08-20T23:25:12.209475Z",
     "iopub.status.busy": "2024-08-20T23:25:12.209075Z",
     "iopub.status.idle": "2024-08-20T23:25:12.214379Z",
     "shell.execute_reply": "2024-08-20T23:25:12.213429Z"
    },
    "papermill": {
     "duration": 0.067784,
     "end_time": "2024-08-20T23:25:12.216611",
     "exception": false,
     "start_time": "2024-08-20T23:25:12.148827",
     "status": "completed"
    },
    "tags": []
   },
   "outputs": [],
   "source": [
    "new_cuisines = np.where(isin_cuisines,\n",
    "                       'others',\n",
    "                       df5['cuisines'])"
   ]
  },
  {
   "cell_type": "code",
   "execution_count": 176,
   "id": "8e46d699",
   "metadata": {
    "execution": {
     "iopub.execute_input": "2024-08-20T23:25:12.333990Z",
     "iopub.status.busy": "2024-08-20T23:25:12.333620Z",
     "iopub.status.idle": "2024-08-20T23:25:12.339955Z",
     "shell.execute_reply": "2024-08-20T23:25:12.339078Z"
    },
    "papermill": {
     "duration": 0.067449,
     "end_time": "2024-08-20T23:25:12.342098",
     "exception": false,
     "start_time": "2024-08-20T23:25:12.274649",
     "status": "completed"
    },
    "tags": []
   },
   "outputs": [
    {
     "data": {
      "text/plain": [
       "array(['others', 'others', 'others', ..., 'others', 'others',\n",
       "       'Finger Food'], dtype=object)"
      ]
     },
     "execution_count": 176,
     "metadata": {},
     "output_type": "execute_result"
    }
   ],
   "source": [
    "new_cuisines"
   ]
  },
  {
   "cell_type": "code",
   "execution_count": 177,
   "id": "d5a8e968",
   "metadata": {
    "execution": {
     "iopub.execute_input": "2024-08-20T23:25:12.460968Z",
     "iopub.status.busy": "2024-08-20T23:25:12.460594Z",
     "iopub.status.idle": "2024-08-20T23:25:12.468248Z",
     "shell.execute_reply": "2024-08-20T23:25:12.467273Z"
    },
    "papermill": {
     "duration": 0.069453,
     "end_time": "2024-08-20T23:25:12.470441",
     "exception": false,
     "start_time": "2024-08-20T23:25:12.400988",
     "status": "completed"
    },
    "tags": []
   },
   "outputs": [
    {
     "data": {
      "text/plain": [
       "array([['Jalsa', 'Yes', 'Yes', ..., 'North Indian, Mughlai, Chinese',\n",
       "        800.0, 'Buffet'],\n",
       "       ['Spice Elephant', 'Yes', 'No', ...,\n",
       "        'Chinese, North Indian, Thai', 800.0, 'Buffet'],\n",
       "       ['San Churro Cafe', 'Yes', 'No', ..., 'Cafe, Mexican, Italian',\n",
       "        800.0, 'Buffet'],\n",
       "       ...,\n",
       "       ['Keys Cafe - Keys Hotel', 'No', 'No', ...,\n",
       "        'Chinese, Continental, North Indian', 1200.0, 'Pubs and bars'],\n",
       "       ['Bhagini', 'No', 'No', ...,\n",
       "        'Andhra, South Indian, Chinese, North Indian', 800.0,\n",
       "        'Pubs and bars'],\n",
       "       ['Chime - Sheraton Grand Bengaluru Whitefield Hotel &...', 'No',\n",
       "        'Yes', ..., 'Finger Food', 2500.0, 'Pubs and bars']], dtype=object)"
      ]
     },
     "execution_count": 177,
     "metadata": {},
     "output_type": "execute_result"
    }
   ],
   "source": [
    "df5_numpy = df5.to_numpy()\n",
    "df5_numpy"
   ]
  },
  {
   "cell_type": "code",
   "execution_count": 178,
   "id": "6735e2a4",
   "metadata": {
    "execution": {
     "iopub.execute_input": "2024-08-20T23:25:12.589741Z",
     "iopub.status.busy": "2024-08-20T23:25:12.589372Z",
     "iopub.status.idle": "2024-08-20T23:25:12.594216Z",
     "shell.execute_reply": "2024-08-20T23:25:12.593277Z"
    },
    "papermill": {
     "duration": 0.067947,
     "end_time": "2024-08-20T23:25:12.596429",
     "exception": false,
     "start_time": "2024-08-20T23:25:12.528482",
     "status": "completed"
    },
    "tags": []
   },
   "outputs": [],
   "source": [
    "df5_numpy[:, 8] = new_cuisines"
   ]
  },
  {
   "cell_type": "code",
   "execution_count": 179,
   "id": "d1f2a52b",
   "metadata": {
    "execution": {
     "iopub.execute_input": "2024-08-20T23:25:12.714639Z",
     "iopub.status.busy": "2024-08-20T23:25:12.714263Z",
     "iopub.status.idle": "2024-08-20T23:25:12.721130Z",
     "shell.execute_reply": "2024-08-20T23:25:12.720121Z"
    },
    "papermill": {
     "duration": 0.068311,
     "end_time": "2024-08-20T23:25:12.723264",
     "exception": false,
     "start_time": "2024-08-20T23:25:12.654953",
     "status": "completed"
    },
    "tags": []
   },
   "outputs": [
    {
     "data": {
      "text/plain": [
       "array(['others', 'others', 'others', ..., 'others', 'others',\n",
       "       'Finger Food'], dtype=object)"
      ]
     },
     "execution_count": 179,
     "metadata": {},
     "output_type": "execute_result"
    }
   ],
   "source": [
    "df5_numpy[:, 8]"
   ]
  },
  {
   "cell_type": "code",
   "execution_count": 180,
   "id": "7881666e",
   "metadata": {
    "execution": {
     "iopub.execute_input": "2024-08-20T23:25:12.842342Z",
     "iopub.status.busy": "2024-08-20T23:25:12.841935Z",
     "iopub.status.idle": "2024-08-20T23:25:12.847534Z",
     "shell.execute_reply": "2024-08-20T23:25:12.846560Z"
    },
    "papermill": {
     "duration": 0.066868,
     "end_time": "2024-08-20T23:25:12.849632",
     "exception": false,
     "start_time": "2024-08-20T23:25:12.782764",
     "status": "completed"
    },
    "tags": []
   },
   "outputs": [],
   "source": [
    "#change to pandas\n",
    "df6 = pd.DataFrame(df5_numpy, columns=df2.columns)"
   ]
  },
  {
   "cell_type": "code",
   "execution_count": 181,
   "id": "0cbeab1b",
   "metadata": {
    "execution": {
     "iopub.execute_input": "2024-08-20T23:25:12.970502Z",
     "iopub.status.busy": "2024-08-20T23:25:12.970044Z",
     "iopub.status.idle": "2024-08-20T23:25:12.987347Z",
     "shell.execute_reply": "2024-08-20T23:25:12.986208Z"
    },
    "papermill": {
     "duration": 0.080606,
     "end_time": "2024-08-20T23:25:12.989609",
     "exception": false,
     "start_time": "2024-08-20T23:25:12.909003",
     "status": "completed"
    },
    "tags": []
   },
   "outputs": [
    {
     "data": {
      "text/html": [
       "<div>\n",
       "<style scoped>\n",
       "    .dataframe tbody tr th:only-of-type {\n",
       "        vertical-align: middle;\n",
       "    }\n",
       "\n",
       "    .dataframe tbody tr th {\n",
       "        vertical-align: top;\n",
       "    }\n",
       "\n",
       "    .dataframe thead th {\n",
       "        text-align: right;\n",
       "    }\n",
       "</style>\n",
       "<table border=\"1\" class=\"dataframe\">\n",
       "  <thead>\n",
       "    <tr style=\"text-align: right;\">\n",
       "      <th></th>\n",
       "      <th>name</th>\n",
       "      <th>online_order</th>\n",
       "      <th>book_table</th>\n",
       "      <th>rate</th>\n",
       "      <th>votes</th>\n",
       "      <th>location</th>\n",
       "      <th>rest_type</th>\n",
       "      <th>dish_liked</th>\n",
       "      <th>cuisines</th>\n",
       "      <th>Cost2plates</th>\n",
       "      <th>Type</th>\n",
       "    </tr>\n",
       "  </thead>\n",
       "  <tbody>\n",
       "    <tr>\n",
       "      <th>0</th>\n",
       "      <td>Jalsa</td>\n",
       "      <td>Yes</td>\n",
       "      <td>Yes</td>\n",
       "      <td>4.1</td>\n",
       "      <td>775</td>\n",
       "      <td>Banashankari</td>\n",
       "      <td>Casual Dining</td>\n",
       "      <td>Pasta, Lunch Buffet, Masala Papad, Paneer Laja...</td>\n",
       "      <td>others</td>\n",
       "      <td>800.0</td>\n",
       "      <td>Buffet</td>\n",
       "    </tr>\n",
       "    <tr>\n",
       "      <th>1</th>\n",
       "      <td>Spice Elephant</td>\n",
       "      <td>Yes</td>\n",
       "      <td>No</td>\n",
       "      <td>4.1</td>\n",
       "      <td>787</td>\n",
       "      <td>Banashankari</td>\n",
       "      <td>Casual Dining</td>\n",
       "      <td>Momos, Lunch Buffet, Chocolate Nirvana, Thai G...</td>\n",
       "      <td>others</td>\n",
       "      <td>800.0</td>\n",
       "      <td>Buffet</td>\n",
       "    </tr>\n",
       "    <tr>\n",
       "      <th>2</th>\n",
       "      <td>San Churro Cafe</td>\n",
       "      <td>Yes</td>\n",
       "      <td>No</td>\n",
       "      <td>3.8</td>\n",
       "      <td>918</td>\n",
       "      <td>Banashankari</td>\n",
       "      <td>others</td>\n",
       "      <td>Churros, Cannelloni, Minestrone Soup, Hot Choc...</td>\n",
       "      <td>others</td>\n",
       "      <td>800.0</td>\n",
       "      <td>Buffet</td>\n",
       "    </tr>\n",
       "    <tr>\n",
       "      <th>3</th>\n",
       "      <td>Addhuri Udupi Bhojana</td>\n",
       "      <td>No</td>\n",
       "      <td>No</td>\n",
       "      <td>3.7</td>\n",
       "      <td>88</td>\n",
       "      <td>Banashankari</td>\n",
       "      <td>Quick Bites</td>\n",
       "      <td>Masala Dosa</td>\n",
       "      <td>others</td>\n",
       "      <td>300.0</td>\n",
       "      <td>Buffet</td>\n",
       "    </tr>\n",
       "    <tr>\n",
       "      <th>4</th>\n",
       "      <td>Grand Village</td>\n",
       "      <td>No</td>\n",
       "      <td>No</td>\n",
       "      <td>3.8</td>\n",
       "      <td>166</td>\n",
       "      <td>Basavanagudi</td>\n",
       "      <td>Casual Dining</td>\n",
       "      <td>Panipuri, Gol Gappe</td>\n",
       "      <td>others</td>\n",
       "      <td>600.0</td>\n",
       "      <td>Buffet</td>\n",
       "    </tr>\n",
       "    <tr>\n",
       "      <th>...</th>\n",
       "      <td>...</td>\n",
       "      <td>...</td>\n",
       "      <td>...</td>\n",
       "      <td>...</td>\n",
       "      <td>...</td>\n",
       "      <td>...</td>\n",
       "      <td>...</td>\n",
       "      <td>...</td>\n",
       "      <td>...</td>\n",
       "      <td>...</td>\n",
       "      <td>...</td>\n",
       "    </tr>\n",
       "    <tr>\n",
       "      <th>23420</th>\n",
       "      <td>Izakaya Gastro Pub</td>\n",
       "      <td>Yes</td>\n",
       "      <td>Yes</td>\n",
       "      <td>3.8</td>\n",
       "      <td>128</td>\n",
       "      <td>Whitefield</td>\n",
       "      <td>others</td>\n",
       "      <td>Beer, Chicken Guntur, Paneer Tikka, Fish, Nood...</td>\n",
       "      <td>others</td>\n",
       "      <td>1200.0</td>\n",
       "      <td>Pubs and bars</td>\n",
       "    </tr>\n",
       "    <tr>\n",
       "      <th>23421</th>\n",
       "      <td>M Bar - Bengaluru Marriott Hotel Whitefield</td>\n",
       "      <td>No</td>\n",
       "      <td>No</td>\n",
       "      <td>3.9</td>\n",
       "      <td>77</td>\n",
       "      <td>Whitefield</td>\n",
       "      <td>others</td>\n",
       "      <td>Rooftop Ambience</td>\n",
       "      <td>Finger Food</td>\n",
       "      <td>2000.0</td>\n",
       "      <td>Pubs and bars</td>\n",
       "    </tr>\n",
       "    <tr>\n",
       "      <th>23422</th>\n",
       "      <td>Keys Cafe - Keys Hotel</td>\n",
       "      <td>No</td>\n",
       "      <td>No</td>\n",
       "      <td>2.8</td>\n",
       "      <td>161</td>\n",
       "      <td>Whitefield</td>\n",
       "      <td>Casual Dining, Bar</td>\n",
       "      <td>Salads, Coffee, Breakfast Buffet, Halwa, Chick...</td>\n",
       "      <td>others</td>\n",
       "      <td>1200.0</td>\n",
       "      <td>Pubs and bars</td>\n",
       "    </tr>\n",
       "    <tr>\n",
       "      <th>23423</th>\n",
       "      <td>Bhagini</td>\n",
       "      <td>No</td>\n",
       "      <td>No</td>\n",
       "      <td>2.0</td>\n",
       "      <td>81</td>\n",
       "      <td>Whitefield</td>\n",
       "      <td>Casual Dining, Bar</td>\n",
       "      <td>Biryani, Andhra Meal</td>\n",
       "      <td>others</td>\n",
       "      <td>800.0</td>\n",
       "      <td>Pubs and bars</td>\n",
       "    </tr>\n",
       "    <tr>\n",
       "      <th>23424</th>\n",
       "      <td>Chime - Sheraton Grand Bengaluru Whitefield Ho...</td>\n",
       "      <td>No</td>\n",
       "      <td>Yes</td>\n",
       "      <td>4.3</td>\n",
       "      <td>236</td>\n",
       "      <td>others</td>\n",
       "      <td>others</td>\n",
       "      <td>Cocktails, Pizza, Buttermilk</td>\n",
       "      <td>Finger Food</td>\n",
       "      <td>2500.0</td>\n",
       "      <td>Pubs and bars</td>\n",
       "    </tr>\n",
       "  </tbody>\n",
       "</table>\n",
       "<p>23425 rows × 11 columns</p>\n",
       "</div>"
      ],
      "text/plain": [
       "                                                    name online_order  \\\n",
       "0                                                  Jalsa          Yes   \n",
       "1                                         Spice Elephant          Yes   \n",
       "2                                        San Churro Cafe          Yes   \n",
       "3                                  Addhuri Udupi Bhojana           No   \n",
       "4                                          Grand Village           No   \n",
       "...                                                  ...          ...   \n",
       "23420                                 Izakaya Gastro Pub          Yes   \n",
       "23421        M Bar - Bengaluru Marriott Hotel Whitefield           No   \n",
       "23422                             Keys Cafe - Keys Hotel           No   \n",
       "23423                                            Bhagini           No   \n",
       "23424  Chime - Sheraton Grand Bengaluru Whitefield Ho...           No   \n",
       "\n",
       "      book_table rate votes      location           rest_type  \\\n",
       "0            Yes  4.1   775  Banashankari       Casual Dining   \n",
       "1             No  4.1   787  Banashankari       Casual Dining   \n",
       "2             No  3.8   918  Banashankari              others   \n",
       "3             No  3.7    88  Banashankari         Quick Bites   \n",
       "4             No  3.8   166  Basavanagudi       Casual Dining   \n",
       "...          ...  ...   ...           ...                 ...   \n",
       "23420        Yes  3.8   128    Whitefield              others   \n",
       "23421         No  3.9    77    Whitefield              others   \n",
       "23422         No  2.8   161    Whitefield  Casual Dining, Bar   \n",
       "23423         No  2.0    81    Whitefield  Casual Dining, Bar   \n",
       "23424        Yes  4.3   236        others              others   \n",
       "\n",
       "                                              dish_liked     cuisines  \\\n",
       "0      Pasta, Lunch Buffet, Masala Papad, Paneer Laja...       others   \n",
       "1      Momos, Lunch Buffet, Chocolate Nirvana, Thai G...       others   \n",
       "2      Churros, Cannelloni, Minestrone Soup, Hot Choc...       others   \n",
       "3                                            Masala Dosa       others   \n",
       "4                                    Panipuri, Gol Gappe       others   \n",
       "...                                                  ...          ...   \n",
       "23420  Beer, Chicken Guntur, Paneer Tikka, Fish, Nood...       others   \n",
       "23421                                   Rooftop Ambience  Finger Food   \n",
       "23422  Salads, Coffee, Breakfast Buffet, Halwa, Chick...       others   \n",
       "23423                               Biryani, Andhra Meal       others   \n",
       "23424                       Cocktails, Pizza, Buttermilk  Finger Food   \n",
       "\n",
       "      Cost2plates           Type  \n",
       "0           800.0         Buffet  \n",
       "1           800.0         Buffet  \n",
       "2           800.0         Buffet  \n",
       "3           300.0         Buffet  \n",
       "4           600.0         Buffet  \n",
       "...           ...            ...  \n",
       "23420      1200.0  Pubs and bars  \n",
       "23421      2000.0  Pubs and bars  \n",
       "23422      1200.0  Pubs and bars  \n",
       "23423       800.0  Pubs and bars  \n",
       "23424      2500.0  Pubs and bars  \n",
       "\n",
       "[23425 rows x 11 columns]"
      ]
     },
     "execution_count": 181,
     "metadata": {},
     "output_type": "execute_result"
    }
   ],
   "source": [
    "df6"
   ]
  },
  {
   "cell_type": "code",
   "execution_count": 182,
   "id": "1be2da70",
   "metadata": {
    "execution": {
     "iopub.execute_input": "2024-08-20T23:25:13.110585Z",
     "iopub.status.busy": "2024-08-20T23:25:13.110233Z",
     "iopub.status.idle": "2024-08-20T23:25:13.125101Z",
     "shell.execute_reply": "2024-08-20T23:25:13.124086Z"
    },
    "papermill": {
     "duration": 0.078123,
     "end_time": "2024-08-20T23:25:13.127269",
     "exception": false,
     "start_time": "2024-08-20T23:25:13.049146",
     "status": "completed"
    },
    "tags": []
   },
   "outputs": [
    {
     "data": {
      "text/html": [
       "<div>\n",
       "<style scoped>\n",
       "    .dataframe tbody tr th:only-of-type {\n",
       "        vertical-align: middle;\n",
       "    }\n",
       "\n",
       "    .dataframe tbody tr th {\n",
       "        vertical-align: top;\n",
       "    }\n",
       "\n",
       "    .dataframe thead th {\n",
       "        text-align: right;\n",
       "    }\n",
       "</style>\n",
       "<table border=\"1\" class=\"dataframe\">\n",
       "  <thead>\n",
       "    <tr style=\"text-align: right;\">\n",
       "      <th></th>\n",
       "      <th>name</th>\n",
       "      <th>online_order</th>\n",
       "      <th>book_table</th>\n",
       "      <th>rate</th>\n",
       "      <th>votes</th>\n",
       "      <th>location</th>\n",
       "      <th>rest_type</th>\n",
       "      <th>dish_liked</th>\n",
       "      <th>cuisines</th>\n",
       "      <th>Cost2plates</th>\n",
       "      <th>Type</th>\n",
       "    </tr>\n",
       "  </thead>\n",
       "  <tbody>\n",
       "    <tr>\n",
       "      <th>0</th>\n",
       "      <td>Jalsa</td>\n",
       "      <td>Yes</td>\n",
       "      <td>Yes</td>\n",
       "      <td>4.1</td>\n",
       "      <td>775</td>\n",
       "      <td>Banashankari</td>\n",
       "      <td>Casual Dining</td>\n",
       "      <td>Pasta, Lunch Buffet, Masala Papad, Paneer Laja...</td>\n",
       "      <td>others</td>\n",
       "      <td>800.0</td>\n",
       "      <td>Buffet</td>\n",
       "    </tr>\n",
       "    <tr>\n",
       "      <th>1</th>\n",
       "      <td>Spice Elephant</td>\n",
       "      <td>Yes</td>\n",
       "      <td>No</td>\n",
       "      <td>4.1</td>\n",
       "      <td>787</td>\n",
       "      <td>Banashankari</td>\n",
       "      <td>Casual Dining</td>\n",
       "      <td>Momos, Lunch Buffet, Chocolate Nirvana, Thai G...</td>\n",
       "      <td>others</td>\n",
       "      <td>800.0</td>\n",
       "      <td>Buffet</td>\n",
       "    </tr>\n",
       "    <tr>\n",
       "      <th>2</th>\n",
       "      <td>San Churro Cafe</td>\n",
       "      <td>Yes</td>\n",
       "      <td>No</td>\n",
       "      <td>3.8</td>\n",
       "      <td>918</td>\n",
       "      <td>Banashankari</td>\n",
       "      <td>others</td>\n",
       "      <td>Churros, Cannelloni, Minestrone Soup, Hot Choc...</td>\n",
       "      <td>others</td>\n",
       "      <td>800.0</td>\n",
       "      <td>Buffet</td>\n",
       "    </tr>\n",
       "    <tr>\n",
       "      <th>3</th>\n",
       "      <td>Addhuri Udupi Bhojana</td>\n",
       "      <td>No</td>\n",
       "      <td>No</td>\n",
       "      <td>3.7</td>\n",
       "      <td>88</td>\n",
       "      <td>Banashankari</td>\n",
       "      <td>Quick Bites</td>\n",
       "      <td>Masala Dosa</td>\n",
       "      <td>others</td>\n",
       "      <td>300.0</td>\n",
       "      <td>Buffet</td>\n",
       "    </tr>\n",
       "    <tr>\n",
       "      <th>4</th>\n",
       "      <td>Grand Village</td>\n",
       "      <td>No</td>\n",
       "      <td>No</td>\n",
       "      <td>3.8</td>\n",
       "      <td>166</td>\n",
       "      <td>Basavanagudi</td>\n",
       "      <td>Casual Dining</td>\n",
       "      <td>Panipuri, Gol Gappe</td>\n",
       "      <td>others</td>\n",
       "      <td>600.0</td>\n",
       "      <td>Buffet</td>\n",
       "    </tr>\n",
       "  </tbody>\n",
       "</table>\n",
       "</div>"
      ],
      "text/plain": [
       "                    name online_order book_table rate votes      location  \\\n",
       "0                  Jalsa          Yes        Yes  4.1   775  Banashankari   \n",
       "1         Spice Elephant          Yes         No  4.1   787  Banashankari   \n",
       "2        San Churro Cafe          Yes         No  3.8   918  Banashankari   \n",
       "3  Addhuri Udupi Bhojana           No         No  3.7    88  Banashankari   \n",
       "4          Grand Village           No         No  3.8   166  Basavanagudi   \n",
       "\n",
       "       rest_type                                         dish_liked cuisines  \\\n",
       "0  Casual Dining  Pasta, Lunch Buffet, Masala Papad, Paneer Laja...   others   \n",
       "1  Casual Dining  Momos, Lunch Buffet, Chocolate Nirvana, Thai G...   others   \n",
       "2         others  Churros, Cannelloni, Minestrone Soup, Hot Choc...   others   \n",
       "3    Quick Bites                                        Masala Dosa   others   \n",
       "4  Casual Dining                                Panipuri, Gol Gappe   others   \n",
       "\n",
       "  Cost2plates    Type  \n",
       "0       800.0  Buffet  \n",
       "1       800.0  Buffet  \n",
       "2       800.0  Buffet  \n",
       "3       300.0  Buffet  \n",
       "4       600.0  Buffet  "
      ]
     },
     "execution_count": 182,
     "metadata": {},
     "output_type": "execute_result"
    }
   ],
   "source": [
    "df6.head()"
   ]
  },
  {
   "cell_type": "code",
   "execution_count": 183,
   "id": "96e6f9de",
   "metadata": {
    "execution": {
     "iopub.execute_input": "2024-08-20T23:25:13.245919Z",
     "iopub.status.busy": "2024-08-20T23:25:13.245559Z",
     "iopub.status.idle": "2024-08-20T23:25:13.250063Z",
     "shell.execute_reply": "2024-08-20T23:25:13.249009Z"
    },
    "papermill": {
     "duration": 0.065841,
     "end_time": "2024-08-20T23:25:13.252226",
     "exception": false,
     "start_time": "2024-08-20T23:25:13.186385",
     "status": "completed"
    },
    "tags": []
   },
   "outputs": [],
   "source": [
    "#the data is clean"
   ]
  },
  {
   "cell_type": "code",
   "execution_count": 184,
   "id": "a6652178",
   "metadata": {
    "execution": {
     "iopub.execute_input": "2024-08-20T23:25:13.369963Z",
     "iopub.status.busy": "2024-08-20T23:25:13.369574Z",
     "iopub.status.idle": "2024-08-20T23:25:13.373972Z",
     "shell.execute_reply": "2024-08-20T23:25:13.373005Z"
    },
    "papermill": {
     "duration": 0.065634,
     "end_time": "2024-08-20T23:25:13.375983",
     "exception": false,
     "start_time": "2024-08-20T23:25:13.310349",
     "status": "completed"
    },
    "tags": []
   },
   "outputs": [],
   "source": [
    "#it is time for visualization"
   ]
  },
  {
   "cell_type": "code",
   "execution_count": 185,
   "id": "50ca4a76",
   "metadata": {
    "execution": {
     "iopub.execute_input": "2024-08-20T23:25:13.495434Z",
     "iopub.status.busy": "2024-08-20T23:25:13.495043Z",
     "iopub.status.idle": "2024-08-20T23:25:13.499482Z",
     "shell.execute_reply": "2024-08-20T23:25:13.498540Z"
    },
    "papermill": {
     "duration": 0.066833,
     "end_time": "2024-08-20T23:25:13.501842",
     "exception": false,
     "start_time": "2024-08-20T23:25:13.435009",
     "status": "completed"
    },
    "tags": []
   },
   "outputs": [],
   "source": [
    "#lets do a bar chart of the number of restaurants in each location"
   ]
  },
  {
   "cell_type": "code",
   "execution_count": 186,
   "id": "f331d010",
   "metadata": {
    "execution": {
     "iopub.execute_input": "2024-08-20T23:25:13.622463Z",
     "iopub.status.busy": "2024-08-20T23:25:13.622076Z",
     "iopub.status.idle": "2024-08-20T23:25:14.500174Z",
     "shell.execute_reply": "2024-08-20T23:25:14.499143Z"
    },
    "papermill": {
     "duration": 0.940459,
     "end_time": "2024-08-20T23:25:14.502594",
     "exception": false,
     "start_time": "2024-08-20T23:25:13.562135",
     "status": "completed"
    },
    "tags": []
   },
   "outputs": [
    {
     "data": {
      "image/png": "[encoded data removed]",
      "text/plain": [
       "<Figure size 1800x600 with 1 Axes>"
      ]
     },
     "metadata": {},
     "output_type": "display_data"
    }
   ],
   "source": [
    "plt.figure(figsize=(18,6))\n",
    "sns.countplot(df6, x = df6['location'])\n",
    "plt.xticks(rotation = 90)\n",
    "plt.title('Number Of Restaurants In Each Location', fontsize = 14, weight = 'bold')\n",
    "plt.xlabel('Location', weight = 'bold')\n",
    "plt.ylabel('No. of restaurants', weight = 'bold')\n",
    "plt.show()"
   ]
  },
  {
   "cell_type": "code",
   "execution_count": 187,
   "id": "8fe7c5e0",
   "metadata": {
    "execution": {
     "iopub.execute_input": "2024-08-20T23:25:14.626722Z",
     "iopub.status.busy": "2024-08-20T23:25:14.625527Z",
     "iopub.status.idle": "2024-08-20T23:25:14.641395Z",
     "shell.execute_reply": "2024-08-20T23:25:14.640289Z"
    },
    "papermill": {
     "duration": 0.079881,
     "end_time": "2024-08-20T23:25:14.643755",
     "exception": false,
     "start_time": "2024-08-20T23:25:14.563874",
     "status": "completed"
    },
    "tags": []
   },
   "outputs": [],
   "source": [
    "#lets do the average rating by each location\n",
    "avg_rating_per_location = df6.groupby('location')['rate'].mean().reset_index()"
   ]
  },
  {
   "cell_type": "code",
   "execution_count": 188,
   "id": "a2349b2e",
   "metadata": {
    "execution": {
     "iopub.execute_input": "2024-08-20T23:25:14.766035Z",
     "iopub.status.busy": "2024-08-20T23:25:14.765288Z",
     "iopub.status.idle": "2024-08-20T23:25:14.776182Z",
     "shell.execute_reply": "2024-08-20T23:25:14.775249Z"
    },
    "papermill": {
     "duration": 0.075557,
     "end_time": "2024-08-20T23:25:14.778595",
     "exception": false,
     "start_time": "2024-08-20T23:25:14.703038",
     "status": "completed"
    },
    "tags": []
   },
   "outputs": [
    {
     "data": {
      "text/html": [
       "<div>\n",
       "<style scoped>\n",
       "    .dataframe tbody tr th:only-of-type {\n",
       "        vertical-align: middle;\n",
       "    }\n",
       "\n",
       "    .dataframe tbody tr th {\n",
       "        vertical-align: top;\n",
       "    }\n",
       "\n",
       "    .dataframe thead th {\n",
       "        text-align: right;\n",
       "    }\n",
       "</style>\n",
       "<table border=\"1\" class=\"dataframe\">\n",
       "  <thead>\n",
       "    <tr style=\"text-align: right;\">\n",
       "      <th></th>\n",
       "      <th>location</th>\n",
       "      <th>rate</th>\n",
       "    </tr>\n",
       "  </thead>\n",
       "  <tbody>\n",
       "    <tr>\n",
       "      <th>0</th>\n",
       "      <td>BTM</td>\n",
       "      <td>3.731561</td>\n",
       "    </tr>\n",
       "    <tr>\n",
       "      <th>1</th>\n",
       "      <td>Banashankari</td>\n",
       "      <td>3.783077</td>\n",
       "    </tr>\n",
       "    <tr>\n",
       "      <th>2</th>\n",
       "      <td>Bannerghatta Road</td>\n",
       "      <td>3.665932</td>\n",
       "    </tr>\n",
       "    <tr>\n",
       "      <th>3</th>\n",
       "      <td>Basavanagudi</td>\n",
       "      <td>3.824476</td>\n",
       "    </tr>\n",
       "    <tr>\n",
       "      <th>4</th>\n",
       "      <td>Bellandur</td>\n",
       "      <td>3.681224</td>\n",
       "    </tr>\n",
       "    <tr>\n",
       "      <th>5</th>\n",
       "      <td>Brigade Road</td>\n",
       "      <td>3.918421</td>\n",
       "    </tr>\n",
       "    <tr>\n",
       "      <th>6</th>\n",
       "      <td>Brookefield</td>\n",
       "      <td>3.671661</td>\n",
       "    </tr>\n",
       "    <tr>\n",
       "      <th>7</th>\n",
       "      <td>Church Street</td>\n",
       "      <td>4.004883</td>\n",
       "    </tr>\n",
       "    <tr>\n",
       "      <th>8</th>\n",
       "      <td>Cunningham Road</td>\n",
       "      <td>4.082282</td>\n",
       "    </tr>\n",
       "    <tr>\n",
       "      <th>9</th>\n",
       "      <td>Domlur</td>\n",
       "      <td>3.681553</td>\n",
       "    </tr>\n",
       "    <tr>\n",
       "      <th>10</th>\n",
       "      <td>Electronic City</td>\n",
       "      <td>3.671779</td>\n",
       "    </tr>\n",
       "    <tr>\n",
       "      <th>11</th>\n",
       "      <td>Frazer Town</td>\n",
       "      <td>3.767577</td>\n",
       "    </tr>\n",
       "    <tr>\n",
       "      <th>12</th>\n",
       "      <td>HSR</td>\n",
       "      <td>3.81198</td>\n",
       "    </tr>\n",
       "    <tr>\n",
       "      <th>13</th>\n",
       "      <td>Indiranagar</td>\n",
       "      <td>3.943253</td>\n",
       "    </tr>\n",
       "    <tr>\n",
       "      <th>14</th>\n",
       "      <td>JP Nagar</td>\n",
       "      <td>3.834694</td>\n",
       "    </tr>\n",
       "    <tr>\n",
       "      <th>15</th>\n",
       "      <td>Jayanagar</td>\n",
       "      <td>3.912442</td>\n",
       "    </tr>\n",
       "    <tr>\n",
       "      <th>16</th>\n",
       "      <td>Kalyan Nagar</td>\n",
       "      <td>3.910043</td>\n",
       "    </tr>\n",
       "    <tr>\n",
       "      <th>17</th>\n",
       "      <td>Kammanahalli</td>\n",
       "      <td>3.862308</td>\n",
       "    </tr>\n",
       "    <tr>\n",
       "      <th>18</th>\n",
       "      <td>Koramangala 1st Block</td>\n",
       "      <td>3.839186</td>\n",
       "    </tr>\n",
       "    <tr>\n",
       "      <th>19</th>\n",
       "      <td>Koramangala 4th Block</td>\n",
       "      <td>4.007982</td>\n",
       "    </tr>\n",
       "    <tr>\n",
       "      <th>20</th>\n",
       "      <td>Koramangala 5th Block</td>\n",
       "      <td>4.092556</td>\n",
       "    </tr>\n",
       "    <tr>\n",
       "      <th>21</th>\n",
       "      <td>Koramangala 6th Block</td>\n",
       "      <td>3.924656</td>\n",
       "    </tr>\n",
       "    <tr>\n",
       "      <th>22</th>\n",
       "      <td>Koramangala 7th Block</td>\n",
       "      <td>3.955242</td>\n",
       "    </tr>\n",
       "    <tr>\n",
       "      <th>23</th>\n",
       "      <td>Lavelle Road</td>\n",
       "      <td>4.174099</td>\n",
       "    </tr>\n",
       "    <tr>\n",
       "      <th>24</th>\n",
       "      <td>MG Road</td>\n",
       "      <td>3.94103</td>\n",
       "    </tr>\n",
       "    <tr>\n",
       "      <th>25</th>\n",
       "      <td>Malleshwaram</td>\n",
       "      <td>3.948387</td>\n",
       "    </tr>\n",
       "    <tr>\n",
       "      <th>26</th>\n",
       "      <td>Marathahalli</td>\n",
       "      <td>3.703367</td>\n",
       "    </tr>\n",
       "    <tr>\n",
       "      <th>27</th>\n",
       "      <td>New BEL Road</td>\n",
       "      <td>3.820915</td>\n",
       "    </tr>\n",
       "    <tr>\n",
       "      <th>28</th>\n",
       "      <td>Old Airport Road</td>\n",
       "      <td>3.809406</td>\n",
       "    </tr>\n",
       "    <tr>\n",
       "      <th>29</th>\n",
       "      <td>Residency Road</td>\n",
       "      <td>4.046259</td>\n",
       "    </tr>\n",
       "    <tr>\n",
       "      <th>30</th>\n",
       "      <td>Richmond Road</td>\n",
       "      <td>4.007692</td>\n",
       "    </tr>\n",
       "    <tr>\n",
       "      <th>31</th>\n",
       "      <td>Sarjapur Road</td>\n",
       "      <td>3.857549</td>\n",
       "    </tr>\n",
       "    <tr>\n",
       "      <th>32</th>\n",
       "      <td>St. Marks Road</td>\n",
       "      <td>4.038158</td>\n",
       "    </tr>\n",
       "    <tr>\n",
       "      <th>33</th>\n",
       "      <td>Ulsoor</td>\n",
       "      <td>4.014675</td>\n",
       "    </tr>\n",
       "    <tr>\n",
       "      <th>34</th>\n",
       "      <td>Whitefield</td>\n",
       "      <td>3.793892</td>\n",
       "    </tr>\n",
       "    <tr>\n",
       "      <th>35</th>\n",
       "      <td>others</td>\n",
       "      <td>3.788576</td>\n",
       "    </tr>\n",
       "  </tbody>\n",
       "</table>\n",
       "</div>"
      ],
      "text/plain": [
       "                 location      rate\n",
       "0                     BTM  3.731561\n",
       "1            Banashankari  3.783077\n",
       "2       Bannerghatta Road  3.665932\n",
       "3            Basavanagudi  3.824476\n",
       "4               Bellandur  3.681224\n",
       "5            Brigade Road  3.918421\n",
       "6             Brookefield  3.671661\n",
       "7           Church Street  4.004883\n",
       "8         Cunningham Road  4.082282\n",
       "9                  Domlur  3.681553\n",
       "10        Electronic City  3.671779\n",
       "11            Frazer Town  3.767577\n",
       "12                    HSR   3.81198\n",
       "13            Indiranagar  3.943253\n",
       "14               JP Nagar  3.834694\n",
       "15              Jayanagar  3.912442\n",
       "16           Kalyan Nagar  3.910043\n",
       "17           Kammanahalli  3.862308\n",
       "18  Koramangala 1st Block  3.839186\n",
       "19  Koramangala 4th Block  4.007982\n",
       "20  Koramangala 5th Block  4.092556\n",
       "21  Koramangala 6th Block  3.924656\n",
       "22  Koramangala 7th Block  3.955242\n",
       "23           Lavelle Road  4.174099\n",
       "24                MG Road   3.94103\n",
       "25           Malleshwaram  3.948387\n",
       "26           Marathahalli  3.703367\n",
       "27           New BEL Road  3.820915\n",
       "28       Old Airport Road  3.809406\n",
       "29         Residency Road  4.046259\n",
       "30          Richmond Road  4.007692\n",
       "31          Sarjapur Road  3.857549\n",
       "32         St. Marks Road  4.038158\n",
       "33                 Ulsoor  4.014675\n",
       "34             Whitefield  3.793892\n",
       "35                 others  3.788576"
      ]
     },
     "execution_count": 188,
     "metadata": {},
     "output_type": "execute_result"
    }
   ],
   "source": [
    "avg_rating_per_location"
   ]
  },
  {
   "cell_type": "code",
   "execution_count": 189,
   "id": "90286efe",
   "metadata": {
    "execution": {
     "iopub.execute_input": "2024-08-20T23:25:14.902313Z",
     "iopub.status.busy": "2024-08-20T23:25:14.901932Z",
     "iopub.status.idle": "2024-08-20T23:25:14.916032Z",
     "shell.execute_reply": "2024-08-20T23:25:14.915043Z"
    },
    "papermill": {
     "duration": 0.078474,
     "end_time": "2024-08-20T23:25:14.918058",
     "exception": false,
     "start_time": "2024-08-20T23:25:14.839584",
     "status": "completed"
    },
    "tags": []
   },
   "outputs": [
    {
     "data": {
      "text/html": [
       "<div>\n",
       "<style scoped>\n",
       "    .dataframe tbody tr th:only-of-type {\n",
       "        vertical-align: middle;\n",
       "    }\n",
       "\n",
       "    .dataframe tbody tr th {\n",
       "        vertical-align: top;\n",
       "    }\n",
       "\n",
       "    .dataframe thead th {\n",
       "        text-align: right;\n",
       "    }\n",
       "</style>\n",
       "<table border=\"1\" class=\"dataframe\">\n",
       "  <thead>\n",
       "    <tr style=\"text-align: right;\">\n",
       "      <th></th>\n",
       "      <th>location</th>\n",
       "      <th>rate</th>\n",
       "    </tr>\n",
       "  </thead>\n",
       "  <tbody>\n",
       "    <tr>\n",
       "      <th>23</th>\n",
       "      <td>Lavelle Road</td>\n",
       "      <td>4.174099</td>\n",
       "    </tr>\n",
       "    <tr>\n",
       "      <th>20</th>\n",
       "      <td>Koramangala 5th Block</td>\n",
       "      <td>4.092556</td>\n",
       "    </tr>\n",
       "    <tr>\n",
       "      <th>8</th>\n",
       "      <td>Cunningham Road</td>\n",
       "      <td>4.082282</td>\n",
       "    </tr>\n",
       "    <tr>\n",
       "      <th>29</th>\n",
       "      <td>Residency Road</td>\n",
       "      <td>4.046259</td>\n",
       "    </tr>\n",
       "    <tr>\n",
       "      <th>32</th>\n",
       "      <td>St. Marks Road</td>\n",
       "      <td>4.038158</td>\n",
       "    </tr>\n",
       "    <tr>\n",
       "      <th>33</th>\n",
       "      <td>Ulsoor</td>\n",
       "      <td>4.014675</td>\n",
       "    </tr>\n",
       "    <tr>\n",
       "      <th>19</th>\n",
       "      <td>Koramangala 4th Block</td>\n",
       "      <td>4.007982</td>\n",
       "    </tr>\n",
       "    <tr>\n",
       "      <th>30</th>\n",
       "      <td>Richmond Road</td>\n",
       "      <td>4.007692</td>\n",
       "    </tr>\n",
       "    <tr>\n",
       "      <th>7</th>\n",
       "      <td>Church Street</td>\n",
       "      <td>4.004883</td>\n",
       "    </tr>\n",
       "    <tr>\n",
       "      <th>22</th>\n",
       "      <td>Koramangala 7th Block</td>\n",
       "      <td>3.955242</td>\n",
       "    </tr>\n",
       "    <tr>\n",
       "      <th>25</th>\n",
       "      <td>Malleshwaram</td>\n",
       "      <td>3.948387</td>\n",
       "    </tr>\n",
       "    <tr>\n",
       "      <th>13</th>\n",
       "      <td>Indiranagar</td>\n",
       "      <td>3.943253</td>\n",
       "    </tr>\n",
       "    <tr>\n",
       "      <th>24</th>\n",
       "      <td>MG Road</td>\n",
       "      <td>3.94103</td>\n",
       "    </tr>\n",
       "    <tr>\n",
       "      <th>21</th>\n",
       "      <td>Koramangala 6th Block</td>\n",
       "      <td>3.924656</td>\n",
       "    </tr>\n",
       "    <tr>\n",
       "      <th>5</th>\n",
       "      <td>Brigade Road</td>\n",
       "      <td>3.918421</td>\n",
       "    </tr>\n",
       "    <tr>\n",
       "      <th>15</th>\n",
       "      <td>Jayanagar</td>\n",
       "      <td>3.912442</td>\n",
       "    </tr>\n",
       "    <tr>\n",
       "      <th>16</th>\n",
       "      <td>Kalyan Nagar</td>\n",
       "      <td>3.910043</td>\n",
       "    </tr>\n",
       "    <tr>\n",
       "      <th>17</th>\n",
       "      <td>Kammanahalli</td>\n",
       "      <td>3.862308</td>\n",
       "    </tr>\n",
       "    <tr>\n",
       "      <th>31</th>\n",
       "      <td>Sarjapur Road</td>\n",
       "      <td>3.857549</td>\n",
       "    </tr>\n",
       "    <tr>\n",
       "      <th>18</th>\n",
       "      <td>Koramangala 1st Block</td>\n",
       "      <td>3.839186</td>\n",
       "    </tr>\n",
       "    <tr>\n",
       "      <th>14</th>\n",
       "      <td>JP Nagar</td>\n",
       "      <td>3.834694</td>\n",
       "    </tr>\n",
       "    <tr>\n",
       "      <th>3</th>\n",
       "      <td>Basavanagudi</td>\n",
       "      <td>3.824476</td>\n",
       "    </tr>\n",
       "    <tr>\n",
       "      <th>27</th>\n",
       "      <td>New BEL Road</td>\n",
       "      <td>3.820915</td>\n",
       "    </tr>\n",
       "    <tr>\n",
       "      <th>12</th>\n",
       "      <td>HSR</td>\n",
       "      <td>3.81198</td>\n",
       "    </tr>\n",
       "    <tr>\n",
       "      <th>28</th>\n",
       "      <td>Old Airport Road</td>\n",
       "      <td>3.809406</td>\n",
       "    </tr>\n",
       "    <tr>\n",
       "      <th>34</th>\n",
       "      <td>Whitefield</td>\n",
       "      <td>3.793892</td>\n",
       "    </tr>\n",
       "    <tr>\n",
       "      <th>35</th>\n",
       "      <td>others</td>\n",
       "      <td>3.788576</td>\n",
       "    </tr>\n",
       "    <tr>\n",
       "      <th>1</th>\n",
       "      <td>Banashankari</td>\n",
       "      <td>3.783077</td>\n",
       "    </tr>\n",
       "    <tr>\n",
       "      <th>11</th>\n",
       "      <td>Frazer Town</td>\n",
       "      <td>3.767577</td>\n",
       "    </tr>\n",
       "    <tr>\n",
       "      <th>0</th>\n",
       "      <td>BTM</td>\n",
       "      <td>3.731561</td>\n",
       "    </tr>\n",
       "    <tr>\n",
       "      <th>26</th>\n",
       "      <td>Marathahalli</td>\n",
       "      <td>3.703367</td>\n",
       "    </tr>\n",
       "    <tr>\n",
       "      <th>9</th>\n",
       "      <td>Domlur</td>\n",
       "      <td>3.681553</td>\n",
       "    </tr>\n",
       "    <tr>\n",
       "      <th>4</th>\n",
       "      <td>Bellandur</td>\n",
       "      <td>3.681224</td>\n",
       "    </tr>\n",
       "    <tr>\n",
       "      <th>10</th>\n",
       "      <td>Electronic City</td>\n",
       "      <td>3.671779</td>\n",
       "    </tr>\n",
       "    <tr>\n",
       "      <th>6</th>\n",
       "      <td>Brookefield</td>\n",
       "      <td>3.671661</td>\n",
       "    </tr>\n",
       "    <tr>\n",
       "      <th>2</th>\n",
       "      <td>Bannerghatta Road</td>\n",
       "      <td>3.665932</td>\n",
       "    </tr>\n",
       "  </tbody>\n",
       "</table>\n",
       "</div>"
      ],
      "text/plain": [
       "                 location      rate\n",
       "23           Lavelle Road  4.174099\n",
       "20  Koramangala 5th Block  4.092556\n",
       "8         Cunningham Road  4.082282\n",
       "29         Residency Road  4.046259\n",
       "32         St. Marks Road  4.038158\n",
       "33                 Ulsoor  4.014675\n",
       "19  Koramangala 4th Block  4.007982\n",
       "30          Richmond Road  4.007692\n",
       "7           Church Street  4.004883\n",
       "22  Koramangala 7th Block  3.955242\n",
       "25           Malleshwaram  3.948387\n",
       "13            Indiranagar  3.943253\n",
       "24                MG Road   3.94103\n",
       "21  Koramangala 6th Block  3.924656\n",
       "5            Brigade Road  3.918421\n",
       "15              Jayanagar  3.912442\n",
       "16           Kalyan Nagar  3.910043\n",
       "17           Kammanahalli  3.862308\n",
       "31          Sarjapur Road  3.857549\n",
       "18  Koramangala 1st Block  3.839186\n",
       "14               JP Nagar  3.834694\n",
       "3            Basavanagudi  3.824476\n",
       "27           New BEL Road  3.820915\n",
       "12                    HSR   3.81198\n",
       "28       Old Airport Road  3.809406\n",
       "34             Whitefield  3.793892\n",
       "35                 others  3.788576\n",
       "1            Banashankari  3.783077\n",
       "11            Frazer Town  3.767577\n",
       "0                     BTM  3.731561\n",
       "26           Marathahalli  3.703367\n",
       "9                  Domlur  3.681553\n",
       "4               Bellandur  3.681224\n",
       "10        Electronic City  3.671779\n",
       "6             Brookefield  3.671661\n",
       "2       Bannerghatta Road  3.665932"
      ]
     },
     "execution_count": 189,
     "metadata": {},
     "output_type": "execute_result"
    }
   ],
   "source": [
    "#lets sort it by their rating and arrange it in descending order\n",
    "orderd_rat_per_location = avg_rating_per_location.sort_values(by= 'rate', ascending=False)\n",
    "orderd_rat_per_location"
   ]
  },
  {
   "cell_type": "code",
   "execution_count": 190,
   "id": "283962f8",
   "metadata": {
    "execution": {
     "iopub.execute_input": "2024-08-20T23:25:15.042017Z",
     "iopub.status.busy": "2024-08-20T23:25:15.041144Z",
     "iopub.status.idle": "2024-08-20T23:25:15.760363Z",
     "shell.execute_reply": "2024-08-20T23:25:15.759151Z"
    },
    "papermill": {
     "duration": 0.7839,
     "end_time": "2024-08-20T23:25:15.763503",
     "exception": false,
     "start_time": "2024-08-20T23:25:14.979603",
     "status": "completed"
    },
    "tags": []
   },
   "outputs": [
    {
     "data": {
      "image/png": "[encoded data removed]",
      "text/plain": [
       "<Figure size 1500x600 with 1 Axes>"
      ]
     },
     "metadata": {},
     "output_type": "display_data"
    }
   ],
   "source": [
    "#lets make a bar chart of the average rating for each location\n",
    "plt.figure(figsize=(15,6))\n",
    "sns.barplot(x = 'location', y='rate', data = orderd_rat_per_location)\n",
    "plt.xticks(rotation = 90)\n",
    "plt.xlabel('Location')\n",
    "plt.ylabel('Average Rating')\n",
    "plt.title('Average Restaurant Rating In Each Location')\n",
    "plt.show()"
   ]
  },
  {
   "cell_type": "code",
   "execution_count": 191,
   "id": "f0bd8fac",
   "metadata": {
    "execution": {
     "iopub.execute_input": "2024-08-20T23:25:15.890750Z",
     "iopub.status.busy": "2024-08-20T23:25:15.890355Z",
     "iopub.status.idle": "2024-08-20T23:25:15.903321Z",
     "shell.execute_reply": "2024-08-20T23:25:15.902237Z"
    },
    "papermill": {
     "duration": 0.07876,
     "end_time": "2024-08-20T23:25:15.905474",
     "exception": false,
     "start_time": "2024-08-20T23:25:15.826714",
     "status": "completed"
    },
    "tags": []
   },
   "outputs": [
    {
     "data": {
      "text/html": [
       "<div>\n",
       "<style scoped>\n",
       "    .dataframe tbody tr th:only-of-type {\n",
       "        vertical-align: middle;\n",
       "    }\n",
       "\n",
       "    .dataframe tbody tr th {\n",
       "        vertical-align: top;\n",
       "    }\n",
       "\n",
       "    .dataframe thead th {\n",
       "        text-align: right;\n",
       "    }\n",
       "</style>\n",
       "<table border=\"1\" class=\"dataframe\">\n",
       "  <thead>\n",
       "    <tr style=\"text-align: right;\">\n",
       "      <th></th>\n",
       "      <th>rest_type</th>\n",
       "      <th>count</th>\n",
       "    </tr>\n",
       "  </thead>\n",
       "  <tbody>\n",
       "    <tr>\n",
       "      <th>0</th>\n",
       "      <td>Casual Dining</td>\n",
       "      <td>7394</td>\n",
       "    </tr>\n",
       "    <tr>\n",
       "      <th>1</th>\n",
       "      <td>others</td>\n",
       "      <td>5595</td>\n",
       "    </tr>\n",
       "    <tr>\n",
       "      <th>2</th>\n",
       "      <td>Quick Bites</td>\n",
       "      <td>5269</td>\n",
       "    </tr>\n",
       "    <tr>\n",
       "      <th>3</th>\n",
       "      <td>Cafe</td>\n",
       "      <td>2383</td>\n",
       "    </tr>\n",
       "    <tr>\n",
       "      <th>4</th>\n",
       "      <td>Dessert Parlor</td>\n",
       "      <td>1085</td>\n",
       "    </tr>\n",
       "    <tr>\n",
       "      <th>5</th>\n",
       "      <td>Casual Dining, Bar</td>\n",
       "      <td>992</td>\n",
       "    </tr>\n",
       "    <tr>\n",
       "      <th>6</th>\n",
       "      <td>Delivery</td>\n",
       "      <td>707</td>\n",
       "    </tr>\n",
       "  </tbody>\n",
       "</table>\n",
       "</div>"
      ],
      "text/plain": [
       "            rest_type  count\n",
       "0       Casual Dining   7394\n",
       "1              others   5595\n",
       "2         Quick Bites   5269\n",
       "3                Cafe   2383\n",
       "4      Dessert Parlor   1085\n",
       "5  Casual Dining, Bar    992\n",
       "6            Delivery    707"
      ]
     },
     "execution_count": 191,
     "metadata": {},
     "output_type": "execute_result"
    }
   ],
   "source": [
    "type_chart = df6['rest_type'].value_counts().reset_index()\n",
    "type_chart"
   ]
  },
  {
   "cell_type": "code",
   "execution_count": 192,
   "id": "42b3f610",
   "metadata": {
    "execution": {
     "iopub.execute_input": "2024-08-20T23:25:16.032000Z",
     "iopub.status.busy": "2024-08-20T23:25:16.031323Z",
     "iopub.status.idle": "2024-08-20T23:25:16.041555Z",
     "shell.execute_reply": "2024-08-20T23:25:16.040517Z"
    },
    "papermill": {
     "duration": 0.076692,
     "end_time": "2024-08-20T23:25:16.043857",
     "exception": false,
     "start_time": "2024-08-20T23:25:15.967165",
     "status": "completed"
    },
    "tags": []
   },
   "outputs": [
    {
     "data": {
      "text/html": [
       "<div>\n",
       "<style scoped>\n",
       "    .dataframe tbody tr th:only-of-type {\n",
       "        vertical-align: middle;\n",
       "    }\n",
       "\n",
       "    .dataframe tbody tr th {\n",
       "        vertical-align: top;\n",
       "    }\n",
       "\n",
       "    .dataframe thead th {\n",
       "        text-align: right;\n",
       "    }\n",
       "</style>\n",
       "<table border=\"1\" class=\"dataframe\">\n",
       "  <thead>\n",
       "    <tr style=\"text-align: right;\">\n",
       "      <th></th>\n",
       "      <th>rest_type</th>\n",
       "      <th>count</th>\n",
       "    </tr>\n",
       "  </thead>\n",
       "  <tbody>\n",
       "    <tr>\n",
       "      <th>0</th>\n",
       "      <td>Casual Dining</td>\n",
       "      <td>7394</td>\n",
       "    </tr>\n",
       "    <tr>\n",
       "      <th>2</th>\n",
       "      <td>Quick Bites</td>\n",
       "      <td>5269</td>\n",
       "    </tr>\n",
       "    <tr>\n",
       "      <th>3</th>\n",
       "      <td>Cafe</td>\n",
       "      <td>2383</td>\n",
       "    </tr>\n",
       "    <tr>\n",
       "      <th>4</th>\n",
       "      <td>Dessert Parlor</td>\n",
       "      <td>1085</td>\n",
       "    </tr>\n",
       "    <tr>\n",
       "      <th>5</th>\n",
       "      <td>Casual Dining, Bar</td>\n",
       "      <td>992</td>\n",
       "    </tr>\n",
       "    <tr>\n",
       "      <th>6</th>\n",
       "      <td>Delivery</td>\n",
       "      <td>707</td>\n",
       "    </tr>\n",
       "  </tbody>\n",
       "</table>\n",
       "</div>"
      ],
      "text/plain": [
       "            rest_type  count\n",
       "0       Casual Dining   7394\n",
       "2         Quick Bites   5269\n",
       "3                Cafe   2383\n",
       "4      Dessert Parlor   1085\n",
       "5  Casual Dining, Bar    992\n",
       "6            Delivery    707"
      ]
     },
     "execution_count": 192,
     "metadata": {},
     "output_type": "execute_result"
    }
   ],
   "source": [
    "#lets remove ''others''\n",
    "type_chart = type_chart.drop(1)\n",
    "type_chart"
   ]
  },
  {
   "cell_type": "code",
   "execution_count": 193,
   "id": "aef06587",
   "metadata": {
    "execution": {
     "iopub.execute_input": "2024-08-20T23:25:16.180725Z",
     "iopub.status.busy": "2024-08-20T23:25:16.180383Z",
     "iopub.status.idle": "2024-08-20T23:25:16.184682Z",
     "shell.execute_reply": "2024-08-20T23:25:16.183930Z"
    },
    "papermill": {
     "duration": 0.080847,
     "end_time": "2024-08-20T23:25:16.187954",
     "exception": false,
     "start_time": "2024-08-20T23:25:16.107107",
     "status": "completed"
    },
    "tags": []
   },
   "outputs": [],
   "source": [
    "#lets do a pie_chart"
   ]
  },
  {
   "cell_type": "code",
   "execution_count": 194,
   "id": "ff1503e2",
   "metadata": {
    "execution": {
     "iopub.execute_input": "2024-08-20T23:25:16.327035Z",
     "iopub.status.busy": "2024-08-20T23:25:16.326049Z",
     "iopub.status.idle": "2024-08-20T23:25:16.609047Z",
     "shell.execute_reply": "2024-08-20T23:25:16.605386Z"
    },
    "papermill": {
     "duration": 0.351448,
     "end_time": "2024-08-20T23:25:16.613217",
     "exception": false,
     "start_time": "2024-08-20T23:25:16.261769",
     "status": "completed"
    },
    "tags": []
   },
   "outputs": [
    {
     "data": {
      "image/png": "[encoded data removed]",
      "text/plain": [
       "<Figure size 1800x600 with 1 Axes>"
      ]
     },
     "metadata": {},
     "output_type": "display_data"
    }
   ],
   "source": [
    "sns.set_palette('colorblind')\n",
    "plt.figure(figsize=(18,6))\n",
    "plt.pie(x = type_chart['count'], labels= type_chart['rest_type'], autopct='%.2f%%', textprops={'rotation' : 1, 'color' : 'w',\n",
    "                                                                                          'weight': 'bold'})\n",
    "plt.legend(loc='upper left', bbox_to_anchor=(1, 1))\n",
    "plt.title('Distribution of Different Types of Restaurants')\n",
    "plt.show()"
   ]
  },
  {
   "cell_type": "code",
   "execution_count": 195,
   "id": "c9ba42c8",
   "metadata": {
    "execution": {
     "iopub.execute_input": "2024-08-20T23:25:16.750840Z",
     "iopub.status.busy": "2024-08-20T23:25:16.749875Z",
     "iopub.status.idle": "2024-08-20T23:25:16.771377Z",
     "shell.execute_reply": "2024-08-20T23:25:16.770165Z"
    },
    "papermill": {
     "duration": 0.089808,
     "end_time": "2024-08-20T23:25:16.773730",
     "exception": false,
     "start_time": "2024-08-20T23:25:16.683922",
     "status": "completed"
    },
    "tags": []
   },
   "outputs": [
    {
     "data": {
      "text/html": [
       "<div>\n",
       "<style scoped>\n",
       "    .dataframe tbody tr th:only-of-type {\n",
       "        vertical-align: middle;\n",
       "    }\n",
       "\n",
       "    .dataframe tbody tr th {\n",
       "        vertical-align: top;\n",
       "    }\n",
       "\n",
       "    .dataframe thead th {\n",
       "        text-align: right;\n",
       "    }\n",
       "</style>\n",
       "<table border=\"1\" class=\"dataframe\">\n",
       "  <thead>\n",
       "    <tr style=\"text-align: right;\">\n",
       "      <th></th>\n",
       "      <th>rest_type</th>\n",
       "      <th>rate</th>\n",
       "    </tr>\n",
       "  </thead>\n",
       "  <tbody>\n",
       "    <tr>\n",
       "      <th>0</th>\n",
       "      <td>Cafe</td>\n",
       "      <td>3.979228</td>\n",
       "    </tr>\n",
       "    <tr>\n",
       "      <th>1</th>\n",
       "      <td>Casual Dining</td>\n",
       "      <td>3.817244</td>\n",
       "    </tr>\n",
       "    <tr>\n",
       "      <th>2</th>\n",
       "      <td>Casual Dining, Bar</td>\n",
       "      <td>4.09375</td>\n",
       "    </tr>\n",
       "    <tr>\n",
       "      <th>3</th>\n",
       "      <td>Delivery</td>\n",
       "      <td>3.781612</td>\n",
       "    </tr>\n",
       "    <tr>\n",
       "      <th>4</th>\n",
       "      <td>Dessert Parlor</td>\n",
       "      <td>4.064332</td>\n",
       "    </tr>\n",
       "    <tr>\n",
       "      <th>5</th>\n",
       "      <td>Quick Bites</td>\n",
       "      <td>3.723401</td>\n",
       "    </tr>\n",
       "    <tr>\n",
       "      <th>6</th>\n",
       "      <td>others</td>\n",
       "      <td>4.002359</td>\n",
       "    </tr>\n",
       "  </tbody>\n",
       "</table>\n",
       "</div>"
      ],
      "text/plain": [
       "            rest_type      rate\n",
       "0                Cafe  3.979228\n",
       "1       Casual Dining  3.817244\n",
       "2  Casual Dining, Bar   4.09375\n",
       "3            Delivery  3.781612\n",
       "4      Dessert Parlor  4.064332\n",
       "5         Quick Bites  3.723401\n",
       "6              others  4.002359"
      ]
     },
     "execution_count": 195,
     "metadata": {},
     "output_type": "execute_result"
    }
   ],
   "source": [
    "#lets check the average rate for each type of restaurant\n",
    "type_rate = df6.groupby('rest_type')['rate'].mean().reset_index()\n",
    "type_rate"
   ]
  },
  {
   "cell_type": "code",
   "execution_count": 196,
   "id": "6cd74bf8",
   "metadata": {
    "execution": {
     "iopub.execute_input": "2024-08-20T23:25:16.958790Z",
     "iopub.status.busy": "2024-08-20T23:25:16.958342Z",
     "iopub.status.idle": "2024-08-20T23:25:16.964417Z",
     "shell.execute_reply": "2024-08-20T23:25:16.963354Z"
    },
    "papermill": {
     "duration": 0.074444,
     "end_time": "2024-08-20T23:25:16.966566",
     "exception": false,
     "start_time": "2024-08-20T23:25:16.892122",
     "status": "completed"
    },
    "tags": []
   },
   "outputs": [],
   "source": [
    "type_rate = type_rate.drop(6)"
   ]
  },
  {
   "cell_type": "code",
   "execution_count": 197,
   "id": "02adbde0",
   "metadata": {
    "execution": {
     "iopub.execute_input": "2024-08-20T23:25:17.094690Z",
     "iopub.status.busy": "2024-08-20T23:25:17.094238Z",
     "iopub.status.idle": "2024-08-20T23:25:17.106222Z",
     "shell.execute_reply": "2024-08-20T23:25:17.105036Z"
    },
    "papermill": {
     "duration": 0.079104,
     "end_time": "2024-08-20T23:25:17.108692",
     "exception": false,
     "start_time": "2024-08-20T23:25:17.029588",
     "status": "completed"
    },
    "tags": []
   },
   "outputs": [
    {
     "data": {
      "text/html": [
       "<div>\n",
       "<style scoped>\n",
       "    .dataframe tbody tr th:only-of-type {\n",
       "        vertical-align: middle;\n",
       "    }\n",
       "\n",
       "    .dataframe tbody tr th {\n",
       "        vertical-align: top;\n",
       "    }\n",
       "\n",
       "    .dataframe thead th {\n",
       "        text-align: right;\n",
       "    }\n",
       "</style>\n",
       "<table border=\"1\" class=\"dataframe\">\n",
       "  <thead>\n",
       "    <tr style=\"text-align: right;\">\n",
       "      <th></th>\n",
       "      <th>rest_type</th>\n",
       "      <th>rate</th>\n",
       "    </tr>\n",
       "  </thead>\n",
       "  <tbody>\n",
       "    <tr>\n",
       "      <th>0</th>\n",
       "      <td>Cafe</td>\n",
       "      <td>3.979228</td>\n",
       "    </tr>\n",
       "    <tr>\n",
       "      <th>1</th>\n",
       "      <td>Casual Dining</td>\n",
       "      <td>3.817244</td>\n",
       "    </tr>\n",
       "    <tr>\n",
       "      <th>2</th>\n",
       "      <td>Casual Dining, Bar</td>\n",
       "      <td>4.09375</td>\n",
       "    </tr>\n",
       "    <tr>\n",
       "      <th>3</th>\n",
       "      <td>Delivery</td>\n",
       "      <td>3.781612</td>\n",
       "    </tr>\n",
       "    <tr>\n",
       "      <th>4</th>\n",
       "      <td>Dessert Parlor</td>\n",
       "      <td>4.064332</td>\n",
       "    </tr>\n",
       "    <tr>\n",
       "      <th>5</th>\n",
       "      <td>Quick Bites</td>\n",
       "      <td>3.723401</td>\n",
       "    </tr>\n",
       "  </tbody>\n",
       "</table>\n",
       "</div>"
      ],
      "text/plain": [
       "            rest_type      rate\n",
       "0                Cafe  3.979228\n",
       "1       Casual Dining  3.817244\n",
       "2  Casual Dining, Bar   4.09375\n",
       "3            Delivery  3.781612\n",
       "4      Dessert Parlor  4.064332\n",
       "5         Quick Bites  3.723401"
      ]
     },
     "execution_count": 197,
     "metadata": {},
     "output_type": "execute_result"
    }
   ],
   "source": [
    "type_rate"
   ]
  },
  {
   "cell_type": "code",
   "execution_count": 198,
   "id": "29842dbf",
   "metadata": {
    "execution": {
     "iopub.execute_input": "2024-08-20T23:25:17.241315Z",
     "iopub.status.busy": "2024-08-20T23:25:17.240355Z",
     "iopub.status.idle": "2024-08-20T23:25:17.252708Z",
     "shell.execute_reply": "2024-08-20T23:25:17.251573Z"
    },
    "papermill": {
     "duration": 0.081383,
     "end_time": "2024-08-20T23:25:17.254806",
     "exception": false,
     "start_time": "2024-08-20T23:25:17.173423",
     "status": "completed"
    },
    "tags": []
   },
   "outputs": [
    {
     "data": {
      "text/html": [
       "<div>\n",
       "<style scoped>\n",
       "    .dataframe tbody tr th:only-of-type {\n",
       "        vertical-align: middle;\n",
       "    }\n",
       "\n",
       "    .dataframe tbody tr th {\n",
       "        vertical-align: top;\n",
       "    }\n",
       "\n",
       "    .dataframe thead th {\n",
       "        text-align: right;\n",
       "    }\n",
       "</style>\n",
       "<table border=\"1\" class=\"dataframe\">\n",
       "  <thead>\n",
       "    <tr style=\"text-align: right;\">\n",
       "      <th></th>\n",
       "      <th>rest_type</th>\n",
       "      <th>rate</th>\n",
       "    </tr>\n",
       "  </thead>\n",
       "  <tbody>\n",
       "    <tr>\n",
       "      <th>2</th>\n",
       "      <td>Casual Dining, Bar</td>\n",
       "      <td>4.09375</td>\n",
       "    </tr>\n",
       "    <tr>\n",
       "      <th>4</th>\n",
       "      <td>Dessert Parlor</td>\n",
       "      <td>4.064332</td>\n",
       "    </tr>\n",
       "    <tr>\n",
       "      <th>0</th>\n",
       "      <td>Cafe</td>\n",
       "      <td>3.979228</td>\n",
       "    </tr>\n",
       "    <tr>\n",
       "      <th>1</th>\n",
       "      <td>Casual Dining</td>\n",
       "      <td>3.817244</td>\n",
       "    </tr>\n",
       "    <tr>\n",
       "      <th>3</th>\n",
       "      <td>Delivery</td>\n",
       "      <td>3.781612</td>\n",
       "    </tr>\n",
       "    <tr>\n",
       "      <th>5</th>\n",
       "      <td>Quick Bites</td>\n",
       "      <td>3.723401</td>\n",
       "    </tr>\n",
       "  </tbody>\n",
       "</table>\n",
       "</div>"
      ],
      "text/plain": [
       "            rest_type      rate\n",
       "2  Casual Dining, Bar   4.09375\n",
       "4      Dessert Parlor  4.064332\n",
       "0                Cafe  3.979228\n",
       "1       Casual Dining  3.817244\n",
       "3            Delivery  3.781612\n",
       "5         Quick Bites  3.723401"
      ]
     },
     "execution_count": 198,
     "metadata": {},
     "output_type": "execute_result"
    }
   ],
   "source": [
    "type_rate = type_rate.sort_values(by='rate', ascending=False)\n",
    "type_rate"
   ]
  },
  {
   "cell_type": "code",
   "execution_count": 199,
   "id": "c130ead4",
   "metadata": {
    "execution": {
     "iopub.execute_input": "2024-08-20T23:25:17.386744Z",
     "iopub.status.busy": "2024-08-20T23:25:17.385565Z",
     "iopub.status.idle": "2024-08-20T23:25:17.725351Z",
     "shell.execute_reply": "2024-08-20T23:25:17.724321Z"
    },
    "papermill": {
     "duration": 0.408575,
     "end_time": "2024-08-20T23:25:17.727691",
     "exception": false,
     "start_time": "2024-08-20T23:25:17.319116",
     "status": "completed"
    },
    "tags": []
   },
   "outputs": [
    {
     "data": {
      "image/png": "[encoded data removed]",
      "text/plain": [
       "<Figure size 1800x600 with 1 Axes>"
      ]
     },
     "metadata": {},
     "output_type": "display_data"
    }
   ],
   "source": [
    "plt.figure(figsize=(18,6))\n",
    "sns.boxplot(data= type_rate, x = type_rate['rest_type'], y=type_rate['rate'], palette='inferno')\n",
    "plt.show()"
   ]
  },
  {
   "cell_type": "code",
   "execution_count": 200,
   "id": "a9f7c9a0",
   "metadata": {
    "execution": {
     "iopub.execute_input": "2024-08-20T23:25:17.861816Z",
     "iopub.status.busy": "2024-08-20T23:25:17.861471Z",
     "iopub.status.idle": "2024-08-20T23:25:17.865960Z",
     "shell.execute_reply": "2024-08-20T23:25:17.864874Z"
    },
    "papermill": {
     "duration": 0.073879,
     "end_time": "2024-08-20T23:25:17.868051",
     "exception": false,
     "start_time": "2024-08-20T23:25:17.794172",
     "status": "completed"
    },
    "tags": []
   },
   "outputs": [],
   "source": [
    "#i need the most and least restaurant type in every location"
   ]
  },
  {
   "cell_type": "code",
   "execution_count": 201,
   "id": "7de73e9d",
   "metadata": {
    "execution": {
     "iopub.execute_input": "2024-08-20T23:25:17.998023Z",
     "iopub.status.busy": "2024-08-20T23:25:17.997689Z",
     "iopub.status.idle": "2024-08-20T23:25:18.015535Z",
     "shell.execute_reply": "2024-08-20T23:25:18.014629Z"
    },
    "papermill": {
     "duration": 0.085226,
     "end_time": "2024-08-20T23:25:18.017831",
     "exception": false,
     "start_time": "2024-08-20T23:25:17.932605",
     "status": "completed"
    },
    "tags": []
   },
   "outputs": [
    {
     "data": {
      "text/html": [
       "<div>\n",
       "<style scoped>\n",
       "    .dataframe tbody tr th:only-of-type {\n",
       "        vertical-align: middle;\n",
       "    }\n",
       "\n",
       "    .dataframe tbody tr th {\n",
       "        vertical-align: top;\n",
       "    }\n",
       "\n",
       "    .dataframe thead th {\n",
       "        text-align: right;\n",
       "    }\n",
       "</style>\n",
       "<table border=\"1\" class=\"dataframe\">\n",
       "  <thead>\n",
       "    <tr style=\"text-align: right;\">\n",
       "      <th></th>\n",
       "      <th>location</th>\n",
       "      <th>rest_type</th>\n",
       "      <th>count</th>\n",
       "    </tr>\n",
       "  </thead>\n",
       "  <tbody>\n",
       "    <tr>\n",
       "      <th>0</th>\n",
       "      <td>BTM</td>\n",
       "      <td>Cafe</td>\n",
       "      <td>140</td>\n",
       "    </tr>\n",
       "    <tr>\n",
       "      <th>1</th>\n",
       "      <td>BTM</td>\n",
       "      <td>Casual Dining</td>\n",
       "      <td>407</td>\n",
       "    </tr>\n",
       "    <tr>\n",
       "      <th>2</th>\n",
       "      <td>BTM</td>\n",
       "      <td>Casual Dining, Bar</td>\n",
       "      <td>22</td>\n",
       "    </tr>\n",
       "    <tr>\n",
       "      <th>3</th>\n",
       "      <td>BTM</td>\n",
       "      <td>Delivery</td>\n",
       "      <td>61</td>\n",
       "    </tr>\n",
       "    <tr>\n",
       "      <th>4</th>\n",
       "      <td>BTM</td>\n",
       "      <td>Dessert Parlor</td>\n",
       "      <td>44</td>\n",
       "    </tr>\n",
       "    <tr>\n",
       "      <th>...</th>\n",
       "      <td>...</td>\n",
       "      <td>...</td>\n",
       "      <td>...</td>\n",
       "    </tr>\n",
       "    <tr>\n",
       "      <th>228</th>\n",
       "      <td>others</td>\n",
       "      <td>Casual Dining, Bar</td>\n",
       "      <td>71</td>\n",
       "    </tr>\n",
       "    <tr>\n",
       "      <th>229</th>\n",
       "      <td>others</td>\n",
       "      <td>Delivery</td>\n",
       "      <td>132</td>\n",
       "    </tr>\n",
       "    <tr>\n",
       "      <th>230</th>\n",
       "      <td>others</td>\n",
       "      <td>Dessert Parlor</td>\n",
       "      <td>43</td>\n",
       "    </tr>\n",
       "    <tr>\n",
       "      <th>231</th>\n",
       "      <td>others</td>\n",
       "      <td>Quick Bites</td>\n",
       "      <td>634</td>\n",
       "    </tr>\n",
       "    <tr>\n",
       "      <th>232</th>\n",
       "      <td>others</td>\n",
       "      <td>others</td>\n",
       "      <td>511</td>\n",
       "    </tr>\n",
       "  </tbody>\n",
       "</table>\n",
       "<p>233 rows × 3 columns</p>\n",
       "</div>"
      ],
      "text/plain": [
       "    location           rest_type  count\n",
       "0        BTM                Cafe    140\n",
       "1        BTM       Casual Dining    407\n",
       "2        BTM  Casual Dining, Bar     22\n",
       "3        BTM            Delivery     61\n",
       "4        BTM      Dessert Parlor     44\n",
       "..       ...                 ...    ...\n",
       "228   others  Casual Dining, Bar     71\n",
       "229   others            Delivery    132\n",
       "230   others      Dessert Parlor     43\n",
       "231   others         Quick Bites    634\n",
       "232   others              others    511\n",
       "\n",
       "[233 rows x 3 columns]"
      ]
     },
     "execution_count": 201,
     "metadata": {},
     "output_type": "execute_result"
    }
   ],
   "source": [
    "grouped = df6.groupby(['location','rest_type']).size().reset_index(name = 'count')\n",
    "grouped"
   ]
  },
  {
   "cell_type": "code",
   "execution_count": 202,
   "id": "ada83c6b",
   "metadata": {
    "execution": {
     "iopub.execute_input": "2024-08-20T23:25:18.151583Z",
     "iopub.status.busy": "2024-08-20T23:25:18.151236Z",
     "iopub.status.idle": "2024-08-20T23:25:18.166223Z",
     "shell.execute_reply": "2024-08-20T23:25:18.165217Z"
    },
    "papermill": {
     "duration": 0.084777,
     "end_time": "2024-08-20T23:25:18.168580",
     "exception": false,
     "start_time": "2024-08-20T23:25:18.083803",
     "status": "completed"
    },
    "tags": []
   },
   "outputs": [
    {
     "data": {
      "text/html": [
       "<div>\n",
       "<style scoped>\n",
       "    .dataframe tbody tr th:only-of-type {\n",
       "        vertical-align: middle;\n",
       "    }\n",
       "\n",
       "    .dataframe tbody tr th {\n",
       "        vertical-align: top;\n",
       "    }\n",
       "\n",
       "    .dataframe thead th {\n",
       "        text-align: right;\n",
       "    }\n",
       "</style>\n",
       "<table border=\"1\" class=\"dataframe\">\n",
       "  <thead>\n",
       "    <tr style=\"text-align: right;\">\n",
       "      <th></th>\n",
       "      <th>location</th>\n",
       "      <th>rest_type</th>\n",
       "      <th>count</th>\n",
       "    </tr>\n",
       "  </thead>\n",
       "  <tbody>\n",
       "    <tr>\n",
       "      <th>5</th>\n",
       "      <td>BTM</td>\n",
       "      <td>Quick Bites</td>\n",
       "      <td>609</td>\n",
       "    </tr>\n",
       "    <tr>\n",
       "      <th>11</th>\n",
       "      <td>Banashankari</td>\n",
       "      <td>Quick Bites</td>\n",
       "      <td>131</td>\n",
       "    </tr>\n",
       "    <tr>\n",
       "      <th>14</th>\n",
       "      <td>Bannerghatta Road</td>\n",
       "      <td>Casual Dining</td>\n",
       "      <td>181</td>\n",
       "    </tr>\n",
       "    <tr>\n",
       "      <th>23</th>\n",
       "      <td>Basavanagudi</td>\n",
       "      <td>Quick Bites</td>\n",
       "      <td>136</td>\n",
       "    </tr>\n",
       "    <tr>\n",
       "      <th>26</th>\n",
       "      <td>Bellandur</td>\n",
       "      <td>Casual Dining</td>\n",
       "      <td>171</td>\n",
       "    </tr>\n",
       "    <tr>\n",
       "      <th>37</th>\n",
       "      <td>Brigade Road</td>\n",
       "      <td>others</td>\n",
       "      <td>221</td>\n",
       "    </tr>\n",
       "    <tr>\n",
       "      <th>42</th>\n",
       "      <td>Brookefield</td>\n",
       "      <td>Quick Bites</td>\n",
       "      <td>106</td>\n",
       "    </tr>\n",
       "    <tr>\n",
       "      <th>45</th>\n",
       "      <td>Church Street</td>\n",
       "      <td>Casual Dining</td>\n",
       "      <td>144</td>\n",
       "    </tr>\n",
       "    <tr>\n",
       "      <th>51</th>\n",
       "      <td>Cunningham Road</td>\n",
       "      <td>Casual Dining</td>\n",
       "      <td>165</td>\n",
       "    </tr>\n",
       "    <tr>\n",
       "      <th>55</th>\n",
       "      <td>Domlur</td>\n",
       "      <td>Casual Dining</td>\n",
       "      <td>64</td>\n",
       "    </tr>\n",
       "    <tr>\n",
       "      <th>62</th>\n",
       "      <td>Electronic City</td>\n",
       "      <td>Casual Dining</td>\n",
       "      <td>106</td>\n",
       "    </tr>\n",
       "    <tr>\n",
       "      <th>69</th>\n",
       "      <td>Frazer Town</td>\n",
       "      <td>Casual Dining</td>\n",
       "      <td>128</td>\n",
       "    </tr>\n",
       "    <tr>\n",
       "      <th>75</th>\n",
       "      <td>HSR</td>\n",
       "      <td>Casual Dining</td>\n",
       "      <td>388</td>\n",
       "    </tr>\n",
       "    <tr>\n",
       "      <th>82</th>\n",
       "      <td>Indiranagar</td>\n",
       "      <td>Casual Dining</td>\n",
       "      <td>417</td>\n",
       "    </tr>\n",
       "    <tr>\n",
       "      <th>89</th>\n",
       "      <td>JP Nagar</td>\n",
       "      <td>Casual Dining</td>\n",
       "      <td>389</td>\n",
       "    </tr>\n",
       "    <tr>\n",
       "      <th>96</th>\n",
       "      <td>Jayanagar</td>\n",
       "      <td>Casual Dining</td>\n",
       "      <td>405</td>\n",
       "    </tr>\n",
       "    <tr>\n",
       "      <th>103</th>\n",
       "      <td>Kalyan Nagar</td>\n",
       "      <td>Casual Dining</td>\n",
       "      <td>191</td>\n",
       "    </tr>\n",
       "    <tr>\n",
       "      <th>113</th>\n",
       "      <td>Kammanahalli</td>\n",
       "      <td>Quick Bites</td>\n",
       "      <td>100</td>\n",
       "    </tr>\n",
       "    <tr>\n",
       "      <th>120</th>\n",
       "      <td>Koramangala 1st Block</td>\n",
       "      <td>Quick Bites</td>\n",
       "      <td>173</td>\n",
       "    </tr>\n",
       "    <tr>\n",
       "      <th>128</th>\n",
       "      <td>Koramangala 4th Block</td>\n",
       "      <td>others</td>\n",
       "      <td>204</td>\n",
       "    </tr>\n",
       "    <tr>\n",
       "      <th>130</th>\n",
       "      <td>Koramangala 5th Block</td>\n",
       "      <td>Casual Dining</td>\n",
       "      <td>525</td>\n",
       "    </tr>\n",
       "    <tr>\n",
       "      <th>140</th>\n",
       "      <td>Koramangala 6th Block</td>\n",
       "      <td>Quick Bites</td>\n",
       "      <td>209</td>\n",
       "    </tr>\n",
       "    <tr>\n",
       "      <th>143</th>\n",
       "      <td>Koramangala 7th Block</td>\n",
       "      <td>Casual Dining</td>\n",
       "      <td>240</td>\n",
       "    </tr>\n",
       "    <tr>\n",
       "      <th>154</th>\n",
       "      <td>Lavelle Road</td>\n",
       "      <td>others</td>\n",
       "      <td>211</td>\n",
       "    </tr>\n",
       "    <tr>\n",
       "      <th>160</th>\n",
       "      <td>MG Road</td>\n",
       "      <td>others</td>\n",
       "      <td>307</td>\n",
       "    </tr>\n",
       "    <tr>\n",
       "      <th>166</th>\n",
       "      <td>Malleshwaram</td>\n",
       "      <td>others</td>\n",
       "      <td>131</td>\n",
       "    </tr>\n",
       "    <tr>\n",
       "      <th>168</th>\n",
       "      <td>Marathahalli</td>\n",
       "      <td>Casual Dining</td>\n",
       "      <td>254</td>\n",
       "    </tr>\n",
       "    <tr>\n",
       "      <th>175</th>\n",
       "      <td>New BEL Road</td>\n",
       "      <td>Casual Dining</td>\n",
       "      <td>83</td>\n",
       "    </tr>\n",
       "    <tr>\n",
       "      <th>186</th>\n",
       "      <td>Old Airport Road</td>\n",
       "      <td>others</td>\n",
       "      <td>74</td>\n",
       "    </tr>\n",
       "    <tr>\n",
       "      <th>192</th>\n",
       "      <td>Residency Road</td>\n",
       "      <td>others</td>\n",
       "      <td>196</td>\n",
       "    </tr>\n",
       "    <tr>\n",
       "      <th>194</th>\n",
       "      <td>Richmond Road</td>\n",
       "      <td>Casual Dining</td>\n",
       "      <td>183</td>\n",
       "    </tr>\n",
       "    <tr>\n",
       "      <th>201</th>\n",
       "      <td>Sarjapur Road</td>\n",
       "      <td>Casual Dining</td>\n",
       "      <td>140</td>\n",
       "    </tr>\n",
       "    <tr>\n",
       "      <th>208</th>\n",
       "      <td>St. Marks Road</td>\n",
       "      <td>Casual Dining</td>\n",
       "      <td>80</td>\n",
       "    </tr>\n",
       "    <tr>\n",
       "      <th>214</th>\n",
       "      <td>Ulsoor</td>\n",
       "      <td>Casual Dining</td>\n",
       "      <td>152</td>\n",
       "    </tr>\n",
       "    <tr>\n",
       "      <th>220</th>\n",
       "      <td>Whitefield</td>\n",
       "      <td>Casual Dining</td>\n",
       "      <td>290</td>\n",
       "    </tr>\n",
       "    <tr>\n",
       "      <th>227</th>\n",
       "      <td>others</td>\n",
       "      <td>Casual Dining</td>\n",
       "      <td>840</td>\n",
       "    </tr>\n",
       "  </tbody>\n",
       "</table>\n",
       "</div>"
      ],
      "text/plain": [
       "                  location      rest_type  count\n",
       "5                      BTM    Quick Bites    609\n",
       "11            Banashankari    Quick Bites    131\n",
       "14       Bannerghatta Road  Casual Dining    181\n",
       "23            Basavanagudi    Quick Bites    136\n",
       "26               Bellandur  Casual Dining    171\n",
       "37            Brigade Road         others    221\n",
       "42             Brookefield    Quick Bites    106\n",
       "45           Church Street  Casual Dining    144\n",
       "51         Cunningham Road  Casual Dining    165\n",
       "55                  Domlur  Casual Dining     64\n",
       "62         Electronic City  Casual Dining    106\n",
       "69             Frazer Town  Casual Dining    128\n",
       "75                     HSR  Casual Dining    388\n",
       "82             Indiranagar  Casual Dining    417\n",
       "89                JP Nagar  Casual Dining    389\n",
       "96               Jayanagar  Casual Dining    405\n",
       "103           Kalyan Nagar  Casual Dining    191\n",
       "113           Kammanahalli    Quick Bites    100\n",
       "120  Koramangala 1st Block    Quick Bites    173\n",
       "128  Koramangala 4th Block         others    204\n",
       "130  Koramangala 5th Block  Casual Dining    525\n",
       "140  Koramangala 6th Block    Quick Bites    209\n",
       "143  Koramangala 7th Block  Casual Dining    240\n",
       "154           Lavelle Road         others    211\n",
       "160                MG Road         others    307\n",
       "166           Malleshwaram         others    131\n",
       "168           Marathahalli  Casual Dining    254\n",
       "175           New BEL Road  Casual Dining     83\n",
       "186       Old Airport Road         others     74\n",
       "192         Residency Road         others    196\n",
       "194          Richmond Road  Casual Dining    183\n",
       "201          Sarjapur Road  Casual Dining    140\n",
       "208         St. Marks Road  Casual Dining     80\n",
       "214                 Ulsoor  Casual Dining    152\n",
       "220             Whitefield  Casual Dining    290\n",
       "227                 others  Casual Dining    840"
      ]
     },
     "execution_count": 202,
     "metadata": {},
     "output_type": "execute_result"
    }
   ],
   "source": [
    "#the most type of restaurant in every location\n",
    "most_common = grouped.loc[grouped.groupby('location')['count'].idxmax()]\n",
    "most_common"
   ]
  },
  {
   "cell_type": "code",
   "execution_count": 203,
   "id": "1f91cf1f",
   "metadata": {
    "execution": {
     "iopub.execute_input": "2024-08-20T23:25:18.302631Z",
     "iopub.status.busy": "2024-08-20T23:25:18.301584Z",
     "iopub.status.idle": "2024-08-20T23:25:18.317470Z",
     "shell.execute_reply": "2024-08-20T23:25:18.316455Z"
    },
    "papermill": {
     "duration": 0.085039,
     "end_time": "2024-08-20T23:25:18.319693",
     "exception": false,
     "start_time": "2024-08-20T23:25:18.234654",
     "status": "completed"
    },
    "tags": []
   },
   "outputs": [
    {
     "data": {
      "text/html": [
       "<div>\n",
       "<style scoped>\n",
       "    .dataframe tbody tr th:only-of-type {\n",
       "        vertical-align: middle;\n",
       "    }\n",
       "\n",
       "    .dataframe tbody tr th {\n",
       "        vertical-align: top;\n",
       "    }\n",
       "\n",
       "    .dataframe thead th {\n",
       "        text-align: right;\n",
       "    }\n",
       "</style>\n",
       "<table border=\"1\" class=\"dataframe\">\n",
       "  <thead>\n",
       "    <tr style=\"text-align: right;\">\n",
       "      <th></th>\n",
       "      <th>location</th>\n",
       "      <th>rest_type</th>\n",
       "      <th>count</th>\n",
       "    </tr>\n",
       "  </thead>\n",
       "  <tbody>\n",
       "    <tr>\n",
       "      <th>2</th>\n",
       "      <td>BTM</td>\n",
       "      <td>Casual Dining, Bar</td>\n",
       "      <td>22</td>\n",
       "    </tr>\n",
       "    <tr>\n",
       "      <th>9</th>\n",
       "      <td>Banashankari</td>\n",
       "      <td>Delivery</td>\n",
       "      <td>12</td>\n",
       "    </tr>\n",
       "    <tr>\n",
       "      <th>15</th>\n",
       "      <td>Bannerghatta Road</td>\n",
       "      <td>Casual Dining, Bar</td>\n",
       "      <td>10</td>\n",
       "    </tr>\n",
       "    <tr>\n",
       "      <th>22</th>\n",
       "      <td>Basavanagudi</td>\n",
       "      <td>Dessert Parlor</td>\n",
       "      <td>9</td>\n",
       "    </tr>\n",
       "    <tr>\n",
       "      <th>28</th>\n",
       "      <td>Bellandur</td>\n",
       "      <td>Delivery</td>\n",
       "      <td>17</td>\n",
       "    </tr>\n",
       "    <tr>\n",
       "      <th>34</th>\n",
       "      <td>Brigade Road</td>\n",
       "      <td>Casual Dining, Bar</td>\n",
       "      <td>26</td>\n",
       "    </tr>\n",
       "    <tr>\n",
       "      <th>41</th>\n",
       "      <td>Brookefield</td>\n",
       "      <td>Dessert Parlor</td>\n",
       "      <td>5</td>\n",
       "    </tr>\n",
       "    <tr>\n",
       "      <th>47</th>\n",
       "      <td>Church Street</td>\n",
       "      <td>Dessert Parlor</td>\n",
       "      <td>38</td>\n",
       "    </tr>\n",
       "    <tr>\n",
       "      <th>50</th>\n",
       "      <td>Cunningham Road</td>\n",
       "      <td>Cafe</td>\n",
       "      <td>17</td>\n",
       "    </tr>\n",
       "    <tr>\n",
       "      <th>58</th>\n",
       "      <td>Domlur</td>\n",
       "      <td>Dessert Parlor</td>\n",
       "      <td>7</td>\n",
       "    </tr>\n",
       "    <tr>\n",
       "      <th>65</th>\n",
       "      <td>Electronic City</td>\n",
       "      <td>Dessert Parlor</td>\n",
       "      <td>7</td>\n",
       "    </tr>\n",
       "    <tr>\n",
       "      <th>70</th>\n",
       "      <td>Frazer Town</td>\n",
       "      <td>Delivery</td>\n",
       "      <td>2</td>\n",
       "    </tr>\n",
       "    <tr>\n",
       "      <th>76</th>\n",
       "      <td>HSR</td>\n",
       "      <td>Casual Dining, Bar</td>\n",
       "      <td>23</td>\n",
       "    </tr>\n",
       "    <tr>\n",
       "      <th>83</th>\n",
       "      <td>Indiranagar</td>\n",
       "      <td>Casual Dining, Bar</td>\n",
       "      <td>52</td>\n",
       "    </tr>\n",
       "    <tr>\n",
       "      <th>91</th>\n",
       "      <td>JP Nagar</td>\n",
       "      <td>Delivery</td>\n",
       "      <td>28</td>\n",
       "    </tr>\n",
       "    <tr>\n",
       "      <th>98</th>\n",
       "      <td>Jayanagar</td>\n",
       "      <td>Delivery</td>\n",
       "      <td>4</td>\n",
       "    </tr>\n",
       "    <tr>\n",
       "      <th>105</th>\n",
       "      <td>Kalyan Nagar</td>\n",
       "      <td>Delivery</td>\n",
       "      <td>8</td>\n",
       "    </tr>\n",
       "    <tr>\n",
       "      <th>112</th>\n",
       "      <td>Kammanahalli</td>\n",
       "      <td>Delivery</td>\n",
       "      <td>4</td>\n",
       "    </tr>\n",
       "    <tr>\n",
       "      <th>119</th>\n",
       "      <td>Koramangala 1st Block</td>\n",
       "      <td>Dessert Parlor</td>\n",
       "      <td>14</td>\n",
       "    </tr>\n",
       "    <tr>\n",
       "      <th>126</th>\n",
       "      <td>Koramangala 4th Block</td>\n",
       "      <td>Dessert Parlor</td>\n",
       "      <td>29</td>\n",
       "    </tr>\n",
       "    <tr>\n",
       "      <th>132</th>\n",
       "      <td>Koramangala 5th Block</td>\n",
       "      <td>Delivery</td>\n",
       "      <td>12</td>\n",
       "    </tr>\n",
       "    <tr>\n",
       "      <th>138</th>\n",
       "      <td>Koramangala 6th Block</td>\n",
       "      <td>Delivery</td>\n",
       "      <td>29</td>\n",
       "    </tr>\n",
       "    <tr>\n",
       "      <th>145</th>\n",
       "      <td>Koramangala 7th Block</td>\n",
       "      <td>Delivery</td>\n",
       "      <td>12</td>\n",
       "    </tr>\n",
       "    <tr>\n",
       "      <th>149</th>\n",
       "      <td>Lavelle Road</td>\n",
       "      <td>Cafe</td>\n",
       "      <td>5</td>\n",
       "    </tr>\n",
       "    <tr>\n",
       "      <th>158</th>\n",
       "      <td>MG Road</td>\n",
       "      <td>Dessert Parlor</td>\n",
       "      <td>12</td>\n",
       "    </tr>\n",
       "    <tr>\n",
       "      <th>163</th>\n",
       "      <td>Malleshwaram</td>\n",
       "      <td>Casual Dining, Bar</td>\n",
       "      <td>14</td>\n",
       "    </tr>\n",
       "    <tr>\n",
       "      <th>171</th>\n",
       "      <td>Marathahalli</td>\n",
       "      <td>Dessert Parlor</td>\n",
       "      <td>19</td>\n",
       "    </tr>\n",
       "    <tr>\n",
       "      <th>176</th>\n",
       "      <td>New BEL Road</td>\n",
       "      <td>Casual Dining, Bar</td>\n",
       "      <td>2</td>\n",
       "    </tr>\n",
       "    <tr>\n",
       "      <th>184</th>\n",
       "      <td>Old Airport Road</td>\n",
       "      <td>Dessert Parlor</td>\n",
       "      <td>2</td>\n",
       "    </tr>\n",
       "    <tr>\n",
       "      <th>189</th>\n",
       "      <td>Residency Road</td>\n",
       "      <td>Delivery</td>\n",
       "      <td>8</td>\n",
       "    </tr>\n",
       "    <tr>\n",
       "      <th>196</th>\n",
       "      <td>Richmond Road</td>\n",
       "      <td>Delivery</td>\n",
       "      <td>2</td>\n",
       "    </tr>\n",
       "    <tr>\n",
       "      <th>204</th>\n",
       "      <td>Sarjapur Road</td>\n",
       "      <td>Dessert Parlor</td>\n",
       "      <td>15</td>\n",
       "    </tr>\n",
       "    <tr>\n",
       "      <th>207</th>\n",
       "      <td>St. Marks Road</td>\n",
       "      <td>Cafe</td>\n",
       "      <td>20</td>\n",
       "    </tr>\n",
       "    <tr>\n",
       "      <th>216</th>\n",
       "      <td>Ulsoor</td>\n",
       "      <td>Dessert Parlor</td>\n",
       "      <td>4</td>\n",
       "    </tr>\n",
       "    <tr>\n",
       "      <th>223</th>\n",
       "      <td>Whitefield</td>\n",
       "      <td>Dessert Parlor</td>\n",
       "      <td>22</td>\n",
       "    </tr>\n",
       "    <tr>\n",
       "      <th>230</th>\n",
       "      <td>others</td>\n",
       "      <td>Dessert Parlor</td>\n",
       "      <td>43</td>\n",
       "    </tr>\n",
       "  </tbody>\n",
       "</table>\n",
       "</div>"
      ],
      "text/plain": [
       "                  location           rest_type  count\n",
       "2                      BTM  Casual Dining, Bar     22\n",
       "9             Banashankari            Delivery     12\n",
       "15       Bannerghatta Road  Casual Dining, Bar     10\n",
       "22            Basavanagudi      Dessert Parlor      9\n",
       "28               Bellandur            Delivery     17\n",
       "34            Brigade Road  Casual Dining, Bar     26\n",
       "41             Brookefield      Dessert Parlor      5\n",
       "47           Church Street      Dessert Parlor     38\n",
       "50         Cunningham Road                Cafe     17\n",
       "58                  Domlur      Dessert Parlor      7\n",
       "65         Electronic City      Dessert Parlor      7\n",
       "70             Frazer Town            Delivery      2\n",
       "76                     HSR  Casual Dining, Bar     23\n",
       "83             Indiranagar  Casual Dining, Bar     52\n",
       "91                JP Nagar            Delivery     28\n",
       "98               Jayanagar            Delivery      4\n",
       "105           Kalyan Nagar            Delivery      8\n",
       "112           Kammanahalli            Delivery      4\n",
       "119  Koramangala 1st Block      Dessert Parlor     14\n",
       "126  Koramangala 4th Block      Dessert Parlor     29\n",
       "132  Koramangala 5th Block            Delivery     12\n",
       "138  Koramangala 6th Block            Delivery     29\n",
       "145  Koramangala 7th Block            Delivery     12\n",
       "149           Lavelle Road                Cafe      5\n",
       "158                MG Road      Dessert Parlor     12\n",
       "163           Malleshwaram  Casual Dining, Bar     14\n",
       "171           Marathahalli      Dessert Parlor     19\n",
       "176           New BEL Road  Casual Dining, Bar      2\n",
       "184       Old Airport Road      Dessert Parlor      2\n",
       "189         Residency Road            Delivery      8\n",
       "196          Richmond Road            Delivery      2\n",
       "204          Sarjapur Road      Dessert Parlor     15\n",
       "207         St. Marks Road                Cafe     20\n",
       "216                 Ulsoor      Dessert Parlor      4\n",
       "223             Whitefield      Dessert Parlor     22\n",
       "230                 others      Dessert Parlor     43"
      ]
     },
     "execution_count": 203,
     "metadata": {},
     "output_type": "execute_result"
    }
   ],
   "source": [
    "#the least type of restaurant\n",
    "least_common =  grouped.loc[grouped.groupby('location')['count'].idxmin()]\n",
    "least_common"
   ]
  },
  {
   "cell_type": "code",
   "execution_count": 204,
   "id": "7b9520e2",
   "metadata": {
    "execution": {
     "iopub.execute_input": "2024-08-20T23:25:18.452917Z",
     "iopub.status.busy": "2024-08-20T23:25:18.452053Z",
     "iopub.status.idle": "2024-08-20T23:25:18.471042Z",
     "shell.execute_reply": "2024-08-20T23:25:18.469988Z"
    },
    "papermill": {
     "duration": 0.088037,
     "end_time": "2024-08-20T23:25:18.473226",
     "exception": false,
     "start_time": "2024-08-20T23:25:18.385189",
     "status": "completed"
    },
    "tags": []
   },
   "outputs": [
    {
     "data": {
      "text/html": [
       "<div>\n",
       "<style scoped>\n",
       "    .dataframe tbody tr th:only-of-type {\n",
       "        vertical-align: middle;\n",
       "    }\n",
       "\n",
       "    .dataframe tbody tr th {\n",
       "        vertical-align: top;\n",
       "    }\n",
       "\n",
       "    .dataframe thead th {\n",
       "        text-align: right;\n",
       "    }\n",
       "</style>\n",
       "<table border=\"1\" class=\"dataframe\">\n",
       "  <thead>\n",
       "    <tr style=\"text-align: right;\">\n",
       "      <th></th>\n",
       "      <th>location</th>\n",
       "      <th>rest_type_most</th>\n",
       "      <th>count_most</th>\n",
       "      <th>rest_type_least</th>\n",
       "      <th>count_least</th>\n",
       "    </tr>\n",
       "  </thead>\n",
       "  <tbody>\n",
       "    <tr>\n",
       "      <th>0</th>\n",
       "      <td>BTM</td>\n",
       "      <td>Quick Bites</td>\n",
       "      <td>609</td>\n",
       "      <td>Casual Dining, Bar</td>\n",
       "      <td>22</td>\n",
       "    </tr>\n",
       "    <tr>\n",
       "      <th>1</th>\n",
       "      <td>Banashankari</td>\n",
       "      <td>Quick Bites</td>\n",
       "      <td>131</td>\n",
       "      <td>Delivery</td>\n",
       "      <td>12</td>\n",
       "    </tr>\n",
       "    <tr>\n",
       "      <th>2</th>\n",
       "      <td>Bannerghatta Road</td>\n",
       "      <td>Casual Dining</td>\n",
       "      <td>181</td>\n",
       "      <td>Casual Dining, Bar</td>\n",
       "      <td>10</td>\n",
       "    </tr>\n",
       "    <tr>\n",
       "      <th>3</th>\n",
       "      <td>Basavanagudi</td>\n",
       "      <td>Quick Bites</td>\n",
       "      <td>136</td>\n",
       "      <td>Dessert Parlor</td>\n",
       "      <td>9</td>\n",
       "    </tr>\n",
       "    <tr>\n",
       "      <th>4</th>\n",
       "      <td>Bellandur</td>\n",
       "      <td>Casual Dining</td>\n",
       "      <td>171</td>\n",
       "      <td>Delivery</td>\n",
       "      <td>17</td>\n",
       "    </tr>\n",
       "    <tr>\n",
       "      <th>5</th>\n",
       "      <td>Brigade Road</td>\n",
       "      <td>others</td>\n",
       "      <td>221</td>\n",
       "      <td>Casual Dining, Bar</td>\n",
       "      <td>26</td>\n",
       "    </tr>\n",
       "    <tr>\n",
       "      <th>6</th>\n",
       "      <td>Brookefield</td>\n",
       "      <td>Quick Bites</td>\n",
       "      <td>106</td>\n",
       "      <td>Dessert Parlor</td>\n",
       "      <td>5</td>\n",
       "    </tr>\n",
       "    <tr>\n",
       "      <th>7</th>\n",
       "      <td>Church Street</td>\n",
       "      <td>Casual Dining</td>\n",
       "      <td>144</td>\n",
       "      <td>Dessert Parlor</td>\n",
       "      <td>38</td>\n",
       "    </tr>\n",
       "    <tr>\n",
       "      <th>8</th>\n",
       "      <td>Cunningham Road</td>\n",
       "      <td>Casual Dining</td>\n",
       "      <td>165</td>\n",
       "      <td>Cafe</td>\n",
       "      <td>17</td>\n",
       "    </tr>\n",
       "    <tr>\n",
       "      <th>9</th>\n",
       "      <td>Domlur</td>\n",
       "      <td>Casual Dining</td>\n",
       "      <td>64</td>\n",
       "      <td>Dessert Parlor</td>\n",
       "      <td>7</td>\n",
       "    </tr>\n",
       "    <tr>\n",
       "      <th>10</th>\n",
       "      <td>Electronic City</td>\n",
       "      <td>Casual Dining</td>\n",
       "      <td>106</td>\n",
       "      <td>Dessert Parlor</td>\n",
       "      <td>7</td>\n",
       "    </tr>\n",
       "    <tr>\n",
       "      <th>11</th>\n",
       "      <td>Frazer Town</td>\n",
       "      <td>Casual Dining</td>\n",
       "      <td>128</td>\n",
       "      <td>Delivery</td>\n",
       "      <td>2</td>\n",
       "    </tr>\n",
       "    <tr>\n",
       "      <th>12</th>\n",
       "      <td>HSR</td>\n",
       "      <td>Casual Dining</td>\n",
       "      <td>388</td>\n",
       "      <td>Casual Dining, Bar</td>\n",
       "      <td>23</td>\n",
       "    </tr>\n",
       "    <tr>\n",
       "      <th>13</th>\n",
       "      <td>Indiranagar</td>\n",
       "      <td>Casual Dining</td>\n",
       "      <td>417</td>\n",
       "      <td>Casual Dining, Bar</td>\n",
       "      <td>52</td>\n",
       "    </tr>\n",
       "    <tr>\n",
       "      <th>14</th>\n",
       "      <td>JP Nagar</td>\n",
       "      <td>Casual Dining</td>\n",
       "      <td>389</td>\n",
       "      <td>Delivery</td>\n",
       "      <td>28</td>\n",
       "    </tr>\n",
       "    <tr>\n",
       "      <th>15</th>\n",
       "      <td>Jayanagar</td>\n",
       "      <td>Casual Dining</td>\n",
       "      <td>405</td>\n",
       "      <td>Delivery</td>\n",
       "      <td>4</td>\n",
       "    </tr>\n",
       "    <tr>\n",
       "      <th>16</th>\n",
       "      <td>Kalyan Nagar</td>\n",
       "      <td>Casual Dining</td>\n",
       "      <td>191</td>\n",
       "      <td>Delivery</td>\n",
       "      <td>8</td>\n",
       "    </tr>\n",
       "    <tr>\n",
       "      <th>17</th>\n",
       "      <td>Kammanahalli</td>\n",
       "      <td>Quick Bites</td>\n",
       "      <td>100</td>\n",
       "      <td>Delivery</td>\n",
       "      <td>4</td>\n",
       "    </tr>\n",
       "    <tr>\n",
       "      <th>18</th>\n",
       "      <td>Koramangala 1st Block</td>\n",
       "      <td>Quick Bites</td>\n",
       "      <td>173</td>\n",
       "      <td>Dessert Parlor</td>\n",
       "      <td>14</td>\n",
       "    </tr>\n",
       "    <tr>\n",
       "      <th>19</th>\n",
       "      <td>Koramangala 4th Block</td>\n",
       "      <td>others</td>\n",
       "      <td>204</td>\n",
       "      <td>Dessert Parlor</td>\n",
       "      <td>29</td>\n",
       "    </tr>\n",
       "    <tr>\n",
       "      <th>20</th>\n",
       "      <td>Koramangala 5th Block</td>\n",
       "      <td>Casual Dining</td>\n",
       "      <td>525</td>\n",
       "      <td>Delivery</td>\n",
       "      <td>12</td>\n",
       "    </tr>\n",
       "    <tr>\n",
       "      <th>21</th>\n",
       "      <td>Koramangala 6th Block</td>\n",
       "      <td>Quick Bites</td>\n",
       "      <td>209</td>\n",
       "      <td>Delivery</td>\n",
       "      <td>29</td>\n",
       "    </tr>\n",
       "    <tr>\n",
       "      <th>22</th>\n",
       "      <td>Koramangala 7th Block</td>\n",
       "      <td>Casual Dining</td>\n",
       "      <td>240</td>\n",
       "      <td>Delivery</td>\n",
       "      <td>12</td>\n",
       "    </tr>\n",
       "    <tr>\n",
       "      <th>23</th>\n",
       "      <td>Lavelle Road</td>\n",
       "      <td>others</td>\n",
       "      <td>211</td>\n",
       "      <td>Cafe</td>\n",
       "      <td>5</td>\n",
       "    </tr>\n",
       "    <tr>\n",
       "      <th>24</th>\n",
       "      <td>MG Road</td>\n",
       "      <td>others</td>\n",
       "      <td>307</td>\n",
       "      <td>Dessert Parlor</td>\n",
       "      <td>12</td>\n",
       "    </tr>\n",
       "    <tr>\n",
       "      <th>25</th>\n",
       "      <td>Malleshwaram</td>\n",
       "      <td>others</td>\n",
       "      <td>131</td>\n",
       "      <td>Casual Dining, Bar</td>\n",
       "      <td>14</td>\n",
       "    </tr>\n",
       "    <tr>\n",
       "      <th>26</th>\n",
       "      <td>Marathahalli</td>\n",
       "      <td>Casual Dining</td>\n",
       "      <td>254</td>\n",
       "      <td>Dessert Parlor</td>\n",
       "      <td>19</td>\n",
       "    </tr>\n",
       "    <tr>\n",
       "      <th>27</th>\n",
       "      <td>New BEL Road</td>\n",
       "      <td>Casual Dining</td>\n",
       "      <td>83</td>\n",
       "      <td>Casual Dining, Bar</td>\n",
       "      <td>2</td>\n",
       "    </tr>\n",
       "    <tr>\n",
       "      <th>28</th>\n",
       "      <td>Old Airport Road</td>\n",
       "      <td>others</td>\n",
       "      <td>74</td>\n",
       "      <td>Dessert Parlor</td>\n",
       "      <td>2</td>\n",
       "    </tr>\n",
       "    <tr>\n",
       "      <th>29</th>\n",
       "      <td>Residency Road</td>\n",
       "      <td>others</td>\n",
       "      <td>196</td>\n",
       "      <td>Delivery</td>\n",
       "      <td>8</td>\n",
       "    </tr>\n",
       "    <tr>\n",
       "      <th>30</th>\n",
       "      <td>Richmond Road</td>\n",
       "      <td>Casual Dining</td>\n",
       "      <td>183</td>\n",
       "      <td>Delivery</td>\n",
       "      <td>2</td>\n",
       "    </tr>\n",
       "    <tr>\n",
       "      <th>31</th>\n",
       "      <td>Sarjapur Road</td>\n",
       "      <td>Casual Dining</td>\n",
       "      <td>140</td>\n",
       "      <td>Dessert Parlor</td>\n",
       "      <td>15</td>\n",
       "    </tr>\n",
       "    <tr>\n",
       "      <th>32</th>\n",
       "      <td>St. Marks Road</td>\n",
       "      <td>Casual Dining</td>\n",
       "      <td>80</td>\n",
       "      <td>Cafe</td>\n",
       "      <td>20</td>\n",
       "    </tr>\n",
       "    <tr>\n",
       "      <th>33</th>\n",
       "      <td>Ulsoor</td>\n",
       "      <td>Casual Dining</td>\n",
       "      <td>152</td>\n",
       "      <td>Dessert Parlor</td>\n",
       "      <td>4</td>\n",
       "    </tr>\n",
       "    <tr>\n",
       "      <th>34</th>\n",
       "      <td>Whitefield</td>\n",
       "      <td>Casual Dining</td>\n",
       "      <td>290</td>\n",
       "      <td>Dessert Parlor</td>\n",
       "      <td>22</td>\n",
       "    </tr>\n",
       "    <tr>\n",
       "      <th>35</th>\n",
       "      <td>others</td>\n",
       "      <td>Casual Dining</td>\n",
       "      <td>840</td>\n",
       "      <td>Dessert Parlor</td>\n",
       "      <td>43</td>\n",
       "    </tr>\n",
       "  </tbody>\n",
       "</table>\n",
       "</div>"
      ],
      "text/plain": [
       "                 location rest_type_most  count_most     rest_type_least  \\\n",
       "0                     BTM    Quick Bites         609  Casual Dining, Bar   \n",
       "1            Banashankari    Quick Bites         131            Delivery   \n",
       "2       Bannerghatta Road  Casual Dining         181  Casual Dining, Bar   \n",
       "3            Basavanagudi    Quick Bites         136      Dessert Parlor   \n",
       "4               Bellandur  Casual Dining         171            Delivery   \n",
       "5            Brigade Road         others         221  Casual Dining, Bar   \n",
       "6             Brookefield    Quick Bites         106      Dessert Parlor   \n",
       "7           Church Street  Casual Dining         144      Dessert Parlor   \n",
       "8         Cunningham Road  Casual Dining         165                Cafe   \n",
       "9                  Domlur  Casual Dining          64      Dessert Parlor   \n",
       "10        Electronic City  Casual Dining         106      Dessert Parlor   \n",
       "11            Frazer Town  Casual Dining         128            Delivery   \n",
       "12                    HSR  Casual Dining         388  Casual Dining, Bar   \n",
       "13            Indiranagar  Casual Dining         417  Casual Dining, Bar   \n",
       "14               JP Nagar  Casual Dining         389            Delivery   \n",
       "15              Jayanagar  Casual Dining         405            Delivery   \n",
       "16           Kalyan Nagar  Casual Dining         191            Delivery   \n",
       "17           Kammanahalli    Quick Bites         100            Delivery   \n",
       "18  Koramangala 1st Block    Quick Bites         173      Dessert Parlor   \n",
       "19  Koramangala 4th Block         others         204      Dessert Parlor   \n",
       "20  Koramangala 5th Block  Casual Dining         525            Delivery   \n",
       "21  Koramangala 6th Block    Quick Bites         209            Delivery   \n",
       "22  Koramangala 7th Block  Casual Dining         240            Delivery   \n",
       "23           Lavelle Road         others         211                Cafe   \n",
       "24                MG Road         others         307      Dessert Parlor   \n",
       "25           Malleshwaram         others         131  Casual Dining, Bar   \n",
       "26           Marathahalli  Casual Dining         254      Dessert Parlor   \n",
       "27           New BEL Road  Casual Dining          83  Casual Dining, Bar   \n",
       "28       Old Airport Road         others          74      Dessert Parlor   \n",
       "29         Residency Road         others         196            Delivery   \n",
       "30          Richmond Road  Casual Dining         183            Delivery   \n",
       "31          Sarjapur Road  Casual Dining         140      Dessert Parlor   \n",
       "32         St. Marks Road  Casual Dining          80                Cafe   \n",
       "33                 Ulsoor  Casual Dining         152      Dessert Parlor   \n",
       "34             Whitefield  Casual Dining         290      Dessert Parlor   \n",
       "35                 others  Casual Dining         840      Dessert Parlor   \n",
       "\n",
       "    count_least  \n",
       "0            22  \n",
       "1            12  \n",
       "2            10  \n",
       "3             9  \n",
       "4            17  \n",
       "5            26  \n",
       "6             5  \n",
       "7            38  \n",
       "8            17  \n",
       "9             7  \n",
       "10            7  \n",
       "11            2  \n",
       "12           23  \n",
       "13           52  \n",
       "14           28  \n",
       "15            4  \n",
       "16            8  \n",
       "17            4  \n",
       "18           14  \n",
       "19           29  \n",
       "20           12  \n",
       "21           29  \n",
       "22           12  \n",
       "23            5  \n",
       "24           12  \n",
       "25           14  \n",
       "26           19  \n",
       "27            2  \n",
       "28            2  \n",
       "29            8  \n",
       "30            2  \n",
       "31           15  \n",
       "32           20  \n",
       "33            4  \n",
       "34           22  \n",
       "35           43  "
      ]
     },
     "execution_count": 204,
     "metadata": {},
     "output_type": "execute_result"
    }
   ],
   "source": [
    "#join the least and most together\n",
    "joined = pd.merge(most_common, least_common, on= 'location', suffixes=('_most', '_least'))\n",
    "joined"
   ]
  },
  {
   "cell_type": "code",
   "execution_count": 205,
   "id": "3363f593",
   "metadata": {
    "execution": {
     "iopub.execute_input": "2024-08-20T23:25:18.608751Z",
     "iopub.status.busy": "2024-08-20T23:25:18.607549Z",
     "iopub.status.idle": "2024-08-20T23:25:18.622109Z",
     "shell.execute_reply": "2024-08-20T23:25:18.621173Z"
    },
    "papermill": {
     "duration": 0.085555,
     "end_time": "2024-08-20T23:25:18.624159",
     "exception": false,
     "start_time": "2024-08-20T23:25:18.538604",
     "status": "completed"
    },
    "tags": []
   },
   "outputs": [
    {
     "data": {
      "text/html": [
       "<div>\n",
       "<style scoped>\n",
       "    .dataframe tbody tr th:only-of-type {\n",
       "        vertical-align: middle;\n",
       "    }\n",
       "\n",
       "    .dataframe tbody tr th {\n",
       "        vertical-align: top;\n",
       "    }\n",
       "\n",
       "    .dataframe thead th {\n",
       "        text-align: right;\n",
       "    }\n",
       "</style>\n",
       "<table border=\"1\" class=\"dataframe\">\n",
       "  <thead>\n",
       "    <tr style=\"text-align: right;\">\n",
       "      <th></th>\n",
       "      <th>location</th>\n",
       "      <th>rest_type_most</th>\n",
       "      <th>count_most</th>\n",
       "      <th>rest_type_least</th>\n",
       "      <th>count_least</th>\n",
       "    </tr>\n",
       "  </thead>\n",
       "  <tbody>\n",
       "    <tr>\n",
       "      <th>0</th>\n",
       "      <td>BTM</td>\n",
       "      <td>Quick Bites</td>\n",
       "      <td>609</td>\n",
       "      <td>Casual Dining, Bar</td>\n",
       "      <td>22</td>\n",
       "    </tr>\n",
       "    <tr>\n",
       "      <th>1</th>\n",
       "      <td>Banashankari</td>\n",
       "      <td>Quick Bites</td>\n",
       "      <td>131</td>\n",
       "      <td>Delivery</td>\n",
       "      <td>12</td>\n",
       "    </tr>\n",
       "    <tr>\n",
       "      <th>2</th>\n",
       "      <td>Bannerghatta Road</td>\n",
       "      <td>Casual Dining</td>\n",
       "      <td>181</td>\n",
       "      <td>Casual Dining, Bar</td>\n",
       "      <td>10</td>\n",
       "    </tr>\n",
       "    <tr>\n",
       "      <th>3</th>\n",
       "      <td>Basavanagudi</td>\n",
       "      <td>Quick Bites</td>\n",
       "      <td>136</td>\n",
       "      <td>Dessert Parlor</td>\n",
       "      <td>9</td>\n",
       "    </tr>\n",
       "    <tr>\n",
       "      <th>4</th>\n",
       "      <td>Bellandur</td>\n",
       "      <td>Casual Dining</td>\n",
       "      <td>171</td>\n",
       "      <td>Delivery</td>\n",
       "      <td>17</td>\n",
       "    </tr>\n",
       "    <tr>\n",
       "      <th>5</th>\n",
       "      <td>Brigade Road</td>\n",
       "      <td>others</td>\n",
       "      <td>221</td>\n",
       "      <td>Casual Dining, Bar</td>\n",
       "      <td>26</td>\n",
       "    </tr>\n",
       "    <tr>\n",
       "      <th>6</th>\n",
       "      <td>Brookefield</td>\n",
       "      <td>Quick Bites</td>\n",
       "      <td>106</td>\n",
       "      <td>Dessert Parlor</td>\n",
       "      <td>5</td>\n",
       "    </tr>\n",
       "    <tr>\n",
       "      <th>7</th>\n",
       "      <td>Church Street</td>\n",
       "      <td>Casual Dining</td>\n",
       "      <td>144</td>\n",
       "      <td>Dessert Parlor</td>\n",
       "      <td>38</td>\n",
       "    </tr>\n",
       "    <tr>\n",
       "      <th>8</th>\n",
       "      <td>Cunningham Road</td>\n",
       "      <td>Casual Dining</td>\n",
       "      <td>165</td>\n",
       "      <td>Cafe</td>\n",
       "      <td>17</td>\n",
       "    </tr>\n",
       "    <tr>\n",
       "      <th>9</th>\n",
       "      <td>Domlur</td>\n",
       "      <td>Casual Dining</td>\n",
       "      <td>64</td>\n",
       "      <td>Dessert Parlor</td>\n",
       "      <td>7</td>\n",
       "    </tr>\n",
       "    <tr>\n",
       "      <th>10</th>\n",
       "      <td>Electronic City</td>\n",
       "      <td>Casual Dining</td>\n",
       "      <td>106</td>\n",
       "      <td>Dessert Parlor</td>\n",
       "      <td>7</td>\n",
       "    </tr>\n",
       "    <tr>\n",
       "      <th>11</th>\n",
       "      <td>Frazer Town</td>\n",
       "      <td>Casual Dining</td>\n",
       "      <td>128</td>\n",
       "      <td>Delivery</td>\n",
       "      <td>2</td>\n",
       "    </tr>\n",
       "    <tr>\n",
       "      <th>12</th>\n",
       "      <td>HSR</td>\n",
       "      <td>Casual Dining</td>\n",
       "      <td>388</td>\n",
       "      <td>Casual Dining, Bar</td>\n",
       "      <td>23</td>\n",
       "    </tr>\n",
       "    <tr>\n",
       "      <th>13</th>\n",
       "      <td>Indiranagar</td>\n",
       "      <td>Casual Dining</td>\n",
       "      <td>417</td>\n",
       "      <td>Casual Dining, Bar</td>\n",
       "      <td>52</td>\n",
       "    </tr>\n",
       "    <tr>\n",
       "      <th>14</th>\n",
       "      <td>JP Nagar</td>\n",
       "      <td>Casual Dining</td>\n",
       "      <td>389</td>\n",
       "      <td>Delivery</td>\n",
       "      <td>28</td>\n",
       "    </tr>\n",
       "    <tr>\n",
       "      <th>15</th>\n",
       "      <td>Jayanagar</td>\n",
       "      <td>Casual Dining</td>\n",
       "      <td>405</td>\n",
       "      <td>Delivery</td>\n",
       "      <td>4</td>\n",
       "    </tr>\n",
       "    <tr>\n",
       "      <th>16</th>\n",
       "      <td>Kalyan Nagar</td>\n",
       "      <td>Casual Dining</td>\n",
       "      <td>191</td>\n",
       "      <td>Delivery</td>\n",
       "      <td>8</td>\n",
       "    </tr>\n",
       "    <tr>\n",
       "      <th>17</th>\n",
       "      <td>Kammanahalli</td>\n",
       "      <td>Quick Bites</td>\n",
       "      <td>100</td>\n",
       "      <td>Delivery</td>\n",
       "      <td>4</td>\n",
       "    </tr>\n",
       "    <tr>\n",
       "      <th>18</th>\n",
       "      <td>Koramangala 1st Block</td>\n",
       "      <td>Quick Bites</td>\n",
       "      <td>173</td>\n",
       "      <td>Dessert Parlor</td>\n",
       "      <td>14</td>\n",
       "    </tr>\n",
       "    <tr>\n",
       "      <th>19</th>\n",
       "      <td>Koramangala 4th Block</td>\n",
       "      <td>others</td>\n",
       "      <td>204</td>\n",
       "      <td>Dessert Parlor</td>\n",
       "      <td>29</td>\n",
       "    </tr>\n",
       "    <tr>\n",
       "      <th>20</th>\n",
       "      <td>Koramangala 5th Block</td>\n",
       "      <td>Casual Dining</td>\n",
       "      <td>525</td>\n",
       "      <td>Delivery</td>\n",
       "      <td>12</td>\n",
       "    </tr>\n",
       "    <tr>\n",
       "      <th>21</th>\n",
       "      <td>Koramangala 6th Block</td>\n",
       "      <td>Quick Bites</td>\n",
       "      <td>209</td>\n",
       "      <td>Delivery</td>\n",
       "      <td>29</td>\n",
       "    </tr>\n",
       "    <tr>\n",
       "      <th>22</th>\n",
       "      <td>Koramangala 7th Block</td>\n",
       "      <td>Casual Dining</td>\n",
       "      <td>240</td>\n",
       "      <td>Delivery</td>\n",
       "      <td>12</td>\n",
       "    </tr>\n",
       "    <tr>\n",
       "      <th>23</th>\n",
       "      <td>Lavelle Road</td>\n",
       "      <td>others</td>\n",
       "      <td>211</td>\n",
       "      <td>Cafe</td>\n",
       "      <td>5</td>\n",
       "    </tr>\n",
       "    <tr>\n",
       "      <th>24</th>\n",
       "      <td>MG Road</td>\n",
       "      <td>others</td>\n",
       "      <td>307</td>\n",
       "      <td>Dessert Parlor</td>\n",
       "      <td>12</td>\n",
       "    </tr>\n",
       "    <tr>\n",
       "      <th>25</th>\n",
       "      <td>Malleshwaram</td>\n",
       "      <td>others</td>\n",
       "      <td>131</td>\n",
       "      <td>Casual Dining, Bar</td>\n",
       "      <td>14</td>\n",
       "    </tr>\n",
       "    <tr>\n",
       "      <th>26</th>\n",
       "      <td>Marathahalli</td>\n",
       "      <td>Casual Dining</td>\n",
       "      <td>254</td>\n",
       "      <td>Dessert Parlor</td>\n",
       "      <td>19</td>\n",
       "    </tr>\n",
       "    <tr>\n",
       "      <th>27</th>\n",
       "      <td>New BEL Road</td>\n",
       "      <td>Casual Dining</td>\n",
       "      <td>83</td>\n",
       "      <td>Casual Dining, Bar</td>\n",
       "      <td>2</td>\n",
       "    </tr>\n",
       "    <tr>\n",
       "      <th>28</th>\n",
       "      <td>Old Airport Road</td>\n",
       "      <td>others</td>\n",
       "      <td>74</td>\n",
       "      <td>Dessert Parlor</td>\n",
       "      <td>2</td>\n",
       "    </tr>\n",
       "    <tr>\n",
       "      <th>29</th>\n",
       "      <td>Residency Road</td>\n",
       "      <td>others</td>\n",
       "      <td>196</td>\n",
       "      <td>Delivery</td>\n",
       "      <td>8</td>\n",
       "    </tr>\n",
       "    <tr>\n",
       "      <th>30</th>\n",
       "      <td>Richmond Road</td>\n",
       "      <td>Casual Dining</td>\n",
       "      <td>183</td>\n",
       "      <td>Delivery</td>\n",
       "      <td>2</td>\n",
       "    </tr>\n",
       "    <tr>\n",
       "      <th>31</th>\n",
       "      <td>Sarjapur Road</td>\n",
       "      <td>Casual Dining</td>\n",
       "      <td>140</td>\n",
       "      <td>Dessert Parlor</td>\n",
       "      <td>15</td>\n",
       "    </tr>\n",
       "    <tr>\n",
       "      <th>32</th>\n",
       "      <td>St. Marks Road</td>\n",
       "      <td>Casual Dining</td>\n",
       "      <td>80</td>\n",
       "      <td>Cafe</td>\n",
       "      <td>20</td>\n",
       "    </tr>\n",
       "    <tr>\n",
       "      <th>33</th>\n",
       "      <td>Ulsoor</td>\n",
       "      <td>Casual Dining</td>\n",
       "      <td>152</td>\n",
       "      <td>Dessert Parlor</td>\n",
       "      <td>4</td>\n",
       "    </tr>\n",
       "    <tr>\n",
       "      <th>34</th>\n",
       "      <td>Whitefield</td>\n",
       "      <td>Casual Dining</td>\n",
       "      <td>290</td>\n",
       "      <td>Dessert Parlor</td>\n",
       "      <td>22</td>\n",
       "    </tr>\n",
       "    <tr>\n",
       "      <th>35</th>\n",
       "      <td>others</td>\n",
       "      <td>Casual Dining</td>\n",
       "      <td>840</td>\n",
       "      <td>Dessert Parlor</td>\n",
       "      <td>43</td>\n",
       "    </tr>\n",
       "  </tbody>\n",
       "</table>\n",
       "</div>"
      ],
      "text/plain": [
       "                 location rest_type_most  count_most     rest_type_least  \\\n",
       "0                     BTM    Quick Bites         609  Casual Dining, Bar   \n",
       "1            Banashankari    Quick Bites         131            Delivery   \n",
       "2       Bannerghatta Road  Casual Dining         181  Casual Dining, Bar   \n",
       "3            Basavanagudi    Quick Bites         136      Dessert Parlor   \n",
       "4               Bellandur  Casual Dining         171            Delivery   \n",
       "5            Brigade Road         others         221  Casual Dining, Bar   \n",
       "6             Brookefield    Quick Bites         106      Dessert Parlor   \n",
       "7           Church Street  Casual Dining         144      Dessert Parlor   \n",
       "8         Cunningham Road  Casual Dining         165                Cafe   \n",
       "9                  Domlur  Casual Dining          64      Dessert Parlor   \n",
       "10        Electronic City  Casual Dining         106      Dessert Parlor   \n",
       "11            Frazer Town  Casual Dining         128            Delivery   \n",
       "12                    HSR  Casual Dining         388  Casual Dining, Bar   \n",
       "13            Indiranagar  Casual Dining         417  Casual Dining, Bar   \n",
       "14               JP Nagar  Casual Dining         389            Delivery   \n",
       "15              Jayanagar  Casual Dining         405            Delivery   \n",
       "16           Kalyan Nagar  Casual Dining         191            Delivery   \n",
       "17           Kammanahalli    Quick Bites         100            Delivery   \n",
       "18  Koramangala 1st Block    Quick Bites         173      Dessert Parlor   \n",
       "19  Koramangala 4th Block         others         204      Dessert Parlor   \n",
       "20  Koramangala 5th Block  Casual Dining         525            Delivery   \n",
       "21  Koramangala 6th Block    Quick Bites         209            Delivery   \n",
       "22  Koramangala 7th Block  Casual Dining         240            Delivery   \n",
       "23           Lavelle Road         others         211                Cafe   \n",
       "24                MG Road         others         307      Dessert Parlor   \n",
       "25           Malleshwaram         others         131  Casual Dining, Bar   \n",
       "26           Marathahalli  Casual Dining         254      Dessert Parlor   \n",
       "27           New BEL Road  Casual Dining          83  Casual Dining, Bar   \n",
       "28       Old Airport Road         others          74      Dessert Parlor   \n",
       "29         Residency Road         others         196            Delivery   \n",
       "30          Richmond Road  Casual Dining         183            Delivery   \n",
       "31          Sarjapur Road  Casual Dining         140      Dessert Parlor   \n",
       "32         St. Marks Road  Casual Dining          80                Cafe   \n",
       "33                 Ulsoor  Casual Dining         152      Dessert Parlor   \n",
       "34             Whitefield  Casual Dining         290      Dessert Parlor   \n",
       "35                 others  Casual Dining         840      Dessert Parlor   \n",
       "\n",
       "    count_least  \n",
       "0            22  \n",
       "1            12  \n",
       "2            10  \n",
       "3             9  \n",
       "4            17  \n",
       "5            26  \n",
       "6             5  \n",
       "7            38  \n",
       "8            17  \n",
       "9             7  \n",
       "10            7  \n",
       "11            2  \n",
       "12           23  \n",
       "13           52  \n",
       "14           28  \n",
       "15            4  \n",
       "16            8  \n",
       "17            4  \n",
       "18           14  \n",
       "19           29  \n",
       "20           12  \n",
       "21           29  \n",
       "22           12  \n",
       "23            5  \n",
       "24           12  \n",
       "25           14  \n",
       "26           19  \n",
       "27            2  \n",
       "28            2  \n",
       "29            8  \n",
       "30            2  \n",
       "31           15  \n",
       "32           20  \n",
       "33            4  \n",
       "34           22  \n",
       "35           43  "
      ]
     },
     "execution_count": 205,
     "metadata": {},
     "output_type": "execute_result"
    }
   ],
   "source": [
    "joined"
   ]
  },
  {
   "cell_type": "code",
   "execution_count": 206,
   "id": "5b6289d2",
   "metadata": {
    "execution": {
     "iopub.execute_input": "2024-08-20T23:25:18.759632Z",
     "iopub.status.busy": "2024-08-20T23:25:18.759242Z",
     "iopub.status.idle": "2024-08-20T23:25:18.766550Z",
     "shell.execute_reply": "2024-08-20T23:25:18.765480Z"
    },
    "papermill": {
     "duration": 0.077522,
     "end_time": "2024-08-20T23:25:18.768841",
     "exception": false,
     "start_time": "2024-08-20T23:25:18.691319",
     "status": "completed"
    },
    "tags": []
   },
   "outputs": [
    {
     "data": {
      "text/plain": [
       "array(['BTM', 'Banashankari', 'Bannerghatta Road', 'Basavanagudi',\n",
       "       'Bellandur', 'Brigade Road', 'Brookefield', 'Church Street',\n",
       "       'Cunningham Road', 'Domlur', 'Electronic City', 'Frazer Town',\n",
       "       'HSR', 'Indiranagar', 'JP Nagar', 'Jayanagar', 'Kalyan Nagar',\n",
       "       'Kammanahalli', 'Koramangala 1st Block', 'Koramangala 4th Block',\n",
       "       'Koramangala 5th Block', 'Koramangala 6th Block',\n",
       "       'Koramangala 7th Block', 'Lavelle Road', 'MG Road', 'Malleshwaram',\n",
       "       'Marathahalli', 'New BEL Road', 'Old Airport Road',\n",
       "       'Residency Road', 'Richmond Road', 'Sarjapur Road',\n",
       "       'St. Marks Road', 'Ulsoor', 'Whitefield', 'others'], dtype=object)"
      ]
     },
     "execution_count": 206,
     "metadata": {},
     "output_type": "execute_result"
    }
   ],
   "source": [
    "joined['location'].to_numpy()"
   ]
  },
  {
   "cell_type": "code",
   "execution_count": 207,
   "id": "dc800af5",
   "metadata": {
    "execution": {
     "iopub.execute_input": "2024-08-20T23:25:18.908170Z",
     "iopub.status.busy": "2024-08-20T23:25:18.907797Z",
     "iopub.status.idle": "2024-08-20T23:25:18.913060Z",
     "shell.execute_reply": "2024-08-20T23:25:18.912043Z"
    },
    "papermill": {
     "duration": 0.077576,
     "end_time": "2024-08-20T23:25:18.915252",
     "exception": false,
     "start_time": "2024-08-20T23:25:18.837676",
     "status": "completed"
    },
    "tags": []
   },
   "outputs": [],
   "source": [
    "new_location = joined['location'].to_numpy().astype('str')"
   ]
  },
  {
   "cell_type": "code",
   "execution_count": 208,
   "id": "8975acd8",
   "metadata": {
    "execution": {
     "iopub.execute_input": "2024-08-20T23:25:19.050362Z",
     "iopub.status.busy": "2024-08-20T23:25:19.049973Z",
     "iopub.status.idle": "2024-08-20T23:25:19.742227Z",
     "shell.execute_reply": "2024-08-20T23:25:19.741249Z"
    },
    "papermill": {
     "duration": 0.76259,
     "end_time": "2024-08-20T23:25:19.744566",
     "exception": false,
     "start_time": "2024-08-20T23:25:18.981976",
     "status": "completed"
    },
    "tags": []
   },
   "outputs": [
    {
     "data": {
      "image/png": "[encoded data removed]",
      "text/plain": [
       "<Figure size 1800x600 with 1 Axes>"
      ]
     },
     "metadata": {},
     "output_type": "display_data"
    }
   ],
   "source": [
    "joined.plot(kind = 'bar', figsize = (18,6))\n",
    "plt.show()"
   ]
  },
  {
   "cell_type": "code",
   "execution_count": null,
   "id": "19b7f032",
   "metadata": {
    "papermill": {
     "duration": 0.067284,
     "end_time": "2024-08-20T23:25:19.880534",
     "exception": false,
     "start_time": "2024-08-20T23:25:19.813250",
     "status": "completed"
    },
    "tags": []
   },
   "outputs": [],
   "source": []
  },
  {
   "cell_type": "code",
   "execution_count": null,
   "id": "cb4505bc",
   "metadata": {
    "papermill": {
     "duration": 0.066897,
     "end_time": "2024-08-20T23:25:20.015318",
     "exception": false,
     "start_time": "2024-08-20T23:25:19.948421",
     "status": "completed"
    },
    "tags": []
   },
   "outputs": [],
   "source": [
    "\n"
   ]
  },
  {
   "cell_type": "code",
   "execution_count": null,
   "id": "23134ec4",
   "metadata": {
    "papermill": {
     "duration": 0.066921,
     "end_time": "2024-08-20T23:25:20.148969",
     "exception": false,
     "start_time": "2024-08-20T23:25:20.082048",
     "status": "completed"
    },
    "tags": []
   },
   "outputs": [],
   "source": []
  },
  {
   "cell_type": "code",
   "execution_count": null,
   "id": "d37e4302",
   "metadata": {
    "papermill": {
     "duration": 0.06861,
     "end_time": "2024-08-20T23:25:20.284335",
     "exception": false,
     "start_time": "2024-08-20T23:25:20.215725",
     "status": "completed"
    },
    "tags": []
   },
   "outputs": [],
   "source": []
  }
 ],
 "metadata": {
  "kaggle": {
   "accelerator": "none",
   "dataSources": [
    {
     "datasetId": 153420,
     "sourceId": 352891,
     "sourceType": "datasetVersion"
    }
   ],
   "dockerImageVersionId": 30746,
   "isGpuEnabled": false,
   "isInternetEnabled": false,
   "language": "python",
   "sourceType": "notebook"
  },
  "kernelspec": {
   "display_name": "Python 3 (ipykernel)",
   "language": "python",
   "name": "python3"
  },
  "language_info": {
   "codemirror_mode": {
    "name": "ipython",
    "version": 3
   },
   "file_extension": ".py",
   "mimetype": "text/x-python",
   "name": "python",
   "nbconvert_exporter": "python",
   "pygments_lexer": "ipython3",
   "version": "3.10.13"
  },
  "papermill": {
   "default_parameters": {},
   "duration": 49.077648,
   "end_time": "2024-08-20T23:25:20.971998",
   "environment_variables": {},
   "exception": null,
   "input_path": "__notebook__.ipynb",
   "output_path": "__notebook__.ipynb",
   "parameters": {},
   "start_time": "2024-08-20T23:24:31.894350",
   "version": "2.5.0"
  }
 },
 "nbformat": 4,
 "nbformat_minor": 5
}
